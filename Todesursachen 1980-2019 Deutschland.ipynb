{
 "cells": [
  {
   "cell_type": "code",
   "execution_count": 1,
   "metadata": {},
   "outputs": [],
   "source": [
    "import pandas as pd\n",
    "import numpy as np\n",
    "import seaborn as sns\n",
    "import cufflinks as cf"
   ]
  },
  {
   "cell_type": "code",
   "execution_count": 2,
   "metadata": {},
   "outputs": [
    {
     "data": {
      "text/html": [
       "        <script type=\"text/javascript\">\n",
       "        window.PlotlyConfig = {MathJaxConfig: 'local'};\n",
       "        if (window.MathJax) {MathJax.Hub.Config({SVG: {font: \"STIX-Web\"}});}\n",
       "        if (typeof require !== 'undefined') {\n",
       "        require.undef(\"plotly\");\n",
       "        requirejs.config({\n",
       "            paths: {\n",
       "                'plotly': ['https://cdn.plot.ly/plotly-latest.min']\n",
       "            }\n",
       "        });\n",
       "        require(['plotly'], function(Plotly) {\n",
       "            window._Plotly = Plotly;\n",
       "        });\n",
       "        }\n",
       "        </script>\n",
       "        "
      ]
     },
     "metadata": {},
     "output_type": "display_data"
    }
   ],
   "source": [
    "cf.go_offline()"
   ]
  },
  {
   "cell_type": "code",
   "execution_count": 3,
   "metadata": {},
   "outputs": [],
   "source": [
    "with open('data/23211-0004.csv', 'rb') as f:\n",
    "    df = pd.read_csv(f, sep=';', skiprows=[0, 1, 2, 3, 4, 5, 6, 8], header=[0,1], index_col=[0,1], nrows=3200, na_values=['-'], encoding='latin_1')"
   ]
  },
  {
   "cell_type": "code",
   "execution_count": 4,
   "metadata": {},
   "outputs": [
    {
     "data": {
      "text/html": [
       "<div>\n",
       "<style scoped>\n",
       "    .dataframe tbody tr th:only-of-type {\n",
       "        vertical-align: middle;\n",
       "    }\n",
       "\n",
       "    .dataframe tbody tr th {\n",
       "        vertical-align: top;\n",
       "    }\n",
       "\n",
       "    .dataframe thead tr th {\n",
       "        text-align: left;\n",
       "    }\n",
       "</style>\n",
       "<table border=\"1\" class=\"dataframe\">\n",
       "  <thead>\n",
       "    <tr>\n",
       "      <th></th>\n",
       "      <th></th>\n",
       "      <th colspan=\"10\" halign=\"left\">männlich</th>\n",
       "      <th>...</th>\n",
       "      <th colspan=\"10\" halign=\"left\">weiblich</th>\n",
       "    </tr>\n",
       "    <tr>\n",
       "      <th></th>\n",
       "      <th></th>\n",
       "      <th>unter 1 Jahr</th>\n",
       "      <th>1 bis unter 15 Jahre</th>\n",
       "      <th>15 bis unter 20 Jahre</th>\n",
       "      <th>20 bis unter 25 Jahre</th>\n",
       "      <th>25 bis unter 30 Jahre</th>\n",
       "      <th>30 bis unter 35 Jahre</th>\n",
       "      <th>35 bis unter 40 Jahre</th>\n",
       "      <th>40 bis unter 45 Jahre</th>\n",
       "      <th>45 bis unter 50 Jahre</th>\n",
       "      <th>50 bis unter 55 Jahre</th>\n",
       "      <th>...</th>\n",
       "      <th>45 bis unter 50 Jahre</th>\n",
       "      <th>50 bis unter 55 Jahre</th>\n",
       "      <th>55 bis unter 60 Jahre</th>\n",
       "      <th>60 bis unter 65 Jahre</th>\n",
       "      <th>65 bis unter 70 Jahre</th>\n",
       "      <th>70 bis unter 75 Jahre</th>\n",
       "      <th>75 bis unter 80 Jahre</th>\n",
       "      <th>80 bis unter 85 Jahre</th>\n",
       "      <th>85 Jahre und mehr</th>\n",
       "      <th>Alter unbekannt</th>\n",
       "    </tr>\n",
       "  </thead>\n",
       "  <tbody>\n",
       "    <tr>\n",
       "      <th rowspan=\"5\" valign=\"top\">1980</th>\n",
       "      <th>Insgesamt</th>\n",
       "      <td>6205.0</td>\n",
       "      <td>3076.0</td>\n",
       "      <td>3965.0</td>\n",
       "      <td>4521.0</td>\n",
       "      <td>3762.0</td>\n",
       "      <td>3721.0</td>\n",
       "      <td>6039.0</td>\n",
       "      <td>10964.0</td>\n",
       "      <td>14050.0</td>\n",
       "      <td>20153.0</td>\n",
       "      <td>...</td>\n",
       "      <td>6827.0</td>\n",
       "      <td>10796.0</td>\n",
       "      <td>18003.0</td>\n",
       "      <td>18744.0</td>\n",
       "      <td>44609.0</td>\n",
       "      <td>74204.0</td>\n",
       "      <td>99357.0</td>\n",
       "      <td>101841.0</td>\n",
       "      <td>100802.0</td>\n",
       "      <td>5.0</td>\n",
       "    </tr>\n",
       "    <tr>\n",
       "      <th>Bestimmte infektiöse und parasitäre Krankheiten</th>\n",
       "      <td>185.0</td>\n",
       "      <td>115.0</td>\n",
       "      <td>24.0</td>\n",
       "      <td>18.0</td>\n",
       "      <td>28.0</td>\n",
       "      <td>25.0</td>\n",
       "      <td>66.0</td>\n",
       "      <td>121.0</td>\n",
       "      <td>133.0</td>\n",
       "      <td>195.0</td>\n",
       "      <td>...</td>\n",
       "      <td>69.0</td>\n",
       "      <td>74.0</td>\n",
       "      <td>141.0</td>\n",
       "      <td>117.0</td>\n",
       "      <td>232.0</td>\n",
       "      <td>345.0</td>\n",
       "      <td>411.0</td>\n",
       "      <td>380.0</td>\n",
       "      <td>345.0</td>\n",
       "      <td>NaN</td>\n",
       "    </tr>\n",
       "    <tr>\n",
       "      <th>Tuberkulose einschließlich ihrer Folgezustände</th>\n",
       "      <td>NaN</td>\n",
       "      <td>1.0</td>\n",
       "      <td>2.0</td>\n",
       "      <td>4.0</td>\n",
       "      <td>11.0</td>\n",
       "      <td>10.0</td>\n",
       "      <td>33.0</td>\n",
       "      <td>79.0</td>\n",
       "      <td>90.0</td>\n",
       "      <td>126.0</td>\n",
       "      <td>...</td>\n",
       "      <td>27.0</td>\n",
       "      <td>26.0</td>\n",
       "      <td>64.0</td>\n",
       "      <td>48.0</td>\n",
       "      <td>94.0</td>\n",
       "      <td>123.0</td>\n",
       "      <td>150.0</td>\n",
       "      <td>116.0</td>\n",
       "      <td>84.0</td>\n",
       "      <td>NaN</td>\n",
       "    </tr>\n",
       "    <tr>\n",
       "      <th>Meningokokkeninfektion</th>\n",
       "      <td>22.0</td>\n",
       "      <td>25.0</td>\n",
       "      <td>1.0</td>\n",
       "      <td>1.0</td>\n",
       "      <td>NaN</td>\n",
       "      <td>NaN</td>\n",
       "      <td>3.0</td>\n",
       "      <td>NaN</td>\n",
       "      <td>1.0</td>\n",
       "      <td>2.0</td>\n",
       "      <td>...</td>\n",
       "      <td>1.0</td>\n",
       "      <td>2.0</td>\n",
       "      <td>1.0</td>\n",
       "      <td>1.0</td>\n",
       "      <td>NaN</td>\n",
       "      <td>3.0</td>\n",
       "      <td>2.0</td>\n",
       "      <td>1.0</td>\n",
       "      <td>3.0</td>\n",
       "      <td>NaN</td>\n",
       "    </tr>\n",
       "    <tr>\n",
       "      <th>Virushepatitis</th>\n",
       "      <td>3.0</td>\n",
       "      <td>6.0</td>\n",
       "      <td>2.0</td>\n",
       "      <td>3.0</td>\n",
       "      <td>NaN</td>\n",
       "      <td>2.0</td>\n",
       "      <td>2.0</td>\n",
       "      <td>4.0</td>\n",
       "      <td>6.0</td>\n",
       "      <td>8.0</td>\n",
       "      <td>...</td>\n",
       "      <td>1.0</td>\n",
       "      <td>4.0</td>\n",
       "      <td>8.0</td>\n",
       "      <td>5.0</td>\n",
       "      <td>14.0</td>\n",
       "      <td>16.0</td>\n",
       "      <td>14.0</td>\n",
       "      <td>11.0</td>\n",
       "      <td>4.0</td>\n",
       "      <td>NaN</td>\n",
       "    </tr>\n",
       "  </tbody>\n",
       "</table>\n",
       "<p>5 rows × 36 columns</p>\n",
       "</div>"
      ],
      "text/plain": [
       "                                                         männlich  \\\n",
       "                                                     unter 1 Jahr   \n",
       "1980 Insgesamt                                             6205.0   \n",
       "     Bestimmte infektiöse und parasitäre Krankheiten        185.0   \n",
       "     Tuberkulose einschließlich ihrer Folgezustände           NaN   \n",
       "     Meningokokkeninfektion                                  22.0   \n",
       "     Virushepatitis                                           3.0   \n",
       "\n",
       "                                                                           \\\n",
       "                                                     1 bis unter 15 Jahre   \n",
       "1980 Insgesamt                                                     3076.0   \n",
       "     Bestimmte infektiöse und parasitäre Krankheiten                115.0   \n",
       "     Tuberkulose einschließlich ihrer Folgezustände                   1.0   \n",
       "     Meningokokkeninfektion                                          25.0   \n",
       "     Virushepatitis                                                   6.0   \n",
       "\n",
       "                                                                            \\\n",
       "                                                     15 bis unter 20 Jahre   \n",
       "1980 Insgesamt                                                      3965.0   \n",
       "     Bestimmte infektiöse und parasitäre Krankheiten                  24.0   \n",
       "     Tuberkulose einschließlich ihrer Folgezustände                    2.0   \n",
       "     Meningokokkeninfektion                                            1.0   \n",
       "     Virushepatitis                                                    2.0   \n",
       "\n",
       "                                                                            \\\n",
       "                                                     20 bis unter 25 Jahre   \n",
       "1980 Insgesamt                                                      4521.0   \n",
       "     Bestimmte infektiöse und parasitäre Krankheiten                  18.0   \n",
       "     Tuberkulose einschließlich ihrer Folgezustände                    4.0   \n",
       "     Meningokokkeninfektion                                            1.0   \n",
       "     Virushepatitis                                                    3.0   \n",
       "\n",
       "                                                                            \\\n",
       "                                                     25 bis unter 30 Jahre   \n",
       "1980 Insgesamt                                                      3762.0   \n",
       "     Bestimmte infektiöse und parasitäre Krankheiten                  28.0   \n",
       "     Tuberkulose einschließlich ihrer Folgezustände                   11.0   \n",
       "     Meningokokkeninfektion                                            NaN   \n",
       "     Virushepatitis                                                    NaN   \n",
       "\n",
       "                                                                            \\\n",
       "                                                     30 bis unter 35 Jahre   \n",
       "1980 Insgesamt                                                      3721.0   \n",
       "     Bestimmte infektiöse und parasitäre Krankheiten                  25.0   \n",
       "     Tuberkulose einschließlich ihrer Folgezustände                   10.0   \n",
       "     Meningokokkeninfektion                                            NaN   \n",
       "     Virushepatitis                                                    2.0   \n",
       "\n",
       "                                                                            \\\n",
       "                                                     35 bis unter 40 Jahre   \n",
       "1980 Insgesamt                                                      6039.0   \n",
       "     Bestimmte infektiöse und parasitäre Krankheiten                  66.0   \n",
       "     Tuberkulose einschließlich ihrer Folgezustände                   33.0   \n",
       "     Meningokokkeninfektion                                            3.0   \n",
       "     Virushepatitis                                                    2.0   \n",
       "\n",
       "                                                                            \\\n",
       "                                                     40 bis unter 45 Jahre   \n",
       "1980 Insgesamt                                                     10964.0   \n",
       "     Bestimmte infektiöse und parasitäre Krankheiten                 121.0   \n",
       "     Tuberkulose einschließlich ihrer Folgezustände                   79.0   \n",
       "     Meningokokkeninfektion                                            NaN   \n",
       "     Virushepatitis                                                    4.0   \n",
       "\n",
       "                                                                            \\\n",
       "                                                     45 bis unter 50 Jahre   \n",
       "1980 Insgesamt                                                     14050.0   \n",
       "     Bestimmte infektiöse und parasitäre Krankheiten                 133.0   \n",
       "     Tuberkulose einschließlich ihrer Folgezustände                   90.0   \n",
       "     Meningokokkeninfektion                                            1.0   \n",
       "     Virushepatitis                                                    6.0   \n",
       "\n",
       "                                                                            \\\n",
       "                                                     50 bis unter 55 Jahre   \n",
       "1980 Insgesamt                                                     20153.0   \n",
       "     Bestimmte infektiöse und parasitäre Krankheiten                 195.0   \n",
       "     Tuberkulose einschließlich ihrer Folgezustände                  126.0   \n",
       "     Meningokokkeninfektion                                            2.0   \n",
       "     Virushepatitis                                                    8.0   \n",
       "\n",
       "                                                           ...        \\\n",
       "                                                           ...         \n",
       "1980 Insgesamt                                             ...         \n",
       "     Bestimmte infektiöse und parasitäre Krankheiten       ...         \n",
       "     Tuberkulose einschließlich ihrer Folgezustände        ...         \n",
       "     Meningokokkeninfektion                                ...         \n",
       "     Virushepatitis                                        ...         \n",
       "\n",
       "                                                                  weiblich  \\\n",
       "                                                     45 bis unter 50 Jahre   \n",
       "1980 Insgesamt                                                      6827.0   \n",
       "     Bestimmte infektiöse und parasitäre Krankheiten                  69.0   \n",
       "     Tuberkulose einschließlich ihrer Folgezustände                   27.0   \n",
       "     Meningokokkeninfektion                                            1.0   \n",
       "     Virushepatitis                                                    1.0   \n",
       "\n",
       "                                                                            \\\n",
       "                                                     50 bis unter 55 Jahre   \n",
       "1980 Insgesamt                                                     10796.0   \n",
       "     Bestimmte infektiöse und parasitäre Krankheiten                  74.0   \n",
       "     Tuberkulose einschließlich ihrer Folgezustände                   26.0   \n",
       "     Meningokokkeninfektion                                            2.0   \n",
       "     Virushepatitis                                                    4.0   \n",
       "\n",
       "                                                                            \\\n",
       "                                                     55 bis unter 60 Jahre   \n",
       "1980 Insgesamt                                                     18003.0   \n",
       "     Bestimmte infektiöse und parasitäre Krankheiten                 141.0   \n",
       "     Tuberkulose einschließlich ihrer Folgezustände                   64.0   \n",
       "     Meningokokkeninfektion                                            1.0   \n",
       "     Virushepatitis                                                    8.0   \n",
       "\n",
       "                                                                            \\\n",
       "                                                     60 bis unter 65 Jahre   \n",
       "1980 Insgesamt                                                     18744.0   \n",
       "     Bestimmte infektiöse und parasitäre Krankheiten                 117.0   \n",
       "     Tuberkulose einschließlich ihrer Folgezustände                   48.0   \n",
       "     Meningokokkeninfektion                                            1.0   \n",
       "     Virushepatitis                                                    5.0   \n",
       "\n",
       "                                                                            \\\n",
       "                                                     65 bis unter 70 Jahre   \n",
       "1980 Insgesamt                                                     44609.0   \n",
       "     Bestimmte infektiöse und parasitäre Krankheiten                 232.0   \n",
       "     Tuberkulose einschließlich ihrer Folgezustände                   94.0   \n",
       "     Meningokokkeninfektion                                            NaN   \n",
       "     Virushepatitis                                                   14.0   \n",
       "\n",
       "                                                                            \\\n",
       "                                                     70 bis unter 75 Jahre   \n",
       "1980 Insgesamt                                                     74204.0   \n",
       "     Bestimmte infektiöse und parasitäre Krankheiten                 345.0   \n",
       "     Tuberkulose einschließlich ihrer Folgezustände                  123.0   \n",
       "     Meningokokkeninfektion                                            3.0   \n",
       "     Virushepatitis                                                   16.0   \n",
       "\n",
       "                                                                            \\\n",
       "                                                     75 bis unter 80 Jahre   \n",
       "1980 Insgesamt                                                     99357.0   \n",
       "     Bestimmte infektiöse und parasitäre Krankheiten                 411.0   \n",
       "     Tuberkulose einschließlich ihrer Folgezustände                  150.0   \n",
       "     Meningokokkeninfektion                                            2.0   \n",
       "     Virushepatitis                                                   14.0   \n",
       "\n",
       "                                                                            \\\n",
       "                                                     80 bis unter 85 Jahre   \n",
       "1980 Insgesamt                                                    101841.0   \n",
       "     Bestimmte infektiöse und parasitäre Krankheiten                 380.0   \n",
       "     Tuberkulose einschließlich ihrer Folgezustände                  116.0   \n",
       "     Meningokokkeninfektion                                            1.0   \n",
       "     Virushepatitis                                                   11.0   \n",
       "\n",
       "                                                                        \\\n",
       "                                                     85 Jahre und mehr   \n",
       "1980 Insgesamt                                                100802.0   \n",
       "     Bestimmte infektiöse und parasitäre Krankheiten             345.0   \n",
       "     Tuberkulose einschließlich ihrer Folgezustände               84.0   \n",
       "     Meningokokkeninfektion                                        3.0   \n",
       "     Virushepatitis                                                4.0   \n",
       "\n",
       "                                                                      \n",
       "                                                     Alter unbekannt  \n",
       "1980 Insgesamt                                                   5.0  \n",
       "     Bestimmte infektiöse und parasitäre Krankheiten             NaN  \n",
       "     Tuberkulose einschließlich ihrer Folgezustände              NaN  \n",
       "     Meningokokkeninfektion                                      NaN  \n",
       "     Virushepatitis                                              NaN  \n",
       "\n",
       "[5 rows x 36 columns]"
      ]
     },
     "execution_count": 4,
     "metadata": {},
     "output_type": "execute_result"
    }
   ],
   "source": [
    "df.head()"
   ]
  },
  {
   "cell_type": "code",
   "execution_count": 5,
   "metadata": {},
   "outputs": [
    {
     "data": {
      "text/html": [
       "<div>\n",
       "<style scoped>\n",
       "    .dataframe tbody tr th:only-of-type {\n",
       "        vertical-align: middle;\n",
       "    }\n",
       "\n",
       "    .dataframe tbody tr th {\n",
       "        vertical-align: top;\n",
       "    }\n",
       "\n",
       "    .dataframe thead th {\n",
       "        text-align: right;\n",
       "    }\n",
       "</style>\n",
       "<table border=\"1\" class=\"dataframe\">\n",
       "  <thead>\n",
       "    <tr style=\"text-align: right;\">\n",
       "      <th></th>\n",
       "      <th>männlich</th>\n",
       "      <th>weiblich</th>\n",
       "    </tr>\n",
       "  </thead>\n",
       "  <tbody>\n",
       "    <tr>\n",
       "      <th>1 bis unter 15 Jahre</th>\n",
       "      <td>3076.0</td>\n",
       "      <td>2030.0</td>\n",
       "    </tr>\n",
       "    <tr>\n",
       "      <th>15 bis unter 20 Jahre</th>\n",
       "      <td>3965.0</td>\n",
       "      <td>1480.0</td>\n",
       "    </tr>\n",
       "    <tr>\n",
       "      <th>20 bis unter 25 Jahre</th>\n",
       "      <td>4521.0</td>\n",
       "      <td>1426.0</td>\n",
       "    </tr>\n",
       "    <tr>\n",
       "      <th>25 bis unter 30 Jahre</th>\n",
       "      <td>3762.0</td>\n",
       "      <td>1571.0</td>\n",
       "    </tr>\n",
       "    <tr>\n",
       "      <th>30 bis unter 35 Jahre</th>\n",
       "      <td>3721.0</td>\n",
       "      <td>1805.0</td>\n",
       "    </tr>\n",
       "    <tr>\n",
       "      <th>35 bis unter 40 Jahre</th>\n",
       "      <td>6039.0</td>\n",
       "      <td>3104.0</td>\n",
       "    </tr>\n",
       "    <tr>\n",
       "      <th>40 bis unter 45 Jahre</th>\n",
       "      <td>10964.0</td>\n",
       "      <td>5267.0</td>\n",
       "    </tr>\n",
       "    <tr>\n",
       "      <th>45 bis unter 50 Jahre</th>\n",
       "      <td>14050.0</td>\n",
       "      <td>6827.0</td>\n",
       "    </tr>\n",
       "    <tr>\n",
       "      <th>50 bis unter 55 Jahre</th>\n",
       "      <td>20153.0</td>\n",
       "      <td>10796.0</td>\n",
       "    </tr>\n",
       "    <tr>\n",
       "      <th>55 bis unter 60 Jahre</th>\n",
       "      <td>25186.0</td>\n",
       "      <td>18003.0</td>\n",
       "    </tr>\n",
       "    <tr>\n",
       "      <th>60 bis unter 65 Jahre</th>\n",
       "      <td>24519.0</td>\n",
       "      <td>18744.0</td>\n",
       "    </tr>\n",
       "    <tr>\n",
       "      <th>65 bis unter 70 Jahre</th>\n",
       "      <td>55561.0</td>\n",
       "      <td>44609.0</td>\n",
       "    </tr>\n",
       "    <tr>\n",
       "      <th>70 bis unter 75 Jahre</th>\n",
       "      <td>81214.0</td>\n",
       "      <td>74204.0</td>\n",
       "    </tr>\n",
       "    <tr>\n",
       "      <th>75 bis unter 80 Jahre</th>\n",
       "      <td>88624.0</td>\n",
       "      <td>99357.0</td>\n",
       "    </tr>\n",
       "    <tr>\n",
       "      <th>80 bis unter 85 Jahre</th>\n",
       "      <td>60632.0</td>\n",
       "      <td>101841.0</td>\n",
       "    </tr>\n",
       "    <tr>\n",
       "      <th>85 Jahre und mehr</th>\n",
       "      <td>43720.0</td>\n",
       "      <td>100802.0</td>\n",
       "    </tr>\n",
       "    <tr>\n",
       "      <th>Alter unbekannt</th>\n",
       "      <td>5.0</td>\n",
       "      <td>5.0</td>\n",
       "    </tr>\n",
       "    <tr>\n",
       "      <th>unter 1 Jahr</th>\n",
       "      <td>6205.0</td>\n",
       "      <td>4568.0</td>\n",
       "    </tr>\n",
       "  </tbody>\n",
       "</table>\n",
       "</div>"
      ],
      "text/plain": [
       "                       männlich  weiblich\n",
       "1 bis unter 15 Jahre     3076.0    2030.0\n",
       "15 bis unter 20 Jahre    3965.0    1480.0\n",
       "20 bis unter 25 Jahre    4521.0    1426.0\n",
       "25 bis unter 30 Jahre    3762.0    1571.0\n",
       "30 bis unter 35 Jahre    3721.0    1805.0\n",
       "35 bis unter 40 Jahre    6039.0    3104.0\n",
       "40 bis unter 45 Jahre   10964.0    5267.0\n",
       "45 bis unter 50 Jahre   14050.0    6827.0\n",
       "50 bis unter 55 Jahre   20153.0   10796.0\n",
       "55 bis unter 60 Jahre   25186.0   18003.0\n",
       "60 bis unter 65 Jahre   24519.0   18744.0\n",
       "65 bis unter 70 Jahre   55561.0   44609.0\n",
       "70 bis unter 75 Jahre   81214.0   74204.0\n",
       "75 bis unter 80 Jahre   88624.0   99357.0\n",
       "80 bis unter 85 Jahre   60632.0  101841.0\n",
       "85 Jahre und mehr       43720.0  100802.0\n",
       "Alter unbekannt             5.0       5.0\n",
       "unter 1 Jahr             6205.0    4568.0"
      ]
     },
     "execution_count": 5,
     "metadata": {},
     "output_type": "execute_result"
    }
   ],
   "source": [
    "df.loc[1980, \"Insgesamt\"].unstack().T"
   ]
  },
  {
   "cell_type": "code",
   "execution_count": 6,
   "metadata": {},
   "outputs": [
    {
     "data": {
      "application/vnd.plotly.v1+json": {
       "config": {
        "linkText": "Export to plot.ly",
        "plotlyServerURL": "https://plot.ly",
        "showLink": true
       },
       "data": [
        {
         "marker": {
          "color": "rgba(255, 153, 51, 0.6)",
          "line": {
           "color": "rgba(255, 153, 51, 1.0)",
           "width": 1
          }
         },
         "name": "männlich",
         "orientation": "v",
         "text": "",
         "type": "bar",
         "x": [
          "1 bis unter 15 Jahre",
          "15 bis unter 20 Jahre",
          "20 bis unter 25 Jahre",
          "25 bis unter 30 Jahre",
          "30 bis unter 35 Jahre",
          "35 bis unter 40 Jahre",
          "40 bis unter 45 Jahre",
          "45 bis unter 50 Jahre",
          "50 bis unter 55 Jahre",
          "55 bis unter 60 Jahre",
          "60 bis unter 65 Jahre",
          "65 bis unter 70 Jahre",
          "70 bis unter 75 Jahre",
          "75 bis unter 80 Jahre",
          "80 bis unter 85 Jahre",
          "85 Jahre und mehr",
          "Alter unbekannt",
          "unter 1 Jahr"
         ],
         "y": [
          3076,
          3965,
          4521,
          3762,
          3721,
          6039,
          10964,
          14050,
          20153,
          25186,
          24519,
          55561,
          81214,
          88624,
          60632,
          43720,
          5,
          6205
         ]
        },
        {
         "marker": {
          "color": "rgba(55, 128, 191, 0.6)",
          "line": {
           "color": "rgba(55, 128, 191, 1.0)",
           "width": 1
          }
         },
         "name": "weiblich",
         "orientation": "v",
         "text": "",
         "type": "bar",
         "x": [
          "1 bis unter 15 Jahre",
          "15 bis unter 20 Jahre",
          "20 bis unter 25 Jahre",
          "25 bis unter 30 Jahre",
          "30 bis unter 35 Jahre",
          "35 bis unter 40 Jahre",
          "40 bis unter 45 Jahre",
          "45 bis unter 50 Jahre",
          "50 bis unter 55 Jahre",
          "55 bis unter 60 Jahre",
          "60 bis unter 65 Jahre",
          "65 bis unter 70 Jahre",
          "70 bis unter 75 Jahre",
          "75 bis unter 80 Jahre",
          "80 bis unter 85 Jahre",
          "85 Jahre und mehr",
          "Alter unbekannt",
          "unter 1 Jahr"
         ],
         "y": [
          2030,
          1480,
          1426,
          1571,
          1805,
          3104,
          5267,
          6827,
          10796,
          18003,
          18744,
          44609,
          74204,
          99357,
          101841,
          100802,
          5,
          4568
         ]
        }
       ],
       "layout": {
        "legend": {
         "bgcolor": "#F5F6F9",
         "font": {
          "color": "#4D5663"
         }
        },
        "paper_bgcolor": "#F5F6F9",
        "plot_bgcolor": "#F5F6F9",
        "template": {
         "data": {
          "bar": [
           {
            "error_x": {
             "color": "#2a3f5f"
            },
            "error_y": {
             "color": "#2a3f5f"
            },
            "marker": {
             "line": {
              "color": "#E5ECF6",
              "width": 0.5
             }
            },
            "type": "bar"
           }
          ],
          "barpolar": [
           {
            "marker": {
             "line": {
              "color": "#E5ECF6",
              "width": 0.5
             }
            },
            "type": "barpolar"
           }
          ],
          "carpet": [
           {
            "aaxis": {
             "endlinecolor": "#2a3f5f",
             "gridcolor": "white",
             "linecolor": "white",
             "minorgridcolor": "white",
             "startlinecolor": "#2a3f5f"
            },
            "baxis": {
             "endlinecolor": "#2a3f5f",
             "gridcolor": "white",
             "linecolor": "white",
             "minorgridcolor": "white",
             "startlinecolor": "#2a3f5f"
            },
            "type": "carpet"
           }
          ],
          "choropleth": [
           {
            "colorbar": {
             "outlinewidth": 0,
             "ticks": ""
            },
            "type": "choropleth"
           }
          ],
          "contour": [
           {
            "colorbar": {
             "outlinewidth": 0,
             "ticks": ""
            },
            "colorscale": [
             [
              0,
              "#0d0887"
             ],
             [
              0.1111111111111111,
              "#46039f"
             ],
             [
              0.2222222222222222,
              "#7201a8"
             ],
             [
              0.3333333333333333,
              "#9c179e"
             ],
             [
              0.4444444444444444,
              "#bd3786"
             ],
             [
              0.5555555555555556,
              "#d8576b"
             ],
             [
              0.6666666666666666,
              "#ed7953"
             ],
             [
              0.7777777777777778,
              "#fb9f3a"
             ],
             [
              0.8888888888888888,
              "#fdca26"
             ],
             [
              1,
              "#f0f921"
             ]
            ],
            "type": "contour"
           }
          ],
          "contourcarpet": [
           {
            "colorbar": {
             "outlinewidth": 0,
             "ticks": ""
            },
            "type": "contourcarpet"
           }
          ],
          "heatmap": [
           {
            "colorbar": {
             "outlinewidth": 0,
             "ticks": ""
            },
            "colorscale": [
             [
              0,
              "#0d0887"
             ],
             [
              0.1111111111111111,
              "#46039f"
             ],
             [
              0.2222222222222222,
              "#7201a8"
             ],
             [
              0.3333333333333333,
              "#9c179e"
             ],
             [
              0.4444444444444444,
              "#bd3786"
             ],
             [
              0.5555555555555556,
              "#d8576b"
             ],
             [
              0.6666666666666666,
              "#ed7953"
             ],
             [
              0.7777777777777778,
              "#fb9f3a"
             ],
             [
              0.8888888888888888,
              "#fdca26"
             ],
             [
              1,
              "#f0f921"
             ]
            ],
            "type": "heatmap"
           }
          ],
          "heatmapgl": [
           {
            "colorbar": {
             "outlinewidth": 0,
             "ticks": ""
            },
            "colorscale": [
             [
              0,
              "#0d0887"
             ],
             [
              0.1111111111111111,
              "#46039f"
             ],
             [
              0.2222222222222222,
              "#7201a8"
             ],
             [
              0.3333333333333333,
              "#9c179e"
             ],
             [
              0.4444444444444444,
              "#bd3786"
             ],
             [
              0.5555555555555556,
              "#d8576b"
             ],
             [
              0.6666666666666666,
              "#ed7953"
             ],
             [
              0.7777777777777778,
              "#fb9f3a"
             ],
             [
              0.8888888888888888,
              "#fdca26"
             ],
             [
              1,
              "#f0f921"
             ]
            ],
            "type": "heatmapgl"
           }
          ],
          "histogram": [
           {
            "marker": {
             "colorbar": {
              "outlinewidth": 0,
              "ticks": ""
             }
            },
            "type": "histogram"
           }
          ],
          "histogram2d": [
           {
            "colorbar": {
             "outlinewidth": 0,
             "ticks": ""
            },
            "colorscale": [
             [
              0,
              "#0d0887"
             ],
             [
              0.1111111111111111,
              "#46039f"
             ],
             [
              0.2222222222222222,
              "#7201a8"
             ],
             [
              0.3333333333333333,
              "#9c179e"
             ],
             [
              0.4444444444444444,
              "#bd3786"
             ],
             [
              0.5555555555555556,
              "#d8576b"
             ],
             [
              0.6666666666666666,
              "#ed7953"
             ],
             [
              0.7777777777777778,
              "#fb9f3a"
             ],
             [
              0.8888888888888888,
              "#fdca26"
             ],
             [
              1,
              "#f0f921"
             ]
            ],
            "type": "histogram2d"
           }
          ],
          "histogram2dcontour": [
           {
            "colorbar": {
             "outlinewidth": 0,
             "ticks": ""
            },
            "colorscale": [
             [
              0,
              "#0d0887"
             ],
             [
              0.1111111111111111,
              "#46039f"
             ],
             [
              0.2222222222222222,
              "#7201a8"
             ],
             [
              0.3333333333333333,
              "#9c179e"
             ],
             [
              0.4444444444444444,
              "#bd3786"
             ],
             [
              0.5555555555555556,
              "#d8576b"
             ],
             [
              0.6666666666666666,
              "#ed7953"
             ],
             [
              0.7777777777777778,
              "#fb9f3a"
             ],
             [
              0.8888888888888888,
              "#fdca26"
             ],
             [
              1,
              "#f0f921"
             ]
            ],
            "type": "histogram2dcontour"
           }
          ],
          "mesh3d": [
           {
            "colorbar": {
             "outlinewidth": 0,
             "ticks": ""
            },
            "type": "mesh3d"
           }
          ],
          "parcoords": [
           {
            "line": {
             "colorbar": {
              "outlinewidth": 0,
              "ticks": ""
             }
            },
            "type": "parcoords"
           }
          ],
          "pie": [
           {
            "automargin": true,
            "type": "pie"
           }
          ],
          "scatter": [
           {
            "marker": {
             "colorbar": {
              "outlinewidth": 0,
              "ticks": ""
             }
            },
            "type": "scatter"
           }
          ],
          "scatter3d": [
           {
            "line": {
             "colorbar": {
              "outlinewidth": 0,
              "ticks": ""
             }
            },
            "marker": {
             "colorbar": {
              "outlinewidth": 0,
              "ticks": ""
             }
            },
            "type": "scatter3d"
           }
          ],
          "scattercarpet": [
           {
            "marker": {
             "colorbar": {
              "outlinewidth": 0,
              "ticks": ""
             }
            },
            "type": "scattercarpet"
           }
          ],
          "scattergeo": [
           {
            "marker": {
             "colorbar": {
              "outlinewidth": 0,
              "ticks": ""
             }
            },
            "type": "scattergeo"
           }
          ],
          "scattergl": [
           {
            "marker": {
             "colorbar": {
              "outlinewidth": 0,
              "ticks": ""
             }
            },
            "type": "scattergl"
           }
          ],
          "scattermapbox": [
           {
            "marker": {
             "colorbar": {
              "outlinewidth": 0,
              "ticks": ""
             }
            },
            "type": "scattermapbox"
           }
          ],
          "scatterpolar": [
           {
            "marker": {
             "colorbar": {
              "outlinewidth": 0,
              "ticks": ""
             }
            },
            "type": "scatterpolar"
           }
          ],
          "scatterpolargl": [
           {
            "marker": {
             "colorbar": {
              "outlinewidth": 0,
              "ticks": ""
             }
            },
            "type": "scatterpolargl"
           }
          ],
          "scatterternary": [
           {
            "marker": {
             "colorbar": {
              "outlinewidth": 0,
              "ticks": ""
             }
            },
            "type": "scatterternary"
           }
          ],
          "surface": [
           {
            "colorbar": {
             "outlinewidth": 0,
             "ticks": ""
            },
            "colorscale": [
             [
              0,
              "#0d0887"
             ],
             [
              0.1111111111111111,
              "#46039f"
             ],
             [
              0.2222222222222222,
              "#7201a8"
             ],
             [
              0.3333333333333333,
              "#9c179e"
             ],
             [
              0.4444444444444444,
              "#bd3786"
             ],
             [
              0.5555555555555556,
              "#d8576b"
             ],
             [
              0.6666666666666666,
              "#ed7953"
             ],
             [
              0.7777777777777778,
              "#fb9f3a"
             ],
             [
              0.8888888888888888,
              "#fdca26"
             ],
             [
              1,
              "#f0f921"
             ]
            ],
            "type": "surface"
           }
          ],
          "table": [
           {
            "cells": {
             "fill": {
              "color": "#EBF0F8"
             },
             "line": {
              "color": "white"
             }
            },
            "header": {
             "fill": {
              "color": "#C8D4E3"
             },
             "line": {
              "color": "white"
             }
            },
            "type": "table"
           }
          ]
         },
         "layout": {
          "annotationdefaults": {
           "arrowcolor": "#2a3f5f",
           "arrowhead": 0,
           "arrowwidth": 1
          },
          "autotypenumbers": "strict",
          "coloraxis": {
           "colorbar": {
            "outlinewidth": 0,
            "ticks": ""
           }
          },
          "colorscale": {
           "diverging": [
            [
             0,
             "#8e0152"
            ],
            [
             0.1,
             "#c51b7d"
            ],
            [
             0.2,
             "#de77ae"
            ],
            [
             0.3,
             "#f1b6da"
            ],
            [
             0.4,
             "#fde0ef"
            ],
            [
             0.5,
             "#f7f7f7"
            ],
            [
             0.6,
             "#e6f5d0"
            ],
            [
             0.7,
             "#b8e186"
            ],
            [
             0.8,
             "#7fbc41"
            ],
            [
             0.9,
             "#4d9221"
            ],
            [
             1,
             "#276419"
            ]
           ],
           "sequential": [
            [
             0,
             "#0d0887"
            ],
            [
             0.1111111111111111,
             "#46039f"
            ],
            [
             0.2222222222222222,
             "#7201a8"
            ],
            [
             0.3333333333333333,
             "#9c179e"
            ],
            [
             0.4444444444444444,
             "#bd3786"
            ],
            [
             0.5555555555555556,
             "#d8576b"
            ],
            [
             0.6666666666666666,
             "#ed7953"
            ],
            [
             0.7777777777777778,
             "#fb9f3a"
            ],
            [
             0.8888888888888888,
             "#fdca26"
            ],
            [
             1,
             "#f0f921"
            ]
           ],
           "sequentialminus": [
            [
             0,
             "#0d0887"
            ],
            [
             0.1111111111111111,
             "#46039f"
            ],
            [
             0.2222222222222222,
             "#7201a8"
            ],
            [
             0.3333333333333333,
             "#9c179e"
            ],
            [
             0.4444444444444444,
             "#bd3786"
            ],
            [
             0.5555555555555556,
             "#d8576b"
            ],
            [
             0.6666666666666666,
             "#ed7953"
            ],
            [
             0.7777777777777778,
             "#fb9f3a"
            ],
            [
             0.8888888888888888,
             "#fdca26"
            ],
            [
             1,
             "#f0f921"
            ]
           ]
          },
          "colorway": [
           "#636efa",
           "#EF553B",
           "#00cc96",
           "#ab63fa",
           "#FFA15A",
           "#19d3f3",
           "#FF6692",
           "#B6E880",
           "#FF97FF",
           "#FECB52"
          ],
          "font": {
           "color": "#2a3f5f"
          },
          "geo": {
           "bgcolor": "white",
           "lakecolor": "white",
           "landcolor": "#E5ECF6",
           "showlakes": true,
           "showland": true,
           "subunitcolor": "white"
          },
          "hoverlabel": {
           "align": "left"
          },
          "hovermode": "closest",
          "mapbox": {
           "style": "light"
          },
          "paper_bgcolor": "white",
          "plot_bgcolor": "#E5ECF6",
          "polar": {
           "angularaxis": {
            "gridcolor": "white",
            "linecolor": "white",
            "ticks": ""
           },
           "bgcolor": "#E5ECF6",
           "radialaxis": {
            "gridcolor": "white",
            "linecolor": "white",
            "ticks": ""
           }
          },
          "scene": {
           "xaxis": {
            "backgroundcolor": "#E5ECF6",
            "gridcolor": "white",
            "gridwidth": 2,
            "linecolor": "white",
            "showbackground": true,
            "ticks": "",
            "zerolinecolor": "white"
           },
           "yaxis": {
            "backgroundcolor": "#E5ECF6",
            "gridcolor": "white",
            "gridwidth": 2,
            "linecolor": "white",
            "showbackground": true,
            "ticks": "",
            "zerolinecolor": "white"
           },
           "zaxis": {
            "backgroundcolor": "#E5ECF6",
            "gridcolor": "white",
            "gridwidth": 2,
            "linecolor": "white",
            "showbackground": true,
            "ticks": "",
            "zerolinecolor": "white"
           }
          },
          "shapedefaults": {
           "line": {
            "color": "#2a3f5f"
           }
          },
          "ternary": {
           "aaxis": {
            "gridcolor": "white",
            "linecolor": "white",
            "ticks": ""
           },
           "baxis": {
            "gridcolor": "white",
            "linecolor": "white",
            "ticks": ""
           },
           "bgcolor": "#E5ECF6",
           "caxis": {
            "gridcolor": "white",
            "linecolor": "white",
            "ticks": ""
           }
          },
          "title": {
           "x": 0.05
          },
          "xaxis": {
           "automargin": true,
           "gridcolor": "white",
           "linecolor": "white",
           "ticks": "",
           "title": {
            "standoff": 15
           },
           "zerolinecolor": "white",
           "zerolinewidth": 2
          },
          "yaxis": {
           "automargin": true,
           "gridcolor": "white",
           "linecolor": "white",
           "ticks": "",
           "title": {
            "standoff": 15
           },
           "zerolinecolor": "white",
           "zerolinewidth": 2
          }
         }
        },
        "title": {
         "font": {
          "color": "#4D5663"
         }
        },
        "xaxis": {
         "gridcolor": "#E1E5ED",
         "showgrid": true,
         "tickfont": {
          "color": "#4D5663"
         },
         "title": {
          "font": {
           "color": "#4D5663"
          },
          "text": ""
         },
         "zerolinecolor": "#E1E5ED"
        },
        "yaxis": {
         "gridcolor": "#E1E5ED",
         "showgrid": true,
         "tickfont": {
          "color": "#4D5663"
         },
         "title": {
          "font": {
           "color": "#4D5663"
          },
          "text": ""
         },
         "zerolinecolor": "#E1E5ED"
        }
       }
      },
      "text/html": [
       "<div>                            <div id=\"c03a8a61-95dd-478e-a4e2-648c8f8f72a9\" class=\"plotly-graph-div\" style=\"height:525px; width:100%;\"></div>            <script type=\"text/javascript\">                require([\"plotly\"], function(Plotly) {                    window.PLOTLYENV=window.PLOTLYENV || {};\n",
       "                    window.PLOTLYENV.BASE_URL='https://plot.ly';                                    if (document.getElementById(\"c03a8a61-95dd-478e-a4e2-648c8f8f72a9\")) {                    Plotly.newPlot(                        \"c03a8a61-95dd-478e-a4e2-648c8f8f72a9\",                        [{\"marker\": {\"color\": \"rgba(255, 153, 51, 0.6)\", \"line\": {\"color\": \"rgba(255, 153, 51, 1.0)\", \"width\": 1}}, \"name\": \"m\\u00e4nnlich\", \"orientation\": \"v\", \"text\": \"\", \"type\": \"bar\", \"x\": [\"1 bis unter 15 Jahre\", \"15 bis unter 20 Jahre\", \"20 bis unter 25 Jahre\", \"25 bis unter 30 Jahre\", \"30 bis unter 35 Jahre\", \"35 bis unter 40 Jahre\", \"40 bis unter 45 Jahre\", \"45 bis unter 50 Jahre\", \"50 bis unter 55 Jahre\", \"55 bis unter 60 Jahre\", \"60 bis unter 65 Jahre\", \"65 bis unter 70 Jahre\", \"70 bis unter 75 Jahre\", \"75 bis unter 80 Jahre\", \"80 bis unter 85 Jahre\", \"85 Jahre und mehr\", \"Alter unbekannt\", \"unter 1 Jahr\"], \"y\": [3076.0, 3965.0, 4521.0, 3762.0, 3721.0, 6039.0, 10964.0, 14050.0, 20153.0, 25186.0, 24519.0, 55561.0, 81214.0, 88624.0, 60632.0, 43720.0, 5.0, 6205.0]}, {\"marker\": {\"color\": \"rgba(55, 128, 191, 0.6)\", \"line\": {\"color\": \"rgba(55, 128, 191, 1.0)\", \"width\": 1}}, \"name\": \"weiblich\", \"orientation\": \"v\", \"text\": \"\", \"type\": \"bar\", \"x\": [\"1 bis unter 15 Jahre\", \"15 bis unter 20 Jahre\", \"20 bis unter 25 Jahre\", \"25 bis unter 30 Jahre\", \"30 bis unter 35 Jahre\", \"35 bis unter 40 Jahre\", \"40 bis unter 45 Jahre\", \"45 bis unter 50 Jahre\", \"50 bis unter 55 Jahre\", \"55 bis unter 60 Jahre\", \"60 bis unter 65 Jahre\", \"65 bis unter 70 Jahre\", \"70 bis unter 75 Jahre\", \"75 bis unter 80 Jahre\", \"80 bis unter 85 Jahre\", \"85 Jahre und mehr\", \"Alter unbekannt\", \"unter 1 Jahr\"], \"y\": [2030.0, 1480.0, 1426.0, 1571.0, 1805.0, 3104.0, 5267.0, 6827.0, 10796.0, 18003.0, 18744.0, 44609.0, 74204.0, 99357.0, 101841.0, 100802.0, 5.0, 4568.0]}],                        {\"legend\": {\"bgcolor\": \"#F5F6F9\", \"font\": {\"color\": \"#4D5663\"}}, \"paper_bgcolor\": \"#F5F6F9\", \"plot_bgcolor\": \"#F5F6F9\", \"template\": {\"data\": {\"bar\": [{\"error_x\": {\"color\": \"#2a3f5f\"}, \"error_y\": {\"color\": \"#2a3f5f\"}, \"marker\": {\"line\": {\"color\": \"#E5ECF6\", \"width\": 0.5}}, \"type\": \"bar\"}], \"barpolar\": [{\"marker\": {\"line\": {\"color\": \"#E5ECF6\", \"width\": 0.5}}, \"type\": \"barpolar\"}], \"carpet\": [{\"aaxis\": {\"endlinecolor\": \"#2a3f5f\", \"gridcolor\": \"white\", \"linecolor\": \"white\", \"minorgridcolor\": \"white\", \"startlinecolor\": \"#2a3f5f\"}, \"baxis\": {\"endlinecolor\": \"#2a3f5f\", \"gridcolor\": \"white\", \"linecolor\": \"white\", \"minorgridcolor\": \"white\", \"startlinecolor\": \"#2a3f5f\"}, \"type\": \"carpet\"}], \"choropleth\": [{\"colorbar\": {\"outlinewidth\": 0, \"ticks\": \"\"}, \"type\": \"choropleth\"}], \"contour\": [{\"colorbar\": {\"outlinewidth\": 0, \"ticks\": \"\"}, \"colorscale\": [[0.0, \"#0d0887\"], [0.1111111111111111, \"#46039f\"], [0.2222222222222222, \"#7201a8\"], [0.3333333333333333, \"#9c179e\"], [0.4444444444444444, \"#bd3786\"], [0.5555555555555556, \"#d8576b\"], [0.6666666666666666, \"#ed7953\"], [0.7777777777777778, \"#fb9f3a\"], [0.8888888888888888, \"#fdca26\"], [1.0, \"#f0f921\"]], \"type\": \"contour\"}], \"contourcarpet\": [{\"colorbar\": {\"outlinewidth\": 0, \"ticks\": \"\"}, \"type\": \"contourcarpet\"}], \"heatmap\": [{\"colorbar\": {\"outlinewidth\": 0, \"ticks\": \"\"}, \"colorscale\": [[0.0, \"#0d0887\"], [0.1111111111111111, \"#46039f\"], [0.2222222222222222, \"#7201a8\"], [0.3333333333333333, \"#9c179e\"], [0.4444444444444444, \"#bd3786\"], [0.5555555555555556, \"#d8576b\"], [0.6666666666666666, \"#ed7953\"], [0.7777777777777778, \"#fb9f3a\"], [0.8888888888888888, \"#fdca26\"], [1.0, \"#f0f921\"]], \"type\": \"heatmap\"}], \"heatmapgl\": [{\"colorbar\": {\"outlinewidth\": 0, \"ticks\": \"\"}, \"colorscale\": [[0.0, \"#0d0887\"], [0.1111111111111111, \"#46039f\"], [0.2222222222222222, \"#7201a8\"], [0.3333333333333333, \"#9c179e\"], [0.4444444444444444, \"#bd3786\"], [0.5555555555555556, \"#d8576b\"], [0.6666666666666666, \"#ed7953\"], [0.7777777777777778, \"#fb9f3a\"], [0.8888888888888888, \"#fdca26\"], [1.0, \"#f0f921\"]], \"type\": \"heatmapgl\"}], \"histogram\": [{\"marker\": {\"colorbar\": {\"outlinewidth\": 0, \"ticks\": \"\"}}, \"type\": \"histogram\"}], \"histogram2d\": [{\"colorbar\": {\"outlinewidth\": 0, \"ticks\": \"\"}, \"colorscale\": [[0.0, \"#0d0887\"], [0.1111111111111111, \"#46039f\"], [0.2222222222222222, \"#7201a8\"], [0.3333333333333333, \"#9c179e\"], [0.4444444444444444, \"#bd3786\"], [0.5555555555555556, \"#d8576b\"], [0.6666666666666666, \"#ed7953\"], [0.7777777777777778, \"#fb9f3a\"], [0.8888888888888888, \"#fdca26\"], [1.0, \"#f0f921\"]], \"type\": \"histogram2d\"}], \"histogram2dcontour\": [{\"colorbar\": {\"outlinewidth\": 0, \"ticks\": \"\"}, \"colorscale\": [[0.0, \"#0d0887\"], [0.1111111111111111, \"#46039f\"], [0.2222222222222222, \"#7201a8\"], [0.3333333333333333, \"#9c179e\"], [0.4444444444444444, \"#bd3786\"], [0.5555555555555556, \"#d8576b\"], [0.6666666666666666, \"#ed7953\"], [0.7777777777777778, \"#fb9f3a\"], [0.8888888888888888, \"#fdca26\"], [1.0, \"#f0f921\"]], \"type\": \"histogram2dcontour\"}], \"mesh3d\": [{\"colorbar\": {\"outlinewidth\": 0, \"ticks\": \"\"}, \"type\": \"mesh3d\"}], \"parcoords\": [{\"line\": {\"colorbar\": {\"outlinewidth\": 0, \"ticks\": \"\"}}, \"type\": \"parcoords\"}], \"pie\": [{\"automargin\": true, \"type\": \"pie\"}], \"scatter\": [{\"marker\": {\"colorbar\": {\"outlinewidth\": 0, \"ticks\": \"\"}}, \"type\": \"scatter\"}], \"scatter3d\": [{\"line\": {\"colorbar\": {\"outlinewidth\": 0, \"ticks\": \"\"}}, \"marker\": {\"colorbar\": {\"outlinewidth\": 0, \"ticks\": \"\"}}, \"type\": \"scatter3d\"}], \"scattercarpet\": [{\"marker\": {\"colorbar\": {\"outlinewidth\": 0, \"ticks\": \"\"}}, \"type\": \"scattercarpet\"}], \"scattergeo\": [{\"marker\": {\"colorbar\": {\"outlinewidth\": 0, \"ticks\": \"\"}}, \"type\": \"scattergeo\"}], \"scattergl\": [{\"marker\": {\"colorbar\": {\"outlinewidth\": 0, \"ticks\": \"\"}}, \"type\": \"scattergl\"}], \"scattermapbox\": [{\"marker\": {\"colorbar\": {\"outlinewidth\": 0, \"ticks\": \"\"}}, \"type\": \"scattermapbox\"}], \"scatterpolar\": [{\"marker\": {\"colorbar\": {\"outlinewidth\": 0, \"ticks\": \"\"}}, \"type\": \"scatterpolar\"}], \"scatterpolargl\": [{\"marker\": {\"colorbar\": {\"outlinewidth\": 0, \"ticks\": \"\"}}, \"type\": \"scatterpolargl\"}], \"scatterternary\": [{\"marker\": {\"colorbar\": {\"outlinewidth\": 0, \"ticks\": \"\"}}, \"type\": \"scatterternary\"}], \"surface\": [{\"colorbar\": {\"outlinewidth\": 0, \"ticks\": \"\"}, \"colorscale\": [[0.0, \"#0d0887\"], [0.1111111111111111, \"#46039f\"], [0.2222222222222222, \"#7201a8\"], [0.3333333333333333, \"#9c179e\"], [0.4444444444444444, \"#bd3786\"], [0.5555555555555556, \"#d8576b\"], [0.6666666666666666, \"#ed7953\"], [0.7777777777777778, \"#fb9f3a\"], [0.8888888888888888, \"#fdca26\"], [1.0, \"#f0f921\"]], \"type\": \"surface\"}], \"table\": [{\"cells\": {\"fill\": {\"color\": \"#EBF0F8\"}, \"line\": {\"color\": \"white\"}}, \"header\": {\"fill\": {\"color\": \"#C8D4E3\"}, \"line\": {\"color\": \"white\"}}, \"type\": \"table\"}]}, \"layout\": {\"annotationdefaults\": {\"arrowcolor\": \"#2a3f5f\", \"arrowhead\": 0, \"arrowwidth\": 1}, \"autotypenumbers\": \"strict\", \"coloraxis\": {\"colorbar\": {\"outlinewidth\": 0, \"ticks\": \"\"}}, \"colorscale\": {\"diverging\": [[0, \"#8e0152\"], [0.1, \"#c51b7d\"], [0.2, \"#de77ae\"], [0.3, \"#f1b6da\"], [0.4, \"#fde0ef\"], [0.5, \"#f7f7f7\"], [0.6, \"#e6f5d0\"], [0.7, \"#b8e186\"], [0.8, \"#7fbc41\"], [0.9, \"#4d9221\"], [1, \"#276419\"]], \"sequential\": [[0.0, \"#0d0887\"], [0.1111111111111111, \"#46039f\"], [0.2222222222222222, \"#7201a8\"], [0.3333333333333333, \"#9c179e\"], [0.4444444444444444, \"#bd3786\"], [0.5555555555555556, \"#d8576b\"], [0.6666666666666666, \"#ed7953\"], [0.7777777777777778, \"#fb9f3a\"], [0.8888888888888888, \"#fdca26\"], [1.0, \"#f0f921\"]], \"sequentialminus\": [[0.0, \"#0d0887\"], [0.1111111111111111, \"#46039f\"], [0.2222222222222222, \"#7201a8\"], [0.3333333333333333, \"#9c179e\"], [0.4444444444444444, \"#bd3786\"], [0.5555555555555556, \"#d8576b\"], [0.6666666666666666, \"#ed7953\"], [0.7777777777777778, \"#fb9f3a\"], [0.8888888888888888, \"#fdca26\"], [1.0, \"#f0f921\"]]}, \"colorway\": [\"#636efa\", \"#EF553B\", \"#00cc96\", \"#ab63fa\", \"#FFA15A\", \"#19d3f3\", \"#FF6692\", \"#B6E880\", \"#FF97FF\", \"#FECB52\"], \"font\": {\"color\": \"#2a3f5f\"}, \"geo\": {\"bgcolor\": \"white\", \"lakecolor\": \"white\", \"landcolor\": \"#E5ECF6\", \"showlakes\": true, \"showland\": true, \"subunitcolor\": \"white\"}, \"hoverlabel\": {\"align\": \"left\"}, \"hovermode\": \"closest\", \"mapbox\": {\"style\": \"light\"}, \"paper_bgcolor\": \"white\", \"plot_bgcolor\": \"#E5ECF6\", \"polar\": {\"angularaxis\": {\"gridcolor\": \"white\", \"linecolor\": \"white\", \"ticks\": \"\"}, \"bgcolor\": \"#E5ECF6\", \"radialaxis\": {\"gridcolor\": \"white\", \"linecolor\": \"white\", \"ticks\": \"\"}}, \"scene\": {\"xaxis\": {\"backgroundcolor\": \"#E5ECF6\", \"gridcolor\": \"white\", \"gridwidth\": 2, \"linecolor\": \"white\", \"showbackground\": true, \"ticks\": \"\", \"zerolinecolor\": \"white\"}, \"yaxis\": {\"backgroundcolor\": \"#E5ECF6\", \"gridcolor\": \"white\", \"gridwidth\": 2, \"linecolor\": \"white\", \"showbackground\": true, \"ticks\": \"\", \"zerolinecolor\": \"white\"}, \"zaxis\": {\"backgroundcolor\": \"#E5ECF6\", \"gridcolor\": \"white\", \"gridwidth\": 2, \"linecolor\": \"white\", \"showbackground\": true, \"ticks\": \"\", \"zerolinecolor\": \"white\"}}, \"shapedefaults\": {\"line\": {\"color\": \"#2a3f5f\"}}, \"ternary\": {\"aaxis\": {\"gridcolor\": \"white\", \"linecolor\": \"white\", \"ticks\": \"\"}, \"baxis\": {\"gridcolor\": \"white\", \"linecolor\": \"white\", \"ticks\": \"\"}, \"bgcolor\": \"#E5ECF6\", \"caxis\": {\"gridcolor\": \"white\", \"linecolor\": \"white\", \"ticks\": \"\"}}, \"title\": {\"x\": 0.05}, \"xaxis\": {\"automargin\": true, \"gridcolor\": \"white\", \"linecolor\": \"white\", \"ticks\": \"\", \"title\": {\"standoff\": 15}, \"zerolinecolor\": \"white\", \"zerolinewidth\": 2}, \"yaxis\": {\"automargin\": true, \"gridcolor\": \"white\", \"linecolor\": \"white\", \"ticks\": \"\", \"title\": {\"standoff\": 15}, \"zerolinecolor\": \"white\", \"zerolinewidth\": 2}}}, \"title\": {\"font\": {\"color\": \"#4D5663\"}}, \"xaxis\": {\"gridcolor\": \"#E1E5ED\", \"showgrid\": true, \"tickfont\": {\"color\": \"#4D5663\"}, \"title\": {\"font\": {\"color\": \"#4D5663\"}, \"text\": \"\"}, \"zerolinecolor\": \"#E1E5ED\"}, \"yaxis\": {\"gridcolor\": \"#E1E5ED\", \"showgrid\": true, \"tickfont\": {\"color\": \"#4D5663\"}, \"title\": {\"font\": {\"color\": \"#4D5663\"}, \"text\": \"\"}, \"zerolinecolor\": \"#E1E5ED\"}},                        {\"showLink\": true, \"linkText\": \"Export to plot.ly\", \"plotlyServerURL\": \"https://plot.ly\", \"responsive\": true}                    ).then(function(){\n",
       "                            \n",
       "var gd = document.getElementById('c03a8a61-95dd-478e-a4e2-648c8f8f72a9');\n",
       "var x = new MutationObserver(function (mutations, observer) {{\n",
       "        var display = window.getComputedStyle(gd).display;\n",
       "        if (!display || display === 'none') {{\n",
       "            console.log([gd, 'removed!']);\n",
       "            Plotly.purge(gd);\n",
       "            observer.disconnect();\n",
       "        }}\n",
       "}});\n",
       "\n",
       "// Listen for the removal of the full notebook cells\n",
       "var notebookContainer = gd.closest('#notebook-container');\n",
       "if (notebookContainer) {{\n",
       "    x.observe(notebookContainer, {childList: true});\n",
       "}}\n",
       "\n",
       "// Listen for the clearing of the current output cell\n",
       "var outputEl = gd.closest('.output');\n",
       "if (outputEl) {{\n",
       "    x.observe(outputEl, {childList: true});\n",
       "}}\n",
       "\n",
       "                        })                };                });            </script>        </div>"
      ]
     },
     "metadata": {},
     "output_type": "display_data"
    }
   ],
   "source": [
    "df.loc[1980, \"Insgesamt\"].unstack().T.iplot(kind=\"bar\", subplots=False)"
   ]
  },
  {
   "cell_type": "code",
   "execution_count": 7,
   "metadata": {},
   "outputs": [
    {
     "data": {
      "text/html": [
       "<div>\n",
       "<style scoped>\n",
       "    .dataframe tbody tr th:only-of-type {\n",
       "        vertical-align: middle;\n",
       "    }\n",
       "\n",
       "    .dataframe tbody tr th {\n",
       "        vertical-align: top;\n",
       "    }\n",
       "\n",
       "    .dataframe thead th {\n",
       "        text-align: right;\n",
       "    }\n",
       "</style>\n",
       "<table border=\"1\" class=\"dataframe\">\n",
       "  <thead>\n",
       "    <tr style=\"text-align: right;\">\n",
       "      <th></th>\n",
       "      <th>männlich</th>\n",
       "      <th>weiblich</th>\n",
       "    </tr>\n",
       "  </thead>\n",
       "  <tbody>\n",
       "    <tr>\n",
       "      <th>1980</th>\n",
       "      <td>455917.0</td>\n",
       "      <td>496439.0</td>\n",
       "    </tr>\n",
       "    <tr>\n",
       "      <th>1981</th>\n",
       "      <td>453213.0</td>\n",
       "      <td>501160.0</td>\n",
       "    </tr>\n",
       "    <tr>\n",
       "      <th>1982</th>\n",
       "      <td>446339.0</td>\n",
       "      <td>497443.0</td>\n",
       "    </tr>\n",
       "    <tr>\n",
       "      <th>1983</th>\n",
       "      <td>443049.0</td>\n",
       "      <td>497979.0</td>\n",
       "    </tr>\n",
       "    <tr>\n",
       "      <th>1984</th>\n",
       "      <td>430853.0</td>\n",
       "      <td>486428.0</td>\n",
       "    </tr>\n",
       "    <tr>\n",
       "      <th>1985</th>\n",
       "      <td>433749.0</td>\n",
       "      <td>495890.0</td>\n",
       "    </tr>\n",
       "    <tr>\n",
       "      <th>1986</th>\n",
       "      <td>427913.0</td>\n",
       "      <td>497431.0</td>\n",
       "    </tr>\n",
       "    <tr>\n",
       "      <th>1987</th>\n",
       "      <td>418700.0</td>\n",
       "      <td>482567.0</td>\n",
       "    </tr>\n",
       "    <tr>\n",
       "      <th>1988</th>\n",
       "      <td>417416.0</td>\n",
       "      <td>483184.0</td>\n",
       "    </tr>\n",
       "    <tr>\n",
       "      <th>1989</th>\n",
       "      <td>417085.0</td>\n",
       "      <td>486327.0</td>\n",
       "    </tr>\n",
       "    <tr>\n",
       "      <th>1990</th>\n",
       "      <td>425093.0</td>\n",
       "      <td>496352.0</td>\n",
       "    </tr>\n",
       "    <tr>\n",
       "      <th>1991</th>\n",
       "      <td>421818.0</td>\n",
       "      <td>489427.0</td>\n",
       "    </tr>\n",
       "    <tr>\n",
       "      <th>1992</th>\n",
       "      <td>410583.0</td>\n",
       "      <td>474860.0</td>\n",
       "    </tr>\n",
       "    <tr>\n",
       "      <th>1993</th>\n",
       "      <td>415874.0</td>\n",
       "      <td>481396.0</td>\n",
       "    </tr>\n",
       "    <tr>\n",
       "      <th>1994</th>\n",
       "      <td>409375.0</td>\n",
       "      <td>475286.0</td>\n",
       "    </tr>\n",
       "    <tr>\n",
       "      <th>1995</th>\n",
       "      <td>410663.0</td>\n",
       "      <td>473925.0</td>\n",
       "    </tr>\n",
       "    <tr>\n",
       "      <th>1996</th>\n",
       "      <td>408082.0</td>\n",
       "      <td>474761.0</td>\n",
       "    </tr>\n",
       "    <tr>\n",
       "      <th>1997</th>\n",
       "      <td>398317.0</td>\n",
       "      <td>462072.0</td>\n",
       "    </tr>\n",
       "    <tr>\n",
       "      <th>1998</th>\n",
       "      <td>393447.0</td>\n",
       "      <td>458935.0</td>\n",
       "    </tr>\n",
       "    <tr>\n",
       "      <th>1999</th>\n",
       "      <td>390742.0</td>\n",
       "      <td>455588.0</td>\n",
       "    </tr>\n",
       "    <tr>\n",
       "      <th>2000</th>\n",
       "      <td>388981.0</td>\n",
       "      <td>449816.0</td>\n",
       "    </tr>\n",
       "    <tr>\n",
       "      <th>2001</th>\n",
       "      <td>383887.0</td>\n",
       "      <td>444654.0</td>\n",
       "    </tr>\n",
       "    <tr>\n",
       "      <th>2002</th>\n",
       "      <td>389116.0</td>\n",
       "      <td>452570.0</td>\n",
       "    </tr>\n",
       "    <tr>\n",
       "      <th>2003</th>\n",
       "      <td>396270.0</td>\n",
       "      <td>457676.0</td>\n",
       "    </tr>\n",
       "    <tr>\n",
       "      <th>2004</th>\n",
       "      <td>383388.0</td>\n",
       "      <td>434883.0</td>\n",
       "    </tr>\n",
       "    <tr>\n",
       "      <th>2005</th>\n",
       "      <td>388554.0</td>\n",
       "      <td>441673.0</td>\n",
       "    </tr>\n",
       "    <tr>\n",
       "      <th>2006</th>\n",
       "      <td>385940.0</td>\n",
       "      <td>435687.0</td>\n",
       "    </tr>\n",
       "    <tr>\n",
       "      <th>2007</th>\n",
       "      <td>391139.0</td>\n",
       "      <td>436016.0</td>\n",
       "    </tr>\n",
       "    <tr>\n",
       "      <th>2008</th>\n",
       "      <td>397651.0</td>\n",
       "      <td>446788.0</td>\n",
       "    </tr>\n",
       "    <tr>\n",
       "      <th>2009</th>\n",
       "      <td>404969.0</td>\n",
       "      <td>449575.0</td>\n",
       "    </tr>\n",
       "    <tr>\n",
       "      <th>2010</th>\n",
       "      <td>409022.0</td>\n",
       "      <td>449746.0</td>\n",
       "    </tr>\n",
       "    <tr>\n",
       "      <th>2011</th>\n",
       "      <td>407628.0</td>\n",
       "      <td>444700.0</td>\n",
       "    </tr>\n",
       "    <tr>\n",
       "      <th>2012</th>\n",
       "      <td>416423.0</td>\n",
       "      <td>453159.0</td>\n",
       "    </tr>\n",
       "    <tr>\n",
       "      <th>2013</th>\n",
       "      <td>429645.0</td>\n",
       "      <td>464180.0</td>\n",
       "    </tr>\n",
       "    <tr>\n",
       "      <th>2014</th>\n",
       "      <td>422225.0</td>\n",
       "      <td>446131.0</td>\n",
       "    </tr>\n",
       "    <tr>\n",
       "      <th>2015</th>\n",
       "      <td>449512.0</td>\n",
       "      <td>475688.0</td>\n",
       "    </tr>\n",
       "    <tr>\n",
       "      <th>2016</th>\n",
       "      <td>448304.0</td>\n",
       "      <td>462598.0</td>\n",
       "    </tr>\n",
       "    <tr>\n",
       "      <th>2017</th>\n",
       "      <td>457756.0</td>\n",
       "      <td>474507.0</td>\n",
       "    </tr>\n",
       "    <tr>\n",
       "      <th>2018</th>\n",
       "      <td>470032.0</td>\n",
       "      <td>484842.0</td>\n",
       "    </tr>\n",
       "    <tr>\n",
       "      <th>2019</th>\n",
       "      <td>465885.0</td>\n",
       "      <td>473635.0</td>\n",
       "    </tr>\n",
       "  </tbody>\n",
       "</table>\n",
       "</div>"
      ],
      "text/plain": [
       "      männlich  weiblich\n",
       "1980  455917.0  496439.0\n",
       "1981  453213.0  501160.0\n",
       "1982  446339.0  497443.0\n",
       "1983  443049.0  497979.0\n",
       "1984  430853.0  486428.0\n",
       "1985  433749.0  495890.0\n",
       "1986  427913.0  497431.0\n",
       "1987  418700.0  482567.0\n",
       "1988  417416.0  483184.0\n",
       "1989  417085.0  486327.0\n",
       "1990  425093.0  496352.0\n",
       "1991  421818.0  489427.0\n",
       "1992  410583.0  474860.0\n",
       "1993  415874.0  481396.0\n",
       "1994  409375.0  475286.0\n",
       "1995  410663.0  473925.0\n",
       "1996  408082.0  474761.0\n",
       "1997  398317.0  462072.0\n",
       "1998  393447.0  458935.0\n",
       "1999  390742.0  455588.0\n",
       "2000  388981.0  449816.0\n",
       "2001  383887.0  444654.0\n",
       "2002  389116.0  452570.0\n",
       "2003  396270.0  457676.0\n",
       "2004  383388.0  434883.0\n",
       "2005  388554.0  441673.0\n",
       "2006  385940.0  435687.0\n",
       "2007  391139.0  436016.0\n",
       "2008  397651.0  446788.0\n",
       "2009  404969.0  449575.0\n",
       "2010  409022.0  449746.0\n",
       "2011  407628.0  444700.0\n",
       "2012  416423.0  453159.0\n",
       "2013  429645.0  464180.0\n",
       "2014  422225.0  446131.0\n",
       "2015  449512.0  475688.0\n",
       "2016  448304.0  462598.0\n",
       "2017  457756.0  474507.0\n",
       "2018  470032.0  484842.0\n",
       "2019  465885.0  473635.0"
      ]
     },
     "execution_count": 7,
     "metadata": {},
     "output_type": "execute_result"
    }
   ],
   "source": [
    "df.xs(\"Insgesamt\", level=1).T.groupby(level=0).sum().T"
   ]
  },
  {
   "cell_type": "code",
   "execution_count": 8,
   "metadata": {},
   "outputs": [
    {
     "data": {
      "application/vnd.plotly.v1+json": {
       "config": {
        "linkText": "Export to plot.ly",
        "plotlyServerURL": "https://plot.ly",
        "showLink": true
       },
       "data": [
        {
         "marker": {
          "color": "rgba(255, 153, 51, 0.6)",
          "line": {
           "color": "rgba(255, 153, 51, 1.0)",
           "width": 1
          }
         },
         "name": "männlich",
         "orientation": "v",
         "text": "",
         "type": "bar",
         "x": [
          1980,
          1981,
          1982,
          1983,
          1984,
          1985,
          1986,
          1987,
          1988,
          1989,
          1990,
          1991,
          1992,
          1993,
          1994,
          1995,
          1996,
          1997,
          1998,
          1999,
          2000,
          2001,
          2002,
          2003,
          2004,
          2005,
          2006,
          2007,
          2008,
          2009,
          2010,
          2011,
          2012,
          2013,
          2014,
          2015,
          2016,
          2017,
          2018,
          2019
         ],
         "y": [
          455917,
          453213,
          446339,
          443049,
          430853,
          433749,
          427913,
          418700,
          417416,
          417085,
          425093,
          421818,
          410583,
          415874,
          409375,
          410663,
          408082,
          398317,
          393447,
          390742,
          388981,
          383887,
          389116,
          396270,
          383388,
          388554,
          385940,
          391139,
          397651,
          404969,
          409022,
          407628,
          416423,
          429645,
          422225,
          449512,
          448304,
          457756,
          470032,
          465885
         ]
        },
        {
         "marker": {
          "color": "rgba(55, 128, 191, 0.6)",
          "line": {
           "color": "rgba(55, 128, 191, 1.0)",
           "width": 1
          }
         },
         "name": "weiblich",
         "orientation": "v",
         "text": "",
         "type": "bar",
         "x": [
          1980,
          1981,
          1982,
          1983,
          1984,
          1985,
          1986,
          1987,
          1988,
          1989,
          1990,
          1991,
          1992,
          1993,
          1994,
          1995,
          1996,
          1997,
          1998,
          1999,
          2000,
          2001,
          2002,
          2003,
          2004,
          2005,
          2006,
          2007,
          2008,
          2009,
          2010,
          2011,
          2012,
          2013,
          2014,
          2015,
          2016,
          2017,
          2018,
          2019
         ],
         "y": [
          496439,
          501160,
          497443,
          497979,
          486428,
          495890,
          497431,
          482567,
          483184,
          486327,
          496352,
          489427,
          474860,
          481396,
          475286,
          473925,
          474761,
          462072,
          458935,
          455588,
          449816,
          444654,
          452570,
          457676,
          434883,
          441673,
          435687,
          436016,
          446788,
          449575,
          449746,
          444700,
          453159,
          464180,
          446131,
          475688,
          462598,
          474507,
          484842,
          473635
         ]
        }
       ],
       "layout": {
        "legend": {
         "bgcolor": "#F5F6F9",
         "font": {
          "color": "#4D5663"
         }
        },
        "paper_bgcolor": "#F5F6F9",
        "plot_bgcolor": "#F5F6F9",
        "template": {
         "data": {
          "bar": [
           {
            "error_x": {
             "color": "#2a3f5f"
            },
            "error_y": {
             "color": "#2a3f5f"
            },
            "marker": {
             "line": {
              "color": "#E5ECF6",
              "width": 0.5
             }
            },
            "type": "bar"
           }
          ],
          "barpolar": [
           {
            "marker": {
             "line": {
              "color": "#E5ECF6",
              "width": 0.5
             }
            },
            "type": "barpolar"
           }
          ],
          "carpet": [
           {
            "aaxis": {
             "endlinecolor": "#2a3f5f",
             "gridcolor": "white",
             "linecolor": "white",
             "minorgridcolor": "white",
             "startlinecolor": "#2a3f5f"
            },
            "baxis": {
             "endlinecolor": "#2a3f5f",
             "gridcolor": "white",
             "linecolor": "white",
             "minorgridcolor": "white",
             "startlinecolor": "#2a3f5f"
            },
            "type": "carpet"
           }
          ],
          "choropleth": [
           {
            "colorbar": {
             "outlinewidth": 0,
             "ticks": ""
            },
            "type": "choropleth"
           }
          ],
          "contour": [
           {
            "colorbar": {
             "outlinewidth": 0,
             "ticks": ""
            },
            "colorscale": [
             [
              0,
              "#0d0887"
             ],
             [
              0.1111111111111111,
              "#46039f"
             ],
             [
              0.2222222222222222,
              "#7201a8"
             ],
             [
              0.3333333333333333,
              "#9c179e"
             ],
             [
              0.4444444444444444,
              "#bd3786"
             ],
             [
              0.5555555555555556,
              "#d8576b"
             ],
             [
              0.6666666666666666,
              "#ed7953"
             ],
             [
              0.7777777777777778,
              "#fb9f3a"
             ],
             [
              0.8888888888888888,
              "#fdca26"
             ],
             [
              1,
              "#f0f921"
             ]
            ],
            "type": "contour"
           }
          ],
          "contourcarpet": [
           {
            "colorbar": {
             "outlinewidth": 0,
             "ticks": ""
            },
            "type": "contourcarpet"
           }
          ],
          "heatmap": [
           {
            "colorbar": {
             "outlinewidth": 0,
             "ticks": ""
            },
            "colorscale": [
             [
              0,
              "#0d0887"
             ],
             [
              0.1111111111111111,
              "#46039f"
             ],
             [
              0.2222222222222222,
              "#7201a8"
             ],
             [
              0.3333333333333333,
              "#9c179e"
             ],
             [
              0.4444444444444444,
              "#bd3786"
             ],
             [
              0.5555555555555556,
              "#d8576b"
             ],
             [
              0.6666666666666666,
              "#ed7953"
             ],
             [
              0.7777777777777778,
              "#fb9f3a"
             ],
             [
              0.8888888888888888,
              "#fdca26"
             ],
             [
              1,
              "#f0f921"
             ]
            ],
            "type": "heatmap"
           }
          ],
          "heatmapgl": [
           {
            "colorbar": {
             "outlinewidth": 0,
             "ticks": ""
            },
            "colorscale": [
             [
              0,
              "#0d0887"
             ],
             [
              0.1111111111111111,
              "#46039f"
             ],
             [
              0.2222222222222222,
              "#7201a8"
             ],
             [
              0.3333333333333333,
              "#9c179e"
             ],
             [
              0.4444444444444444,
              "#bd3786"
             ],
             [
              0.5555555555555556,
              "#d8576b"
             ],
             [
              0.6666666666666666,
              "#ed7953"
             ],
             [
              0.7777777777777778,
              "#fb9f3a"
             ],
             [
              0.8888888888888888,
              "#fdca26"
             ],
             [
              1,
              "#f0f921"
             ]
            ],
            "type": "heatmapgl"
           }
          ],
          "histogram": [
           {
            "marker": {
             "colorbar": {
              "outlinewidth": 0,
              "ticks": ""
             }
            },
            "type": "histogram"
           }
          ],
          "histogram2d": [
           {
            "colorbar": {
             "outlinewidth": 0,
             "ticks": ""
            },
            "colorscale": [
             [
              0,
              "#0d0887"
             ],
             [
              0.1111111111111111,
              "#46039f"
             ],
             [
              0.2222222222222222,
              "#7201a8"
             ],
             [
              0.3333333333333333,
              "#9c179e"
             ],
             [
              0.4444444444444444,
              "#bd3786"
             ],
             [
              0.5555555555555556,
              "#d8576b"
             ],
             [
              0.6666666666666666,
              "#ed7953"
             ],
             [
              0.7777777777777778,
              "#fb9f3a"
             ],
             [
              0.8888888888888888,
              "#fdca26"
             ],
             [
              1,
              "#f0f921"
             ]
            ],
            "type": "histogram2d"
           }
          ],
          "histogram2dcontour": [
           {
            "colorbar": {
             "outlinewidth": 0,
             "ticks": ""
            },
            "colorscale": [
             [
              0,
              "#0d0887"
             ],
             [
              0.1111111111111111,
              "#46039f"
             ],
             [
              0.2222222222222222,
              "#7201a8"
             ],
             [
              0.3333333333333333,
              "#9c179e"
             ],
             [
              0.4444444444444444,
              "#bd3786"
             ],
             [
              0.5555555555555556,
              "#d8576b"
             ],
             [
              0.6666666666666666,
              "#ed7953"
             ],
             [
              0.7777777777777778,
              "#fb9f3a"
             ],
             [
              0.8888888888888888,
              "#fdca26"
             ],
             [
              1,
              "#f0f921"
             ]
            ],
            "type": "histogram2dcontour"
           }
          ],
          "mesh3d": [
           {
            "colorbar": {
             "outlinewidth": 0,
             "ticks": ""
            },
            "type": "mesh3d"
           }
          ],
          "parcoords": [
           {
            "line": {
             "colorbar": {
              "outlinewidth": 0,
              "ticks": ""
             }
            },
            "type": "parcoords"
           }
          ],
          "pie": [
           {
            "automargin": true,
            "type": "pie"
           }
          ],
          "scatter": [
           {
            "marker": {
             "colorbar": {
              "outlinewidth": 0,
              "ticks": ""
             }
            },
            "type": "scatter"
           }
          ],
          "scatter3d": [
           {
            "line": {
             "colorbar": {
              "outlinewidth": 0,
              "ticks": ""
             }
            },
            "marker": {
             "colorbar": {
              "outlinewidth": 0,
              "ticks": ""
             }
            },
            "type": "scatter3d"
           }
          ],
          "scattercarpet": [
           {
            "marker": {
             "colorbar": {
              "outlinewidth": 0,
              "ticks": ""
             }
            },
            "type": "scattercarpet"
           }
          ],
          "scattergeo": [
           {
            "marker": {
             "colorbar": {
              "outlinewidth": 0,
              "ticks": ""
             }
            },
            "type": "scattergeo"
           }
          ],
          "scattergl": [
           {
            "marker": {
             "colorbar": {
              "outlinewidth": 0,
              "ticks": ""
             }
            },
            "type": "scattergl"
           }
          ],
          "scattermapbox": [
           {
            "marker": {
             "colorbar": {
              "outlinewidth": 0,
              "ticks": ""
             }
            },
            "type": "scattermapbox"
           }
          ],
          "scatterpolar": [
           {
            "marker": {
             "colorbar": {
              "outlinewidth": 0,
              "ticks": ""
             }
            },
            "type": "scatterpolar"
           }
          ],
          "scatterpolargl": [
           {
            "marker": {
             "colorbar": {
              "outlinewidth": 0,
              "ticks": ""
             }
            },
            "type": "scatterpolargl"
           }
          ],
          "scatterternary": [
           {
            "marker": {
             "colorbar": {
              "outlinewidth": 0,
              "ticks": ""
             }
            },
            "type": "scatterternary"
           }
          ],
          "surface": [
           {
            "colorbar": {
             "outlinewidth": 0,
             "ticks": ""
            },
            "colorscale": [
             [
              0,
              "#0d0887"
             ],
             [
              0.1111111111111111,
              "#46039f"
             ],
             [
              0.2222222222222222,
              "#7201a8"
             ],
             [
              0.3333333333333333,
              "#9c179e"
             ],
             [
              0.4444444444444444,
              "#bd3786"
             ],
             [
              0.5555555555555556,
              "#d8576b"
             ],
             [
              0.6666666666666666,
              "#ed7953"
             ],
             [
              0.7777777777777778,
              "#fb9f3a"
             ],
             [
              0.8888888888888888,
              "#fdca26"
             ],
             [
              1,
              "#f0f921"
             ]
            ],
            "type": "surface"
           }
          ],
          "table": [
           {
            "cells": {
             "fill": {
              "color": "#EBF0F8"
             },
             "line": {
              "color": "white"
             }
            },
            "header": {
             "fill": {
              "color": "#C8D4E3"
             },
             "line": {
              "color": "white"
             }
            },
            "type": "table"
           }
          ]
         },
         "layout": {
          "annotationdefaults": {
           "arrowcolor": "#2a3f5f",
           "arrowhead": 0,
           "arrowwidth": 1
          },
          "autotypenumbers": "strict",
          "coloraxis": {
           "colorbar": {
            "outlinewidth": 0,
            "ticks": ""
           }
          },
          "colorscale": {
           "diverging": [
            [
             0,
             "#8e0152"
            ],
            [
             0.1,
             "#c51b7d"
            ],
            [
             0.2,
             "#de77ae"
            ],
            [
             0.3,
             "#f1b6da"
            ],
            [
             0.4,
             "#fde0ef"
            ],
            [
             0.5,
             "#f7f7f7"
            ],
            [
             0.6,
             "#e6f5d0"
            ],
            [
             0.7,
             "#b8e186"
            ],
            [
             0.8,
             "#7fbc41"
            ],
            [
             0.9,
             "#4d9221"
            ],
            [
             1,
             "#276419"
            ]
           ],
           "sequential": [
            [
             0,
             "#0d0887"
            ],
            [
             0.1111111111111111,
             "#46039f"
            ],
            [
             0.2222222222222222,
             "#7201a8"
            ],
            [
             0.3333333333333333,
             "#9c179e"
            ],
            [
             0.4444444444444444,
             "#bd3786"
            ],
            [
             0.5555555555555556,
             "#d8576b"
            ],
            [
             0.6666666666666666,
             "#ed7953"
            ],
            [
             0.7777777777777778,
             "#fb9f3a"
            ],
            [
             0.8888888888888888,
             "#fdca26"
            ],
            [
             1,
             "#f0f921"
            ]
           ],
           "sequentialminus": [
            [
             0,
             "#0d0887"
            ],
            [
             0.1111111111111111,
             "#46039f"
            ],
            [
             0.2222222222222222,
             "#7201a8"
            ],
            [
             0.3333333333333333,
             "#9c179e"
            ],
            [
             0.4444444444444444,
             "#bd3786"
            ],
            [
             0.5555555555555556,
             "#d8576b"
            ],
            [
             0.6666666666666666,
             "#ed7953"
            ],
            [
             0.7777777777777778,
             "#fb9f3a"
            ],
            [
             0.8888888888888888,
             "#fdca26"
            ],
            [
             1,
             "#f0f921"
            ]
           ]
          },
          "colorway": [
           "#636efa",
           "#EF553B",
           "#00cc96",
           "#ab63fa",
           "#FFA15A",
           "#19d3f3",
           "#FF6692",
           "#B6E880",
           "#FF97FF",
           "#FECB52"
          ],
          "font": {
           "color": "#2a3f5f"
          },
          "geo": {
           "bgcolor": "white",
           "lakecolor": "white",
           "landcolor": "#E5ECF6",
           "showlakes": true,
           "showland": true,
           "subunitcolor": "white"
          },
          "hoverlabel": {
           "align": "left"
          },
          "hovermode": "closest",
          "mapbox": {
           "style": "light"
          },
          "paper_bgcolor": "white",
          "plot_bgcolor": "#E5ECF6",
          "polar": {
           "angularaxis": {
            "gridcolor": "white",
            "linecolor": "white",
            "ticks": ""
           },
           "bgcolor": "#E5ECF6",
           "radialaxis": {
            "gridcolor": "white",
            "linecolor": "white",
            "ticks": ""
           }
          },
          "scene": {
           "xaxis": {
            "backgroundcolor": "#E5ECF6",
            "gridcolor": "white",
            "gridwidth": 2,
            "linecolor": "white",
            "showbackground": true,
            "ticks": "",
            "zerolinecolor": "white"
           },
           "yaxis": {
            "backgroundcolor": "#E5ECF6",
            "gridcolor": "white",
            "gridwidth": 2,
            "linecolor": "white",
            "showbackground": true,
            "ticks": "",
            "zerolinecolor": "white"
           },
           "zaxis": {
            "backgroundcolor": "#E5ECF6",
            "gridcolor": "white",
            "gridwidth": 2,
            "linecolor": "white",
            "showbackground": true,
            "ticks": "",
            "zerolinecolor": "white"
           }
          },
          "shapedefaults": {
           "line": {
            "color": "#2a3f5f"
           }
          },
          "ternary": {
           "aaxis": {
            "gridcolor": "white",
            "linecolor": "white",
            "ticks": ""
           },
           "baxis": {
            "gridcolor": "white",
            "linecolor": "white",
            "ticks": ""
           },
           "bgcolor": "#E5ECF6",
           "caxis": {
            "gridcolor": "white",
            "linecolor": "white",
            "ticks": ""
           }
          },
          "title": {
           "x": 0.05
          },
          "xaxis": {
           "automargin": true,
           "gridcolor": "white",
           "linecolor": "white",
           "ticks": "",
           "title": {
            "standoff": 15
           },
           "zerolinecolor": "white",
           "zerolinewidth": 2
          },
          "yaxis": {
           "automargin": true,
           "gridcolor": "white",
           "linecolor": "white",
           "ticks": "",
           "title": {
            "standoff": 15
           },
           "zerolinecolor": "white",
           "zerolinewidth": 2
          }
         }
        },
        "title": {
         "font": {
          "color": "#4D5663"
         }
        },
        "xaxis": {
         "gridcolor": "#E1E5ED",
         "showgrid": true,
         "tickfont": {
          "color": "#4D5663"
         },
         "title": {
          "font": {
           "color": "#4D5663"
          },
          "text": ""
         },
         "zerolinecolor": "#E1E5ED"
        },
        "yaxis": {
         "gridcolor": "#E1E5ED",
         "showgrid": true,
         "tickfont": {
          "color": "#4D5663"
         },
         "title": {
          "font": {
           "color": "#4D5663"
          },
          "text": ""
         },
         "zerolinecolor": "#E1E5ED"
        }
       }
      },
      "text/html": [
       "<div>                            <div id=\"7a7e0979-9fa9-4df9-ae9b-6cca9f5722c2\" class=\"plotly-graph-div\" style=\"height:525px; width:100%;\"></div>            <script type=\"text/javascript\">                require([\"plotly\"], function(Plotly) {                    window.PLOTLYENV=window.PLOTLYENV || {};\n",
       "                    window.PLOTLYENV.BASE_URL='https://plot.ly';                                    if (document.getElementById(\"7a7e0979-9fa9-4df9-ae9b-6cca9f5722c2\")) {                    Plotly.newPlot(                        \"7a7e0979-9fa9-4df9-ae9b-6cca9f5722c2\",                        [{\"marker\": {\"color\": \"rgba(255, 153, 51, 0.6)\", \"line\": {\"color\": \"rgba(255, 153, 51, 1.0)\", \"width\": 1}}, \"name\": \"m\\u00e4nnlich\", \"orientation\": \"v\", \"text\": \"\", \"type\": \"bar\", \"x\": [1980, 1981, 1982, 1983, 1984, 1985, 1986, 1987, 1988, 1989, 1990, 1991, 1992, 1993, 1994, 1995, 1996, 1997, 1998, 1999, 2000, 2001, 2002, 2003, 2004, 2005, 2006, 2007, 2008, 2009, 2010, 2011, 2012, 2013, 2014, 2015, 2016, 2017, 2018, 2019], \"y\": [455917.0, 453213.0, 446339.0, 443049.0, 430853.0, 433749.0, 427913.0, 418700.0, 417416.0, 417085.0, 425093.0, 421818.0, 410583.0, 415874.0, 409375.0, 410663.0, 408082.0, 398317.0, 393447.0, 390742.0, 388981.0, 383887.0, 389116.0, 396270.0, 383388.0, 388554.0, 385940.0, 391139.0, 397651.0, 404969.0, 409022.0, 407628.0, 416423.0, 429645.0, 422225.0, 449512.0, 448304.0, 457756.0, 470032.0, 465885.0]}, {\"marker\": {\"color\": \"rgba(55, 128, 191, 0.6)\", \"line\": {\"color\": \"rgba(55, 128, 191, 1.0)\", \"width\": 1}}, \"name\": \"weiblich\", \"orientation\": \"v\", \"text\": \"\", \"type\": \"bar\", \"x\": [1980, 1981, 1982, 1983, 1984, 1985, 1986, 1987, 1988, 1989, 1990, 1991, 1992, 1993, 1994, 1995, 1996, 1997, 1998, 1999, 2000, 2001, 2002, 2003, 2004, 2005, 2006, 2007, 2008, 2009, 2010, 2011, 2012, 2013, 2014, 2015, 2016, 2017, 2018, 2019], \"y\": [496439.0, 501160.0, 497443.0, 497979.0, 486428.0, 495890.0, 497431.0, 482567.0, 483184.0, 486327.0, 496352.0, 489427.0, 474860.0, 481396.0, 475286.0, 473925.0, 474761.0, 462072.0, 458935.0, 455588.0, 449816.0, 444654.0, 452570.0, 457676.0, 434883.0, 441673.0, 435687.0, 436016.0, 446788.0, 449575.0, 449746.0, 444700.0, 453159.0, 464180.0, 446131.0, 475688.0, 462598.0, 474507.0, 484842.0, 473635.0]}],                        {\"legend\": {\"bgcolor\": \"#F5F6F9\", \"font\": {\"color\": \"#4D5663\"}}, \"paper_bgcolor\": \"#F5F6F9\", \"plot_bgcolor\": \"#F5F6F9\", \"template\": {\"data\": {\"bar\": [{\"error_x\": {\"color\": \"#2a3f5f\"}, \"error_y\": {\"color\": \"#2a3f5f\"}, \"marker\": {\"line\": {\"color\": \"#E5ECF6\", \"width\": 0.5}}, \"type\": \"bar\"}], \"barpolar\": [{\"marker\": {\"line\": {\"color\": \"#E5ECF6\", \"width\": 0.5}}, \"type\": \"barpolar\"}], \"carpet\": [{\"aaxis\": {\"endlinecolor\": \"#2a3f5f\", \"gridcolor\": \"white\", \"linecolor\": \"white\", \"minorgridcolor\": \"white\", \"startlinecolor\": \"#2a3f5f\"}, \"baxis\": {\"endlinecolor\": \"#2a3f5f\", \"gridcolor\": \"white\", \"linecolor\": \"white\", \"minorgridcolor\": \"white\", \"startlinecolor\": \"#2a3f5f\"}, \"type\": \"carpet\"}], \"choropleth\": [{\"colorbar\": {\"outlinewidth\": 0, \"ticks\": \"\"}, \"type\": \"choropleth\"}], \"contour\": [{\"colorbar\": {\"outlinewidth\": 0, \"ticks\": \"\"}, \"colorscale\": [[0.0, \"#0d0887\"], [0.1111111111111111, \"#46039f\"], [0.2222222222222222, \"#7201a8\"], [0.3333333333333333, \"#9c179e\"], [0.4444444444444444, \"#bd3786\"], [0.5555555555555556, \"#d8576b\"], [0.6666666666666666, \"#ed7953\"], [0.7777777777777778, \"#fb9f3a\"], [0.8888888888888888, \"#fdca26\"], [1.0, \"#f0f921\"]], \"type\": \"contour\"}], \"contourcarpet\": [{\"colorbar\": {\"outlinewidth\": 0, \"ticks\": \"\"}, \"type\": \"contourcarpet\"}], \"heatmap\": [{\"colorbar\": {\"outlinewidth\": 0, \"ticks\": \"\"}, \"colorscale\": [[0.0, \"#0d0887\"], [0.1111111111111111, \"#46039f\"], [0.2222222222222222, \"#7201a8\"], [0.3333333333333333, \"#9c179e\"], [0.4444444444444444, \"#bd3786\"], [0.5555555555555556, \"#d8576b\"], [0.6666666666666666, \"#ed7953\"], [0.7777777777777778, \"#fb9f3a\"], [0.8888888888888888, \"#fdca26\"], [1.0, \"#f0f921\"]], \"type\": \"heatmap\"}], \"heatmapgl\": [{\"colorbar\": {\"outlinewidth\": 0, \"ticks\": \"\"}, \"colorscale\": [[0.0, \"#0d0887\"], [0.1111111111111111, \"#46039f\"], [0.2222222222222222, \"#7201a8\"], [0.3333333333333333, \"#9c179e\"], [0.4444444444444444, \"#bd3786\"], [0.5555555555555556, \"#d8576b\"], [0.6666666666666666, \"#ed7953\"], [0.7777777777777778, \"#fb9f3a\"], [0.8888888888888888, \"#fdca26\"], [1.0, \"#f0f921\"]], \"type\": \"heatmapgl\"}], \"histogram\": [{\"marker\": {\"colorbar\": {\"outlinewidth\": 0, \"ticks\": \"\"}}, \"type\": \"histogram\"}], \"histogram2d\": [{\"colorbar\": {\"outlinewidth\": 0, \"ticks\": \"\"}, \"colorscale\": [[0.0, \"#0d0887\"], [0.1111111111111111, \"#46039f\"], [0.2222222222222222, \"#7201a8\"], [0.3333333333333333, \"#9c179e\"], [0.4444444444444444, \"#bd3786\"], [0.5555555555555556, \"#d8576b\"], [0.6666666666666666, \"#ed7953\"], [0.7777777777777778, \"#fb9f3a\"], [0.8888888888888888, \"#fdca26\"], [1.0, \"#f0f921\"]], \"type\": \"histogram2d\"}], \"histogram2dcontour\": [{\"colorbar\": {\"outlinewidth\": 0, \"ticks\": \"\"}, \"colorscale\": [[0.0, \"#0d0887\"], [0.1111111111111111, \"#46039f\"], [0.2222222222222222, \"#7201a8\"], [0.3333333333333333, \"#9c179e\"], [0.4444444444444444, \"#bd3786\"], [0.5555555555555556, \"#d8576b\"], [0.6666666666666666, \"#ed7953\"], [0.7777777777777778, \"#fb9f3a\"], [0.8888888888888888, \"#fdca26\"], [1.0, \"#f0f921\"]], \"type\": \"histogram2dcontour\"}], \"mesh3d\": [{\"colorbar\": {\"outlinewidth\": 0, \"ticks\": \"\"}, \"type\": \"mesh3d\"}], \"parcoords\": [{\"line\": {\"colorbar\": {\"outlinewidth\": 0, \"ticks\": \"\"}}, \"type\": \"parcoords\"}], \"pie\": [{\"automargin\": true, \"type\": \"pie\"}], \"scatter\": [{\"marker\": {\"colorbar\": {\"outlinewidth\": 0, \"ticks\": \"\"}}, \"type\": \"scatter\"}], \"scatter3d\": [{\"line\": {\"colorbar\": {\"outlinewidth\": 0, \"ticks\": \"\"}}, \"marker\": {\"colorbar\": {\"outlinewidth\": 0, \"ticks\": \"\"}}, \"type\": \"scatter3d\"}], \"scattercarpet\": [{\"marker\": {\"colorbar\": {\"outlinewidth\": 0, \"ticks\": \"\"}}, \"type\": \"scattercarpet\"}], \"scattergeo\": [{\"marker\": {\"colorbar\": {\"outlinewidth\": 0, \"ticks\": \"\"}}, \"type\": \"scattergeo\"}], \"scattergl\": [{\"marker\": {\"colorbar\": {\"outlinewidth\": 0, \"ticks\": \"\"}}, \"type\": \"scattergl\"}], \"scattermapbox\": [{\"marker\": {\"colorbar\": {\"outlinewidth\": 0, \"ticks\": \"\"}}, \"type\": \"scattermapbox\"}], \"scatterpolar\": [{\"marker\": {\"colorbar\": {\"outlinewidth\": 0, \"ticks\": \"\"}}, \"type\": \"scatterpolar\"}], \"scatterpolargl\": [{\"marker\": {\"colorbar\": {\"outlinewidth\": 0, \"ticks\": \"\"}}, \"type\": \"scatterpolargl\"}], \"scatterternary\": [{\"marker\": {\"colorbar\": {\"outlinewidth\": 0, \"ticks\": \"\"}}, \"type\": \"scatterternary\"}], \"surface\": [{\"colorbar\": {\"outlinewidth\": 0, \"ticks\": \"\"}, \"colorscale\": [[0.0, \"#0d0887\"], [0.1111111111111111, \"#46039f\"], [0.2222222222222222, \"#7201a8\"], [0.3333333333333333, \"#9c179e\"], [0.4444444444444444, \"#bd3786\"], [0.5555555555555556, \"#d8576b\"], [0.6666666666666666, \"#ed7953\"], [0.7777777777777778, \"#fb9f3a\"], [0.8888888888888888, \"#fdca26\"], [1.0, \"#f0f921\"]], \"type\": \"surface\"}], \"table\": [{\"cells\": {\"fill\": {\"color\": \"#EBF0F8\"}, \"line\": {\"color\": \"white\"}}, \"header\": {\"fill\": {\"color\": \"#C8D4E3\"}, \"line\": {\"color\": \"white\"}}, \"type\": \"table\"}]}, \"layout\": {\"annotationdefaults\": {\"arrowcolor\": \"#2a3f5f\", \"arrowhead\": 0, \"arrowwidth\": 1}, \"autotypenumbers\": \"strict\", \"coloraxis\": {\"colorbar\": {\"outlinewidth\": 0, \"ticks\": \"\"}}, \"colorscale\": {\"diverging\": [[0, \"#8e0152\"], [0.1, \"#c51b7d\"], [0.2, \"#de77ae\"], [0.3, \"#f1b6da\"], [0.4, \"#fde0ef\"], [0.5, \"#f7f7f7\"], [0.6, \"#e6f5d0\"], [0.7, \"#b8e186\"], [0.8, \"#7fbc41\"], [0.9, \"#4d9221\"], [1, \"#276419\"]], \"sequential\": [[0.0, \"#0d0887\"], [0.1111111111111111, \"#46039f\"], [0.2222222222222222, \"#7201a8\"], [0.3333333333333333, \"#9c179e\"], [0.4444444444444444, \"#bd3786\"], [0.5555555555555556, \"#d8576b\"], [0.6666666666666666, \"#ed7953\"], [0.7777777777777778, \"#fb9f3a\"], [0.8888888888888888, \"#fdca26\"], [1.0, \"#f0f921\"]], \"sequentialminus\": [[0.0, \"#0d0887\"], [0.1111111111111111, \"#46039f\"], [0.2222222222222222, \"#7201a8\"], [0.3333333333333333, \"#9c179e\"], [0.4444444444444444, \"#bd3786\"], [0.5555555555555556, \"#d8576b\"], [0.6666666666666666, \"#ed7953\"], [0.7777777777777778, \"#fb9f3a\"], [0.8888888888888888, \"#fdca26\"], [1.0, \"#f0f921\"]]}, \"colorway\": [\"#636efa\", \"#EF553B\", \"#00cc96\", \"#ab63fa\", \"#FFA15A\", \"#19d3f3\", \"#FF6692\", \"#B6E880\", \"#FF97FF\", \"#FECB52\"], \"font\": {\"color\": \"#2a3f5f\"}, \"geo\": {\"bgcolor\": \"white\", \"lakecolor\": \"white\", \"landcolor\": \"#E5ECF6\", \"showlakes\": true, \"showland\": true, \"subunitcolor\": \"white\"}, \"hoverlabel\": {\"align\": \"left\"}, \"hovermode\": \"closest\", \"mapbox\": {\"style\": \"light\"}, \"paper_bgcolor\": \"white\", \"plot_bgcolor\": \"#E5ECF6\", \"polar\": {\"angularaxis\": {\"gridcolor\": \"white\", \"linecolor\": \"white\", \"ticks\": \"\"}, \"bgcolor\": \"#E5ECF6\", \"radialaxis\": {\"gridcolor\": \"white\", \"linecolor\": \"white\", \"ticks\": \"\"}}, \"scene\": {\"xaxis\": {\"backgroundcolor\": \"#E5ECF6\", \"gridcolor\": \"white\", \"gridwidth\": 2, \"linecolor\": \"white\", \"showbackground\": true, \"ticks\": \"\", \"zerolinecolor\": \"white\"}, \"yaxis\": {\"backgroundcolor\": \"#E5ECF6\", \"gridcolor\": \"white\", \"gridwidth\": 2, \"linecolor\": \"white\", \"showbackground\": true, \"ticks\": \"\", \"zerolinecolor\": \"white\"}, \"zaxis\": {\"backgroundcolor\": \"#E5ECF6\", \"gridcolor\": \"white\", \"gridwidth\": 2, \"linecolor\": \"white\", \"showbackground\": true, \"ticks\": \"\", \"zerolinecolor\": \"white\"}}, \"shapedefaults\": {\"line\": {\"color\": \"#2a3f5f\"}}, \"ternary\": {\"aaxis\": {\"gridcolor\": \"white\", \"linecolor\": \"white\", \"ticks\": \"\"}, \"baxis\": {\"gridcolor\": \"white\", \"linecolor\": \"white\", \"ticks\": \"\"}, \"bgcolor\": \"#E5ECF6\", \"caxis\": {\"gridcolor\": \"white\", \"linecolor\": \"white\", \"ticks\": \"\"}}, \"title\": {\"x\": 0.05}, \"xaxis\": {\"automargin\": true, \"gridcolor\": \"white\", \"linecolor\": \"white\", \"ticks\": \"\", \"title\": {\"standoff\": 15}, \"zerolinecolor\": \"white\", \"zerolinewidth\": 2}, \"yaxis\": {\"automargin\": true, \"gridcolor\": \"white\", \"linecolor\": \"white\", \"ticks\": \"\", \"title\": {\"standoff\": 15}, \"zerolinecolor\": \"white\", \"zerolinewidth\": 2}}}, \"title\": {\"font\": {\"color\": \"#4D5663\"}}, \"xaxis\": {\"gridcolor\": \"#E1E5ED\", \"showgrid\": true, \"tickfont\": {\"color\": \"#4D5663\"}, \"title\": {\"font\": {\"color\": \"#4D5663\"}, \"text\": \"\"}, \"zerolinecolor\": \"#E1E5ED\"}, \"yaxis\": {\"gridcolor\": \"#E1E5ED\", \"showgrid\": true, \"tickfont\": {\"color\": \"#4D5663\"}, \"title\": {\"font\": {\"color\": \"#4D5663\"}, \"text\": \"\"}, \"zerolinecolor\": \"#E1E5ED\"}},                        {\"showLink\": true, \"linkText\": \"Export to plot.ly\", \"plotlyServerURL\": \"https://plot.ly\", \"responsive\": true}                    ).then(function(){\n",
       "                            \n",
       "var gd = document.getElementById('7a7e0979-9fa9-4df9-ae9b-6cca9f5722c2');\n",
       "var x = new MutationObserver(function (mutations, observer) {{\n",
       "        var display = window.getComputedStyle(gd).display;\n",
       "        if (!display || display === 'none') {{\n",
       "            console.log([gd, 'removed!']);\n",
       "            Plotly.purge(gd);\n",
       "            observer.disconnect();\n",
       "        }}\n",
       "}});\n",
       "\n",
       "// Listen for the removal of the full notebook cells\n",
       "var notebookContainer = gd.closest('#notebook-container');\n",
       "if (notebookContainer) {{\n",
       "    x.observe(notebookContainer, {childList: true});\n",
       "}}\n",
       "\n",
       "// Listen for the clearing of the current output cell\n",
       "var outputEl = gd.closest('.output');\n",
       "if (outputEl) {{\n",
       "    x.observe(outputEl, {childList: true});\n",
       "}}\n",
       "\n",
       "                        })                };                });            </script>        </div>"
      ]
     },
     "metadata": {},
     "output_type": "display_data"
    }
   ],
   "source": [
    "df.xs(\"Insgesamt\", level=1).T.groupby(level=0).sum().T.iplot(kind=\"bar\")"
   ]
  },
  {
   "cell_type": "code",
   "execution_count": 9,
   "metadata": {},
   "outputs": [
    {
     "data": {
      "text/html": [
       "<div>\n",
       "<style scoped>\n",
       "    .dataframe tbody tr th:only-of-type {\n",
       "        vertical-align: middle;\n",
       "    }\n",
       "\n",
       "    .dataframe tbody tr th {\n",
       "        vertical-align: top;\n",
       "    }\n",
       "\n",
       "    .dataframe thead th {\n",
       "        text-align: right;\n",
       "    }\n",
       "</style>\n",
       "<table border=\"1\" class=\"dataframe\">\n",
       "  <thead>\n",
       "    <tr style=\"text-align: right;\">\n",
       "      <th></th>\n",
       "      <th></th>\n",
       "      <th>1980</th>\n",
       "      <th>1981</th>\n",
       "      <th>1982</th>\n",
       "      <th>1983</th>\n",
       "      <th>1984</th>\n",
       "      <th>1985</th>\n",
       "      <th>1986</th>\n",
       "      <th>1987</th>\n",
       "      <th>1988</th>\n",
       "      <th>1989</th>\n",
       "      <th>...</th>\n",
       "      <th>2010</th>\n",
       "      <th>2011</th>\n",
       "      <th>2012</th>\n",
       "      <th>2013</th>\n",
       "      <th>2014</th>\n",
       "      <th>2015</th>\n",
       "      <th>2016</th>\n",
       "      <th>2017</th>\n",
       "      <th>2018</th>\n",
       "      <th>2019</th>\n",
       "    </tr>\n",
       "  </thead>\n",
       "  <tbody>\n",
       "    <tr>\n",
       "      <th rowspan=\"5\" valign=\"top\">männlich</th>\n",
       "      <th>unter 1 Jahr</th>\n",
       "      <td>6205.0</td>\n",
       "      <td>5915.0</td>\n",
       "      <td>5484.0</td>\n",
       "      <td>4998.0</td>\n",
       "      <td>4529.0</td>\n",
       "      <td>4256.0</td>\n",
       "      <td>4273.0</td>\n",
       "      <td>4236.0</td>\n",
       "      <td>4038.0</td>\n",
       "      <td>3860.0</td>\n",
       "      <td>...</td>\n",
       "      <td>1294.0</td>\n",
       "      <td>1347.0</td>\n",
       "      <td>1207.0</td>\n",
       "      <td>1268.0</td>\n",
       "      <td>1266.0</td>\n",
       "      <td>1297.0</td>\n",
       "      <td>1494.0</td>\n",
       "      <td>1418.0</td>\n",
       "      <td>1399.0</td>\n",
       "      <td>1387.0</td>\n",
       "    </tr>\n",
       "    <tr>\n",
       "      <th>1 bis unter 15 Jahre</th>\n",
       "      <td>3076.0</td>\n",
       "      <td>2762.0</td>\n",
       "      <td>2648.0</td>\n",
       "      <td>2400.0</td>\n",
       "      <td>2110.0</td>\n",
       "      <td>2004.0</td>\n",
       "      <td>1979.0</td>\n",
       "      <td>1791.0</td>\n",
       "      <td>1884.0</td>\n",
       "      <td>1731.0</td>\n",
       "      <td>...</td>\n",
       "      <td>655.0</td>\n",
       "      <td>648.0</td>\n",
       "      <td>621.0</td>\n",
       "      <td>577.0</td>\n",
       "      <td>556.0</td>\n",
       "      <td>567.0</td>\n",
       "      <td>626.0</td>\n",
       "      <td>531.0</td>\n",
       "      <td>618.0</td>\n",
       "      <td>615.0</td>\n",
       "    </tr>\n",
       "    <tr>\n",
       "      <th>15 bis unter 20 Jahre</th>\n",
       "      <td>3965.0</td>\n",
       "      <td>3924.0</td>\n",
       "      <td>3747.0</td>\n",
       "      <td>3556.0</td>\n",
       "      <td>3038.0</td>\n",
       "      <td>2672.0</td>\n",
       "      <td>2488.0</td>\n",
       "      <td>2297.0</td>\n",
       "      <td>2015.0</td>\n",
       "      <td>1841.0</td>\n",
       "      <td>...</td>\n",
       "      <td>762.0</td>\n",
       "      <td>718.0</td>\n",
       "      <td>706.0</td>\n",
       "      <td>653.0</td>\n",
       "      <td>630.0</td>\n",
       "      <td>644.0</td>\n",
       "      <td>671.0</td>\n",
       "      <td>609.0</td>\n",
       "      <td>639.0</td>\n",
       "      <td>608.0</td>\n",
       "    </tr>\n",
       "    <tr>\n",
       "      <th>20 bis unter 25 Jahre</th>\n",
       "      <td>4521.0</td>\n",
       "      <td>4405.0</td>\n",
       "      <td>4417.0</td>\n",
       "      <td>4392.0</td>\n",
       "      <td>4105.0</td>\n",
       "      <td>3858.0</td>\n",
       "      <td>3759.0</td>\n",
       "      <td>3587.0</td>\n",
       "      <td>3604.0</td>\n",
       "      <td>3386.0</td>\n",
       "      <td>...</td>\n",
       "      <td>1308.0</td>\n",
       "      <td>1432.0</td>\n",
       "      <td>1236.0</td>\n",
       "      <td>1078.0</td>\n",
       "      <td>1086.0</td>\n",
       "      <td>1114.0</td>\n",
       "      <td>1081.0</td>\n",
       "      <td>1007.0</td>\n",
       "      <td>1054.0</td>\n",
       "      <td>990.0</td>\n",
       "    </tr>\n",
       "    <tr>\n",
       "      <th>25 bis unter 30 Jahre</th>\n",
       "      <td>3762.0</td>\n",
       "      <td>3776.0</td>\n",
       "      <td>3776.0</td>\n",
       "      <td>3708.0</td>\n",
       "      <td>3423.0</td>\n",
       "      <td>3400.0</td>\n",
       "      <td>3406.0</td>\n",
       "      <td>3480.0</td>\n",
       "      <td>3567.0</td>\n",
       "      <td>3641.0</td>\n",
       "      <td>...</td>\n",
       "      <td>1587.0</td>\n",
       "      <td>1425.0</td>\n",
       "      <td>1372.0</td>\n",
       "      <td>1362.0</td>\n",
       "      <td>1350.0</td>\n",
       "      <td>1463.0</td>\n",
       "      <td>1367.0</td>\n",
       "      <td>1278.0</td>\n",
       "      <td>1281.0</td>\n",
       "      <td>1227.0</td>\n",
       "    </tr>\n",
       "  </tbody>\n",
       "</table>\n",
       "<p>5 rows × 40 columns</p>\n",
       "</div>"
      ],
      "text/plain": [
       "                                  1980    1981    1982    1983    1984  \\\n",
       "männlich unter 1 Jahr           6205.0  5915.0  5484.0  4998.0  4529.0   \n",
       "         1 bis unter 15 Jahre   3076.0  2762.0  2648.0  2400.0  2110.0   \n",
       "         15 bis unter 20 Jahre  3965.0  3924.0  3747.0  3556.0  3038.0   \n",
       "         20 bis unter 25 Jahre  4521.0  4405.0  4417.0  4392.0  4105.0   \n",
       "         25 bis unter 30 Jahre  3762.0  3776.0  3776.0  3708.0  3423.0   \n",
       "\n",
       "                                  1985    1986    1987    1988    1989  \\\n",
       "männlich unter 1 Jahr           4256.0  4273.0  4236.0  4038.0  3860.0   \n",
       "         1 bis unter 15 Jahre   2004.0  1979.0  1791.0  1884.0  1731.0   \n",
       "         15 bis unter 20 Jahre  2672.0  2488.0  2297.0  2015.0  1841.0   \n",
       "         20 bis unter 25 Jahre  3858.0  3759.0  3587.0  3604.0  3386.0   \n",
       "         25 bis unter 30 Jahre  3400.0  3406.0  3480.0  3567.0  3641.0   \n",
       "\n",
       "                                 ...      2010    2011    2012    2013  \\\n",
       "männlich unter 1 Jahr            ...    1294.0  1347.0  1207.0  1268.0   \n",
       "         1 bis unter 15 Jahre    ...     655.0   648.0   621.0   577.0   \n",
       "         15 bis unter 20 Jahre   ...     762.0   718.0   706.0   653.0   \n",
       "         20 bis unter 25 Jahre   ...    1308.0  1432.0  1236.0  1078.0   \n",
       "         25 bis unter 30 Jahre   ...    1587.0  1425.0  1372.0  1362.0   \n",
       "\n",
       "                                  2014    2015    2016    2017    2018    2019  \n",
       "männlich unter 1 Jahr           1266.0  1297.0  1494.0  1418.0  1399.0  1387.0  \n",
       "         1 bis unter 15 Jahre    556.0   567.0   626.0   531.0   618.0   615.0  \n",
       "         15 bis unter 20 Jahre   630.0   644.0   671.0   609.0   639.0   608.0  \n",
       "         20 bis unter 25 Jahre  1086.0  1114.0  1081.0  1007.0  1054.0   990.0  \n",
       "         25 bis unter 30 Jahre  1350.0  1463.0  1367.0  1278.0  1281.0  1227.0  \n",
       "\n",
       "[5 rows x 40 columns]"
      ]
     },
     "execution_count": 9,
     "metadata": {},
     "output_type": "execute_result"
    }
   ],
   "source": [
    "df.xs(\"Insgesamt\", level=1).T.head()"
   ]
  },
  {
   "cell_type": "code",
   "execution_count": 10,
   "metadata": {},
   "outputs": [
    {
     "data": {
      "application/vnd.plotly.v1+json": {
       "config": {
        "linkText": "Export to plot.ly",
        "plotlyServerURL": "https://plot.ly",
        "showLink": true
       },
       "data": [
        {
         "marker": {
          "color": "rgba(255, 153, 51, 0.6)",
          "line": {
           "color": "rgba(255, 153, 51, 1.0)",
           "width": 1
          }
         },
         "name": "Akuter oder rezidivierender Myokardinfarkt",
         "orientation": "v",
         "text": "",
         "type": "bar",
         "x": [
          1980,
          1981,
          1982,
          1983,
          1984,
          1985,
          1986,
          1987,
          1988,
          1989,
          1990,
          1991,
          1992,
          1993,
          1994,
          1995,
          1996,
          1997,
          1998,
          1999,
          2000,
          2001,
          2002,
          2003,
          2004,
          2005,
          2006,
          2007,
          2008,
          2009,
          2010,
          2011,
          2012,
          2013,
          2014,
          2015,
          2016,
          2017,
          2018,
          2019
         ],
         "y": [
          92801,
          92860,
          91044,
          91124,
          89348,
          90427,
          88727,
          88251,
          85977,
          85474,
          85625,
          90326,
          88158,
          89088,
          86915,
          87739,
          85206,
          82893,
          81988,
          76961,
          73265,
          71025,
          69274,
          69362,
          67149,
          66179,
          64796,
          62067,
          60732,
          60153,
          59107,
          55286,
          55425,
          54538,
          50104,
          50948,
          48669,
          46966,
          46207,
          44282
         ]
        },
        {
         "marker": {
          "color": "rgba(55, 128, 191, 0.6)",
          "line": {
           "color": "rgba(55, 128, 191, 1.0)",
           "width": 1
          }
         },
         "name": "Akzid. Vergiftung: schädl. Substanzen (inkl. Exp.)",
         "orientation": "v",
         "text": "",
         "type": "bar",
         "x": [
          1980,
          1981,
          1982,
          1983,
          1984,
          1985,
          1986,
          1987,
          1988,
          1989,
          1990,
          1991,
          1992,
          1993,
          1994,
          1995,
          1996,
          1997,
          1998,
          1999,
          2000,
          2001,
          2002,
          2003,
          2004,
          2005,
          2006,
          2007,
          2008,
          2009,
          2010,
          2011,
          2012,
          2013,
          2014,
          2015,
          2016,
          2017,
          2018,
          2019
         ],
         "y": [
          1144,
          1168,
          1196,
          1030,
          1002,
          1109,
          943,
          945,
          883,
          798,
          864,
          597,
          564,
          412,
          280,
          238,
          259,
          280,
          269,
          225,
          590,
          1040,
          814,
          722,
          680,
          713,
          690,
          745,
          811,
          719,
          678,
          637,
          599,
          650,
          652,
          700,
          947,
          1096,
          1120,
          1208
         ]
        },
        {
         "marker": {
          "color": "rgba(50, 171, 96, 0.6)",
          "line": {
           "color": "rgba(50, 171, 96, 1.0)",
           "width": 1
          }
         },
         "name": "Alkoh.Leberkh.,Chron.Hepatitis,Leberfibr.u.-zirr.",
         "orientation": "v",
         "text": "",
         "type": "bar",
         "x": [
          1980,
          1981,
          1982,
          1983,
          1984,
          1985,
          1986,
          1987,
          1988,
          1989,
          1990,
          1991,
          1992,
          1993,
          1994,
          1995,
          1996,
          1997,
          1998,
          1999,
          2000,
          2001,
          2002,
          2003,
          2004,
          2005,
          2006,
          2007,
          2008,
          2009,
          2010,
          2011,
          2012,
          2013,
          2014,
          2015,
          2016,
          2017,
          2018,
          2019
         ],
         "y": [
          19112,
          19373,
          18160,
          18002,
          17029,
          17133,
          16383,
          16655,
          17129,
          17733,
          18113,
          19604,
          19447,
          19824,
          19864,
          19445,
          19202,
          18620,
          17500,
          17235,
          17347,
          17059,
          17311,
          17151,
          16121,
          15785,
          15261,
          14470,
          14548,
          14267,
          14316,
          14098,
          13901,
          14034,
          13527,
          13889,
          14483,
          14322,
          14170,
          14023
         ]
        },
        {
         "marker": {
          "color": "rgba(128, 0, 128, 0.6)",
          "line": {
           "color": "rgba(128, 0, 128, 1.0)",
           "width": 1
          }
         },
         "name": "Angeb. Fehlbildungen,Deformitäten,Chromosomenanom.",
         "orientation": "v",
         "text": "",
         "type": "bar",
         "x": [
          1980,
          1981,
          1982,
          1983,
          1984,
          1985,
          1986,
          1987,
          1988,
          1989,
          1990,
          1991,
          1992,
          1993,
          1994,
          1995,
          1996,
          1997,
          1998,
          1999,
          2000,
          2001,
          2002,
          2003,
          2004,
          2005,
          2006,
          2007,
          2008,
          2009,
          2010,
          2011,
          2012,
          2013,
          2014,
          2015,
          2016,
          2017,
          2018,
          2019
         ],
         "y": [
          3815,
          3698,
          3557,
          3387,
          3108,
          2985,
          2946,
          2916,
          2826,
          2729,
          2758,
          2551,
          2575,
          2475,
          2200,
          1990,
          2006,
          2060,
          1822,
          1610,
          1643,
          1612,
          1572,
          1621,
          1576,
          1528,
          1473,
          1451,
          1442,
          1563,
          1572,
          1619,
          1532,
          1706,
          1665,
          1816,
          2001,
          2070,
          2134,
          2084
         ]
        },
        {
         "marker": {
          "color": "rgba(219, 64, 82, 0.6)",
          "line": {
           "color": "rgba(219, 64, 82, 1.0)",
           "width": 1
          }
         },
         "name": "Angeborene Fehlbildungen des Kreislaufsystems",
         "orientation": "v",
         "text": "",
         "type": "bar",
         "x": [
          1980,
          1981,
          1982,
          1983,
          1984,
          1985,
          1986,
          1987,
          1988,
          1989,
          1990,
          1991,
          1992,
          1993,
          1994,
          1995,
          1996,
          1997,
          1998,
          1999,
          2000,
          2001,
          2002,
          2003,
          2004,
          2005,
          2006,
          2007,
          2008,
          2009,
          2010,
          2011,
          2012,
          2013,
          2014,
          2015,
          2016,
          2017,
          2018,
          2019
         ],
         "y": [
          1716,
          1647,
          1547,
          1434,
          1397,
          1327,
          1252,
          1274,
          1236,
          1205,
          1214,
          1151,
          1099,
          1057,
          925,
          790,
          781,
          850,
          726,
          633,
          673,
          616,
          625,
          620,
          542,
          506,
          489,
          448,
          441,
          475,
          458,
          483,
          423,
          491,
          421,
          456,
          568,
          610,
          606,
          601
         ]
        },
        {
         "marker": {
          "color": "rgba(0, 128, 128, 0.6)",
          "line": {
           "color": "rgba(0, 128, 128, 1.0)",
           "width": 1
          }
         },
         "name": "Angeborene Fehlbildungen des Nervensystems",
         "orientation": "v",
         "text": "",
         "type": "bar",
         "x": [
          1980,
          1981,
          1982,
          1983,
          1984,
          1985,
          1986,
          1987,
          1988,
          1989,
          1990,
          1991,
          1992,
          1993,
          1994,
          1995,
          1996,
          1997,
          1998,
          1999,
          2000,
          2001,
          2002,
          2003,
          2004,
          2005,
          2006,
          2007,
          2008,
          2009,
          2010,
          2011,
          2012,
          2013,
          2014,
          2015,
          2016,
          2017,
          2018,
          2019
         ],
         "y": [
          694,
          686,
          617,
          564,
          504,
          459,
          473,
          457,
          414,
          385,
          382,
          361,
          364,
          335,
          315,
          269,
          239,
          248,
          189,
          172,
          158,
          146,
          150,
          139,
          164,
          124,
          152,
          126,
          117,
          159,
          141,
          171,
          145,
          165,
          130,
          173,
          195,
          180,
          166,
          203
         ]
        },
        {
         "marker": {
          "color": "rgba(255, 255, 51, 0.6)",
          "line": {
           "color": "rgba(255, 255, 51, 1.0)",
           "width": 1
          }
         },
         "name": "Asthma",
         "orientation": "v",
         "text": "",
         "type": "bar",
         "x": [
          1980,
          1981,
          1982,
          1983,
          1984,
          1985,
          1986,
          1987,
          1988,
          1989,
          1990,
          1991,
          1992,
          1993,
          1994,
          1995,
          1996,
          1997,
          1998,
          1999,
          2000,
          2001,
          2002,
          2003,
          2004,
          2005,
          2006,
          2007,
          2008,
          2009,
          2010,
          2011,
          2012,
          2013,
          2014,
          2015,
          2016,
          2017,
          2018,
          2019
         ],
         "y": [
          6287,
          6329,
          6356,
          6215,
          6338,
          6687,
          6401,
          6321,
          5953,
          5989,
          6441,
          6218,
          6025,
          5969,
          5595,
          5546,
          5348,
          4683,
          4106,
          3831,
          3475,
          2886,
          2701,
          2422,
          2141,
          1971,
          1685,
          1563,
          1503,
          1415,
          1224,
          1175,
          1164,
          1150,
          1014,
          1053,
          967,
          971,
          1034,
          1077
         ]
        },
        {
         "marker": {
          "color": "rgba(128, 128, 0, 0.6)",
          "line": {
           "color": "rgba(128, 128, 0, 1.0)",
           "width": 1
          }
         },
         "name": "BN d. Larynx, d. Trachea, d. Bronchien u. d. Lunge",
         "orientation": "v",
         "text": "",
         "type": "bar",
         "x": [
          1980,
          1981,
          1982,
          1983,
          1984,
          1985,
          1986,
          1987,
          1988,
          1989,
          1990,
          1991,
          1992,
          1993,
          1994,
          1995,
          1996,
          1997,
          1998,
          1999,
          2000,
          2001,
          2002,
          2003,
          2004,
          2005,
          2006,
          2007,
          2008,
          2009,
          2010,
          2011,
          2012,
          2013,
          2014,
          2015,
          2016,
          2017,
          2018,
          2019
         ],
         "y": [
          32809,
          32875,
          32907,
          33715,
          33589,
          33967,
          33864,
          34503,
          35057,
          35540,
          35903,
          36761,
          36943,
          37815,
          37787,
          38935,
          38475,
          38908,
          39566,
          39177,
          40553,
          40053,
          40715,
          40865,
          41342,
          42217,
          42348,
          43005,
          43830,
          43638,
          44457,
          45489,
          45908,
          46332,
          46609,
          46755,
          47279,
          46456,
          46283,
          46311
         ]
        },
        {
         "marker": {
          "color": "rgba(251, 128, 114, 0.6)",
          "line": {
           "color": "rgba(251, 128, 114, 1.0)",
           "width": 1
          }
         },
         "name": "BN d. lymphat., blutbild. u. verwandten Gewebes",
         "orientation": "v",
         "text": "",
         "type": "bar",
         "x": [
          1980,
          1981,
          1982,
          1983,
          1984,
          1985,
          1986,
          1987,
          1988,
          1989,
          1990,
          1991,
          1992,
          1993,
          1994,
          1995,
          1996,
          1997,
          1998,
          1999,
          2000,
          2001,
          2002,
          2003,
          2004,
          2005,
          2006,
          2007,
          2008,
          2009,
          2010,
          2011,
          2012,
          2013,
          2014,
          2015,
          2016,
          2017,
          2018,
          2019
         ],
         "y": [
          10775,
          11090,
          11457,
          11360,
          11529,
          12340,
          12348,
          13355,
          14160,
          14000,
          14217,
          14500,
          14445,
          14851,
          14880,
          15168,
          15427,
          15499,
          16453,
          16681,
          16186,
          16051,
          16330,
          16291,
          16614,
          16669,
          16580,
          16554,
          17056,
          16860,
          17554,
          18177,
          18219,
          18831,
          18609,
          18926,
          19721,
          19537,
          19913,
          19717
         ]
        },
        {
         "marker": {
          "color": "rgba(128, 177, 211, 0.6)",
          "line": {
           "color": "rgba(128, 177, 211, 1.0)",
           "width": 1
          }
         },
         "name": "BN der Bronchien und der Lunge",
         "orientation": "v",
         "text": "",
         "type": "bar",
         "x": [
          1980,
          1981,
          1982,
          1983,
          1984,
          1985,
          1986,
          1987,
          1988,
          1989,
          1990,
          1991,
          1992,
          1993,
          1994,
          1995,
          1996,
          1997,
          1998,
          1999,
          2000,
          2001,
          2002,
          2003,
          2004,
          2005,
          2006,
          2007,
          2008,
          2009,
          2010,
          2011,
          2012,
          2013,
          2014,
          2015,
          2016,
          2017,
          2018,
          2019
         ],
         "y": [
          31273,
          31322,
          31324,
          31985,
          31927,
          32288,
          32140,
          32716,
          33254,
          33691,
          34009,
          34904,
          35136,
          36032,
          36042,
          37050,
          36687,
          37150,
          37934,
          37615,
          38955,
          38525,
          39105,
          39286,
          39798,
          40641,
          40744,
          41495,
          42319,
          42221,
          42972,
          43908,
          44433,
          44813,
          45049,
          45224,
          45776,
          45032,
          44853,
          44847
         ]
        },
        {
         "marker": {
          "color": "rgba(128, 177, 211, 0.6)",
          "line": {
           "color": "rgba(128, 177, 211, 0.8999999999999999)",
           "width": 1
          }
         },
         "name": "BN der Brustdrüse",
         "orientation": "v",
         "text": "",
         "type": "bar",
         "x": [
          1980,
          1981,
          1982,
          1983,
          1984,
          1985,
          1986,
          1987,
          1988,
          1989,
          1990,
          1991,
          1992,
          1993,
          1994,
          1995,
          1996,
          1997,
          1998,
          1999,
          2000,
          2001,
          2002,
          2003,
          2004,
          2005,
          2006,
          2007,
          2008,
          2009,
          2010,
          2011,
          2012,
          2013,
          2014,
          2015,
          2016,
          2017,
          2018,
          2019
         ],
         "y": [
          14917,
          15419,
          15528,
          15993,
          15879,
          16398,
          16968,
          17183,
          17393,
          17540,
          17679,
          18319,
          18469,
          18734,
          18498,
          18807,
          19019,
          18490,
          17903,
          17798,
          18035,
          17737,
          18010,
          17437,
          17768,
          17700,
          17553,
          17029,
          17345,
          17197,
          17573,
          17974,
          17898,
          18009,
          17804,
          18295,
          18736,
          18590,
          18786,
          18712
         ]
        },
        {
         "marker": {
          "color": "rgba(255, 153, 51, 0.6)",
          "line": {
           "color": "rgba(255, 153, 51, 0.8999999999999999)",
           "width": 1
          }
         },
         "name": "BN der Cervix uteri",
         "orientation": "v",
         "text": "",
         "type": "bar",
         "x": [
          1980,
          1981,
          1982,
          1983,
          1984,
          1985,
          1986,
          1987,
          1988,
          1989,
          1990,
          1991,
          1992,
          1993,
          1994,
          1995,
          1996,
          1997,
          1998,
          1999,
          2000,
          2001,
          2002,
          2003,
          2004,
          2005,
          2006,
          2007,
          2008,
          2009,
          2010,
          2011,
          2012,
          2013,
          2014,
          2015,
          2016,
          2017,
          2018,
          2019
         ],
         "y": [
          3318,
          3281,
          3010,
          3052,
          3077,
          3028,
          2845,
          2734,
          2644,
          2659,
          2589,
          2521,
          2529,
          2402,
          2378,
          2207,
          2154,
          2071,
          1960,
          2020,
          1882,
          1821,
          1763,
          1762,
          1660,
          1626,
          1492,
          1566,
          1596,
          1581,
          1524,
          1626,
          1617,
          1550,
          1506,
          1541,
          1562,
          1587,
          1612,
          1597
         ]
        },
        {
         "marker": {
          "color": "rgba(55, 128, 191, 0.6)",
          "line": {
           "color": "rgba(55, 128, 191, 0.8999999999999999)",
           "width": 1
          }
         },
         "name": "BN der Genital- und Harnorgane",
         "orientation": "v",
         "text": "",
         "type": "bar",
         "x": [
          1980,
          1981,
          1982,
          1983,
          1984,
          1985,
          1986,
          1987,
          1988,
          1989,
          1990,
          1991,
          1992,
          1993,
          1994,
          1995,
          1996,
          1997,
          1998,
          1999,
          2000,
          2001,
          2002,
          2003,
          2004,
          2005,
          2006,
          2007,
          2008,
          2009,
          2010,
          2011,
          2012,
          2013,
          2014,
          2015,
          2016,
          2017,
          2018,
          2019
         ],
         "y": [
          35374,
          36087,
          36075,
          36586,
          36597,
          36519,
          36354,
          36823,
          36948,
          36882,
          37003,
          38105,
          38578,
          38710,
          38290,
          37958,
          38176,
          37814,
          36196,
          35652,
          35676,
          35007,
          35005,
          35395,
          34579,
          34800,
          34782,
          35005,
          36143,
          36403,
          37348,
          39014,
          38577,
          39465,
          39438,
          40330,
          41304,
          40968,
          41657,
          41981
         ]
        },
        {
         "marker": {
          "color": "rgba(50, 171, 96, 0.6)",
          "line": {
           "color": "rgba(50, 171, 96, 0.8999999999999999)",
           "width": 1
          }
         },
         "name": "BN der Harnblase",
         "orientation": "v",
         "text": "",
         "type": "bar",
         "x": [
          1980,
          1981,
          1982,
          1983,
          1984,
          1985,
          1986,
          1987,
          1988,
          1989,
          1990,
          1991,
          1992,
          1993,
          1994,
          1995,
          1996,
          1997,
          1998,
          1999,
          2000,
          2001,
          2002,
          2003,
          2004,
          2005,
          2006,
          2007,
          2008,
          2009,
          2010,
          2011,
          2012,
          2013,
          2014,
          2015,
          2016,
          2017,
          2018,
          2019
         ],
         "y": [
          5817,
          5907,
          6141,
          6055,
          6158,
          6190,
          6152,
          6295,
          6137,
          6310,
          6293,
          6563,
          6708,
          6749,
          6502,
          6444,
          6490,
          6557,
          5789,
          5946,
          5977,
          5582,
          5451,
          5652,
          5552,
          5585,
          5442,
          5604,
          5532,
          5353,
          5516,
          5937,
          5617,
          5757,
          5692,
          5835,
          5946,
          5706,
          5702,
          5638
         ]
        },
        {
         "marker": {
          "color": "rgba(128, 0, 128, 0.6)",
          "line": {
           "color": "rgba(128, 0, 128, 0.8999999999999999)",
           "width": 1
          }
         },
         "name": "BN der Leber und der intrahepatischen Gallengänge",
         "orientation": "v",
         "text": "",
         "type": "bar",
         "x": [
          1980,
          1981,
          1982,
          1983,
          1984,
          1985,
          1986,
          1987,
          1988,
          1989,
          1990,
          1991,
          1992,
          1993,
          1994,
          1995,
          1996,
          1997,
          1998,
          1999,
          2000,
          2001,
          2002,
          2003,
          2004,
          2005,
          2006,
          2007,
          2008,
          2009,
          2010,
          2011,
          2012,
          2013,
          2014,
          2015,
          2016,
          2017,
          2018,
          2019
         ],
         "y": [
          3741,
          3643,
          3640,
          3731,
          3588,
          3645,
          3727,
          4031,
          4120,
          4178,
          4222,
          4498,
          4786,
          4775,
          4807,
          4895,
          4649,
          4829,
          5263,
          5363,
          5489,
          5446,
          5705,
          6016,
          6125,
          6142,
          6680,
          6827,
          7062,
          7231,
          7390,
          7562,
          7670,
          7467,
          7686,
          7842,
          8036,
          7910,
          7990,
          8168
         ]
        },
        {
         "marker": {
          "color": "rgba(219, 64, 82, 0.6)",
          "line": {
           "color": "rgba(219, 64, 82, 0.8999999999999999)",
           "width": 1
          }
         },
         "name": "BN der Leber, der Gallenwege und des Pankreas",
         "orientation": "v",
         "text": "",
         "type": "bar",
         "x": [
          1980,
          1981,
          1982,
          1983,
          1984,
          1985,
          1986,
          1987,
          1988,
          1989,
          1990,
          1991,
          1992,
          1993,
          1994,
          1995,
          1996,
          1997,
          1998,
          1999,
          2000,
          2001,
          2002,
          2003,
          2004,
          2005,
          2006,
          2007,
          2008,
          2009,
          2010,
          2011,
          2012,
          2013,
          2014,
          2015,
          2016,
          2017,
          2018,
          2019
         ],
         "y": [
          18500,
          18552,
          18678,
          19074,
          18982,
          19073,
          19149,
          19732,
          19987,
          19838,
          19620,
          20385,
          20845,
          20788,
          21102,
          20991,
          20547,
          21132,
          21503,
          22020,
          21850,
          22025,
          22745,
          22572,
          23108,
          23442,
          24158,
          24725,
          25142,
          25615,
          26153,
          27072,
          27327,
          27643,
          28044,
          28699,
          29763,
          29714,
          30045,
          31112
         ]
        },
        {
         "marker": {
          "color": "rgba(0, 128, 128, 0.6)",
          "line": {
           "color": "rgba(0, 128, 128, 0.8999999999999999)",
           "width": 1
          }
         },
         "name": "BN der Lippe, der Mundhöhle und des Pharynx",
         "orientation": "v",
         "text": "",
         "type": "bar",
         "x": [
          1980,
          1981,
          1982,
          1983,
          1984,
          1985,
          1986,
          1987,
          1988,
          1989,
          1990,
          1991,
          1992,
          1993,
          1994,
          1995,
          1996,
          1997,
          1998,
          1999,
          2000,
          2001,
          2002,
          2003,
          2004,
          2005,
          2006,
          2007,
          2008,
          2009,
          2010,
          2011,
          2012,
          2013,
          2014,
          2015,
          2016,
          2017,
          2018,
          2019
         ],
         "y": [
          2410,
          2578,
          2831,
          2982,
          3116,
          3330,
          3549,
          3642,
          3958,
          4099,
          4241,
          4493,
          4660,
          4749,
          4803,
          4684,
          4766,
          4778,
          4965,
          4941,
          4645,
          4853,
          4699,
          4786,
          4444,
          4819,
          4734,
          4777,
          4946,
          4982,
          5020,
          5386,
          5393,
          5473,
          5448,
          5464,
          5457,
          5365,
          5412,
          5367
         ]
        },
        {
         "marker": {
          "color": "rgba(255, 255, 51, 0.6)",
          "line": {
           "color": "rgba(255, 255, 51, 0.8999999999999999)",
           "width": 1
          }
         },
         "name": "BN der Niere, ausgenommen Nierenbecken",
         "orientation": "v",
         "text": "",
         "type": "bar",
         "x": [
          1980,
          1981,
          1982,
          1983,
          1984,
          1985,
          1986,
          1987,
          1988,
          1989,
          1990,
          1991,
          1992,
          1993,
          1994,
          1995,
          1996,
          1997,
          1998,
          1999,
          2000,
          2001,
          2002,
          2003,
          2004,
          2005,
          2006,
          2007,
          2008,
          2009,
          2010,
          2011,
          2012,
          2013,
          2014,
          2015,
          2016,
          2017,
          2018,
          2019
         ],
         "y": [
          4249,
          4408,
          4512,
          4586,
          4776,
          4662,
          4680,
          4905,
          4937,
          4833,
          4896,
          5218,
          5421,
          5544,
          5563,
          5469,
          5360,
          5286,
          5329,
          5235,
          5154,
          5200,
          5006,
          5141,
          5087,
          5136,
          4859,
          4919,
          5101,
          5103,
          5247,
          5327,
          5256,
          5458,
          5278,
          5412,
          5354,
          5140,
          5039,
          5150
         ]
        },
        {
         "marker": {
          "color": "rgba(128, 128, 0, 0.6)",
          "line": {
           "color": "rgba(128, 128, 0, 0.8999999999999999)",
           "width": 1
          }
         },
         "name": "BN der Prostata",
         "orientation": "v",
         "text": "",
         "type": "bar",
         "x": [
          1980,
          1981,
          1982,
          1983,
          1984,
          1985,
          1986,
          1987,
          1988,
          1989,
          1990,
          1991,
          1992,
          1993,
          1994,
          1995,
          1996,
          1997,
          1998,
          1999,
          2000,
          2001,
          2002,
          2003,
          2004,
          2005,
          2006,
          2007,
          2008,
          2009,
          2010,
          2011,
          2012,
          2013,
          2014,
          2015,
          2016,
          2017,
          2018,
          2019
         ],
         "y": [
          8818,
          9219,
          9168,
          9584,
          9423,
          9522,
          9664,
          9882,
          10343,
          10307,
          10496,
          10972,
          11275,
          11401,
          11719,
          11868,
          11916,
          11455,
          11417,
          11123,
          11107,
          11150,
          11422,
          11510,
          11135,
          11203,
          11577,
          11448,
          12134,
          12217,
          12676,
          13324,
          12957,
          13408,
          13704,
          13900,
          14417,
          14318,
          14963,
          15040
         ]
        },
        {
         "marker": {
          "color": "rgba(251, 128, 114, 0.6)",
          "line": {
           "color": "rgba(251, 128, 114, 0.8999999999999999)",
           "width": 1
          }
         },
         "name": "BN des Corpus uteri u. Uterus, Teil n.n. bezeichn.",
         "orientation": "v",
         "text": "",
         "type": "bar",
         "x": [
          1980,
          1981,
          1982,
          1983,
          1984,
          1985,
          1986,
          1987,
          1988,
          1989,
          1990,
          1991,
          1992,
          1993,
          1994,
          1995,
          1996,
          1997,
          1998,
          1999,
          2000,
          2001,
          2002,
          2003,
          2004,
          2005,
          2006,
          2007,
          2008,
          2009,
          2010,
          2011,
          2012,
          2013,
          2014,
          2015,
          2016,
          2017,
          2018,
          2019
         ],
         "y": [
          3709,
          3731,
          3561,
          3541,
          3518,
          3362,
          3387,
          3236,
          3329,
          3152,
          3136,
          3262,
          3307,
          3225,
          3036,
          2939,
          3109,
          3107,
          2885,
          2824,
          2720,
          2641,
          2678,
          2536,
          2553,
          2448,
          2395,
          2443,
          2420,
          2360,
          2433,
          2442,
          2515,
          2579,
          2472,
          2602,
          2600,
          2707,
          2631,
          2659
         ]
        },
        {
         "marker": {
          "color": "rgba(251, 128, 114, 0.6)",
          "line": {
           "color": "rgba(251, 128, 114, 0.7999999999999998)",
           "width": 1
          }
         },
         "name": "BN des Dickdarms",
         "orientation": "v",
         "text": "",
         "type": "bar",
         "x": [
          1980,
          1981,
          1982,
          1983,
          1984,
          1985,
          1986,
          1987,
          1988,
          1989,
          1990,
          1991,
          1992,
          1993,
          1994,
          1995,
          1996,
          1997,
          1998,
          1999,
          2000,
          2001,
          2002,
          2003,
          2004,
          2005,
          2006,
          2007,
          2008,
          2009,
          2010,
          2011,
          2012,
          2013,
          2014,
          2015,
          2016,
          2017,
          2018,
          2019
         ],
         "y": [
          17102,
          16973,
          17295,
          17971,
          18211,
          18850,
          18702,
          19361,
          19410,
          20108,
          19930,
          20480,
          21520,
          21248,
          21427,
          21232,
          21162,
          20786,
          20764,
          20598,
          20234,
          19950,
          20363,
          19925,
          19420,
          18970,
          18475,
          18072,
          17920,
          17501,
          17161,
          17293,
          17219,
          17108,
          16899,
          16672,
          16641,
          15715,
          15948,
          15830
         ]
        },
        {
         "marker": {
          "color": "rgba(128, 177, 211, 0.6)",
          "line": {
           "color": "rgba(128, 177, 211, 0.7999999999999998)",
           "width": 1
          }
         },
         "name": "BN des Magens",
         "orientation": "v",
         "text": "",
         "type": "bar",
         "x": [
          1980,
          1981,
          1982,
          1983,
          1984,
          1985,
          1986,
          1987,
          1988,
          1989,
          1990,
          1991,
          1992,
          1993,
          1994,
          1995,
          1996,
          1997,
          1998,
          1999,
          2000,
          2001,
          2002,
          2003,
          2004,
          2005,
          2006,
          2007,
          2008,
          2009,
          2010,
          2011,
          2012,
          2013,
          2014,
          2015,
          2016,
          2017,
          2018,
          2019
         ],
         "y": [
          22876,
          22211,
          21763,
          20931,
          19811,
          19401,
          18912,
          18433,
          18122,
          17428,
          17285,
          17240,
          16638,
          16242,
          15929,
          15389,
          15244,
          14217,
          13821,
          13145,
          13132,
          12451,
          12388,
          11844,
          11473,
          11300,
          10923,
          10487,
          10510,
          10244,
          10177,
          10090,
          9978,
          9622,
          9610,
          9258,
          9231,
          8966,
          8861,
          8527
         ]
        },
        {
         "marker": {
          "color": "rgba(255, 153, 51, 0.6)",
          "line": {
           "color": "rgba(255, 153, 51, 0.7999999999999998)",
           "width": 1
          }
         },
         "name": "BN des Ovars",
         "orientation": "v",
         "text": "",
         "type": "bar",
         "x": [
          1980,
          1981,
          1982,
          1983,
          1984,
          1985,
          1986,
          1987,
          1988,
          1989,
          1990,
          1991,
          1992,
          1993,
          1994,
          1995,
          1996,
          1997,
          1998,
          1999,
          2000,
          2001,
          2002,
          2003,
          2004,
          2005,
          2006,
          2007,
          2008,
          2009,
          2010,
          2011,
          2012,
          2013,
          2014,
          2015,
          2016,
          2017,
          2018,
          2019
         ],
         "y": [
          5580,
          5588,
          5803,
          5891,
          5929,
          5923,
          5936,
          6085,
          6177,
          5999,
          6018,
          6239,
          6135,
          6356,
          6186,
          6113,
          6132,
          6262,
          6027,
          5847,
          6006,
          5821,
          5910,
          5754,
          5479,
          5571,
          5636,
          5564,
          5529,
          5623,
          5599,
          5837,
          5646,
          5466,
          5354,
          5431,
          5486,
          5373,
          5326,
          5291
         ]
        },
        {
         "marker": {
          "color": "rgba(55, 128, 191, 0.6)",
          "line": {
           "color": "rgba(55, 128, 191, 0.7999999999999998)",
           "width": 1
          }
         },
         "name": "BN des Pankreas",
         "orientation": "v",
         "text": "",
         "type": "bar",
         "x": [
          1980,
          1981,
          1982,
          1983,
          1984,
          1985,
          1986,
          1987,
          1988,
          1989,
          1990,
          1991,
          1992,
          1993,
          1994,
          1995,
          1996,
          1997,
          1998,
          1999,
          2000,
          2001,
          2002,
          2003,
          2004,
          2005,
          2006,
          2007,
          2008,
          2009,
          2010,
          2011,
          2012,
          2013,
          2014,
          2015,
          2016,
          2017,
          2018,
          2019
         ],
         "y": [
          8436,
          8592,
          8891,
          8959,
          9062,
          9384,
          9512,
          9737,
          9878,
          9995,
          9981,
          10465,
          10829,
          10812,
          11027,
          11149,
          11075,
          11319,
          11634,
          12134,
          12116,
          12438,
          12819,
          12686,
          13008,
          13575,
          13942,
          14445,
          14835,
          15159,
          15488,
          15940,
          16120,
          16601,
          16615,
          17156,
          18052,
          18005,
          18332,
          19222
         ]
        },
        {
         "marker": {
          "color": "rgba(50, 171, 96, 0.6)",
          "line": {
           "color": "rgba(50, 171, 96, 0.7999999999999998)",
           "width": 1
          }
         },
         "name": "BN des Rektums, des Anus und am Rektosigmoid",
         "orientation": "v",
         "text": "",
         "type": "bar",
         "x": [
          1980,
          1981,
          1982,
          1983,
          1984,
          1985,
          1986,
          1987,
          1988,
          1989,
          1990,
          1991,
          1992,
          1993,
          1994,
          1995,
          1996,
          1997,
          1998,
          1999,
          2000,
          2001,
          2002,
          2003,
          2004,
          2005,
          2006,
          2007,
          2008,
          2009,
          2010,
          2011,
          2012,
          2013,
          2014,
          2015,
          2016,
          2017,
          2018,
          2019
         ],
         "y": [
          10584,
          10262,
          10057,
          10098,
          9740,
          9744,
          9563,
          9431,
          9476,
          9529,
          9252,
          9387,
          9421,
          9389,
          8899,
          9089,
          9298,
          8988,
          8930,
          8788,
          8753,
          8417,
          8505,
          8664,
          8362,
          8569,
          8325,
          7977,
          8239,
          8075,
          8275,
          8370,
          8217,
          8041,
          8092,
          8173,
          8122,
          7984,
          8257,
          8137
         ]
        },
        {
         "marker": {
          "color": "rgba(128, 0, 128, 0.6)",
          "line": {
           "color": "rgba(128, 0, 128, 0.7999999999999998)",
           "width": 1
          }
         },
         "name": "BN des Ösophagus",
         "orientation": "v",
         "text": "",
         "type": "bar",
         "x": [
          1980,
          1981,
          1982,
          1983,
          1984,
          1985,
          1986,
          1987,
          1988,
          1989,
          1990,
          1991,
          1992,
          1993,
          1994,
          1995,
          1996,
          1997,
          1998,
          1999,
          2000,
          2001,
          2002,
          2003,
          2004,
          2005,
          2006,
          2007,
          2008,
          2009,
          2010,
          2011,
          2012,
          2013,
          2014,
          2015,
          2016,
          2017,
          2018,
          2019
         ],
         "y": [
          2696,
          2695,
          2771,
          2901,
          2892,
          3051,
          3044,
          3138,
          3369,
          3554,
          3455,
          3690,
          3709,
          3905,
          3913,
          4073,
          4142,
          4159,
          3966,
          4139,
          4125,
          4296,
          4523,
          4484,
          4547,
          4790,
          4716,
          4845,
          4790,
          4937,
          4979,
          5138,
          5260,
          5436,
          5343,
          5507,
          5679,
          5499,
          5636,
          5842
         ]
        },
        {
         "marker": {
          "color": "rgba(219, 64, 82, 0.6)",
          "line": {
           "color": "rgba(219, 64, 82, 0.7999999999999998)",
           "width": 1
          }
         },
         "name": "Best.Zustände mit Ursprung in der Perinatalperiode",
         "orientation": "v",
         "text": "",
         "type": "bar",
         "x": [
          1980,
          1981,
          1982,
          1983,
          1984,
          1985,
          1986,
          1987,
          1988,
          1989,
          1990,
          1991,
          1992,
          1993,
          1994,
          1995,
          1996,
          1997,
          1998,
          1999,
          2000,
          2001,
          2002,
          2003,
          2004,
          2005,
          2006,
          2007,
          2008,
          2009,
          2010,
          2011,
          2012,
          2013,
          2014,
          2015,
          2016,
          2017,
          2018,
          2019
         ],
         "y": [
          5290,
          4832,
          4399,
          3970,
          3711,
          3338,
          3283,
          3273,
          2816,
          2797,
          2428,
          2064,
          1896,
          1712,
          1745,
          1736,
          1625,
          1625,
          1600,
          1625,
          1474,
          1484,
          1513,
          1424,
          1443,
          1341,
          1390,
          1464,
          1230,
          1175,
          1192,
          1244,
          1165,
          1117,
          1237,
          1320,
          1501,
          1483,
          1464,
          1472
         ]
        },
        {
         "marker": {
          "color": "rgba(0, 128, 128, 0.6)",
          "line": {
           "color": "rgba(0, 128, 128, 0.7999999999999998)",
           "width": 1
          }
         },
         "name": "Bestimmte infektiöse und parasitäre Krankheiten",
         "orientation": "v",
         "text": "",
         "type": "bar",
         "x": [
          1980,
          1981,
          1982,
          1983,
          1984,
          1985,
          1986,
          1987,
          1988,
          1989,
          1990,
          1991,
          1992,
          1993,
          1994,
          1995,
          1996,
          1997,
          1998,
          1999,
          2000,
          2001,
          2002,
          2003,
          2004,
          2005,
          2006,
          2007,
          2008,
          2009,
          2010,
          2011,
          2012,
          2013,
          2014,
          2015,
          2016,
          2017,
          2018,
          2019
         ],
         "y": [
          5763,
          5725,
          5734,
          5430,
          5266,
          5666,
          5841,
          5860,
          6055,
          6653,
          7314,
          7142,
          7254,
          7686,
          8122,
          8129,
          8218,
          7701,
          7801,
          9122,
          10129,
          10375,
          10466,
          10891,
          11062,
          12061,
          12354,
          13890,
          14637,
          15496,
          15396,
          16683,
          18353,
          18480,
          17987,
          19943,
          16999,
          17285,
          17797,
          16194
         ]
        },
        {
         "marker": {
          "color": "rgba(255, 255, 51, 0.6)",
          "line": {
           "color": "rgba(255, 255, 51, 0.7999999999999998)",
           "width": 1
          }
         },
         "name": "Bösartige Neubildungen (BN)",
         "orientation": "v",
         "text": "",
         "type": "bar",
         "x": [
          1980,
          1981,
          1982,
          1983,
          1984,
          1985,
          1986,
          1987,
          1988,
          1989,
          1990,
          1991,
          1992,
          1993,
          1994,
          1995,
          1996,
          1997,
          1998,
          1999,
          2000,
          2001,
          2002,
          2003,
          2004,
          2005,
          2006,
          2007,
          2008,
          2009,
          2010,
          2011,
          2012,
          2013,
          2014,
          2015,
          2016,
          2017,
          2018,
          2019
         ],
         "y": [
          192719,
          194110,
          195263,
          197030,
          194901,
          197722,
          197835,
          201327,
          204048,
          205194,
          205148,
          210537,
          212549,
          213748,
          212391,
          212913,
          212888,
          210090,
          212748,
          210837,
          210738,
          207619,
          210043,
          209255,
          209328,
          211396,
          211523,
          211765,
          216010,
          216128,
          218889,
          221591,
          221611,
          223842,
          223758,
          226337,
          230725,
          227595,
          230031,
          231318
         ]
        },
        {
         "marker": {
          "color": "rgba(128, 128, 0, 0.6)",
          "line": {
           "color": "rgba(128, 128, 0, 0.7999999999999998)",
           "width": 1
          }
         },
         "name": "Bösartiges Melanom der Haut",
         "orientation": "v",
         "text": "",
         "type": "bar",
         "x": [
          1980,
          1981,
          1982,
          1983,
          1984,
          1985,
          1986,
          1987,
          1988,
          1989,
          1990,
          1991,
          1992,
          1993,
          1994,
          1995,
          1996,
          1997,
          1998,
          1999,
          2000,
          2001,
          2002,
          2003,
          2004,
          2005,
          2006,
          2007,
          2008,
          2009,
          2010,
          2011,
          2012,
          2013,
          2014,
          2015,
          2016,
          2017,
          2018,
          2019
         ],
         "y": [
          1596,
          1669,
          1685,
          1645,
          1648,
          1683,
          1787,
          1833,
          1861,
          1933,
          1920,
          1922,
          1994,
          2153,
          2134,
          2029,
          1992,
          2081,
          2030,
          2021,
          2178,
          2217,
          2210,
          2295,
          2293,
          2327,
          2287,
          2467,
          2500,
          2657,
          2711,
          2921,
          2875,
          3042,
          3074,
          3054,
          2926,
          2835,
          2942,
          3021
         ]
        },
        {
         "marker": {
          "color": "rgba(128, 128, 0, 0.6)",
          "line": {
           "color": "rgba(128, 128, 0, 0.7)",
           "width": 1
          }
         },
         "name": "Chronische Krankheiten der unteren Atemwege",
         "orientation": "v",
         "text": "",
         "type": "bar",
         "x": [
          1980,
          1981,
          1982,
          1983,
          1984,
          1985,
          1986,
          1987,
          1988,
          1989,
          1990,
          1991,
          1992,
          1993,
          1994,
          1995,
          1996,
          1997,
          1998,
          1999,
          2000,
          2001,
          2002,
          2003,
          2004,
          2005,
          2006,
          2007,
          2008,
          2009,
          2010,
          2011,
          2012,
          2013,
          2014,
          2015,
          2016,
          2017,
          2018,
          2019
         ],
         "y": [
          31072,
          31356,
          30350,
          30260,
          29747,
          31402,
          30581,
          28520,
          27923,
          28330,
          29506,
          29708,
          28416,
          29808,
          28551,
          29935,
          29676,
          26756,
          26094,
          26082,
          25798,
          23793,
          25509,
          27241,
          24548,
          25743,
          24955,
          25792,
          25767,
          28670,
          28660,
          28935,
          29671,
          32099,
          29998,
          34410,
          32951,
          35513,
          36337,
          35094
         ]
        },
        {
         "marker": {
          "color": "rgba(251, 128, 114, 0.6)",
          "line": {
           "color": "rgba(251, 128, 114, 0.7)",
           "width": 1
          }
         },
         "name": "Chronische Polyarthritis und Arthrose",
         "orientation": "v",
         "text": "",
         "type": "bar",
         "x": [
          1980,
          1981,
          1982,
          1983,
          1984,
          1985,
          1986,
          1987,
          1988,
          1989,
          1990,
          1991,
          1992,
          1993,
          1994,
          1995,
          1996,
          1997,
          1998,
          1999,
          2000,
          2001,
          2002,
          2003,
          2004,
          2005,
          2006,
          2007,
          2008,
          2009,
          2010,
          2011,
          2012,
          2013,
          2014,
          2015,
          2016,
          2017,
          2018,
          2019
         ],
         "y": [
          1809,
          1639,
          1511,
          1559,
          1343,
          1439,
          1326,
          1376,
          1326,
          1408,
          1217,
          1113,
          1022,
          1023,
          1001,
          929,
          904,
          793,
          615,
          560,
          592,
          619,
          557,
          579,
          463,
          511,
          630,
          579,
          590,
          691,
          746,
          790,
          859,
          876,
          830,
          992,
          1029,
          1223,
          1340,
          1392
         ]
        },
        {
         "marker": {
          "color": "rgba(128, 177, 211, 0.6)",
          "line": {
           "color": "rgba(128, 177, 211, 0.7)",
           "width": 1
          }
         },
         "name": "Diabetes mellitus",
         "orientation": "v",
         "text": "",
         "type": "bar",
         "x": [
          1980,
          1981,
          1982,
          1983,
          1984,
          1985,
          1986,
          1987,
          1988,
          1989,
          1990,
          1991,
          1992,
          1993,
          1994,
          1995,
          1996,
          1997,
          1998,
          1999,
          2000,
          2001,
          2002,
          2003,
          2004,
          2005,
          2006,
          2007,
          2008,
          2009,
          2010,
          2011,
          2012,
          2013,
          2014,
          2015,
          2016,
          2017,
          2018,
          2019
         ],
         "y": [
          18895,
          18035,
          16482,
          16771,
          16575,
          16617,
          18190,
          17332,
          17173,
          18311,
          19434,
          19623,
          19522,
          23808,
          22459,
          23328,
          23940,
          22370,
          20663,
          20947,
          21180,
          21878,
          23607,
          23941,
          23653,
          24342,
          22308,
          21871,
          22330,
          22769,
          23131,
          23552,
          24055,
          24257,
          22643,
          24401,
          23059,
          24855,
          24856,
          23895
         ]
        },
        {
         "marker": {
          "color": "rgba(255, 153, 51, 0.6)",
          "line": {
           "color": "rgba(255, 153, 51, 0.7)",
           "width": 1
          }
         },
         "name": "Endokrine, Ernährungs- u. Stoffwechselkrankheiten",
         "orientation": "v",
         "text": "",
         "type": "bar",
         "x": [
          1980,
          1981,
          1982,
          1983,
          1984,
          1985,
          1986,
          1987,
          1988,
          1989,
          1990,
          1991,
          1992,
          1993,
          1994,
          1995,
          1996,
          1997,
          1998,
          1999,
          2000,
          2001,
          2002,
          2003,
          2004,
          2005,
          2006,
          2007,
          2008,
          2009,
          2010,
          2011,
          2012,
          2013,
          2014,
          2015,
          2016,
          2017,
          2018,
          2019
         ],
         "y": [
          21876,
          20932,
          19155,
          19250,
          19099,
          19229,
          20836,
          20050,
          19832,
          20825,
          21986,
          21953,
          21721,
          26471,
          25370,
          26251,
          26974,
          25304,
          23194,
          23332,
          23671,
          24363,
          26355,
          27191,
          27041,
          28271,
          26624,
          26377,
          27331,
          28137,
          29233,
          29822,
          30605,
          31197,
          29270,
          32474,
          31249,
          33908,
          34640,
          33626
         ]
        },
        {
         "marker": {
          "color": "rgba(55, 128, 191, 0.6)",
          "line": {
           "color": "rgba(55, 128, 191, 0.7)",
           "width": 1
          }
         },
         "name": "Ereignis, dessen nähere Umstände unbestimmt sind",
         "orientation": "v",
         "text": "",
         "type": "bar",
         "x": [
          1980,
          1981,
          1982,
          1983,
          1984,
          1985,
          1986,
          1987,
          1988,
          1989,
          1990,
          1991,
          1992,
          1993,
          1994,
          1995,
          1996,
          1997,
          1998,
          1999,
          2000,
          2001,
          2002,
          2003,
          2004,
          2005,
          2006,
          2007,
          2008,
          2009,
          2010,
          2011,
          2012,
          2013,
          2014,
          2015,
          2016,
          2017,
          2018,
          2019
         ],
         "y": [
          1928,
          1728,
          1965,
          1948,
          1862,
          1843,
          1800,
          1846,
          1784,
          1738,
          1890,
          2148,
          2147,
          2209,
          2106,
          1713,
          1837,
          1817,
          2501,
          2430,
          2453,
          2389,
          2628,
          2427,
          2511,
          2224,
          2392,
          2191,
          2454,
          2468,
          2468,
          1912,
          1723,
          1606,
          1278,
          1313,
          1413,
          1800,
          1890,
          2232
         ]
        },
        {
         "marker": {
          "color": "rgba(50, 171, 96, 0.6)",
          "line": {
           "color": "rgba(50, 171, 96, 0.7)",
           "width": 1
          }
         },
         "name": "Ertrinken und Untergehen",
         "orientation": "v",
         "text": "",
         "type": "bar",
         "x": [
          1980,
          1981,
          1982,
          1983,
          1984,
          1985,
          1986,
          1987,
          1988,
          1989,
          1990,
          1991,
          1992,
          1993,
          1994,
          1995,
          1996,
          1997,
          1998,
          1999,
          2000,
          2001,
          2002,
          2003,
          2004,
          2005,
          2006,
          2007,
          2008,
          2009,
          2010,
          2011,
          2012,
          2013,
          2014,
          2015,
          2016,
          2017,
          2018,
          2019
         ],
         "y": [
          1114,
          1099,
          1140,
          1106,
          877,
          814,
          915,
          787,
          865,
          753,
          765,
          773,
          758,
          655,
          775,
          680,
          509,
          602,
          477,
          597,
          507,
          455,
          469,
          514,
          401,
          400,
          418,
          351,
          392,
          389,
          393,
          370,
          417,
          465,
          389,
          444,
          447,
          382,
          444,
          399
         ]
        },
        {
         "marker": {
          "color": "rgba(128, 0, 128, 0.6)",
          "line": {
           "color": "rgba(128, 0, 128, 0.7)",
           "width": 1
          }
         },
         "name": "Exposition gegenüber Rauch, Feuer und Flammen",
         "orientation": "v",
         "text": "",
         "type": "bar",
         "x": [
          1980,
          1981,
          1982,
          1983,
          1984,
          1985,
          1986,
          1987,
          1988,
          1989,
          1990,
          1991,
          1992,
          1993,
          1994,
          1995,
          1996,
          1997,
          1998,
          1999,
          2000,
          2001,
          2002,
          2003,
          2004,
          2005,
          2006,
          2007,
          2008,
          2009,
          2010,
          2011,
          2012,
          2013,
          2014,
          2015,
          2016,
          2017,
          2018,
          2019
         ],
         "y": [
          766,
          797,
          748,
          676,
          681,
          729,
          659,
          731,
          595,
          716,
          787,
          834,
          730,
          701,
          596,
          614,
          714,
          585,
          522,
          506,
          475,
          478,
          550,
          475,
          446,
          484,
          406,
          346,
          398,
          433,
          373,
          376,
          384,
          415,
          347,
          343,
          325,
          335,
          306,
          343
         ]
        },
        {
         "marker": {
          "color": "rgba(219, 64, 82, 0.6)",
          "line": {
           "color": "rgba(219, 64, 82, 0.7)",
           "width": 1
          }
         },
         "name": "Grippe",
         "orientation": "v",
         "text": "",
         "type": "bar",
         "x": [
          1980,
          1981,
          1982,
          1983,
          1984,
          1985,
          1986,
          1987,
          1988,
          1989,
          1990,
          1991,
          1992,
          1993,
          1994,
          1995,
          1996,
          1997,
          1998,
          1999,
          2000,
          2001,
          2002,
          2003,
          2004,
          2005,
          2006,
          2007,
          2008,
          2009,
          2010,
          2011,
          2012,
          2013,
          2014,
          2015,
          2016,
          2017,
          2018,
          2019
         ],
         "y": [
          767,
          866,
          551,
          1206,
          516,
          881,
          1249,
          358,
          365,
          500,
          738,
          310,
          250,
          434,
          270,
          425,
          422,
          184,
          239,
          364,
          267,
          72,
          102,
          300,
          125,
          301,
          66,
          99,
          91,
          277,
          115,
          225,
          72,
          447,
          79,
          700,
          410,
          1176,
          3029,
          1659
         ]
        },
        {
         "marker": {
          "color": "rgba(0, 128, 128, 0.6)",
          "line": {
           "color": "rgba(0, 128, 128, 0.7)",
           "width": 1
          }
         },
         "name": "Gutartige Neubildungen",
         "orientation": "v",
         "text": "",
         "type": "bar",
         "x": [
          1980,
          1981,
          1982,
          1983,
          1984,
          1985,
          1986,
          1987,
          1988,
          1989,
          1990,
          1991,
          1992,
          1993,
          1994,
          1995,
          1996,
          1997,
          1998,
          1999,
          2000,
          2001,
          2002,
          2003,
          2004,
          2005,
          2006,
          2007,
          2008,
          2009,
          2010,
          2011,
          2012,
          2013,
          2014,
          2015,
          2016,
          2017,
          2018,
          2019
         ],
         "y": [
          854,
          867,
          822,
          814,
          859,
          822,
          756,
          747,
          724,
          715,
          689,
          556,
          375,
          424,
          441,
          377,
          360,
          323,
          388,
          297,
          403,
          416,
          390,
          418,
          397,
          389,
          428,
          413,
          467,
          479,
          471,
          582,
          636,
          601,
          630,
          662,
          755,
          768,
          765,
          829
         ]
        },
        {
         "marker": {
          "color": "rgba(255, 255, 51, 0.6)",
          "line": {
           "color": "rgba(255, 255, 51, 0.7)",
           "width": 1
          }
         },
         "name": "HIV-Krankheit",
         "orientation": "v",
         "text": "",
         "type": "bar",
         "x": [
          1980,
          1981,
          1982,
          1983,
          1984,
          1985,
          1986,
          1987,
          1988,
          1989,
          1990,
          1991,
          1992,
          1993,
          1994,
          1995,
          1996,
          1997,
          1998,
          1999,
          2000,
          2001,
          2002,
          2003,
          2004,
          2005,
          2006,
          2007,
          2008,
          2009,
          2010,
          2011,
          2012,
          2013,
          2014,
          2015,
          2016,
          2017,
          2018,
          2019
         ],
         "y": [
          0,
          0,
          0,
          0,
          0,
          0,
          0,
          0,
          0,
          946,
          1301,
          1597,
          1780,
          2030,
          2123,
          2045,
          1583,
          814,
          596,
          587,
          580,
          543,
          518,
          507,
          507,
          491,
          504,
          461,
          443,
          431,
          455,
          463,
          410,
          401,
          388,
          371,
          343,
          311,
          294,
          285
         ]
        },
        {
         "marker": {
          "color": "rgba(255, 255, 51, 0.6)",
          "line": {
           "color": "rgba(255, 255, 51, 0.5999999999999999)",
           "width": 1
          }
         },
         "name": "Hypertonie (Hochdruckkrankheit)",
         "orientation": "v",
         "text": "",
         "type": "bar",
         "x": [
          1980,
          1981,
          1982,
          1983,
          1984,
          1985,
          1986,
          1987,
          1988,
          1989,
          1990,
          1991,
          1992,
          1993,
          1994,
          1995,
          1996,
          1997,
          1998,
          1999,
          2000,
          2001,
          2002,
          2003,
          2004,
          2005,
          2006,
          2007,
          2008,
          2009,
          2010,
          2011,
          2012,
          2013,
          2014,
          2015,
          2016,
          2017,
          2018,
          2019
         ],
         "y": [
          32588,
          32279,
          30830,
          29151,
          27226,
          27584,
          26510,
          25894,
          24255,
          22932,
          20996,
          15247,
          14667,
          14124,
          13812,
          13538,
          14386,
          15067,
          15065,
          16753,
          18775,
          20805,
          23261,
          24912,
          25791,
          27533,
          28503,
          30287,
          31076,
          31118,
          32266,
          33575,
          35990,
          39645,
          37188,
          41772,
          40635,
          43578,
          44275,
          43277
         ]
        },
        {
         "marker": {
          "color": "rgba(128, 128, 0, 0.6)",
          "line": {
           "color": "rgba(128, 128, 0, 0.5999999999999999)",
           "width": 1
          }
         },
         "name": "Insgesamt",
         "orientation": "v",
         "text": "",
         "type": "bar",
         "x": [
          1980,
          1981,
          1982,
          1983,
          1984,
          1985,
          1986,
          1987,
          1988,
          1989,
          1990,
          1991,
          1992,
          1993,
          1994,
          1995,
          1996,
          1997,
          1998,
          1999,
          2000,
          2001,
          2002,
          2003,
          2004,
          2005,
          2006,
          2007,
          2008,
          2009,
          2010,
          2011,
          2012,
          2013,
          2014,
          2015,
          2016,
          2017,
          2018,
          2019
         ],
         "y": [
          952356,
          954373,
          943782,
          941028,
          917281,
          929639,
          925344,
          901267,
          900600,
          903412,
          921445,
          911245,
          885443,
          897270,
          884661,
          884588,
          882843,
          860389,
          852382,
          846330,
          838797,
          828541,
          841686,
          853946,
          818271,
          830227,
          821627,
          827155,
          844439,
          854544,
          858768,
          852328,
          869582,
          893825,
          868356,
          925200,
          910902,
          932263,
          954874,
          939520
         ]
        },
        {
         "marker": {
          "color": "rgba(251, 128, 114, 0.6)",
          "line": {
           "color": "rgba(251, 128, 114, 0.5999999999999999)",
           "width": 1
          }
         },
         "name": "Ischämische Herzkrankheiten",
         "orientation": "v",
         "text": "",
         "type": "bar",
         "x": [
          1980,
          1981,
          1982,
          1983,
          1984,
          1985,
          1986,
          1987,
          1988,
          1989,
          1990,
          1991,
          1992,
          1993,
          1994,
          1995,
          1996,
          1997,
          1998,
          1999,
          2000,
          2001,
          2002,
          2003,
          2004,
          2005,
          2006,
          2007,
          2008,
          2009,
          2010,
          2011,
          2012,
          2013,
          2014,
          2015,
          2016,
          2017,
          2018,
          2019
         ],
         "y": [
          160519,
          162906,
          162246,
          164935,
          166914,
          172511,
          167930,
          168732,
          169063,
          167453,
          172511,
          180918,
          179679,
          184487,
          180891,
          183736,
          181305,
          178650,
          178715,
          175081,
          167681,
          165069,
          164801,
          163445,
          152659,
          148641,
          144189,
          140388,
          134822,
          135413,
          133126,
          127101,
          128171,
          128808,
          121166,
          128230,
          122274,
          125614,
          123975,
          119082
         ]
        },
        {
         "marker": {
          "color": "rgba(128, 177, 211, 0.6)",
          "line": {
           "color": "rgba(128, 177, 211, 0.5999999999999999)",
           "width": 1
          }
         },
         "name": "Krankh. des Muskel-Skelett-Systems u. Bindegewebes",
         "orientation": "v",
         "text": "",
         "type": "bar",
         "x": [
          1980,
          1981,
          1982,
          1983,
          1984,
          1985,
          1986,
          1987,
          1988,
          1989,
          1990,
          1991,
          1992,
          1993,
          1994,
          1995,
          1996,
          1997,
          1998,
          1999,
          2000,
          2001,
          2002,
          2003,
          2004,
          2005,
          2006,
          2007,
          2008,
          2009,
          2010,
          2011,
          2012,
          2013,
          2014,
          2015,
          2016,
          2017,
          2018,
          2019
         ],
         "y": [
          3751,
          3563,
          3288,
          3332,
          2840,
          2811,
          2926,
          3353,
          3231,
          3358,
          3200,
          2921,
          2786,
          2637,
          2384,
          2260,
          2201,
          2073,
          1846,
          1800,
          1832,
          1908,
          1926,
          2021,
          1981,
          2024,
          2282,
          2189,
          2303,
          2662,
          2937,
          3056,
          3299,
          3524,
          3317,
          3771,
          4011,
          4812,
          5213,
          5367
         ]
        },
        {
         "marker": {
          "color": "rgba(255, 153, 51, 0.6)",
          "line": {
           "color": "rgba(255, 153, 51, 0.5999999999999999)",
           "width": 1
          }
         },
         "name": "Krankheiten d. Nervensystems u. d. Sinnesorgane",
         "orientation": "v",
         "text": "",
         "type": "bar",
         "x": [
          1980,
          1981,
          1982,
          1983,
          1984,
          1985,
          1986,
          1987,
          1988,
          1989,
          1990,
          1991,
          1992,
          1993,
          1994,
          1995,
          1996,
          1997,
          1998,
          1999,
          2000,
          2001,
          2002,
          2003,
          2004,
          2005,
          2006,
          2007,
          2008,
          2009,
          2010,
          2011,
          2012,
          2013,
          2014,
          2015,
          2016,
          2017,
          2018,
          2019
         ],
         "y": [
          9240,
          9699,
          9881,
          9679,
          9243,
          9736,
          9938,
          11221,
          11503,
          11856,
          12547,
          13084,
          13200,
          13618,
          13796,
          14675,
          15965,
          15691,
          15934,
          15736,
          16109,
          16647,
          17756,
          18470,
          17689,
          18565,
          19411,
          18283,
          19841,
          20835,
          21868,
          22731,
          24287,
          25792,
          25888,
          29141,
          29799,
          32393,
          34892,
          34225
         ]
        },
        {
         "marker": {
          "color": "rgba(55, 128, 191, 0.6)",
          "line": {
           "color": "rgba(55, 128, 191, 0.5999999999999999)",
           "width": 1
          }
         },
         "name": "Krankheiten der Arterien, Arteriolen und Kapillare",
         "orientation": "v",
         "text": "",
         "type": "bar",
         "x": [
          1980,
          1981,
          1982,
          1983,
          1984,
          1985,
          1986,
          1987,
          1988,
          1989,
          1990,
          1991,
          1992,
          1993,
          1994,
          1995,
          1996,
          1997,
          1998,
          1999,
          2000,
          2001,
          2002,
          2003,
          2004,
          2005,
          2006,
          2007,
          2008,
          2009,
          2010,
          2011,
          2012,
          2013,
          2014,
          2015,
          2016,
          2017,
          2018,
          2019
         ],
         "y": [
          66292,
          64551,
          64317,
          63542,
          61813,
          62633,
          63593,
          58753,
          55357,
          54120,
          47928,
          38531,
          32668,
          30283,
          28038,
          26761,
          26410,
          25191,
          25197,
          24856,
          23148,
          22676,
          22536,
          23316,
          22097,
          22177,
          20399,
          20576,
          20689,
          20117,
          19240,
          18862,
          18859,
          18504,
          17877,
          15232,
          14628,
          12740,
          12909,
          12105
         ]
        },
        {
         "marker": {
          "color": "rgba(50, 171, 96, 0.6)",
          "line": {
           "color": "rgba(50, 171, 96, 0.5999999999999999)",
           "width": 1
          }
         },
         "name": "Krankheiten der Haut und der Unterhaut",
         "orientation": "v",
         "text": "",
         "type": "bar",
         "x": [
          1980,
          1981,
          1982,
          1983,
          1984,
          1985,
          1986,
          1987,
          1988,
          1989,
          1990,
          1991,
          1992,
          1993,
          1994,
          1995,
          1996,
          1997,
          1998,
          1999,
          2000,
          2001,
          2002,
          2003,
          2004,
          2005,
          2006,
          2007,
          2008,
          2009,
          2010,
          2011,
          2012,
          2013,
          2014,
          2015,
          2016,
          2017,
          2018,
          2019
         ],
         "y": [
          789,
          813,
          862,
          866,
          952,
          943,
          992,
          931,
          1097,
          1002,
          1009,
          968,
          910,
          839,
          734,
          717,
          656,
          563,
          470,
          441,
          434,
          406,
          453,
          521,
          587,
          607,
          677,
          820,
          967,
          1030,
          1141,
          1161,
          1195,
          1374,
          1416,
          1442,
          1594,
          1565,
          1597,
          1719
         ]
        },
        {
         "marker": {
          "color": "rgba(128, 0, 128, 0.6)",
          "line": {
           "color": "rgba(128, 0, 128, 0.5999999999999999)",
           "width": 1
          }
         },
         "name": "Krankheiten der Leber",
         "orientation": "v",
         "text": "",
         "type": "bar",
         "x": [
          1980,
          1981,
          1982,
          1983,
          1984,
          1985,
          1986,
          1987,
          1988,
          1989,
          1990,
          1991,
          1992,
          1993,
          1994,
          1995,
          1996,
          1997,
          1998,
          1999,
          2000,
          2001,
          2002,
          2003,
          2004,
          2005,
          2006,
          2007,
          2008,
          2009,
          2010,
          2011,
          2012,
          2013,
          2014,
          2015,
          2016,
          2017,
          2018,
          2019
         ],
         "y": [
          20547,
          20677,
          19563,
          19287,
          18223,
          18318,
          17554,
          17803,
          18119,
          18638,
          19166,
          20578,
          20382,
          20776,
          20797,
          20349,
          20100,
          19567,
          18563,
          18295,
          18428,
          18140,
          18341,
          18115,
          17122,
          16806,
          16301,
          15482,
          15703,
          15443,
          15413,
          15174,
          14962,
          15255,
          14744,
          15190,
          15863,
          15872,
          15778,
          15570
         ]
        },
        {
         "marker": {
          "color": "rgba(219, 64, 82, 0.6)",
          "line": {
           "color": "rgba(219, 64, 82, 0.5999999999999999)",
           "width": 1
          }
         },
         "name": "Krankheiten der Niere",
         "orientation": "v",
         "text": "",
         "type": "bar",
         "x": [
          1980,
          1981,
          1982,
          1983,
          1984,
          1985,
          1986,
          1987,
          1988,
          1989,
          1990,
          1991,
          1992,
          1993,
          1994,
          1995,
          1996,
          1997,
          1998,
          1999,
          2000,
          2001,
          2002,
          2003,
          2004,
          2005,
          2006,
          2007,
          2008,
          2009,
          2010,
          2011,
          2012,
          2013,
          2014,
          2015,
          2016,
          2017,
          2018,
          2019
         ],
         "y": [
          11327,
          10948,
          10694,
          9847,
          9634,
          9815,
          9847,
          9155,
          9281,
          9334,
          9012,
          8152,
          7744,
          7830,
          8027,
          8214,
          7868,
          7274,
          8562,
          8546,
          8601,
          8908,
          9575,
          10011,
          10371,
          11120,
          11708,
          12982,
          14624,
          14795,
          15633,
          15697,
          16151,
          16749,
          16807,
          19048,
          18053,
          17616,
          18402,
          18279
         ]
        },
        {
         "marker": {
          "color": "rgba(0, 128, 128, 0.6)",
          "line": {
           "color": "rgba(0, 128, 128, 0.5999999999999999)",
           "width": 1
          }
         },
         "name": "Krankheiten des Atmungssystems",
         "orientation": "v",
         "text": "",
         "type": "bar",
         "x": [
          1980,
          1981,
          1982,
          1983,
          1984,
          1985,
          1986,
          1987,
          1988,
          1989,
          1990,
          1991,
          1992,
          1993,
          1994,
          1995,
          1996,
          1997,
          1998,
          1999,
          2000,
          2001,
          2002,
          2003,
          2004,
          2005,
          2006,
          2007,
          2008,
          2009,
          2010,
          2011,
          2012,
          2013,
          2014,
          2015,
          2016,
          2017,
          2018,
          2019
         ],
         "y": [
          55106,
          54554,
          56622,
          58630,
          56243,
          58520,
          60274,
          51394,
          50826,
          52564,
          57661,
          53792,
          50360,
          52934,
          52824,
          53898,
          53843,
          50434,
          49084,
          51505,
          51806,
          48535,
          53646,
          58014,
          52500,
          57742,
          54888,
          57956,
          59049,
          63304,
          60515,
          60019,
          60454,
          64918,
          58604,
          68300,
          64414,
          68408,
          71719,
          67021
         ]
        },
        {
         "marker": {
          "color": "rgba(0, 128, 128, 0.6)",
          "line": {
           "color": "rgba(0, 128, 128, 0.49999999999999983)",
           "width": 1
          }
         },
         "name": "Krankheiten des Blutes u. der blutbildenden Organe",
         "orientation": "v",
         "text": "",
         "type": "bar",
         "x": [
          1980,
          1981,
          1982,
          1983,
          1984,
          1985,
          1986,
          1987,
          1988,
          1989,
          1990,
          1991,
          1992,
          1993,
          1994,
          1995,
          1996,
          1997,
          1998,
          1999,
          2000,
          2001,
          2002,
          2003,
          2004,
          2005,
          2006,
          2007,
          2008,
          2009,
          2010,
          2011,
          2012,
          2013,
          2014,
          2015,
          2016,
          2017,
          2018,
          2019
         ],
         "y": [
          2250,
          2267,
          2322,
          2270,
          2223,
          2226,
          2143,
          2170,
          2171,
          2344,
          2401,
          2060,
          2082,
          1895,
          1755,
          1684,
          1742,
          1792,
          1605,
          1658,
          1815,
          1901,
          1872,
          2029,
          2054,
          2123,
          2044,
          2136,
          2454,
          2442,
          2588,
          2683,
          2685,
          2916,
          2931,
          3335,
          3218,
          3684,
          3781,
          3794
         ]
        },
        {
         "marker": {
          "color": "rgba(255, 255, 51, 0.6)",
          "line": {
           "color": "rgba(255, 255, 51, 0.49999999999999983)",
           "width": 1
          }
         },
         "name": "Krankheiten des Kreislaufsystems",
         "orientation": "v",
         "text": "",
         "type": "bar",
         "x": [
          1980,
          1981,
          1982,
          1983,
          1984,
          1985,
          1986,
          1987,
          1988,
          1989,
          1990,
          1991,
          1992,
          1993,
          1994,
          1995,
          1996,
          1997,
          1998,
          1999,
          2000,
          2001,
          2002,
          2003,
          2004,
          2005,
          2006,
          2007,
          2008,
          2009,
          2010,
          2011,
          2012,
          2013,
          2014,
          2015,
          2016,
          2017,
          2018,
          2019
         ],
         "y": [
          500481,
          505229,
          495328,
          492449,
          481761,
          491653,
          482853,
          467462,
          464492,
          460974,
          462992,
          455774,
          437240,
          440896,
          430542,
          429407,
          425884,
          415892,
          411404,
          406122,
          395043,
          391727,
          393778,
          396622,
          368472,
          367361,
          358953,
          358684,
          356729,
          356462,
          352689,
          342233,
          349217,
          354493,
          338056,
          356616,
          338687,
          344524,
          345274,
          331211
         ]
        },
        {
         "marker": {
          "color": "rgba(128, 128, 0, 0.6)",
          "line": {
           "color": "rgba(128, 128, 0, 0.49999999999999983)",
           "width": 1
          }
         },
         "name": "Krankheiten des Urogenitalsystems",
         "orientation": "v",
         "text": "",
         "type": "bar",
         "x": [
          1980,
          1981,
          1982,
          1983,
          1984,
          1985,
          1986,
          1987,
          1988,
          1989,
          1990,
          1991,
          1992,
          1993,
          1994,
          1995,
          1996,
          1997,
          1998,
          1999,
          2000,
          2001,
          2002,
          2003,
          2004,
          2005,
          2006,
          2007,
          2008,
          2009,
          2010,
          2011,
          2012,
          2013,
          2014,
          2015,
          2016,
          2017,
          2018,
          2019
         ],
         "y": [
          14793,
          14369,
          13895,
          12712,
          12163,
          12387,
          12158,
          11373,
          11368,
          11465,
          11073,
          10006,
          9483,
          9389,
          9710,
          9876,
          9539,
          9070,
          10735,
          10749,
          10719,
          11221,
          12260,
          13181,
          13246,
          14288,
          15087,
          16624,
          18537,
          18834,
          19768,
          19667,
          20536,
          21888,
          22247,
          24899,
          23802,
          23471,
          24719,
          24740
         ]
        },
        {
         "marker": {
          "color": "rgba(251, 128, 114, 0.6)",
          "line": {
           "color": "rgba(251, 128, 114, 0.49999999999999983)",
           "width": 1
          }
         },
         "name": "Krankheiten des Verdauungssystems",
         "orientation": "v",
         "text": "",
         "type": "bar",
         "x": [
          1980,
          1981,
          1982,
          1983,
          1984,
          1985,
          1986,
          1987,
          1988,
          1989,
          1990,
          1991,
          1992,
          1993,
          1994,
          1995,
          1996,
          1997,
          1998,
          1999,
          2000,
          2001,
          2002,
          2003,
          2004,
          2005,
          2006,
          2007,
          2008,
          2009,
          2010,
          2011,
          2012,
          2013,
          2014,
          2015,
          2016,
          2017,
          2018,
          2019
         ],
         "y": [
          47152,
          46962,
          45753,
          44639,
          42126,
          42066,
          41038,
          40417,
          41426,
          41447,
          41782,
          43044,
          41865,
          42280,
          42827,
          41821,
          41940,
          40814,
          40510,
          40154,
          40712,
          40918,
          41849,
          42263,
          42213,
          42787,
          42973,
          42163,
          43686,
          42288,
          42684,
          40507,
          40094,
          40112,
          38537,
          39844,
          40673,
          41038,
          41074,
          41421
         ]
        },
        {
         "marker": {
          "color": "rgba(128, 177, 211, 0.6)",
          "line": {
           "color": "rgba(128, 177, 211, 0.49999999999999983)",
           "width": 1
          }
         },
         "name": "Leukämie",
         "orientation": "v",
         "text": "",
         "type": "bar",
         "x": [
          1980,
          1981,
          1982,
          1983,
          1984,
          1985,
          1986,
          1987,
          1988,
          1989,
          1990,
          1991,
          1992,
          1993,
          1994,
          1995,
          1996,
          1997,
          1998,
          1999,
          2000,
          2001,
          2002,
          2003,
          2004,
          2005,
          2006,
          2007,
          2008,
          2009,
          2010,
          2011,
          2012,
          2013,
          2014,
          2015,
          2016,
          2017,
          2018,
          2019
         ],
         "y": [
          6027,
          6000,
          6315,
          6003,
          5979,
          6148,
          6137,
          6253,
          6417,
          6374,
          6463,
          6668,
          6608,
          6664,
          6675,
          6548,
          6610,
          6762,
          6980,
          7020,
          6849,
          6693,
          6877,
          6859,
          7065,
          7193,
          7107,
          6962,
          7308,
          7107,
          7246,
          7618,
          7600,
          7955,
          7743,
          7869,
          8252,
          8174,
          8270,
          8260
         ]
        },
        {
         "marker": {
          "color": "rgba(255, 153, 51, 0.6)",
          "line": {
           "color": "rgba(255, 153, 51, 0.49999999999999983)",
           "width": 1
          }
         },
         "name": "Melanom und sonstige bösartige Neubild. der Haut",
         "orientation": "v",
         "text": "",
         "type": "bar",
         "x": [
          1980,
          1981,
          1982,
          1983,
          1984,
          1985,
          1986,
          1987,
          1988,
          1989,
          1990,
          1991,
          1992,
          1993,
          1994,
          1995,
          1996,
          1997,
          1998,
          1999,
          2000,
          2001,
          2002,
          2003,
          2004,
          2005,
          2006,
          2007,
          2008,
          2009,
          2010,
          2011,
          2012,
          2013,
          2014,
          2015,
          2016,
          2017,
          2018,
          2019
         ],
         "y": [
          2051,
          2132,
          2199,
          2099,
          2129,
          2201,
          2249,
          2330,
          2342,
          2425,
          2356,
          2436,
          2504,
          2653,
          2587,
          2485,
          2427,
          2469,
          2425,
          2391,
          2606,
          2647,
          2677,
          2800,
          2797,
          2880,
          2880,
          2974,
          3068,
          3247,
          3332,
          3598,
          3563,
          3791,
          3860,
          3868,
          3824,
          3764,
          3908,
          4097
         ]
        },
        {
         "marker": {
          "color": "rgba(55, 128, 191, 0.6)",
          "line": {
           "color": "rgba(55, 128, 191, 0.49999999999999983)",
           "width": 1
          }
         },
         "name": "Meningitis",
         "orientation": "v",
         "text": "",
         "type": "bar",
         "x": [
          1980,
          1981,
          1982,
          1983,
          1984,
          1985,
          1986,
          1987,
          1988,
          1989,
          1990,
          1991,
          1992,
          1993,
          1994,
          1995,
          1996,
          1997,
          1998,
          1999,
          2000,
          2001,
          2002,
          2003,
          2004,
          2005,
          2006,
          2007,
          2008,
          2009,
          2010,
          2011,
          2012,
          2013,
          2014,
          2015,
          2016,
          2017,
          2018,
          2019
         ],
         "y": [
          502,
          473,
          481,
          437,
          417,
          408,
          341,
          340,
          320,
          369,
          343,
          355,
          301,
          298,
          266,
          265,
          303,
          281,
          208,
          171,
          226,
          184,
          186,
          205,
          179,
          202,
          178,
          187,
          171,
          169,
          142,
          166,
          144,
          140,
          124,
          132,
          137,
          126,
          140,
          126
         ]
        },
        {
         "marker": {
          "color": "rgba(50, 171, 96, 0.6)",
          "line": {
           "color": "rgba(50, 171, 96, 0.49999999999999983)",
           "width": 1
          }
         },
         "name": "Meningokokkeninfektion",
         "orientation": "v",
         "text": "",
         "type": "bar",
         "x": [
          1980,
          1981,
          1982,
          1983,
          1984,
          1985,
          1986,
          1987,
          1988,
          1989,
          1990,
          1991,
          1992,
          1993,
          1994,
          1995,
          1996,
          1997,
          1998,
          1999,
          2000,
          2001,
          2002,
          2003,
          2004,
          2005,
          2006,
          2007,
          2008,
          2009,
          2010,
          2011,
          2012,
          2013,
          2014,
          2015,
          2016,
          2017,
          2018,
          2019
         ],
         "y": [
          119,
          143,
          151,
          125,
          115,
          134,
          136,
          115,
          111,
          98,
          89,
          100,
          76,
          82,
          81,
          63,
          76,
          74,
          68,
          80,
          65,
          69,
          78,
          69,
          63,
          54,
          56,
          51,
          46,
          33,
          43,
          25,
          30,
          33,
          30,
          32,
          23,
          27,
          29,
          20
         ]
        },
        {
         "marker": {
          "color": "rgba(128, 0, 128, 0.6)",
          "line": {
           "color": "rgba(128, 0, 128, 0.49999999999999983)",
           "width": 1
          }
         },
         "name": "Neubildungen",
         "orientation": "v",
         "text": "",
         "type": "bar",
         "x": [
          1980,
          1981,
          1982,
          1983,
          1984,
          1985,
          1986,
          1987,
          1988,
          1989,
          1990,
          1991,
          1992,
          1993,
          1994,
          1995,
          1996,
          1997,
          1998,
          1999,
          2000,
          2001,
          2002,
          2003,
          2004,
          2005,
          2006,
          2007,
          2008,
          2009,
          2010,
          2011,
          2012,
          2013,
          2014,
          2015,
          2016,
          2017,
          2018,
          2019
         ],
         "y": [
          201084,
          202255,
          203004,
          204732,
          202840,
          204764,
          204288,
          207093,
          209892,
          210809,
          210712,
          215978,
          217607,
          219764,
          218412,
          218597,
          219064,
          215765,
          218445,
          216264,
          216419,
          213058,
          215441,
          214788,
          214863,
          216928,
          217095,
          217289,
          221920,
          222153,
          225141,
          228220,
          228289,
          230840,
          230771,
          233752,
          238396,
          235686,
          238345,
          239591
         ]
        },
        {
         "marker": {
          "color": "rgba(219, 64, 82, 0.6)",
          "line": {
           "color": "rgba(219, 64, 82, 0.49999999999999983)",
           "width": 1
          }
         },
         "name": "Plötzlicher Kindstod",
         "orientation": "v",
         "text": "",
         "type": "bar",
         "x": [
          1980,
          1981,
          1982,
          1983,
          1984,
          1985,
          1986,
          1987,
          1988,
          1989,
          1990,
          1991,
          1992,
          1993,
          1994,
          1995,
          1996,
          1997,
          1998,
          1999,
          2000,
          2001,
          2002,
          2003,
          2004,
          2005,
          2006,
          2007,
          2008,
          2009,
          2010,
          2011,
          2012,
          2013,
          2014,
          2015,
          2016,
          2017,
          2018,
          2019
         ],
         "y": [
          662,
          774,
          810,
          751,
          807,
          929,
          1021,
          1054,
          1094,
          1140,
          1283,
          1285,
          924,
          870,
          747,
          751,
          692,
          671,
          602,
          507,
          482,
          429,
          367,
          372,
          323,
          298,
          259,
          228,
          220,
          198,
          164,
          147,
          131,
          152,
          119,
          127,
          137,
          130,
          119,
          107
         ]
        },
        {
         "marker": {
          "color": "rgba(219, 64, 82, 0.6)",
          "line": {
           "color": "rgba(219, 64, 82, 0.39999999999999974)",
           "width": 1
          }
         },
         "name": "Pneumonie",
         "orientation": "v",
         "text": "",
         "type": "bar",
         "x": [
          1980,
          1981,
          1982,
          1983,
          1984,
          1985,
          1986,
          1987,
          1988,
          1989,
          1990,
          1991,
          1992,
          1993,
          1994,
          1995,
          1996,
          1997,
          1998,
          1999,
          2000,
          2001,
          2002,
          2003,
          2004,
          2005,
          2006,
          2007,
          2008,
          2009,
          2010,
          2011,
          2012,
          2013,
          2014,
          2015,
          2016,
          2017,
          2018,
          2019
         ],
         "y": [
          17313,
          16618,
          19840,
          21384,
          20341,
          20213,
          21793,
          16484,
          16344,
          17479,
          20274,
          17310,
          16352,
          16840,
          18277,
          17613,
          17381,
          17328,
          17262,
          18603,
          18490,
          17540,
          19203,
          21522,
          18969,
          21699,
          20368,
          21784,
          21839,
          22231,
          19727,
          19337,
          18817,
          19918,
          16711,
          20174,
          18705,
          19578,
          20227,
          18514
         ]
        },
        {
         "marker": {
          "color": "rgba(0, 128, 128, 0.6)",
          "line": {
           "color": "rgba(0, 128, 128, 0.39999999999999974)",
           "width": 1
          }
         },
         "name": "Psych. u. Verhaltensstörungen d.a.psychotr. Subst.",
         "orientation": "v",
         "text": "",
         "type": "bar",
         "x": [
          1980,
          1981,
          1982,
          1983,
          1984,
          1985,
          1986,
          1987,
          1988,
          1989,
          1990,
          1991,
          1992,
          1993,
          1994,
          1995,
          1996,
          1997,
          1998,
          1999,
          2000,
          2001,
          2002,
          2003,
          2004,
          2005,
          2006,
          2007,
          2008,
          2009,
          2010,
          2011,
          2012,
          2013,
          2014,
          2015,
          2016,
          2017,
          2018,
          2019
         ],
         "y": [
          522,
          459,
          472,
          541,
          484,
          460,
          492,
          519,
          729,
          897,
          1243,
          1682,
          1745,
          1568,
          1530,
          1542,
          1579,
          1396,
          1087,
          1120,
          1104,
          744,
          663,
          702,
          632,
          755,
          679,
          716,
          865,
          827,
          774,
          721,
          784,
          791,
          819,
          889,
          848,
          671,
          724,
          662
         ]
        },
        {
         "marker": {
          "color": "rgba(255, 255, 51, 0.6)",
          "line": {
           "color": "rgba(255, 255, 51, 0.39999999999999974)",
           "width": 1
          }
         },
         "name": "Psychische und Verhaltensstörungen",
         "orientation": "v",
         "text": "",
         "type": "bar",
         "x": [
          1980,
          1981,
          1982,
          1983,
          1984,
          1985,
          1986,
          1987,
          1988,
          1989,
          1990,
          1991,
          1992,
          1993,
          1994,
          1995,
          1996,
          1997,
          1998,
          1999,
          2000,
          2001,
          2002,
          2003,
          2004,
          2005,
          2006,
          2007,
          2008,
          2009,
          2010,
          2011,
          2012,
          2013,
          2014,
          2015,
          2016,
          2017,
          2018,
          2019
         ],
         "y": [
          6484,
          5974,
          5929,
          6079,
          6102,
          6192,
          7201,
          7705,
          8618,
          9355,
          9941,
          10318,
          10839,
          10887,
          11381,
          11383,
          11765,
          11898,
          9720,
          9533,
          8636,
          7826,
          7922,
          8535,
          9516,
          11356,
          14145,
          15460,
          18850,
          22592,
          25079,
          27113,
          30890,
          36117,
          35935,
          44590,
          46258,
          52637,
          58053,
          57839
         ]
        },
        {
         "marker": {
          "color": "rgba(128, 128, 0, 0.6)",
          "line": {
           "color": "rgba(128, 128, 0, 0.39999999999999974)",
           "width": 1
          }
         },
         "name": "Psychische und Verhaltensstörungen durch Alkohol",
         "orientation": "v",
         "text": "",
         "type": "bar",
         "x": [
          1980,
          1981,
          1982,
          1983,
          1984,
          1985,
          1986,
          1987,
          1988,
          1989,
          1990,
          1991,
          1992,
          1993,
          1994,
          1995,
          1996,
          1997,
          1998,
          1999,
          2000,
          2001,
          2002,
          2003,
          2004,
          2005,
          2006,
          2007,
          2008,
          2009,
          2010,
          2011,
          2012,
          2013,
          2014,
          2015,
          2016,
          2017,
          2018,
          2019
         ],
         "y": [
          3740,
          3495,
          3297,
          3287,
          3399,
          3436,
          3847,
          3982,
          4425,
          4752,
          4987,
          5383,
          5407,
          5637,
          5979,
          5792,
          5794,
          5883,
          5765,
          5608,
          4990,
          4633,
          4778,
          4932,
          4746,
          4933,
          4603,
          4702,
          4760,
          4711,
          4913,
          4927,
          4991,
          5473,
          5114,
          5490,
          5452,
          5112,
          5103,
          4806
         ]
        },
        {
         "marker": {
          "color": "rgba(251, 128, 114, 0.6)",
          "line": {
           "color": "rgba(251, 128, 114, 0.39999999999999974)",
           "width": 1
          }
         },
         "name": "Schlaganfall, nicht als Blutung oder Infarkt bez.",
         "orientation": "v",
         "text": "",
         "type": "bar",
         "x": [
          1980,
          1981,
          1982,
          1983,
          1984,
          1985,
          1986,
          1987,
          1988,
          1989,
          1990,
          1991,
          1992,
          1993,
          1994,
          1995,
          1996,
          1997,
          1998,
          1999,
          2000,
          2001,
          2002,
          2003,
          2004,
          2005,
          2006,
          2007,
          2008,
          2009,
          2010,
          2011,
          2012,
          2013,
          2014,
          2015,
          2016,
          2017,
          2018,
          2019
         ],
         "y": [
          67783,
          69230,
          66445,
          66201,
          64061,
          64261,
          62946,
          60222,
          59332,
          59354,
          61571,
          65525,
          63432,
          63013,
          61881,
          60218,
          58126,
          54575,
          51684,
          47110,
          43035,
          40671,
          39433,
          37579,
          32241,
          30092,
          28566,
          26911,
          26503,
          25425,
          23675,
          21594,
          20387,
          18883,
          16753,
          15770,
          14264,
          12587,
          12024,
          10702
         ]
        },
        {
         "marker": {
          "color": "rgba(128, 177, 211, 0.6)",
          "line": {
           "color": "rgba(128, 177, 211, 0.39999999999999974)",
           "width": 1
          }
         },
         "name": "Schwangerschaft, Geburt und Wochenbett",
         "orientation": "v",
         "text": "",
         "type": "bar",
         "x": [
          1980,
          1981,
          1982,
          1983,
          1984,
          1985,
          1986,
          1987,
          1988,
          1989,
          1990,
          1991,
          1992,
          1993,
          1994,
          1995,
          1996,
          1997,
          1998,
          1999,
          2000,
          2001,
          2002,
          2003,
          2004,
          2005,
          2006,
          2007,
          2008,
          2009,
          2010,
          2011,
          2012,
          2013,
          2014,
          2015,
          2016,
          2017,
          2018,
          2019
         ],
         "y": [
          171,
          160,
          139,
          110,
          104,
          100,
          79,
          84,
          92,
          59,
          82,
          72,
          54,
          44,
          40,
          41,
          51,
          49,
          44,
          37,
          43,
          27,
          21,
          30,
          37,
          28,
          41,
          28,
          36,
          35,
          37,
          32,
          31,
          29,
          29,
          24,
          23,
          22,
          25,
          25
         ]
        },
        {
         "marker": {
          "color": "rgba(255, 153, 51, 0.6)",
          "line": {
           "color": "rgba(255, 153, 51, 0.39999999999999974)",
           "width": 1
          }
         },
         "name": "Sonst. ungenau bezeichnete u. unbek. Todesursachen",
         "orientation": "v",
         "text": "",
         "type": "bar",
         "x": [
          1980,
          1981,
          1982,
          1983,
          1984,
          1985,
          1986,
          1987,
          1988,
          1989,
          1990,
          1991,
          1992,
          1993,
          1994,
          1995,
          1996,
          1997,
          1998,
          1999,
          2000,
          2001,
          2002,
          2003,
          2004,
          2005,
          2006,
          2007,
          2008,
          2009,
          2010,
          2011,
          2012,
          2013,
          2014,
          2015,
          2016,
          2017,
          2018,
          2019
         ],
         "y": [
          9616,
          9604,
          10267,
          9561,
          9276,
          9261,
          11650,
          11252,
          10398,
          11622,
          17943,
          14444,
          13381,
          13708,
          13571,
          14121,
          14425,
          14107,
          14312,
          14145,
          16420,
          15882,
          14430,
          15155,
          14316,
          13860,
          13981,
          15195,
          16528,
          17101,
          17716,
          17663,
          18640,
          19561,
          20820,
          22285,
          25228,
          25168,
          27988,
          33068
         ]
        },
        {
         "marker": {
          "color": "rgba(55, 128, 191, 0.6)",
          "line": {
           "color": "rgba(55, 128, 191, 0.39999999999999974)",
           "width": 1
          }
         },
         "name": "Sonstige Formen der Herzkrankheit",
         "orientation": "v",
         "text": "",
         "type": "bar",
         "x": [
          1980,
          1981,
          1982,
          1983,
          1984,
          1985,
          1986,
          1987,
          1988,
          1989,
          1990,
          1991,
          1992,
          1993,
          1994,
          1995,
          1996,
          1997,
          1998,
          1999,
          2000,
          2001,
          2002,
          2003,
          2004,
          2005,
          2006,
          2007,
          2008,
          2009,
          2010,
          2011,
          2012,
          2013,
          2014,
          2015,
          2016,
          2017,
          2018,
          2019
         ],
         "y": [
          98102,
          100812,
          98002,
          96514,
          92285,
          93612,
          92435,
          86745,
          88877,
          90647,
          94465,
          88726,
          83362,
          84966,
          82046,
          82405,
          82887,
          81824,
          80251,
          81564,
          82995,
          82665,
          84494,
          87642,
          76839,
          78107,
          77089,
          81344,
          81938,
          81975,
          81052,
          78225,
          81055,
          81611,
          79707,
          86072,
          77232,
          78558,
          78966,
          73605
         ]
        },
        {
         "marker": {
          "color": "rgba(50, 171, 96, 0.6)",
          "line": {
           "color": "rgba(50, 171, 96, 0.39999999999999974)",
           "width": 1
          }
         },
         "name": "Sonstige Krankheiten des Endokards",
         "orientation": "v",
         "text": "",
         "type": "bar",
         "x": [
          1980,
          1981,
          1982,
          1983,
          1984,
          1985,
          1986,
          1987,
          1988,
          1989,
          1990,
          1991,
          1992,
          1993,
          1994,
          1995,
          1996,
          1997,
          1998,
          1999,
          2000,
          2001,
          2002,
          2003,
          2004,
          2005,
          2006,
          2007,
          2008,
          2009,
          2010,
          2011,
          2012,
          2013,
          2014,
          2015,
          2016,
          2017,
          2018,
          2019
         ],
         "y": [
          3363,
          3518,
          3613,
          3638,
          3536,
          3546,
          3286,
          3235,
          3485,
          3726,
          3775,
          4096,
          4293,
          4841,
          5131,
          5456,
          5332,
          5254,
          5782,
          5880,
          5831,
          6154,
          6324,
          6866,
          7559,
          8395,
          8882,
          9137,
          9892,
          10301,
          10937,
          11580,
          12076,
          13011,
          12965,
          13579,
          13556,
          13906,
          14912,
          15156
         ]
        },
        {
         "marker": {
          "color": "rgba(128, 0, 128, 0.6)",
          "line": {
           "color": "rgba(128, 0, 128, 0.39999999999999974)",
           "width": 1
          }
         },
         "name": "Stürze",
         "orientation": "v",
         "text": "",
         "type": "bar",
         "x": [
          1980,
          1981,
          1982,
          1983,
          1984,
          1985,
          1986,
          1987,
          1988,
          1989,
          1990,
          1991,
          1992,
          1993,
          1994,
          1995,
          1996,
          1997,
          1998,
          1999,
          2000,
          2001,
          2002,
          2003,
          2004,
          2005,
          2006,
          2007,
          2008,
          2009,
          2010,
          2011,
          2012,
          2013,
          2014,
          2015,
          2016,
          2017,
          2018,
          2019
         ],
         "y": [
          11455,
          11621,
          11546,
          10946,
          10759,
          10779,
          10772,
          10713,
          10671,
          11333,
          12225,
          12682,
          11978,
          11565,
          10512,
          10052,
          10237,
          9384,
          7229,
          7302,
          7404,
          7099,
          7160,
          7877,
          7913,
          8548,
          8381,
          7728,
          8333,
          8503,
          9479,
          9722,
          10240,
          10842,
          11582,
          12867,
          14435,
          14678,
          16201,
          16657
         ]
        },
        {
         "marker": {
          "color": "rgba(128, 0, 128, 0.6)",
          "line": {
           "color": "rgba(128, 0, 128, 0.2999999999999999)",
           "width": 1
          }
         },
         "name": "Symptome und abnorme klinische und Laborbefunde",
         "orientation": "v",
         "text": "",
         "type": "bar",
         "x": [
          1980,
          1981,
          1982,
          1983,
          1984,
          1985,
          1986,
          1987,
          1988,
          1989,
          1990,
          1991,
          1992,
          1993,
          1994,
          1995,
          1996,
          1997,
          1998,
          1999,
          2000,
          2001,
          2002,
          2003,
          2004,
          2005,
          2006,
          2007,
          2008,
          2009,
          2010,
          2011,
          2012,
          2013,
          2014,
          2015,
          2016,
          2017,
          2018,
          2019
         ],
         "y": [
          18655,
          18599,
          19052,
          19410,
          18528,
          18538,
          21393,
          19959,
          19282,
          20719,
          27596,
          22839,
          20820,
          21069,
          21899,
          22756,
          22854,
          22315,
          23590,
          22579,
          23789,
          22332,
          20560,
          21739,
          20682,
          20193,
          19978,
          21691,
          23916,
          23704,
          23616,
          22550,
          24019,
          25189,
          25799,
          27437,
          29894,
          29429,
          32593,
          37412
         ]
        },
        {
         "marker": {
          "color": "rgba(219, 64, 82, 0.6)",
          "line": {
           "color": "rgba(219, 64, 82, 0.2999999999999999)",
           "width": 1
          }
         },
         "name": "Transportmittelunfälle",
         "orientation": "v",
         "text": "",
         "type": "bar",
         "x": [
          1980,
          1981,
          1982,
          1983,
          1984,
          1985,
          1986,
          1987,
          1988,
          1989,
          1990,
          1991,
          1992,
          1993,
          1994,
          1995,
          1996,
          1997,
          1998,
          1999,
          2000,
          2001,
          2002,
          2003,
          2004,
          2005,
          2006,
          2007,
          2008,
          2009,
          2010,
          2011,
          2012,
          2013,
          2014,
          2015,
          2016,
          2017,
          2018,
          2019
         ],
         "y": [
          15719,
          14525,
          14083,
          14204,
          12750,
          10778,
          11365,
          10172,
          10771,
          10497,
          11526,
          11726,
          11062,
          10298,
          10072,
          9574,
          8944,
          8739,
          7965,
          7986,
          7747,
          7181,
          7089,
          6842,
          6087,
          5635,
          5359,
          5170,
          4774,
          4471,
          3942,
          4336,
          3979,
          3771,
          3723,
          3688,
          3547,
          3407,
          3622,
          3373
         ]
        },
        {
         "marker": {
          "color": "rgba(0, 128, 128, 0.6)",
          "line": {
           "color": "rgba(0, 128, 128, 0.2999999999999999)",
           "width": 1
          }
         },
         "name": "Tuberkulose einschließlich ihrer Folgezustände",
         "orientation": "v",
         "text": "",
         "type": "bar",
         "x": [
          1980,
          1981,
          1982,
          1983,
          1984,
          1985,
          1986,
          1987,
          1988,
          1989,
          1990,
          1991,
          1992,
          1993,
          1994,
          1995,
          1996,
          1997,
          1998,
          1999,
          2000,
          2001,
          2002,
          2003,
          2004,
          2005,
          2006,
          2007,
          2008,
          2009,
          2010,
          2011,
          2012,
          2013,
          2014,
          2015,
          2016,
          2017,
          2018,
          2019
         ],
         "y": [
          2558,
          2427,
          2261,
          2006,
          1808,
          1700,
          1594,
          1594,
          1453,
          1401,
          1358,
          1146,
          1155,
          1037,
          1014,
          935,
          895,
          805,
          711,
          630,
          607,
          536,
          507,
          512,
          441,
          450,
          433,
          446,
          363,
          345,
          350,
          342,
          356,
          366,
          310,
          311,
          285,
          288,
          291,
          286
         ]
        },
        {
         "marker": {
          "color": "rgba(255, 255, 51, 0.6)",
          "line": {
           "color": "rgba(255, 255, 51, 0.2999999999999999)",
           "width": 1
          }
         },
         "name": "Tätlicher Angriff",
         "orientation": "v",
         "text": "",
         "type": "bar",
         "x": [
          1980,
          1981,
          1982,
          1983,
          1984,
          1985,
          1986,
          1987,
          1988,
          1989,
          1990,
          1991,
          1992,
          1993,
          1994,
          1995,
          1996,
          1997,
          1998,
          1999,
          2000,
          2001,
          2002,
          2003,
          2004,
          2005,
          2006,
          2007,
          2008,
          2009,
          2010,
          2011,
          2012,
          2013,
          2014,
          2015,
          2016,
          2017,
          2018,
          2019
         ],
         "y": [
          839,
          897,
          874,
          848,
          904,
          843,
          850,
          827,
          785,
          745,
          800,
          916,
          949,
          966,
          954,
          926,
          885,
          756,
          708,
          719,
          602,
          564,
          604,
          553,
          526,
          453,
          484,
          451,
          443,
          447,
          478,
          431,
          403,
          394,
          368,
          433,
          372,
          352,
          335,
          324
         ]
        },
        {
         "marker": {
          "color": "rgba(128, 128, 0, 0.6)",
          "line": {
           "color": "rgba(128, 128, 0, 0.2999999999999999)",
           "width": 1
          }
         },
         "name": "Ulcus ventriculi, duodeni, pepticum, pept. jejuni",
         "orientation": "v",
         "text": "",
         "type": "bar",
         "x": [
          1980,
          1981,
          1982,
          1983,
          1984,
          1985,
          1986,
          1987,
          1988,
          1989,
          1990,
          1991,
          1992,
          1993,
          1994,
          1995,
          1996,
          1997,
          1998,
          1999,
          2000,
          2001,
          2002,
          2003,
          2004,
          2005,
          2006,
          2007,
          2008,
          2009,
          2010,
          2011,
          2012,
          2013,
          2014,
          2015,
          2016,
          2017,
          2018,
          2019
         ],
         "y": [
          5253,
          5274,
          5157,
          4950,
          4489,
          4428,
          4350,
          4282,
          4441,
          4444,
          4322,
          4133,
          3827,
          3937,
          3735,
          3561,
          3660,
          3397,
          3426,
          3322,
          3278,
          3312,
          3481,
          3449,
          3635,
          3371,
          3385,
          3263,
          3047,
          2914,
          2947,
          2836,
          2776,
          2593,
          2253,
          2436,
          2411,
          2328,
          2426,
          2437
         ]
        },
        {
         "marker": {
          "color": "rgba(251, 128, 114, 0.6)",
          "line": {
           "color": "rgba(251, 128, 114, 0.2999999999999999)",
           "width": 1
          }
         },
         "name": "Unfälle einschließlich Spätfolgen",
         "orientation": "v",
         "text": "",
         "type": "bar",
         "x": [
          1980,
          1981,
          1982,
          1983,
          1984,
          1985,
          1986,
          1987,
          1988,
          1989,
          1990,
          1991,
          1992,
          1993,
          1994,
          1995,
          1996,
          1997,
          1998,
          1999,
          2000,
          2001,
          2002,
          2003,
          2004,
          2005,
          2006,
          2007,
          2008,
          2009,
          2010,
          2011,
          2012,
          2013,
          2014,
          2015,
          2016,
          2017,
          2018,
          2019
         ],
         "y": [
          34406,
          33247,
          33291,
          32839,
          30512,
          28214,
          28209,
          26640,
          26880,
          27356,
          29283,
          29582,
          28173,
          26785,
          25122,
          23818,
          23549,
          22482,
          19673,
          19715,
          20328,
          20014,
          19829,
          20421,
          19458,
          19993,
          19464,
          18508,
          19130,
          19252,
          20290,
          20455,
          20869,
          22016,
          22776,
          24646,
          26718,
          28424,
          29874,
          30065
         ]
        },
        {
         "marker": {
          "color": "rgba(128, 177, 211, 0.6)",
          "line": {
           "color": "rgba(128, 177, 211, 0.2999999999999999)",
           "width": 1
          }
         },
         "name": "Virushepatitis",
         "orientation": "v",
         "text": "",
         "type": "bar",
         "x": [
          1980,
          1981,
          1982,
          1983,
          1984,
          1985,
          1986,
          1987,
          1988,
          1989,
          1990,
          1991,
          1992,
          1993,
          1994,
          1995,
          1996,
          1997,
          1998,
          1999,
          2000,
          2001,
          2002,
          2003,
          2004,
          2005,
          2006,
          2007,
          2008,
          2009,
          2010,
          2011,
          2012,
          2013,
          2014,
          2015,
          2016,
          2017,
          2018,
          2019
         ],
         "y": [
          188,
          162,
          204,
          217,
          234,
          232,
          195,
          220,
          245,
          236,
          200,
          241,
          248,
          247,
          278,
          283,
          383,
          357,
          911,
          1121,
          1152,
          1170,
          1227,
          1243,
          1156,
          1064,
          1058,
          950,
          952,
          963,
          980,
          968,
          976,
          991,
          854,
          939,
          789,
          738,
          674,
          584
         ]
        },
        {
         "marker": {
          "color": "rgba(255, 153, 51, 0.6)",
          "line": {
           "color": "rgba(255, 153, 51, 0.2999999999999999)",
           "width": 1
          }
         },
         "name": "Vorsätzliche Selbstbeschädigung",
         "orientation": "v",
         "text": "",
         "type": "bar",
         "x": [
          1980,
          1981,
          1982,
          1983,
          1984,
          1985,
          1986,
          1987,
          1988,
          1989,
          1990,
          1991,
          1992,
          1993,
          1994,
          1995,
          1996,
          1997,
          1998,
          1999,
          2000,
          2001,
          2002,
          2003,
          2004,
          2005,
          2006,
          2007,
          2008,
          2009,
          2010,
          2011,
          2012,
          2013,
          2014,
          2015,
          2016,
          2017,
          2018,
          2019
         ],
         "y": [
          18451,
          18825,
          18711,
          18417,
          17677,
          17571,
          16269,
          16625,
          15590,
          14567,
          13924,
          14011,
          13458,
          12690,
          12718,
          12888,
          12225,
          12265,
          11644,
          11157,
          11065,
          11156,
          11163,
          11150,
          10733,
          10260,
          9765,
          9402,
          9451,
          9616,
          10021,
          10144,
          9890,
          10076,
          10209,
          10078,
          9838,
          9235,
          9396,
          9041
         ]
        },
        {
         "marker": {
          "color": "rgba(55, 128, 191, 0.6)",
          "line": {
           "color": "rgba(55, 128, 191, 0.2999999999999999)",
           "width": 1
          }
         },
         "name": "Zerebrovaskuläre Krankheiten",
         "orientation": "v",
         "text": "",
         "type": "bar",
         "x": [
          1980,
          1981,
          1982,
          1983,
          1984,
          1985,
          1986,
          1987,
          1988,
          1989,
          1990,
          1991,
          1992,
          1993,
          1994,
          1995,
          1996,
          1997,
          1998,
          1999,
          2000,
          2001,
          2002,
          2003,
          2004,
          2005,
          2006,
          2007,
          2008,
          2009,
          2010,
          2011,
          2012,
          2013,
          2014,
          2015,
          2016,
          2017,
          2018,
          2019
         ],
         "y": [
          123556,
          125124,
          119764,
          118548,
          113412,
          114156,
          111037,
          106844,
          105925,
          104677,
          105669,
          111160,
          106631,
          105767,
          104079,
          101034,
          99266,
          93647,
          90194,
          85755,
          80786,
          78691,
          77519,
          75114,
          68498,
          67117,
          65133,
          62085,
          63127,
          62727,
          61550,
          59066,
          58925,
          58556,
          55232,
          56982,
          55956,
          55404,
          55287,
          53119
         ]
        },
        {
         "marker": {
          "color": "rgba(50, 171, 96, 0.6)",
          "line": {
           "color": "rgba(50, 171, 96, 0.2999999999999999)",
           "width": 1
          }
         },
         "name": "Äußere Ursachen von Morbidität und Mortalität",
         "orientation": "v",
         "text": "",
         "type": "bar",
         "x": [
          1980,
          1981,
          1982,
          1983,
          1984,
          1985,
          1986,
          1987,
          1988,
          1989,
          1990,
          1991,
          1992,
          1993,
          1994,
          1995,
          1996,
          1997,
          1998,
          1999,
          2000,
          2001,
          2002,
          2003,
          2004,
          2005,
          2006,
          2007,
          2008,
          2009,
          2010,
          2011,
          2012,
          2013,
          2014,
          2015,
          2016,
          2017,
          2018,
          2019
         ],
         "y": [
          55656,
          54742,
          54862,
          54083,
          50972,
          48485,
          47155,
          46006,
          45073,
          44456,
          45963,
          46679,
          44751,
          42674,
          40920,
          39367,
          38516,
          37343,
          34578,
          34063,
          34523,
          34201,
          34296,
          34606,
          33309,
          33024,
          32212,
          30650,
          31511,
          31832,
          33312,
          32988,
          32931,
          34133,
          34667,
          36496,
          38383,
          39853,
          41554,
          41779
         ]
        }
       ],
       "layout": {
        "barmode": "stack",
        "legend": {
         "bgcolor": "#F5F6F9",
         "font": {
          "color": "#4D5663"
         },
         "traceorder": "normal"
        },
        "paper_bgcolor": "#F5F6F9",
        "plot_bgcolor": "#F5F6F9",
        "template": {
         "data": {
          "bar": [
           {
            "error_x": {
             "color": "#2a3f5f"
            },
            "error_y": {
             "color": "#2a3f5f"
            },
            "marker": {
             "line": {
              "color": "#E5ECF6",
              "width": 0.5
             }
            },
            "type": "bar"
           }
          ],
          "barpolar": [
           {
            "marker": {
             "line": {
              "color": "#E5ECF6",
              "width": 0.5
             }
            },
            "type": "barpolar"
           }
          ],
          "carpet": [
           {
            "aaxis": {
             "endlinecolor": "#2a3f5f",
             "gridcolor": "white",
             "linecolor": "white",
             "minorgridcolor": "white",
             "startlinecolor": "#2a3f5f"
            },
            "baxis": {
             "endlinecolor": "#2a3f5f",
             "gridcolor": "white",
             "linecolor": "white",
             "minorgridcolor": "white",
             "startlinecolor": "#2a3f5f"
            },
            "type": "carpet"
           }
          ],
          "choropleth": [
           {
            "colorbar": {
             "outlinewidth": 0,
             "ticks": ""
            },
            "type": "choropleth"
           }
          ],
          "contour": [
           {
            "colorbar": {
             "outlinewidth": 0,
             "ticks": ""
            },
            "colorscale": [
             [
              0,
              "#0d0887"
             ],
             [
              0.1111111111111111,
              "#46039f"
             ],
             [
              0.2222222222222222,
              "#7201a8"
             ],
             [
              0.3333333333333333,
              "#9c179e"
             ],
             [
              0.4444444444444444,
              "#bd3786"
             ],
             [
              0.5555555555555556,
              "#d8576b"
             ],
             [
              0.6666666666666666,
              "#ed7953"
             ],
             [
              0.7777777777777778,
              "#fb9f3a"
             ],
             [
              0.8888888888888888,
              "#fdca26"
             ],
             [
              1,
              "#f0f921"
             ]
            ],
            "type": "contour"
           }
          ],
          "contourcarpet": [
           {
            "colorbar": {
             "outlinewidth": 0,
             "ticks": ""
            },
            "type": "contourcarpet"
           }
          ],
          "heatmap": [
           {
            "colorbar": {
             "outlinewidth": 0,
             "ticks": ""
            },
            "colorscale": [
             [
              0,
              "#0d0887"
             ],
             [
              0.1111111111111111,
              "#46039f"
             ],
             [
              0.2222222222222222,
              "#7201a8"
             ],
             [
              0.3333333333333333,
              "#9c179e"
             ],
             [
              0.4444444444444444,
              "#bd3786"
             ],
             [
              0.5555555555555556,
              "#d8576b"
             ],
             [
              0.6666666666666666,
              "#ed7953"
             ],
             [
              0.7777777777777778,
              "#fb9f3a"
             ],
             [
              0.8888888888888888,
              "#fdca26"
             ],
             [
              1,
              "#f0f921"
             ]
            ],
            "type": "heatmap"
           }
          ],
          "heatmapgl": [
           {
            "colorbar": {
             "outlinewidth": 0,
             "ticks": ""
            },
            "colorscale": [
             [
              0,
              "#0d0887"
             ],
             [
              0.1111111111111111,
              "#46039f"
             ],
             [
              0.2222222222222222,
              "#7201a8"
             ],
             [
              0.3333333333333333,
              "#9c179e"
             ],
             [
              0.4444444444444444,
              "#bd3786"
             ],
             [
              0.5555555555555556,
              "#d8576b"
             ],
             [
              0.6666666666666666,
              "#ed7953"
             ],
             [
              0.7777777777777778,
              "#fb9f3a"
             ],
             [
              0.8888888888888888,
              "#fdca26"
             ],
             [
              1,
              "#f0f921"
             ]
            ],
            "type": "heatmapgl"
           }
          ],
          "histogram": [
           {
            "marker": {
             "colorbar": {
              "outlinewidth": 0,
              "ticks": ""
             }
            },
            "type": "histogram"
           }
          ],
          "histogram2d": [
           {
            "colorbar": {
             "outlinewidth": 0,
             "ticks": ""
            },
            "colorscale": [
             [
              0,
              "#0d0887"
             ],
             [
              0.1111111111111111,
              "#46039f"
             ],
             [
              0.2222222222222222,
              "#7201a8"
             ],
             [
              0.3333333333333333,
              "#9c179e"
             ],
             [
              0.4444444444444444,
              "#bd3786"
             ],
             [
              0.5555555555555556,
              "#d8576b"
             ],
             [
              0.6666666666666666,
              "#ed7953"
             ],
             [
              0.7777777777777778,
              "#fb9f3a"
             ],
             [
              0.8888888888888888,
              "#fdca26"
             ],
             [
              1,
              "#f0f921"
             ]
            ],
            "type": "histogram2d"
           }
          ],
          "histogram2dcontour": [
           {
            "colorbar": {
             "outlinewidth": 0,
             "ticks": ""
            },
            "colorscale": [
             [
              0,
              "#0d0887"
             ],
             [
              0.1111111111111111,
              "#46039f"
             ],
             [
              0.2222222222222222,
              "#7201a8"
             ],
             [
              0.3333333333333333,
              "#9c179e"
             ],
             [
              0.4444444444444444,
              "#bd3786"
             ],
             [
              0.5555555555555556,
              "#d8576b"
             ],
             [
              0.6666666666666666,
              "#ed7953"
             ],
             [
              0.7777777777777778,
              "#fb9f3a"
             ],
             [
              0.8888888888888888,
              "#fdca26"
             ],
             [
              1,
              "#f0f921"
             ]
            ],
            "type": "histogram2dcontour"
           }
          ],
          "mesh3d": [
           {
            "colorbar": {
             "outlinewidth": 0,
             "ticks": ""
            },
            "type": "mesh3d"
           }
          ],
          "parcoords": [
           {
            "line": {
             "colorbar": {
              "outlinewidth": 0,
              "ticks": ""
             }
            },
            "type": "parcoords"
           }
          ],
          "pie": [
           {
            "automargin": true,
            "type": "pie"
           }
          ],
          "scatter": [
           {
            "marker": {
             "colorbar": {
              "outlinewidth": 0,
              "ticks": ""
             }
            },
            "type": "scatter"
           }
          ],
          "scatter3d": [
           {
            "line": {
             "colorbar": {
              "outlinewidth": 0,
              "ticks": ""
             }
            },
            "marker": {
             "colorbar": {
              "outlinewidth": 0,
              "ticks": ""
             }
            },
            "type": "scatter3d"
           }
          ],
          "scattercarpet": [
           {
            "marker": {
             "colorbar": {
              "outlinewidth": 0,
              "ticks": ""
             }
            },
            "type": "scattercarpet"
           }
          ],
          "scattergeo": [
           {
            "marker": {
             "colorbar": {
              "outlinewidth": 0,
              "ticks": ""
             }
            },
            "type": "scattergeo"
           }
          ],
          "scattergl": [
           {
            "marker": {
             "colorbar": {
              "outlinewidth": 0,
              "ticks": ""
             }
            },
            "type": "scattergl"
           }
          ],
          "scattermapbox": [
           {
            "marker": {
             "colorbar": {
              "outlinewidth": 0,
              "ticks": ""
             }
            },
            "type": "scattermapbox"
           }
          ],
          "scatterpolar": [
           {
            "marker": {
             "colorbar": {
              "outlinewidth": 0,
              "ticks": ""
             }
            },
            "type": "scatterpolar"
           }
          ],
          "scatterpolargl": [
           {
            "marker": {
             "colorbar": {
              "outlinewidth": 0,
              "ticks": ""
             }
            },
            "type": "scatterpolargl"
           }
          ],
          "scatterternary": [
           {
            "marker": {
             "colorbar": {
              "outlinewidth": 0,
              "ticks": ""
             }
            },
            "type": "scatterternary"
           }
          ],
          "surface": [
           {
            "colorbar": {
             "outlinewidth": 0,
             "ticks": ""
            },
            "colorscale": [
             [
              0,
              "#0d0887"
             ],
             [
              0.1111111111111111,
              "#46039f"
             ],
             [
              0.2222222222222222,
              "#7201a8"
             ],
             [
              0.3333333333333333,
              "#9c179e"
             ],
             [
              0.4444444444444444,
              "#bd3786"
             ],
             [
              0.5555555555555556,
              "#d8576b"
             ],
             [
              0.6666666666666666,
              "#ed7953"
             ],
             [
              0.7777777777777778,
              "#fb9f3a"
             ],
             [
              0.8888888888888888,
              "#fdca26"
             ],
             [
              1,
              "#f0f921"
             ]
            ],
            "type": "surface"
           }
          ],
          "table": [
           {
            "cells": {
             "fill": {
              "color": "#EBF0F8"
             },
             "line": {
              "color": "white"
             }
            },
            "header": {
             "fill": {
              "color": "#C8D4E3"
             },
             "line": {
              "color": "white"
             }
            },
            "type": "table"
           }
          ]
         },
         "layout": {
          "annotationdefaults": {
           "arrowcolor": "#2a3f5f",
           "arrowhead": 0,
           "arrowwidth": 1
          },
          "autotypenumbers": "strict",
          "coloraxis": {
           "colorbar": {
            "outlinewidth": 0,
            "ticks": ""
           }
          },
          "colorscale": {
           "diverging": [
            [
             0,
             "#8e0152"
            ],
            [
             0.1,
             "#c51b7d"
            ],
            [
             0.2,
             "#de77ae"
            ],
            [
             0.3,
             "#f1b6da"
            ],
            [
             0.4,
             "#fde0ef"
            ],
            [
             0.5,
             "#f7f7f7"
            ],
            [
             0.6,
             "#e6f5d0"
            ],
            [
             0.7,
             "#b8e186"
            ],
            [
             0.8,
             "#7fbc41"
            ],
            [
             0.9,
             "#4d9221"
            ],
            [
             1,
             "#276419"
            ]
           ],
           "sequential": [
            [
             0,
             "#0d0887"
            ],
            [
             0.1111111111111111,
             "#46039f"
            ],
            [
             0.2222222222222222,
             "#7201a8"
            ],
            [
             0.3333333333333333,
             "#9c179e"
            ],
            [
             0.4444444444444444,
             "#bd3786"
            ],
            [
             0.5555555555555556,
             "#d8576b"
            ],
            [
             0.6666666666666666,
             "#ed7953"
            ],
            [
             0.7777777777777778,
             "#fb9f3a"
            ],
            [
             0.8888888888888888,
             "#fdca26"
            ],
            [
             1,
             "#f0f921"
            ]
           ],
           "sequentialminus": [
            [
             0,
             "#0d0887"
            ],
            [
             0.1111111111111111,
             "#46039f"
            ],
            [
             0.2222222222222222,
             "#7201a8"
            ],
            [
             0.3333333333333333,
             "#9c179e"
            ],
            [
             0.4444444444444444,
             "#bd3786"
            ],
            [
             0.5555555555555556,
             "#d8576b"
            ],
            [
             0.6666666666666666,
             "#ed7953"
            ],
            [
             0.7777777777777778,
             "#fb9f3a"
            ],
            [
             0.8888888888888888,
             "#fdca26"
            ],
            [
             1,
             "#f0f921"
            ]
           ]
          },
          "colorway": [
           "#636efa",
           "#EF553B",
           "#00cc96",
           "#ab63fa",
           "#FFA15A",
           "#19d3f3",
           "#FF6692",
           "#B6E880",
           "#FF97FF",
           "#FECB52"
          ],
          "font": {
           "color": "#2a3f5f"
          },
          "geo": {
           "bgcolor": "white",
           "lakecolor": "white",
           "landcolor": "#E5ECF6",
           "showlakes": true,
           "showland": true,
           "subunitcolor": "white"
          },
          "hoverlabel": {
           "align": "left"
          },
          "hovermode": "closest",
          "mapbox": {
           "style": "light"
          },
          "paper_bgcolor": "white",
          "plot_bgcolor": "#E5ECF6",
          "polar": {
           "angularaxis": {
            "gridcolor": "white",
            "linecolor": "white",
            "ticks": ""
           },
           "bgcolor": "#E5ECF6",
           "radialaxis": {
            "gridcolor": "white",
            "linecolor": "white",
            "ticks": ""
           }
          },
          "scene": {
           "xaxis": {
            "backgroundcolor": "#E5ECF6",
            "gridcolor": "white",
            "gridwidth": 2,
            "linecolor": "white",
            "showbackground": true,
            "ticks": "",
            "zerolinecolor": "white"
           },
           "yaxis": {
            "backgroundcolor": "#E5ECF6",
            "gridcolor": "white",
            "gridwidth": 2,
            "linecolor": "white",
            "showbackground": true,
            "ticks": "",
            "zerolinecolor": "white"
           },
           "zaxis": {
            "backgroundcolor": "#E5ECF6",
            "gridcolor": "white",
            "gridwidth": 2,
            "linecolor": "white",
            "showbackground": true,
            "ticks": "",
            "zerolinecolor": "white"
           }
          },
          "shapedefaults": {
           "line": {
            "color": "#2a3f5f"
           }
          },
          "ternary": {
           "aaxis": {
            "gridcolor": "white",
            "linecolor": "white",
            "ticks": ""
           },
           "baxis": {
            "gridcolor": "white",
            "linecolor": "white",
            "ticks": ""
           },
           "bgcolor": "#E5ECF6",
           "caxis": {
            "gridcolor": "white",
            "linecolor": "white",
            "ticks": ""
           }
          },
          "title": {
           "x": 0.05
          },
          "xaxis": {
           "automargin": true,
           "gridcolor": "white",
           "linecolor": "white",
           "ticks": "",
           "title": {
            "standoff": 15
           },
           "zerolinecolor": "white",
           "zerolinewidth": 2
          },
          "yaxis": {
           "automargin": true,
           "gridcolor": "white",
           "linecolor": "white",
           "ticks": "",
           "title": {
            "standoff": 15
           },
           "zerolinecolor": "white",
           "zerolinewidth": 2
          }
         }
        },
        "title": {
         "font": {
          "color": "#4D5663"
         }
        },
        "xaxis": {
         "gridcolor": "#E1E5ED",
         "showgrid": true,
         "tickfont": {
          "color": "#4D5663"
         },
         "title": {
          "font": {
           "color": "#4D5663"
          },
          "text": ""
         },
         "zerolinecolor": "#E1E5ED"
        },
        "yaxis": {
         "gridcolor": "#E1E5ED",
         "showgrid": true,
         "tickfont": {
          "color": "#4D5663"
         },
         "title": {
          "font": {
           "color": "#4D5663"
          },
          "text": ""
         },
         "zerolinecolor": "#E1E5ED"
        }
       }
      },
      "text/html": [
       "<div>                            <div id=\"6e27f832-7fb7-4cdf-901d-e5da4559c237\" class=\"plotly-graph-div\" style=\"height:525px; width:100%;\"></div>            <script type=\"text/javascript\">                require([\"plotly\"], function(Plotly) {                    window.PLOTLYENV=window.PLOTLYENV || {};\n",
       "                    window.PLOTLYENV.BASE_URL='https://plot.ly';                                    if (document.getElementById(\"6e27f832-7fb7-4cdf-901d-e5da4559c237\")) {                    Plotly.newPlot(                        \"6e27f832-7fb7-4cdf-901d-e5da4559c237\",                        [{\"marker\": {\"color\": \"rgba(255, 153, 51, 0.6)\", \"line\": {\"color\": \"rgba(255, 153, 51, 1.0)\", \"width\": 1}}, \"name\": \"Akuter oder rezidivierender Myokardinfarkt\", \"orientation\": \"v\", \"text\": \"\", \"type\": \"bar\", \"x\": [1980, 1981, 1982, 1983, 1984, 1985, 1986, 1987, 1988, 1989, 1990, 1991, 1992, 1993, 1994, 1995, 1996, 1997, 1998, 1999, 2000, 2001, 2002, 2003, 2004, 2005, 2006, 2007, 2008, 2009, 2010, 2011, 2012, 2013, 2014, 2015, 2016, 2017, 2018, 2019], \"y\": [92801.0, 92860.0, 91044.0, 91124.0, 89348.0, 90427.0, 88727.0, 88251.0, 85977.0, 85474.0, 85625.0, 90326.0, 88158.0, 89088.0, 86915.0, 87739.0, 85206.0, 82893.0, 81988.0, 76961.0, 73265.0, 71025.0, 69274.0, 69362.0, 67149.0, 66179.0, 64796.0, 62067.0, 60732.0, 60153.0, 59107.0, 55286.0, 55425.0, 54538.0, 50104.0, 50948.0, 48669.0, 46966.0, 46207.0, 44282.0]}, {\"marker\": {\"color\": \"rgba(55, 128, 191, 0.6)\", \"line\": {\"color\": \"rgba(55, 128, 191, 1.0)\", \"width\": 1}}, \"name\": \"Akzid. Vergiftung: sch\\u00e4dl. Substanzen (inkl. Exp.)\", \"orientation\": \"v\", \"text\": \"\", \"type\": \"bar\", \"x\": [1980, 1981, 1982, 1983, 1984, 1985, 1986, 1987, 1988, 1989, 1990, 1991, 1992, 1993, 1994, 1995, 1996, 1997, 1998, 1999, 2000, 2001, 2002, 2003, 2004, 2005, 2006, 2007, 2008, 2009, 2010, 2011, 2012, 2013, 2014, 2015, 2016, 2017, 2018, 2019], \"y\": [1144.0, 1168.0, 1196.0, 1030.0, 1002.0, 1109.0, 943.0, 945.0, 883.0, 798.0, 864.0, 597.0, 564.0, 412.0, 280.0, 238.0, 259.0, 280.0, 269.0, 225.0, 590.0, 1040.0, 814.0, 722.0, 680.0, 713.0, 690.0, 745.0, 811.0, 719.0, 678.0, 637.0, 599.0, 650.0, 652.0, 700.0, 947.0, 1096.0, 1120.0, 1208.0]}, {\"marker\": {\"color\": \"rgba(50, 171, 96, 0.6)\", \"line\": {\"color\": \"rgba(50, 171, 96, 1.0)\", \"width\": 1}}, \"name\": \"Alkoh.Leberkh.,Chron.Hepatitis,Leberfibr.u.-zirr.\", \"orientation\": \"v\", \"text\": \"\", \"type\": \"bar\", \"x\": [1980, 1981, 1982, 1983, 1984, 1985, 1986, 1987, 1988, 1989, 1990, 1991, 1992, 1993, 1994, 1995, 1996, 1997, 1998, 1999, 2000, 2001, 2002, 2003, 2004, 2005, 2006, 2007, 2008, 2009, 2010, 2011, 2012, 2013, 2014, 2015, 2016, 2017, 2018, 2019], \"y\": [19112.0, 19373.0, 18160.0, 18002.0, 17029.0, 17133.0, 16383.0, 16655.0, 17129.0, 17733.0, 18113.0, 19604.0, 19447.0, 19824.0, 19864.0, 19445.0, 19202.0, 18620.0, 17500.0, 17235.0, 17347.0, 17059.0, 17311.0, 17151.0, 16121.0, 15785.0, 15261.0, 14470.0, 14548.0, 14267.0, 14316.0, 14098.0, 13901.0, 14034.0, 13527.0, 13889.0, 14483.0, 14322.0, 14170.0, 14023.0]}, {\"marker\": {\"color\": \"rgba(128, 0, 128, 0.6)\", \"line\": {\"color\": \"rgba(128, 0, 128, 1.0)\", \"width\": 1}}, \"name\": \"Angeb. Fehlbildungen,Deformit\\u00e4ten,Chromosomenanom.\", \"orientation\": \"v\", \"text\": \"\", \"type\": \"bar\", \"x\": [1980, 1981, 1982, 1983, 1984, 1985, 1986, 1987, 1988, 1989, 1990, 1991, 1992, 1993, 1994, 1995, 1996, 1997, 1998, 1999, 2000, 2001, 2002, 2003, 2004, 2005, 2006, 2007, 2008, 2009, 2010, 2011, 2012, 2013, 2014, 2015, 2016, 2017, 2018, 2019], \"y\": [3815.0, 3698.0, 3557.0, 3387.0, 3108.0, 2985.0, 2946.0, 2916.0, 2826.0, 2729.0, 2758.0, 2551.0, 2575.0, 2475.0, 2200.0, 1990.0, 2006.0, 2060.0, 1822.0, 1610.0, 1643.0, 1612.0, 1572.0, 1621.0, 1576.0, 1528.0, 1473.0, 1451.0, 1442.0, 1563.0, 1572.0, 1619.0, 1532.0, 1706.0, 1665.0, 1816.0, 2001.0, 2070.0, 2134.0, 2084.0]}, {\"marker\": {\"color\": \"rgba(219, 64, 82, 0.6)\", \"line\": {\"color\": \"rgba(219, 64, 82, 1.0)\", \"width\": 1}}, \"name\": \"Angeborene Fehlbildungen des Kreislaufsystems\", \"orientation\": \"v\", \"text\": \"\", \"type\": \"bar\", \"x\": [1980, 1981, 1982, 1983, 1984, 1985, 1986, 1987, 1988, 1989, 1990, 1991, 1992, 1993, 1994, 1995, 1996, 1997, 1998, 1999, 2000, 2001, 2002, 2003, 2004, 2005, 2006, 2007, 2008, 2009, 2010, 2011, 2012, 2013, 2014, 2015, 2016, 2017, 2018, 2019], \"y\": [1716.0, 1647.0, 1547.0, 1434.0, 1397.0, 1327.0, 1252.0, 1274.0, 1236.0, 1205.0, 1214.0, 1151.0, 1099.0, 1057.0, 925.0, 790.0, 781.0, 850.0, 726.0, 633.0, 673.0, 616.0, 625.0, 620.0, 542.0, 506.0, 489.0, 448.0, 441.0, 475.0, 458.0, 483.0, 423.0, 491.0, 421.0, 456.0, 568.0, 610.0, 606.0, 601.0]}, {\"marker\": {\"color\": \"rgba(0, 128, 128, 0.6)\", \"line\": {\"color\": \"rgba(0, 128, 128, 1.0)\", \"width\": 1}}, \"name\": \"Angeborene Fehlbildungen des Nervensystems\", \"orientation\": \"v\", \"text\": \"\", \"type\": \"bar\", \"x\": [1980, 1981, 1982, 1983, 1984, 1985, 1986, 1987, 1988, 1989, 1990, 1991, 1992, 1993, 1994, 1995, 1996, 1997, 1998, 1999, 2000, 2001, 2002, 2003, 2004, 2005, 2006, 2007, 2008, 2009, 2010, 2011, 2012, 2013, 2014, 2015, 2016, 2017, 2018, 2019], \"y\": [694.0, 686.0, 617.0, 564.0, 504.0, 459.0, 473.0, 457.0, 414.0, 385.0, 382.0, 361.0, 364.0, 335.0, 315.0, 269.0, 239.0, 248.0, 189.0, 172.0, 158.0, 146.0, 150.0, 139.0, 164.0, 124.0, 152.0, 126.0, 117.0, 159.0, 141.0, 171.0, 145.0, 165.0, 130.0, 173.0, 195.0, 180.0, 166.0, 203.0]}, {\"marker\": {\"color\": \"rgba(255, 255, 51, 0.6)\", \"line\": {\"color\": \"rgba(255, 255, 51, 1.0)\", \"width\": 1}}, \"name\": \"Asthma\", \"orientation\": \"v\", \"text\": \"\", \"type\": \"bar\", \"x\": [1980, 1981, 1982, 1983, 1984, 1985, 1986, 1987, 1988, 1989, 1990, 1991, 1992, 1993, 1994, 1995, 1996, 1997, 1998, 1999, 2000, 2001, 2002, 2003, 2004, 2005, 2006, 2007, 2008, 2009, 2010, 2011, 2012, 2013, 2014, 2015, 2016, 2017, 2018, 2019], \"y\": [6287.0, 6329.0, 6356.0, 6215.0, 6338.0, 6687.0, 6401.0, 6321.0, 5953.0, 5989.0, 6441.0, 6218.0, 6025.0, 5969.0, 5595.0, 5546.0, 5348.0, 4683.0, 4106.0, 3831.0, 3475.0, 2886.0, 2701.0, 2422.0, 2141.0, 1971.0, 1685.0, 1563.0, 1503.0, 1415.0, 1224.0, 1175.0, 1164.0, 1150.0, 1014.0, 1053.0, 967.0, 971.0, 1034.0, 1077.0]}, {\"marker\": {\"color\": \"rgba(128, 128, 0, 0.6)\", \"line\": {\"color\": \"rgba(128, 128, 0, 1.0)\", \"width\": 1}}, \"name\": \"BN d. Larynx, d. Trachea, d. Bronchien u. d. Lunge\", \"orientation\": \"v\", \"text\": \"\", \"type\": \"bar\", \"x\": [1980, 1981, 1982, 1983, 1984, 1985, 1986, 1987, 1988, 1989, 1990, 1991, 1992, 1993, 1994, 1995, 1996, 1997, 1998, 1999, 2000, 2001, 2002, 2003, 2004, 2005, 2006, 2007, 2008, 2009, 2010, 2011, 2012, 2013, 2014, 2015, 2016, 2017, 2018, 2019], \"y\": [32809.0, 32875.0, 32907.0, 33715.0, 33589.0, 33967.0, 33864.0, 34503.0, 35057.0, 35540.0, 35903.0, 36761.0, 36943.0, 37815.0, 37787.0, 38935.0, 38475.0, 38908.0, 39566.0, 39177.0, 40553.0, 40053.0, 40715.0, 40865.0, 41342.0, 42217.0, 42348.0, 43005.0, 43830.0, 43638.0, 44457.0, 45489.0, 45908.0, 46332.0, 46609.0, 46755.0, 47279.0, 46456.0, 46283.0, 46311.0]}, {\"marker\": {\"color\": \"rgba(251, 128, 114, 0.6)\", \"line\": {\"color\": \"rgba(251, 128, 114, 1.0)\", \"width\": 1}}, \"name\": \"BN d. lymphat., blutbild. u. verwandten Gewebes\", \"orientation\": \"v\", \"text\": \"\", \"type\": \"bar\", \"x\": [1980, 1981, 1982, 1983, 1984, 1985, 1986, 1987, 1988, 1989, 1990, 1991, 1992, 1993, 1994, 1995, 1996, 1997, 1998, 1999, 2000, 2001, 2002, 2003, 2004, 2005, 2006, 2007, 2008, 2009, 2010, 2011, 2012, 2013, 2014, 2015, 2016, 2017, 2018, 2019], \"y\": [10775.0, 11090.0, 11457.0, 11360.0, 11529.0, 12340.0, 12348.0, 13355.0, 14160.0, 14000.0, 14217.0, 14500.0, 14445.0, 14851.0, 14880.0, 15168.0, 15427.0, 15499.0, 16453.0, 16681.0, 16186.0, 16051.0, 16330.0, 16291.0, 16614.0, 16669.0, 16580.0, 16554.0, 17056.0, 16860.0, 17554.0, 18177.0, 18219.0, 18831.0, 18609.0, 18926.0, 19721.0, 19537.0, 19913.0, 19717.0]}, {\"marker\": {\"color\": \"rgba(128, 177, 211, 0.6)\", \"line\": {\"color\": \"rgba(128, 177, 211, 1.0)\", \"width\": 1}}, \"name\": \"BN der Bronchien und der Lunge\", \"orientation\": \"v\", \"text\": \"\", \"type\": \"bar\", \"x\": [1980, 1981, 1982, 1983, 1984, 1985, 1986, 1987, 1988, 1989, 1990, 1991, 1992, 1993, 1994, 1995, 1996, 1997, 1998, 1999, 2000, 2001, 2002, 2003, 2004, 2005, 2006, 2007, 2008, 2009, 2010, 2011, 2012, 2013, 2014, 2015, 2016, 2017, 2018, 2019], \"y\": [31273.0, 31322.0, 31324.0, 31985.0, 31927.0, 32288.0, 32140.0, 32716.0, 33254.0, 33691.0, 34009.0, 34904.0, 35136.0, 36032.0, 36042.0, 37050.0, 36687.0, 37150.0, 37934.0, 37615.0, 38955.0, 38525.0, 39105.0, 39286.0, 39798.0, 40641.0, 40744.0, 41495.0, 42319.0, 42221.0, 42972.0, 43908.0, 44433.0, 44813.0, 45049.0, 45224.0, 45776.0, 45032.0, 44853.0, 44847.0]}, {\"marker\": {\"color\": \"rgba(128, 177, 211, 0.6)\", \"line\": {\"color\": \"rgba(128, 177, 211, 0.8999999999999999)\", \"width\": 1}}, \"name\": \"BN der Brustdr\\u00fcse\", \"orientation\": \"v\", \"text\": \"\", \"type\": \"bar\", \"x\": [1980, 1981, 1982, 1983, 1984, 1985, 1986, 1987, 1988, 1989, 1990, 1991, 1992, 1993, 1994, 1995, 1996, 1997, 1998, 1999, 2000, 2001, 2002, 2003, 2004, 2005, 2006, 2007, 2008, 2009, 2010, 2011, 2012, 2013, 2014, 2015, 2016, 2017, 2018, 2019], \"y\": [14917.0, 15419.0, 15528.0, 15993.0, 15879.0, 16398.0, 16968.0, 17183.0, 17393.0, 17540.0, 17679.0, 18319.0, 18469.0, 18734.0, 18498.0, 18807.0, 19019.0, 18490.0, 17903.0, 17798.0, 18035.0, 17737.0, 18010.0, 17437.0, 17768.0, 17700.0, 17553.0, 17029.0, 17345.0, 17197.0, 17573.0, 17974.0, 17898.0, 18009.0, 17804.0, 18295.0, 18736.0, 18590.0, 18786.0, 18712.0]}, {\"marker\": {\"color\": \"rgba(255, 153, 51, 0.6)\", \"line\": {\"color\": \"rgba(255, 153, 51, 0.8999999999999999)\", \"width\": 1}}, \"name\": \"BN der Cervix uteri\", \"orientation\": \"v\", \"text\": \"\", \"type\": \"bar\", \"x\": [1980, 1981, 1982, 1983, 1984, 1985, 1986, 1987, 1988, 1989, 1990, 1991, 1992, 1993, 1994, 1995, 1996, 1997, 1998, 1999, 2000, 2001, 2002, 2003, 2004, 2005, 2006, 2007, 2008, 2009, 2010, 2011, 2012, 2013, 2014, 2015, 2016, 2017, 2018, 2019], \"y\": [3318.0, 3281.0, 3010.0, 3052.0, 3077.0, 3028.0, 2845.0, 2734.0, 2644.0, 2659.0, 2589.0, 2521.0, 2529.0, 2402.0, 2378.0, 2207.0, 2154.0, 2071.0, 1960.0, 2020.0, 1882.0, 1821.0, 1763.0, 1762.0, 1660.0, 1626.0, 1492.0, 1566.0, 1596.0, 1581.0, 1524.0, 1626.0, 1617.0, 1550.0, 1506.0, 1541.0, 1562.0, 1587.0, 1612.0, 1597.0]}, {\"marker\": {\"color\": \"rgba(55, 128, 191, 0.6)\", \"line\": {\"color\": \"rgba(55, 128, 191, 0.8999999999999999)\", \"width\": 1}}, \"name\": \"BN der Genital- und Harnorgane\", \"orientation\": \"v\", \"text\": \"\", \"type\": \"bar\", \"x\": [1980, 1981, 1982, 1983, 1984, 1985, 1986, 1987, 1988, 1989, 1990, 1991, 1992, 1993, 1994, 1995, 1996, 1997, 1998, 1999, 2000, 2001, 2002, 2003, 2004, 2005, 2006, 2007, 2008, 2009, 2010, 2011, 2012, 2013, 2014, 2015, 2016, 2017, 2018, 2019], \"y\": [35374.0, 36087.0, 36075.0, 36586.0, 36597.0, 36519.0, 36354.0, 36823.0, 36948.0, 36882.0, 37003.0, 38105.0, 38578.0, 38710.0, 38290.0, 37958.0, 38176.0, 37814.0, 36196.0, 35652.0, 35676.0, 35007.0, 35005.0, 35395.0, 34579.0, 34800.0, 34782.0, 35005.0, 36143.0, 36403.0, 37348.0, 39014.0, 38577.0, 39465.0, 39438.0, 40330.0, 41304.0, 40968.0, 41657.0, 41981.0]}, {\"marker\": {\"color\": \"rgba(50, 171, 96, 0.6)\", \"line\": {\"color\": \"rgba(50, 171, 96, 0.8999999999999999)\", \"width\": 1}}, \"name\": \"BN der Harnblase\", \"orientation\": \"v\", \"text\": \"\", \"type\": \"bar\", \"x\": [1980, 1981, 1982, 1983, 1984, 1985, 1986, 1987, 1988, 1989, 1990, 1991, 1992, 1993, 1994, 1995, 1996, 1997, 1998, 1999, 2000, 2001, 2002, 2003, 2004, 2005, 2006, 2007, 2008, 2009, 2010, 2011, 2012, 2013, 2014, 2015, 2016, 2017, 2018, 2019], \"y\": [5817.0, 5907.0, 6141.0, 6055.0, 6158.0, 6190.0, 6152.0, 6295.0, 6137.0, 6310.0, 6293.0, 6563.0, 6708.0, 6749.0, 6502.0, 6444.0, 6490.0, 6557.0, 5789.0, 5946.0, 5977.0, 5582.0, 5451.0, 5652.0, 5552.0, 5585.0, 5442.0, 5604.0, 5532.0, 5353.0, 5516.0, 5937.0, 5617.0, 5757.0, 5692.0, 5835.0, 5946.0, 5706.0, 5702.0, 5638.0]}, {\"marker\": {\"color\": \"rgba(128, 0, 128, 0.6)\", \"line\": {\"color\": \"rgba(128, 0, 128, 0.8999999999999999)\", \"width\": 1}}, \"name\": \"BN der Leber und der intrahepatischen Galleng\\u00e4nge\", \"orientation\": \"v\", \"text\": \"\", \"type\": \"bar\", \"x\": [1980, 1981, 1982, 1983, 1984, 1985, 1986, 1987, 1988, 1989, 1990, 1991, 1992, 1993, 1994, 1995, 1996, 1997, 1998, 1999, 2000, 2001, 2002, 2003, 2004, 2005, 2006, 2007, 2008, 2009, 2010, 2011, 2012, 2013, 2014, 2015, 2016, 2017, 2018, 2019], \"y\": [3741.0, 3643.0, 3640.0, 3731.0, 3588.0, 3645.0, 3727.0, 4031.0, 4120.0, 4178.0, 4222.0, 4498.0, 4786.0, 4775.0, 4807.0, 4895.0, 4649.0, 4829.0, 5263.0, 5363.0, 5489.0, 5446.0, 5705.0, 6016.0, 6125.0, 6142.0, 6680.0, 6827.0, 7062.0, 7231.0, 7390.0, 7562.0, 7670.0, 7467.0, 7686.0, 7842.0, 8036.0, 7910.0, 7990.0, 8168.0]}, {\"marker\": {\"color\": \"rgba(219, 64, 82, 0.6)\", \"line\": {\"color\": \"rgba(219, 64, 82, 0.8999999999999999)\", \"width\": 1}}, \"name\": \"BN der Leber, der Gallenwege und des Pankreas\", \"orientation\": \"v\", \"text\": \"\", \"type\": \"bar\", \"x\": [1980, 1981, 1982, 1983, 1984, 1985, 1986, 1987, 1988, 1989, 1990, 1991, 1992, 1993, 1994, 1995, 1996, 1997, 1998, 1999, 2000, 2001, 2002, 2003, 2004, 2005, 2006, 2007, 2008, 2009, 2010, 2011, 2012, 2013, 2014, 2015, 2016, 2017, 2018, 2019], \"y\": [18500.0, 18552.0, 18678.0, 19074.0, 18982.0, 19073.0, 19149.0, 19732.0, 19987.0, 19838.0, 19620.0, 20385.0, 20845.0, 20788.0, 21102.0, 20991.0, 20547.0, 21132.0, 21503.0, 22020.0, 21850.0, 22025.0, 22745.0, 22572.0, 23108.0, 23442.0, 24158.0, 24725.0, 25142.0, 25615.0, 26153.0, 27072.0, 27327.0, 27643.0, 28044.0, 28699.0, 29763.0, 29714.0, 30045.0, 31112.0]}, {\"marker\": {\"color\": \"rgba(0, 128, 128, 0.6)\", \"line\": {\"color\": \"rgba(0, 128, 128, 0.8999999999999999)\", \"width\": 1}}, \"name\": \"BN der Lippe, der Mundh\\u00f6hle und des Pharynx\", \"orientation\": \"v\", \"text\": \"\", \"type\": \"bar\", \"x\": [1980, 1981, 1982, 1983, 1984, 1985, 1986, 1987, 1988, 1989, 1990, 1991, 1992, 1993, 1994, 1995, 1996, 1997, 1998, 1999, 2000, 2001, 2002, 2003, 2004, 2005, 2006, 2007, 2008, 2009, 2010, 2011, 2012, 2013, 2014, 2015, 2016, 2017, 2018, 2019], \"y\": [2410.0, 2578.0, 2831.0, 2982.0, 3116.0, 3330.0, 3549.0, 3642.0, 3958.0, 4099.0, 4241.0, 4493.0, 4660.0, 4749.0, 4803.0, 4684.0, 4766.0, 4778.0, 4965.0, 4941.0, 4645.0, 4853.0, 4699.0, 4786.0, 4444.0, 4819.0, 4734.0, 4777.0, 4946.0, 4982.0, 5020.0, 5386.0, 5393.0, 5473.0, 5448.0, 5464.0, 5457.0, 5365.0, 5412.0, 5367.0]}, {\"marker\": {\"color\": \"rgba(255, 255, 51, 0.6)\", \"line\": {\"color\": \"rgba(255, 255, 51, 0.8999999999999999)\", \"width\": 1}}, \"name\": \"BN der Niere, ausgenommen Nierenbecken\", \"orientation\": \"v\", \"text\": \"\", \"type\": \"bar\", \"x\": [1980, 1981, 1982, 1983, 1984, 1985, 1986, 1987, 1988, 1989, 1990, 1991, 1992, 1993, 1994, 1995, 1996, 1997, 1998, 1999, 2000, 2001, 2002, 2003, 2004, 2005, 2006, 2007, 2008, 2009, 2010, 2011, 2012, 2013, 2014, 2015, 2016, 2017, 2018, 2019], \"y\": [4249.0, 4408.0, 4512.0, 4586.0, 4776.0, 4662.0, 4680.0, 4905.0, 4937.0, 4833.0, 4896.0, 5218.0, 5421.0, 5544.0, 5563.0, 5469.0, 5360.0, 5286.0, 5329.0, 5235.0, 5154.0, 5200.0, 5006.0, 5141.0, 5087.0, 5136.0, 4859.0, 4919.0, 5101.0, 5103.0, 5247.0, 5327.0, 5256.0, 5458.0, 5278.0, 5412.0, 5354.0, 5140.0, 5039.0, 5150.0]}, {\"marker\": {\"color\": \"rgba(128, 128, 0, 0.6)\", \"line\": {\"color\": \"rgba(128, 128, 0, 0.8999999999999999)\", \"width\": 1}}, \"name\": \"BN der Prostata\", \"orientation\": \"v\", \"text\": \"\", \"type\": \"bar\", \"x\": [1980, 1981, 1982, 1983, 1984, 1985, 1986, 1987, 1988, 1989, 1990, 1991, 1992, 1993, 1994, 1995, 1996, 1997, 1998, 1999, 2000, 2001, 2002, 2003, 2004, 2005, 2006, 2007, 2008, 2009, 2010, 2011, 2012, 2013, 2014, 2015, 2016, 2017, 2018, 2019], \"y\": [8818.0, 9219.0, 9168.0, 9584.0, 9423.0, 9522.0, 9664.0, 9882.0, 10343.0, 10307.0, 10496.0, 10972.0, 11275.0, 11401.0, 11719.0, 11868.0, 11916.0, 11455.0, 11417.0, 11123.0, 11107.0, 11150.0, 11422.0, 11510.0, 11135.0, 11203.0, 11577.0, 11448.0, 12134.0, 12217.0, 12676.0, 13324.0, 12957.0, 13408.0, 13704.0, 13900.0, 14417.0, 14318.0, 14963.0, 15040.0]}, {\"marker\": {\"color\": \"rgba(251, 128, 114, 0.6)\", \"line\": {\"color\": \"rgba(251, 128, 114, 0.8999999999999999)\", \"width\": 1}}, \"name\": \"BN des Corpus uteri u. Uterus, Teil n.n. bezeichn.\", \"orientation\": \"v\", \"text\": \"\", \"type\": \"bar\", \"x\": [1980, 1981, 1982, 1983, 1984, 1985, 1986, 1987, 1988, 1989, 1990, 1991, 1992, 1993, 1994, 1995, 1996, 1997, 1998, 1999, 2000, 2001, 2002, 2003, 2004, 2005, 2006, 2007, 2008, 2009, 2010, 2011, 2012, 2013, 2014, 2015, 2016, 2017, 2018, 2019], \"y\": [3709.0, 3731.0, 3561.0, 3541.0, 3518.0, 3362.0, 3387.0, 3236.0, 3329.0, 3152.0, 3136.0, 3262.0, 3307.0, 3225.0, 3036.0, 2939.0, 3109.0, 3107.0, 2885.0, 2824.0, 2720.0, 2641.0, 2678.0, 2536.0, 2553.0, 2448.0, 2395.0, 2443.0, 2420.0, 2360.0, 2433.0, 2442.0, 2515.0, 2579.0, 2472.0, 2602.0, 2600.0, 2707.0, 2631.0, 2659.0]}, {\"marker\": {\"color\": \"rgba(251, 128, 114, 0.6)\", \"line\": {\"color\": \"rgba(251, 128, 114, 0.7999999999999998)\", \"width\": 1}}, \"name\": \"BN des Dickdarms\", \"orientation\": \"v\", \"text\": \"\", \"type\": \"bar\", \"x\": [1980, 1981, 1982, 1983, 1984, 1985, 1986, 1987, 1988, 1989, 1990, 1991, 1992, 1993, 1994, 1995, 1996, 1997, 1998, 1999, 2000, 2001, 2002, 2003, 2004, 2005, 2006, 2007, 2008, 2009, 2010, 2011, 2012, 2013, 2014, 2015, 2016, 2017, 2018, 2019], \"y\": [17102.0, 16973.0, 17295.0, 17971.0, 18211.0, 18850.0, 18702.0, 19361.0, 19410.0, 20108.0, 19930.0, 20480.0, 21520.0, 21248.0, 21427.0, 21232.0, 21162.0, 20786.0, 20764.0, 20598.0, 20234.0, 19950.0, 20363.0, 19925.0, 19420.0, 18970.0, 18475.0, 18072.0, 17920.0, 17501.0, 17161.0, 17293.0, 17219.0, 17108.0, 16899.0, 16672.0, 16641.0, 15715.0, 15948.0, 15830.0]}, {\"marker\": {\"color\": \"rgba(128, 177, 211, 0.6)\", \"line\": {\"color\": \"rgba(128, 177, 211, 0.7999999999999998)\", \"width\": 1}}, \"name\": \"BN des Magens\", \"orientation\": \"v\", \"text\": \"\", \"type\": \"bar\", \"x\": [1980, 1981, 1982, 1983, 1984, 1985, 1986, 1987, 1988, 1989, 1990, 1991, 1992, 1993, 1994, 1995, 1996, 1997, 1998, 1999, 2000, 2001, 2002, 2003, 2004, 2005, 2006, 2007, 2008, 2009, 2010, 2011, 2012, 2013, 2014, 2015, 2016, 2017, 2018, 2019], \"y\": [22876.0, 22211.0, 21763.0, 20931.0, 19811.0, 19401.0, 18912.0, 18433.0, 18122.0, 17428.0, 17285.0, 17240.0, 16638.0, 16242.0, 15929.0, 15389.0, 15244.0, 14217.0, 13821.0, 13145.0, 13132.0, 12451.0, 12388.0, 11844.0, 11473.0, 11300.0, 10923.0, 10487.0, 10510.0, 10244.0, 10177.0, 10090.0, 9978.0, 9622.0, 9610.0, 9258.0, 9231.0, 8966.0, 8861.0, 8527.0]}, {\"marker\": {\"color\": \"rgba(255, 153, 51, 0.6)\", \"line\": {\"color\": \"rgba(255, 153, 51, 0.7999999999999998)\", \"width\": 1}}, \"name\": \"BN des Ovars\", \"orientation\": \"v\", \"text\": \"\", \"type\": \"bar\", \"x\": [1980, 1981, 1982, 1983, 1984, 1985, 1986, 1987, 1988, 1989, 1990, 1991, 1992, 1993, 1994, 1995, 1996, 1997, 1998, 1999, 2000, 2001, 2002, 2003, 2004, 2005, 2006, 2007, 2008, 2009, 2010, 2011, 2012, 2013, 2014, 2015, 2016, 2017, 2018, 2019], \"y\": [5580.0, 5588.0, 5803.0, 5891.0, 5929.0, 5923.0, 5936.0, 6085.0, 6177.0, 5999.0, 6018.0, 6239.0, 6135.0, 6356.0, 6186.0, 6113.0, 6132.0, 6262.0, 6027.0, 5847.0, 6006.0, 5821.0, 5910.0, 5754.0, 5479.0, 5571.0, 5636.0, 5564.0, 5529.0, 5623.0, 5599.0, 5837.0, 5646.0, 5466.0, 5354.0, 5431.0, 5486.0, 5373.0, 5326.0, 5291.0]}, {\"marker\": {\"color\": \"rgba(55, 128, 191, 0.6)\", \"line\": {\"color\": \"rgba(55, 128, 191, 0.7999999999999998)\", \"width\": 1}}, \"name\": \"BN des Pankreas\", \"orientation\": \"v\", \"text\": \"\", \"type\": \"bar\", \"x\": [1980, 1981, 1982, 1983, 1984, 1985, 1986, 1987, 1988, 1989, 1990, 1991, 1992, 1993, 1994, 1995, 1996, 1997, 1998, 1999, 2000, 2001, 2002, 2003, 2004, 2005, 2006, 2007, 2008, 2009, 2010, 2011, 2012, 2013, 2014, 2015, 2016, 2017, 2018, 2019], \"y\": [8436.0, 8592.0, 8891.0, 8959.0, 9062.0, 9384.0, 9512.0, 9737.0, 9878.0, 9995.0, 9981.0, 10465.0, 10829.0, 10812.0, 11027.0, 11149.0, 11075.0, 11319.0, 11634.0, 12134.0, 12116.0, 12438.0, 12819.0, 12686.0, 13008.0, 13575.0, 13942.0, 14445.0, 14835.0, 15159.0, 15488.0, 15940.0, 16120.0, 16601.0, 16615.0, 17156.0, 18052.0, 18005.0, 18332.0, 19222.0]}, {\"marker\": {\"color\": \"rgba(50, 171, 96, 0.6)\", \"line\": {\"color\": \"rgba(50, 171, 96, 0.7999999999999998)\", \"width\": 1}}, \"name\": \"BN des Rektums, des Anus und am Rektosigmoid\", \"orientation\": \"v\", \"text\": \"\", \"type\": \"bar\", \"x\": [1980, 1981, 1982, 1983, 1984, 1985, 1986, 1987, 1988, 1989, 1990, 1991, 1992, 1993, 1994, 1995, 1996, 1997, 1998, 1999, 2000, 2001, 2002, 2003, 2004, 2005, 2006, 2007, 2008, 2009, 2010, 2011, 2012, 2013, 2014, 2015, 2016, 2017, 2018, 2019], \"y\": [10584.0, 10262.0, 10057.0, 10098.0, 9740.0, 9744.0, 9563.0, 9431.0, 9476.0, 9529.0, 9252.0, 9387.0, 9421.0, 9389.0, 8899.0, 9089.0, 9298.0, 8988.0, 8930.0, 8788.0, 8753.0, 8417.0, 8505.0, 8664.0, 8362.0, 8569.0, 8325.0, 7977.0, 8239.0, 8075.0, 8275.0, 8370.0, 8217.0, 8041.0, 8092.0, 8173.0, 8122.0, 7984.0, 8257.0, 8137.0]}, {\"marker\": {\"color\": \"rgba(128, 0, 128, 0.6)\", \"line\": {\"color\": \"rgba(128, 0, 128, 0.7999999999999998)\", \"width\": 1}}, \"name\": \"BN des \\u00d6sophagus\", \"orientation\": \"v\", \"text\": \"\", \"type\": \"bar\", \"x\": [1980, 1981, 1982, 1983, 1984, 1985, 1986, 1987, 1988, 1989, 1990, 1991, 1992, 1993, 1994, 1995, 1996, 1997, 1998, 1999, 2000, 2001, 2002, 2003, 2004, 2005, 2006, 2007, 2008, 2009, 2010, 2011, 2012, 2013, 2014, 2015, 2016, 2017, 2018, 2019], \"y\": [2696.0, 2695.0, 2771.0, 2901.0, 2892.0, 3051.0, 3044.0, 3138.0, 3369.0, 3554.0, 3455.0, 3690.0, 3709.0, 3905.0, 3913.0, 4073.0, 4142.0, 4159.0, 3966.0, 4139.0, 4125.0, 4296.0, 4523.0, 4484.0, 4547.0, 4790.0, 4716.0, 4845.0, 4790.0, 4937.0, 4979.0, 5138.0, 5260.0, 5436.0, 5343.0, 5507.0, 5679.0, 5499.0, 5636.0, 5842.0]}, {\"marker\": {\"color\": \"rgba(219, 64, 82, 0.6)\", \"line\": {\"color\": \"rgba(219, 64, 82, 0.7999999999999998)\", \"width\": 1}}, \"name\": \"Best.Zust\\u00e4nde mit Ursprung in der Perinatalperiode\", \"orientation\": \"v\", \"text\": \"\", \"type\": \"bar\", \"x\": [1980, 1981, 1982, 1983, 1984, 1985, 1986, 1987, 1988, 1989, 1990, 1991, 1992, 1993, 1994, 1995, 1996, 1997, 1998, 1999, 2000, 2001, 2002, 2003, 2004, 2005, 2006, 2007, 2008, 2009, 2010, 2011, 2012, 2013, 2014, 2015, 2016, 2017, 2018, 2019], \"y\": [5290.0, 4832.0, 4399.0, 3970.0, 3711.0, 3338.0, 3283.0, 3273.0, 2816.0, 2797.0, 2428.0, 2064.0, 1896.0, 1712.0, 1745.0, 1736.0, 1625.0, 1625.0, 1600.0, 1625.0, 1474.0, 1484.0, 1513.0, 1424.0, 1443.0, 1341.0, 1390.0, 1464.0, 1230.0, 1175.0, 1192.0, 1244.0, 1165.0, 1117.0, 1237.0, 1320.0, 1501.0, 1483.0, 1464.0, 1472.0]}, {\"marker\": {\"color\": \"rgba(0, 128, 128, 0.6)\", \"line\": {\"color\": \"rgba(0, 128, 128, 0.7999999999999998)\", \"width\": 1}}, \"name\": \"Bestimmte infekti\\u00f6se und parasit\\u00e4re Krankheiten\", \"orientation\": \"v\", \"text\": \"\", \"type\": \"bar\", \"x\": [1980, 1981, 1982, 1983, 1984, 1985, 1986, 1987, 1988, 1989, 1990, 1991, 1992, 1993, 1994, 1995, 1996, 1997, 1998, 1999, 2000, 2001, 2002, 2003, 2004, 2005, 2006, 2007, 2008, 2009, 2010, 2011, 2012, 2013, 2014, 2015, 2016, 2017, 2018, 2019], \"y\": [5763.0, 5725.0, 5734.0, 5430.0, 5266.0, 5666.0, 5841.0, 5860.0, 6055.0, 6653.0, 7314.0, 7142.0, 7254.0, 7686.0, 8122.0, 8129.0, 8218.0, 7701.0, 7801.0, 9122.0, 10129.0, 10375.0, 10466.0, 10891.0, 11062.0, 12061.0, 12354.0, 13890.0, 14637.0, 15496.0, 15396.0, 16683.0, 18353.0, 18480.0, 17987.0, 19943.0, 16999.0, 17285.0, 17797.0, 16194.0]}, {\"marker\": {\"color\": \"rgba(255, 255, 51, 0.6)\", \"line\": {\"color\": \"rgba(255, 255, 51, 0.7999999999999998)\", \"width\": 1}}, \"name\": \"B\\u00f6sartige Neubildungen (BN)\", \"orientation\": \"v\", \"text\": \"\", \"type\": \"bar\", \"x\": [1980, 1981, 1982, 1983, 1984, 1985, 1986, 1987, 1988, 1989, 1990, 1991, 1992, 1993, 1994, 1995, 1996, 1997, 1998, 1999, 2000, 2001, 2002, 2003, 2004, 2005, 2006, 2007, 2008, 2009, 2010, 2011, 2012, 2013, 2014, 2015, 2016, 2017, 2018, 2019], \"y\": [192719.0, 194110.0, 195263.0, 197030.0, 194901.0, 197722.0, 197835.0, 201327.0, 204048.0, 205194.0, 205148.0, 210537.0, 212549.0, 213748.0, 212391.0, 212913.0, 212888.0, 210090.0, 212748.0, 210837.0, 210738.0, 207619.0, 210043.0, 209255.0, 209328.0, 211396.0, 211523.0, 211765.0, 216010.0, 216128.0, 218889.0, 221591.0, 221611.0, 223842.0, 223758.0, 226337.0, 230725.0, 227595.0, 230031.0, 231318.0]}, {\"marker\": {\"color\": \"rgba(128, 128, 0, 0.6)\", \"line\": {\"color\": \"rgba(128, 128, 0, 0.7999999999999998)\", \"width\": 1}}, \"name\": \"B\\u00f6sartiges Melanom der Haut\", \"orientation\": \"v\", \"text\": \"\", \"type\": \"bar\", \"x\": [1980, 1981, 1982, 1983, 1984, 1985, 1986, 1987, 1988, 1989, 1990, 1991, 1992, 1993, 1994, 1995, 1996, 1997, 1998, 1999, 2000, 2001, 2002, 2003, 2004, 2005, 2006, 2007, 2008, 2009, 2010, 2011, 2012, 2013, 2014, 2015, 2016, 2017, 2018, 2019], \"y\": [1596.0, 1669.0, 1685.0, 1645.0, 1648.0, 1683.0, 1787.0, 1833.0, 1861.0, 1933.0, 1920.0, 1922.0, 1994.0, 2153.0, 2134.0, 2029.0, 1992.0, 2081.0, 2030.0, 2021.0, 2178.0, 2217.0, 2210.0, 2295.0, 2293.0, 2327.0, 2287.0, 2467.0, 2500.0, 2657.0, 2711.0, 2921.0, 2875.0, 3042.0, 3074.0, 3054.0, 2926.0, 2835.0, 2942.0, 3021.0]}, {\"marker\": {\"color\": \"rgba(128, 128, 0, 0.6)\", \"line\": {\"color\": \"rgba(128, 128, 0, 0.7)\", \"width\": 1}}, \"name\": \"Chronische Krankheiten der unteren Atemwege\", \"orientation\": \"v\", \"text\": \"\", \"type\": \"bar\", \"x\": [1980, 1981, 1982, 1983, 1984, 1985, 1986, 1987, 1988, 1989, 1990, 1991, 1992, 1993, 1994, 1995, 1996, 1997, 1998, 1999, 2000, 2001, 2002, 2003, 2004, 2005, 2006, 2007, 2008, 2009, 2010, 2011, 2012, 2013, 2014, 2015, 2016, 2017, 2018, 2019], \"y\": [31072.0, 31356.0, 30350.0, 30260.0, 29747.0, 31402.0, 30581.0, 28520.0, 27923.0, 28330.0, 29506.0, 29708.0, 28416.0, 29808.0, 28551.0, 29935.0, 29676.0, 26756.0, 26094.0, 26082.0, 25798.0, 23793.0, 25509.0, 27241.0, 24548.0, 25743.0, 24955.0, 25792.0, 25767.0, 28670.0, 28660.0, 28935.0, 29671.0, 32099.0, 29998.0, 34410.0, 32951.0, 35513.0, 36337.0, 35094.0]}, {\"marker\": {\"color\": \"rgba(251, 128, 114, 0.6)\", \"line\": {\"color\": \"rgba(251, 128, 114, 0.7)\", \"width\": 1}}, \"name\": \"Chronische Polyarthritis und Arthrose\", \"orientation\": \"v\", \"text\": \"\", \"type\": \"bar\", \"x\": [1980, 1981, 1982, 1983, 1984, 1985, 1986, 1987, 1988, 1989, 1990, 1991, 1992, 1993, 1994, 1995, 1996, 1997, 1998, 1999, 2000, 2001, 2002, 2003, 2004, 2005, 2006, 2007, 2008, 2009, 2010, 2011, 2012, 2013, 2014, 2015, 2016, 2017, 2018, 2019], \"y\": [1809.0, 1639.0, 1511.0, 1559.0, 1343.0, 1439.0, 1326.0, 1376.0, 1326.0, 1408.0, 1217.0, 1113.0, 1022.0, 1023.0, 1001.0, 929.0, 904.0, 793.0, 615.0, 560.0, 592.0, 619.0, 557.0, 579.0, 463.0, 511.0, 630.0, 579.0, 590.0, 691.0, 746.0, 790.0, 859.0, 876.0, 830.0, 992.0, 1029.0, 1223.0, 1340.0, 1392.0]}, {\"marker\": {\"color\": \"rgba(128, 177, 211, 0.6)\", \"line\": {\"color\": \"rgba(128, 177, 211, 0.7)\", \"width\": 1}}, \"name\": \"Diabetes mellitus\", \"orientation\": \"v\", \"text\": \"\", \"type\": \"bar\", \"x\": [1980, 1981, 1982, 1983, 1984, 1985, 1986, 1987, 1988, 1989, 1990, 1991, 1992, 1993, 1994, 1995, 1996, 1997, 1998, 1999, 2000, 2001, 2002, 2003, 2004, 2005, 2006, 2007, 2008, 2009, 2010, 2011, 2012, 2013, 2014, 2015, 2016, 2017, 2018, 2019], \"y\": [18895.0, 18035.0, 16482.0, 16771.0, 16575.0, 16617.0, 18190.0, 17332.0, 17173.0, 18311.0, 19434.0, 19623.0, 19522.0, 23808.0, 22459.0, 23328.0, 23940.0, 22370.0, 20663.0, 20947.0, 21180.0, 21878.0, 23607.0, 23941.0, 23653.0, 24342.0, 22308.0, 21871.0, 22330.0, 22769.0, 23131.0, 23552.0, 24055.0, 24257.0, 22643.0, 24401.0, 23059.0, 24855.0, 24856.0, 23895.0]}, {\"marker\": {\"color\": \"rgba(255, 153, 51, 0.6)\", \"line\": {\"color\": \"rgba(255, 153, 51, 0.7)\", \"width\": 1}}, \"name\": \"Endokrine, Ern\\u00e4hrungs- u. Stoffwechselkrankheiten\", \"orientation\": \"v\", \"text\": \"\", \"type\": \"bar\", \"x\": [1980, 1981, 1982, 1983, 1984, 1985, 1986, 1987, 1988, 1989, 1990, 1991, 1992, 1993, 1994, 1995, 1996, 1997, 1998, 1999, 2000, 2001, 2002, 2003, 2004, 2005, 2006, 2007, 2008, 2009, 2010, 2011, 2012, 2013, 2014, 2015, 2016, 2017, 2018, 2019], \"y\": [21876.0, 20932.0, 19155.0, 19250.0, 19099.0, 19229.0, 20836.0, 20050.0, 19832.0, 20825.0, 21986.0, 21953.0, 21721.0, 26471.0, 25370.0, 26251.0, 26974.0, 25304.0, 23194.0, 23332.0, 23671.0, 24363.0, 26355.0, 27191.0, 27041.0, 28271.0, 26624.0, 26377.0, 27331.0, 28137.0, 29233.0, 29822.0, 30605.0, 31197.0, 29270.0, 32474.0, 31249.0, 33908.0, 34640.0, 33626.0]}, {\"marker\": {\"color\": \"rgba(55, 128, 191, 0.6)\", \"line\": {\"color\": \"rgba(55, 128, 191, 0.7)\", \"width\": 1}}, \"name\": \"Ereignis, dessen n\\u00e4here Umst\\u00e4nde unbestimmt sind\", \"orientation\": \"v\", \"text\": \"\", \"type\": \"bar\", \"x\": [1980, 1981, 1982, 1983, 1984, 1985, 1986, 1987, 1988, 1989, 1990, 1991, 1992, 1993, 1994, 1995, 1996, 1997, 1998, 1999, 2000, 2001, 2002, 2003, 2004, 2005, 2006, 2007, 2008, 2009, 2010, 2011, 2012, 2013, 2014, 2015, 2016, 2017, 2018, 2019], \"y\": [1928.0, 1728.0, 1965.0, 1948.0, 1862.0, 1843.0, 1800.0, 1846.0, 1784.0, 1738.0, 1890.0, 2148.0, 2147.0, 2209.0, 2106.0, 1713.0, 1837.0, 1817.0, 2501.0, 2430.0, 2453.0, 2389.0, 2628.0, 2427.0, 2511.0, 2224.0, 2392.0, 2191.0, 2454.0, 2468.0, 2468.0, 1912.0, 1723.0, 1606.0, 1278.0, 1313.0, 1413.0, 1800.0, 1890.0, 2232.0]}, {\"marker\": {\"color\": \"rgba(50, 171, 96, 0.6)\", \"line\": {\"color\": \"rgba(50, 171, 96, 0.7)\", \"width\": 1}}, \"name\": \"Ertrinken und Untergehen\", \"orientation\": \"v\", \"text\": \"\", \"type\": \"bar\", \"x\": [1980, 1981, 1982, 1983, 1984, 1985, 1986, 1987, 1988, 1989, 1990, 1991, 1992, 1993, 1994, 1995, 1996, 1997, 1998, 1999, 2000, 2001, 2002, 2003, 2004, 2005, 2006, 2007, 2008, 2009, 2010, 2011, 2012, 2013, 2014, 2015, 2016, 2017, 2018, 2019], \"y\": [1114.0, 1099.0, 1140.0, 1106.0, 877.0, 814.0, 915.0, 787.0, 865.0, 753.0, 765.0, 773.0, 758.0, 655.0, 775.0, 680.0, 509.0, 602.0, 477.0, 597.0, 507.0, 455.0, 469.0, 514.0, 401.0, 400.0, 418.0, 351.0, 392.0, 389.0, 393.0, 370.0, 417.0, 465.0, 389.0, 444.0, 447.0, 382.0, 444.0, 399.0]}, {\"marker\": {\"color\": \"rgba(128, 0, 128, 0.6)\", \"line\": {\"color\": \"rgba(128, 0, 128, 0.7)\", \"width\": 1}}, \"name\": \"Exposition gegen\\u00fcber Rauch, Feuer und Flammen\", \"orientation\": \"v\", \"text\": \"\", \"type\": \"bar\", \"x\": [1980, 1981, 1982, 1983, 1984, 1985, 1986, 1987, 1988, 1989, 1990, 1991, 1992, 1993, 1994, 1995, 1996, 1997, 1998, 1999, 2000, 2001, 2002, 2003, 2004, 2005, 2006, 2007, 2008, 2009, 2010, 2011, 2012, 2013, 2014, 2015, 2016, 2017, 2018, 2019], \"y\": [766.0, 797.0, 748.0, 676.0, 681.0, 729.0, 659.0, 731.0, 595.0, 716.0, 787.0, 834.0, 730.0, 701.0, 596.0, 614.0, 714.0, 585.0, 522.0, 506.0, 475.0, 478.0, 550.0, 475.0, 446.0, 484.0, 406.0, 346.0, 398.0, 433.0, 373.0, 376.0, 384.0, 415.0, 347.0, 343.0, 325.0, 335.0, 306.0, 343.0]}, {\"marker\": {\"color\": \"rgba(219, 64, 82, 0.6)\", \"line\": {\"color\": \"rgba(219, 64, 82, 0.7)\", \"width\": 1}}, \"name\": \"Grippe\", \"orientation\": \"v\", \"text\": \"\", \"type\": \"bar\", \"x\": [1980, 1981, 1982, 1983, 1984, 1985, 1986, 1987, 1988, 1989, 1990, 1991, 1992, 1993, 1994, 1995, 1996, 1997, 1998, 1999, 2000, 2001, 2002, 2003, 2004, 2005, 2006, 2007, 2008, 2009, 2010, 2011, 2012, 2013, 2014, 2015, 2016, 2017, 2018, 2019], \"y\": [767.0, 866.0, 551.0, 1206.0, 516.0, 881.0, 1249.0, 358.0, 365.0, 500.0, 738.0, 310.0, 250.0, 434.0, 270.0, 425.0, 422.0, 184.0, 239.0, 364.0, 267.0, 72.0, 102.0, 300.0, 125.0, 301.0, 66.0, 99.0, 91.0, 277.0, 115.0, 225.0, 72.0, 447.0, 79.0, 700.0, 410.0, 1176.0, 3029.0, 1659.0]}, {\"marker\": {\"color\": \"rgba(0, 128, 128, 0.6)\", \"line\": {\"color\": \"rgba(0, 128, 128, 0.7)\", \"width\": 1}}, \"name\": \"Gutartige Neubildungen\", \"orientation\": \"v\", \"text\": \"\", \"type\": \"bar\", \"x\": [1980, 1981, 1982, 1983, 1984, 1985, 1986, 1987, 1988, 1989, 1990, 1991, 1992, 1993, 1994, 1995, 1996, 1997, 1998, 1999, 2000, 2001, 2002, 2003, 2004, 2005, 2006, 2007, 2008, 2009, 2010, 2011, 2012, 2013, 2014, 2015, 2016, 2017, 2018, 2019], \"y\": [854.0, 867.0, 822.0, 814.0, 859.0, 822.0, 756.0, 747.0, 724.0, 715.0, 689.0, 556.0, 375.0, 424.0, 441.0, 377.0, 360.0, 323.0, 388.0, 297.0, 403.0, 416.0, 390.0, 418.0, 397.0, 389.0, 428.0, 413.0, 467.0, 479.0, 471.0, 582.0, 636.0, 601.0, 630.0, 662.0, 755.0, 768.0, 765.0, 829.0]}, {\"marker\": {\"color\": \"rgba(255, 255, 51, 0.6)\", \"line\": {\"color\": \"rgba(255, 255, 51, 0.7)\", \"width\": 1}}, \"name\": \"HIV-Krankheit\", \"orientation\": \"v\", \"text\": \"\", \"type\": \"bar\", \"x\": [1980, 1981, 1982, 1983, 1984, 1985, 1986, 1987, 1988, 1989, 1990, 1991, 1992, 1993, 1994, 1995, 1996, 1997, 1998, 1999, 2000, 2001, 2002, 2003, 2004, 2005, 2006, 2007, 2008, 2009, 2010, 2011, 2012, 2013, 2014, 2015, 2016, 2017, 2018, 2019], \"y\": [0.0, 0.0, 0.0, 0.0, 0.0, 0.0, 0.0, 0.0, 0.0, 946.0, 1301.0, 1597.0, 1780.0, 2030.0, 2123.0, 2045.0, 1583.0, 814.0, 596.0, 587.0, 580.0, 543.0, 518.0, 507.0, 507.0, 491.0, 504.0, 461.0, 443.0, 431.0, 455.0, 463.0, 410.0, 401.0, 388.0, 371.0, 343.0, 311.0, 294.0, 285.0]}, {\"marker\": {\"color\": \"rgba(255, 255, 51, 0.6)\", \"line\": {\"color\": \"rgba(255, 255, 51, 0.5999999999999999)\", \"width\": 1}}, \"name\": \"Hypertonie (Hochdruckkrankheit)\", \"orientation\": \"v\", \"text\": \"\", \"type\": \"bar\", \"x\": [1980, 1981, 1982, 1983, 1984, 1985, 1986, 1987, 1988, 1989, 1990, 1991, 1992, 1993, 1994, 1995, 1996, 1997, 1998, 1999, 2000, 2001, 2002, 2003, 2004, 2005, 2006, 2007, 2008, 2009, 2010, 2011, 2012, 2013, 2014, 2015, 2016, 2017, 2018, 2019], \"y\": [32588.0, 32279.0, 30830.0, 29151.0, 27226.0, 27584.0, 26510.0, 25894.0, 24255.0, 22932.0, 20996.0, 15247.0, 14667.0, 14124.0, 13812.0, 13538.0, 14386.0, 15067.0, 15065.0, 16753.0, 18775.0, 20805.0, 23261.0, 24912.0, 25791.0, 27533.0, 28503.0, 30287.0, 31076.0, 31118.0, 32266.0, 33575.0, 35990.0, 39645.0, 37188.0, 41772.0, 40635.0, 43578.0, 44275.0, 43277.0]}, {\"marker\": {\"color\": \"rgba(128, 128, 0, 0.6)\", \"line\": {\"color\": \"rgba(128, 128, 0, 0.5999999999999999)\", \"width\": 1}}, \"name\": \"Insgesamt\", \"orientation\": \"v\", \"text\": \"\", \"type\": \"bar\", \"x\": [1980, 1981, 1982, 1983, 1984, 1985, 1986, 1987, 1988, 1989, 1990, 1991, 1992, 1993, 1994, 1995, 1996, 1997, 1998, 1999, 2000, 2001, 2002, 2003, 2004, 2005, 2006, 2007, 2008, 2009, 2010, 2011, 2012, 2013, 2014, 2015, 2016, 2017, 2018, 2019], \"y\": [952356.0, 954373.0, 943782.0, 941028.0, 917281.0, 929639.0, 925344.0, 901267.0, 900600.0, 903412.0, 921445.0, 911245.0, 885443.0, 897270.0, 884661.0, 884588.0, 882843.0, 860389.0, 852382.0, 846330.0, 838797.0, 828541.0, 841686.0, 853946.0, 818271.0, 830227.0, 821627.0, 827155.0, 844439.0, 854544.0, 858768.0, 852328.0, 869582.0, 893825.0, 868356.0, 925200.0, 910902.0, 932263.0, 954874.0, 939520.0]}, {\"marker\": {\"color\": \"rgba(251, 128, 114, 0.6)\", \"line\": {\"color\": \"rgba(251, 128, 114, 0.5999999999999999)\", \"width\": 1}}, \"name\": \"Isch\\u00e4mische Herzkrankheiten\", \"orientation\": \"v\", \"text\": \"\", \"type\": \"bar\", \"x\": [1980, 1981, 1982, 1983, 1984, 1985, 1986, 1987, 1988, 1989, 1990, 1991, 1992, 1993, 1994, 1995, 1996, 1997, 1998, 1999, 2000, 2001, 2002, 2003, 2004, 2005, 2006, 2007, 2008, 2009, 2010, 2011, 2012, 2013, 2014, 2015, 2016, 2017, 2018, 2019], \"y\": [160519.0, 162906.0, 162246.0, 164935.0, 166914.0, 172511.0, 167930.0, 168732.0, 169063.0, 167453.0, 172511.0, 180918.0, 179679.0, 184487.0, 180891.0, 183736.0, 181305.0, 178650.0, 178715.0, 175081.0, 167681.0, 165069.0, 164801.0, 163445.0, 152659.0, 148641.0, 144189.0, 140388.0, 134822.0, 135413.0, 133126.0, 127101.0, 128171.0, 128808.0, 121166.0, 128230.0, 122274.0, 125614.0, 123975.0, 119082.0]}, {\"marker\": {\"color\": \"rgba(128, 177, 211, 0.6)\", \"line\": {\"color\": \"rgba(128, 177, 211, 0.5999999999999999)\", \"width\": 1}}, \"name\": \"Krankh. des Muskel-Skelett-Systems u. Bindegewebes\", \"orientation\": \"v\", \"text\": \"\", \"type\": \"bar\", \"x\": [1980, 1981, 1982, 1983, 1984, 1985, 1986, 1987, 1988, 1989, 1990, 1991, 1992, 1993, 1994, 1995, 1996, 1997, 1998, 1999, 2000, 2001, 2002, 2003, 2004, 2005, 2006, 2007, 2008, 2009, 2010, 2011, 2012, 2013, 2014, 2015, 2016, 2017, 2018, 2019], \"y\": [3751.0, 3563.0, 3288.0, 3332.0, 2840.0, 2811.0, 2926.0, 3353.0, 3231.0, 3358.0, 3200.0, 2921.0, 2786.0, 2637.0, 2384.0, 2260.0, 2201.0, 2073.0, 1846.0, 1800.0, 1832.0, 1908.0, 1926.0, 2021.0, 1981.0, 2024.0, 2282.0, 2189.0, 2303.0, 2662.0, 2937.0, 3056.0, 3299.0, 3524.0, 3317.0, 3771.0, 4011.0, 4812.0, 5213.0, 5367.0]}, {\"marker\": {\"color\": \"rgba(255, 153, 51, 0.6)\", \"line\": {\"color\": \"rgba(255, 153, 51, 0.5999999999999999)\", \"width\": 1}}, \"name\": \"Krankheiten d. Nervensystems u. d. Sinnesorgane\", \"orientation\": \"v\", \"text\": \"\", \"type\": \"bar\", \"x\": [1980, 1981, 1982, 1983, 1984, 1985, 1986, 1987, 1988, 1989, 1990, 1991, 1992, 1993, 1994, 1995, 1996, 1997, 1998, 1999, 2000, 2001, 2002, 2003, 2004, 2005, 2006, 2007, 2008, 2009, 2010, 2011, 2012, 2013, 2014, 2015, 2016, 2017, 2018, 2019], \"y\": [9240.0, 9699.0, 9881.0, 9679.0, 9243.0, 9736.0, 9938.0, 11221.0, 11503.0, 11856.0, 12547.0, 13084.0, 13200.0, 13618.0, 13796.0, 14675.0, 15965.0, 15691.0, 15934.0, 15736.0, 16109.0, 16647.0, 17756.0, 18470.0, 17689.0, 18565.0, 19411.0, 18283.0, 19841.0, 20835.0, 21868.0, 22731.0, 24287.0, 25792.0, 25888.0, 29141.0, 29799.0, 32393.0, 34892.0, 34225.0]}, {\"marker\": {\"color\": \"rgba(55, 128, 191, 0.6)\", \"line\": {\"color\": \"rgba(55, 128, 191, 0.5999999999999999)\", \"width\": 1}}, \"name\": \"Krankheiten der Arterien, Arteriolen und Kapillare\", \"orientation\": \"v\", \"text\": \"\", \"type\": \"bar\", \"x\": [1980, 1981, 1982, 1983, 1984, 1985, 1986, 1987, 1988, 1989, 1990, 1991, 1992, 1993, 1994, 1995, 1996, 1997, 1998, 1999, 2000, 2001, 2002, 2003, 2004, 2005, 2006, 2007, 2008, 2009, 2010, 2011, 2012, 2013, 2014, 2015, 2016, 2017, 2018, 2019], \"y\": [66292.0, 64551.0, 64317.0, 63542.0, 61813.0, 62633.0, 63593.0, 58753.0, 55357.0, 54120.0, 47928.0, 38531.0, 32668.0, 30283.0, 28038.0, 26761.0, 26410.0, 25191.0, 25197.0, 24856.0, 23148.0, 22676.0, 22536.0, 23316.0, 22097.0, 22177.0, 20399.0, 20576.0, 20689.0, 20117.0, 19240.0, 18862.0, 18859.0, 18504.0, 17877.0, 15232.0, 14628.0, 12740.0, 12909.0, 12105.0]}, {\"marker\": {\"color\": \"rgba(50, 171, 96, 0.6)\", \"line\": {\"color\": \"rgba(50, 171, 96, 0.5999999999999999)\", \"width\": 1}}, \"name\": \"Krankheiten der Haut und der Unterhaut\", \"orientation\": \"v\", \"text\": \"\", \"type\": \"bar\", \"x\": [1980, 1981, 1982, 1983, 1984, 1985, 1986, 1987, 1988, 1989, 1990, 1991, 1992, 1993, 1994, 1995, 1996, 1997, 1998, 1999, 2000, 2001, 2002, 2003, 2004, 2005, 2006, 2007, 2008, 2009, 2010, 2011, 2012, 2013, 2014, 2015, 2016, 2017, 2018, 2019], \"y\": [789.0, 813.0, 862.0, 866.0, 952.0, 943.0, 992.0, 931.0, 1097.0, 1002.0, 1009.0, 968.0, 910.0, 839.0, 734.0, 717.0, 656.0, 563.0, 470.0, 441.0, 434.0, 406.0, 453.0, 521.0, 587.0, 607.0, 677.0, 820.0, 967.0, 1030.0, 1141.0, 1161.0, 1195.0, 1374.0, 1416.0, 1442.0, 1594.0, 1565.0, 1597.0, 1719.0]}, {\"marker\": {\"color\": \"rgba(128, 0, 128, 0.6)\", \"line\": {\"color\": \"rgba(128, 0, 128, 0.5999999999999999)\", \"width\": 1}}, \"name\": \"Krankheiten der Leber\", \"orientation\": \"v\", \"text\": \"\", \"type\": \"bar\", \"x\": [1980, 1981, 1982, 1983, 1984, 1985, 1986, 1987, 1988, 1989, 1990, 1991, 1992, 1993, 1994, 1995, 1996, 1997, 1998, 1999, 2000, 2001, 2002, 2003, 2004, 2005, 2006, 2007, 2008, 2009, 2010, 2011, 2012, 2013, 2014, 2015, 2016, 2017, 2018, 2019], \"y\": [20547.0, 20677.0, 19563.0, 19287.0, 18223.0, 18318.0, 17554.0, 17803.0, 18119.0, 18638.0, 19166.0, 20578.0, 20382.0, 20776.0, 20797.0, 20349.0, 20100.0, 19567.0, 18563.0, 18295.0, 18428.0, 18140.0, 18341.0, 18115.0, 17122.0, 16806.0, 16301.0, 15482.0, 15703.0, 15443.0, 15413.0, 15174.0, 14962.0, 15255.0, 14744.0, 15190.0, 15863.0, 15872.0, 15778.0, 15570.0]}, {\"marker\": {\"color\": \"rgba(219, 64, 82, 0.6)\", \"line\": {\"color\": \"rgba(219, 64, 82, 0.5999999999999999)\", \"width\": 1}}, \"name\": \"Krankheiten der Niere\", \"orientation\": \"v\", \"text\": \"\", \"type\": \"bar\", \"x\": [1980, 1981, 1982, 1983, 1984, 1985, 1986, 1987, 1988, 1989, 1990, 1991, 1992, 1993, 1994, 1995, 1996, 1997, 1998, 1999, 2000, 2001, 2002, 2003, 2004, 2005, 2006, 2007, 2008, 2009, 2010, 2011, 2012, 2013, 2014, 2015, 2016, 2017, 2018, 2019], \"y\": [11327.0, 10948.0, 10694.0, 9847.0, 9634.0, 9815.0, 9847.0, 9155.0, 9281.0, 9334.0, 9012.0, 8152.0, 7744.0, 7830.0, 8027.0, 8214.0, 7868.0, 7274.0, 8562.0, 8546.0, 8601.0, 8908.0, 9575.0, 10011.0, 10371.0, 11120.0, 11708.0, 12982.0, 14624.0, 14795.0, 15633.0, 15697.0, 16151.0, 16749.0, 16807.0, 19048.0, 18053.0, 17616.0, 18402.0, 18279.0]}, {\"marker\": {\"color\": \"rgba(0, 128, 128, 0.6)\", \"line\": {\"color\": \"rgba(0, 128, 128, 0.5999999999999999)\", \"width\": 1}}, \"name\": \"Krankheiten des Atmungssystems\", \"orientation\": \"v\", \"text\": \"\", \"type\": \"bar\", \"x\": [1980, 1981, 1982, 1983, 1984, 1985, 1986, 1987, 1988, 1989, 1990, 1991, 1992, 1993, 1994, 1995, 1996, 1997, 1998, 1999, 2000, 2001, 2002, 2003, 2004, 2005, 2006, 2007, 2008, 2009, 2010, 2011, 2012, 2013, 2014, 2015, 2016, 2017, 2018, 2019], \"y\": [55106.0, 54554.0, 56622.0, 58630.0, 56243.0, 58520.0, 60274.0, 51394.0, 50826.0, 52564.0, 57661.0, 53792.0, 50360.0, 52934.0, 52824.0, 53898.0, 53843.0, 50434.0, 49084.0, 51505.0, 51806.0, 48535.0, 53646.0, 58014.0, 52500.0, 57742.0, 54888.0, 57956.0, 59049.0, 63304.0, 60515.0, 60019.0, 60454.0, 64918.0, 58604.0, 68300.0, 64414.0, 68408.0, 71719.0, 67021.0]}, {\"marker\": {\"color\": \"rgba(0, 128, 128, 0.6)\", \"line\": {\"color\": \"rgba(0, 128, 128, 0.49999999999999983)\", \"width\": 1}}, \"name\": \"Krankheiten des Blutes u. der blutbildenden Organe\", \"orientation\": \"v\", \"text\": \"\", \"type\": \"bar\", \"x\": [1980, 1981, 1982, 1983, 1984, 1985, 1986, 1987, 1988, 1989, 1990, 1991, 1992, 1993, 1994, 1995, 1996, 1997, 1998, 1999, 2000, 2001, 2002, 2003, 2004, 2005, 2006, 2007, 2008, 2009, 2010, 2011, 2012, 2013, 2014, 2015, 2016, 2017, 2018, 2019], \"y\": [2250.0, 2267.0, 2322.0, 2270.0, 2223.0, 2226.0, 2143.0, 2170.0, 2171.0, 2344.0, 2401.0, 2060.0, 2082.0, 1895.0, 1755.0, 1684.0, 1742.0, 1792.0, 1605.0, 1658.0, 1815.0, 1901.0, 1872.0, 2029.0, 2054.0, 2123.0, 2044.0, 2136.0, 2454.0, 2442.0, 2588.0, 2683.0, 2685.0, 2916.0, 2931.0, 3335.0, 3218.0, 3684.0, 3781.0, 3794.0]}, {\"marker\": {\"color\": \"rgba(255, 255, 51, 0.6)\", \"line\": {\"color\": \"rgba(255, 255, 51, 0.49999999999999983)\", \"width\": 1}}, \"name\": \"Krankheiten des Kreislaufsystems\", \"orientation\": \"v\", \"text\": \"\", \"type\": \"bar\", \"x\": [1980, 1981, 1982, 1983, 1984, 1985, 1986, 1987, 1988, 1989, 1990, 1991, 1992, 1993, 1994, 1995, 1996, 1997, 1998, 1999, 2000, 2001, 2002, 2003, 2004, 2005, 2006, 2007, 2008, 2009, 2010, 2011, 2012, 2013, 2014, 2015, 2016, 2017, 2018, 2019], \"y\": [500481.0, 505229.0, 495328.0, 492449.0, 481761.0, 491653.0, 482853.0, 467462.0, 464492.0, 460974.0, 462992.0, 455774.0, 437240.0, 440896.0, 430542.0, 429407.0, 425884.0, 415892.0, 411404.0, 406122.0, 395043.0, 391727.0, 393778.0, 396622.0, 368472.0, 367361.0, 358953.0, 358684.0, 356729.0, 356462.0, 352689.0, 342233.0, 349217.0, 354493.0, 338056.0, 356616.0, 338687.0, 344524.0, 345274.0, 331211.0]}, {\"marker\": {\"color\": \"rgba(128, 128, 0, 0.6)\", \"line\": {\"color\": \"rgba(128, 128, 0, 0.49999999999999983)\", \"width\": 1}}, \"name\": \"Krankheiten des Urogenitalsystems\", \"orientation\": \"v\", \"text\": \"\", \"type\": \"bar\", \"x\": [1980, 1981, 1982, 1983, 1984, 1985, 1986, 1987, 1988, 1989, 1990, 1991, 1992, 1993, 1994, 1995, 1996, 1997, 1998, 1999, 2000, 2001, 2002, 2003, 2004, 2005, 2006, 2007, 2008, 2009, 2010, 2011, 2012, 2013, 2014, 2015, 2016, 2017, 2018, 2019], \"y\": [14793.0, 14369.0, 13895.0, 12712.0, 12163.0, 12387.0, 12158.0, 11373.0, 11368.0, 11465.0, 11073.0, 10006.0, 9483.0, 9389.0, 9710.0, 9876.0, 9539.0, 9070.0, 10735.0, 10749.0, 10719.0, 11221.0, 12260.0, 13181.0, 13246.0, 14288.0, 15087.0, 16624.0, 18537.0, 18834.0, 19768.0, 19667.0, 20536.0, 21888.0, 22247.0, 24899.0, 23802.0, 23471.0, 24719.0, 24740.0]}, {\"marker\": {\"color\": \"rgba(251, 128, 114, 0.6)\", \"line\": {\"color\": \"rgba(251, 128, 114, 0.49999999999999983)\", \"width\": 1}}, \"name\": \"Krankheiten des Verdauungssystems\", \"orientation\": \"v\", \"text\": \"\", \"type\": \"bar\", \"x\": [1980, 1981, 1982, 1983, 1984, 1985, 1986, 1987, 1988, 1989, 1990, 1991, 1992, 1993, 1994, 1995, 1996, 1997, 1998, 1999, 2000, 2001, 2002, 2003, 2004, 2005, 2006, 2007, 2008, 2009, 2010, 2011, 2012, 2013, 2014, 2015, 2016, 2017, 2018, 2019], \"y\": [47152.0, 46962.0, 45753.0, 44639.0, 42126.0, 42066.0, 41038.0, 40417.0, 41426.0, 41447.0, 41782.0, 43044.0, 41865.0, 42280.0, 42827.0, 41821.0, 41940.0, 40814.0, 40510.0, 40154.0, 40712.0, 40918.0, 41849.0, 42263.0, 42213.0, 42787.0, 42973.0, 42163.0, 43686.0, 42288.0, 42684.0, 40507.0, 40094.0, 40112.0, 38537.0, 39844.0, 40673.0, 41038.0, 41074.0, 41421.0]}, {\"marker\": {\"color\": \"rgba(128, 177, 211, 0.6)\", \"line\": {\"color\": \"rgba(128, 177, 211, 0.49999999999999983)\", \"width\": 1}}, \"name\": \"Leuk\\u00e4mie\", \"orientation\": \"v\", \"text\": \"\", \"type\": \"bar\", \"x\": [1980, 1981, 1982, 1983, 1984, 1985, 1986, 1987, 1988, 1989, 1990, 1991, 1992, 1993, 1994, 1995, 1996, 1997, 1998, 1999, 2000, 2001, 2002, 2003, 2004, 2005, 2006, 2007, 2008, 2009, 2010, 2011, 2012, 2013, 2014, 2015, 2016, 2017, 2018, 2019], \"y\": [6027.0, 6000.0, 6315.0, 6003.0, 5979.0, 6148.0, 6137.0, 6253.0, 6417.0, 6374.0, 6463.0, 6668.0, 6608.0, 6664.0, 6675.0, 6548.0, 6610.0, 6762.0, 6980.0, 7020.0, 6849.0, 6693.0, 6877.0, 6859.0, 7065.0, 7193.0, 7107.0, 6962.0, 7308.0, 7107.0, 7246.0, 7618.0, 7600.0, 7955.0, 7743.0, 7869.0, 8252.0, 8174.0, 8270.0, 8260.0]}, {\"marker\": {\"color\": \"rgba(255, 153, 51, 0.6)\", \"line\": {\"color\": \"rgba(255, 153, 51, 0.49999999999999983)\", \"width\": 1}}, \"name\": \"Melanom und sonstige b\\u00f6sartige Neubild. der Haut\", \"orientation\": \"v\", \"text\": \"\", \"type\": \"bar\", \"x\": [1980, 1981, 1982, 1983, 1984, 1985, 1986, 1987, 1988, 1989, 1990, 1991, 1992, 1993, 1994, 1995, 1996, 1997, 1998, 1999, 2000, 2001, 2002, 2003, 2004, 2005, 2006, 2007, 2008, 2009, 2010, 2011, 2012, 2013, 2014, 2015, 2016, 2017, 2018, 2019], \"y\": [2051.0, 2132.0, 2199.0, 2099.0, 2129.0, 2201.0, 2249.0, 2330.0, 2342.0, 2425.0, 2356.0, 2436.0, 2504.0, 2653.0, 2587.0, 2485.0, 2427.0, 2469.0, 2425.0, 2391.0, 2606.0, 2647.0, 2677.0, 2800.0, 2797.0, 2880.0, 2880.0, 2974.0, 3068.0, 3247.0, 3332.0, 3598.0, 3563.0, 3791.0, 3860.0, 3868.0, 3824.0, 3764.0, 3908.0, 4097.0]}, {\"marker\": {\"color\": \"rgba(55, 128, 191, 0.6)\", \"line\": {\"color\": \"rgba(55, 128, 191, 0.49999999999999983)\", \"width\": 1}}, \"name\": \"Meningitis\", \"orientation\": \"v\", \"text\": \"\", \"type\": \"bar\", \"x\": [1980, 1981, 1982, 1983, 1984, 1985, 1986, 1987, 1988, 1989, 1990, 1991, 1992, 1993, 1994, 1995, 1996, 1997, 1998, 1999, 2000, 2001, 2002, 2003, 2004, 2005, 2006, 2007, 2008, 2009, 2010, 2011, 2012, 2013, 2014, 2015, 2016, 2017, 2018, 2019], \"y\": [502.0, 473.0, 481.0, 437.0, 417.0, 408.0, 341.0, 340.0, 320.0, 369.0, 343.0, 355.0, 301.0, 298.0, 266.0, 265.0, 303.0, 281.0, 208.0, 171.0, 226.0, 184.0, 186.0, 205.0, 179.0, 202.0, 178.0, 187.0, 171.0, 169.0, 142.0, 166.0, 144.0, 140.0, 124.0, 132.0, 137.0, 126.0, 140.0, 126.0]}, {\"marker\": {\"color\": \"rgba(50, 171, 96, 0.6)\", \"line\": {\"color\": \"rgba(50, 171, 96, 0.49999999999999983)\", \"width\": 1}}, \"name\": \"Meningokokkeninfektion\", \"orientation\": \"v\", \"text\": \"\", \"type\": \"bar\", \"x\": [1980, 1981, 1982, 1983, 1984, 1985, 1986, 1987, 1988, 1989, 1990, 1991, 1992, 1993, 1994, 1995, 1996, 1997, 1998, 1999, 2000, 2001, 2002, 2003, 2004, 2005, 2006, 2007, 2008, 2009, 2010, 2011, 2012, 2013, 2014, 2015, 2016, 2017, 2018, 2019], \"y\": [119.0, 143.0, 151.0, 125.0, 115.0, 134.0, 136.0, 115.0, 111.0, 98.0, 89.0, 100.0, 76.0, 82.0, 81.0, 63.0, 76.0, 74.0, 68.0, 80.0, 65.0, 69.0, 78.0, 69.0, 63.0, 54.0, 56.0, 51.0, 46.0, 33.0, 43.0, 25.0, 30.0, 33.0, 30.0, 32.0, 23.0, 27.0, 29.0, 20.0]}, {\"marker\": {\"color\": \"rgba(128, 0, 128, 0.6)\", \"line\": {\"color\": \"rgba(128, 0, 128, 0.49999999999999983)\", \"width\": 1}}, \"name\": \"Neubildungen\", \"orientation\": \"v\", \"text\": \"\", \"type\": \"bar\", \"x\": [1980, 1981, 1982, 1983, 1984, 1985, 1986, 1987, 1988, 1989, 1990, 1991, 1992, 1993, 1994, 1995, 1996, 1997, 1998, 1999, 2000, 2001, 2002, 2003, 2004, 2005, 2006, 2007, 2008, 2009, 2010, 2011, 2012, 2013, 2014, 2015, 2016, 2017, 2018, 2019], \"y\": [201084.0, 202255.0, 203004.0, 204732.0, 202840.0, 204764.0, 204288.0, 207093.0, 209892.0, 210809.0, 210712.0, 215978.0, 217607.0, 219764.0, 218412.0, 218597.0, 219064.0, 215765.0, 218445.0, 216264.0, 216419.0, 213058.0, 215441.0, 214788.0, 214863.0, 216928.0, 217095.0, 217289.0, 221920.0, 222153.0, 225141.0, 228220.0, 228289.0, 230840.0, 230771.0, 233752.0, 238396.0, 235686.0, 238345.0, 239591.0]}, {\"marker\": {\"color\": \"rgba(219, 64, 82, 0.6)\", \"line\": {\"color\": \"rgba(219, 64, 82, 0.49999999999999983)\", \"width\": 1}}, \"name\": \"Pl\\u00f6tzlicher Kindstod\", \"orientation\": \"v\", \"text\": \"\", \"type\": \"bar\", \"x\": [1980, 1981, 1982, 1983, 1984, 1985, 1986, 1987, 1988, 1989, 1990, 1991, 1992, 1993, 1994, 1995, 1996, 1997, 1998, 1999, 2000, 2001, 2002, 2003, 2004, 2005, 2006, 2007, 2008, 2009, 2010, 2011, 2012, 2013, 2014, 2015, 2016, 2017, 2018, 2019], \"y\": [662.0, 774.0, 810.0, 751.0, 807.0, 929.0, 1021.0, 1054.0, 1094.0, 1140.0, 1283.0, 1285.0, 924.0, 870.0, 747.0, 751.0, 692.0, 671.0, 602.0, 507.0, 482.0, 429.0, 367.0, 372.0, 323.0, 298.0, 259.0, 228.0, 220.0, 198.0, 164.0, 147.0, 131.0, 152.0, 119.0, 127.0, 137.0, 130.0, 119.0, 107.0]}, {\"marker\": {\"color\": \"rgba(219, 64, 82, 0.6)\", \"line\": {\"color\": \"rgba(219, 64, 82, 0.39999999999999974)\", \"width\": 1}}, \"name\": \"Pneumonie\", \"orientation\": \"v\", \"text\": \"\", \"type\": \"bar\", \"x\": [1980, 1981, 1982, 1983, 1984, 1985, 1986, 1987, 1988, 1989, 1990, 1991, 1992, 1993, 1994, 1995, 1996, 1997, 1998, 1999, 2000, 2001, 2002, 2003, 2004, 2005, 2006, 2007, 2008, 2009, 2010, 2011, 2012, 2013, 2014, 2015, 2016, 2017, 2018, 2019], \"y\": [17313.0, 16618.0, 19840.0, 21384.0, 20341.0, 20213.0, 21793.0, 16484.0, 16344.0, 17479.0, 20274.0, 17310.0, 16352.0, 16840.0, 18277.0, 17613.0, 17381.0, 17328.0, 17262.0, 18603.0, 18490.0, 17540.0, 19203.0, 21522.0, 18969.0, 21699.0, 20368.0, 21784.0, 21839.0, 22231.0, 19727.0, 19337.0, 18817.0, 19918.0, 16711.0, 20174.0, 18705.0, 19578.0, 20227.0, 18514.0]}, {\"marker\": {\"color\": \"rgba(0, 128, 128, 0.6)\", \"line\": {\"color\": \"rgba(0, 128, 128, 0.39999999999999974)\", \"width\": 1}}, \"name\": \"Psych. u. Verhaltensst\\u00f6rungen d.a.psychotr. Subst.\", \"orientation\": \"v\", \"text\": \"\", \"type\": \"bar\", \"x\": [1980, 1981, 1982, 1983, 1984, 1985, 1986, 1987, 1988, 1989, 1990, 1991, 1992, 1993, 1994, 1995, 1996, 1997, 1998, 1999, 2000, 2001, 2002, 2003, 2004, 2005, 2006, 2007, 2008, 2009, 2010, 2011, 2012, 2013, 2014, 2015, 2016, 2017, 2018, 2019], \"y\": [522.0, 459.0, 472.0, 541.0, 484.0, 460.0, 492.0, 519.0, 729.0, 897.0, 1243.0, 1682.0, 1745.0, 1568.0, 1530.0, 1542.0, 1579.0, 1396.0, 1087.0, 1120.0, 1104.0, 744.0, 663.0, 702.0, 632.0, 755.0, 679.0, 716.0, 865.0, 827.0, 774.0, 721.0, 784.0, 791.0, 819.0, 889.0, 848.0, 671.0, 724.0, 662.0]}, {\"marker\": {\"color\": \"rgba(255, 255, 51, 0.6)\", \"line\": {\"color\": \"rgba(255, 255, 51, 0.39999999999999974)\", \"width\": 1}}, \"name\": \"Psychische und Verhaltensst\\u00f6rungen\", \"orientation\": \"v\", \"text\": \"\", \"type\": \"bar\", \"x\": [1980, 1981, 1982, 1983, 1984, 1985, 1986, 1987, 1988, 1989, 1990, 1991, 1992, 1993, 1994, 1995, 1996, 1997, 1998, 1999, 2000, 2001, 2002, 2003, 2004, 2005, 2006, 2007, 2008, 2009, 2010, 2011, 2012, 2013, 2014, 2015, 2016, 2017, 2018, 2019], \"y\": [6484.0, 5974.0, 5929.0, 6079.0, 6102.0, 6192.0, 7201.0, 7705.0, 8618.0, 9355.0, 9941.0, 10318.0, 10839.0, 10887.0, 11381.0, 11383.0, 11765.0, 11898.0, 9720.0, 9533.0, 8636.0, 7826.0, 7922.0, 8535.0, 9516.0, 11356.0, 14145.0, 15460.0, 18850.0, 22592.0, 25079.0, 27113.0, 30890.0, 36117.0, 35935.0, 44590.0, 46258.0, 52637.0, 58053.0, 57839.0]}, {\"marker\": {\"color\": \"rgba(128, 128, 0, 0.6)\", \"line\": {\"color\": \"rgba(128, 128, 0, 0.39999999999999974)\", \"width\": 1}}, \"name\": \"Psychische und Verhaltensst\\u00f6rungen durch Alkohol\", \"orientation\": \"v\", \"text\": \"\", \"type\": \"bar\", \"x\": [1980, 1981, 1982, 1983, 1984, 1985, 1986, 1987, 1988, 1989, 1990, 1991, 1992, 1993, 1994, 1995, 1996, 1997, 1998, 1999, 2000, 2001, 2002, 2003, 2004, 2005, 2006, 2007, 2008, 2009, 2010, 2011, 2012, 2013, 2014, 2015, 2016, 2017, 2018, 2019], \"y\": [3740.0, 3495.0, 3297.0, 3287.0, 3399.0, 3436.0, 3847.0, 3982.0, 4425.0, 4752.0, 4987.0, 5383.0, 5407.0, 5637.0, 5979.0, 5792.0, 5794.0, 5883.0, 5765.0, 5608.0, 4990.0, 4633.0, 4778.0, 4932.0, 4746.0, 4933.0, 4603.0, 4702.0, 4760.0, 4711.0, 4913.0, 4927.0, 4991.0, 5473.0, 5114.0, 5490.0, 5452.0, 5112.0, 5103.0, 4806.0]}, {\"marker\": {\"color\": \"rgba(251, 128, 114, 0.6)\", \"line\": {\"color\": \"rgba(251, 128, 114, 0.39999999999999974)\", \"width\": 1}}, \"name\": \"Schlaganfall, nicht als Blutung oder Infarkt bez.\", \"orientation\": \"v\", \"text\": \"\", \"type\": \"bar\", \"x\": [1980, 1981, 1982, 1983, 1984, 1985, 1986, 1987, 1988, 1989, 1990, 1991, 1992, 1993, 1994, 1995, 1996, 1997, 1998, 1999, 2000, 2001, 2002, 2003, 2004, 2005, 2006, 2007, 2008, 2009, 2010, 2011, 2012, 2013, 2014, 2015, 2016, 2017, 2018, 2019], \"y\": [67783.0, 69230.0, 66445.0, 66201.0, 64061.0, 64261.0, 62946.0, 60222.0, 59332.0, 59354.0, 61571.0, 65525.0, 63432.0, 63013.0, 61881.0, 60218.0, 58126.0, 54575.0, 51684.0, 47110.0, 43035.0, 40671.0, 39433.0, 37579.0, 32241.0, 30092.0, 28566.0, 26911.0, 26503.0, 25425.0, 23675.0, 21594.0, 20387.0, 18883.0, 16753.0, 15770.0, 14264.0, 12587.0, 12024.0, 10702.0]}, {\"marker\": {\"color\": \"rgba(128, 177, 211, 0.6)\", \"line\": {\"color\": \"rgba(128, 177, 211, 0.39999999999999974)\", \"width\": 1}}, \"name\": \"Schwangerschaft, Geburt und Wochenbett\", \"orientation\": \"v\", \"text\": \"\", \"type\": \"bar\", \"x\": [1980, 1981, 1982, 1983, 1984, 1985, 1986, 1987, 1988, 1989, 1990, 1991, 1992, 1993, 1994, 1995, 1996, 1997, 1998, 1999, 2000, 2001, 2002, 2003, 2004, 2005, 2006, 2007, 2008, 2009, 2010, 2011, 2012, 2013, 2014, 2015, 2016, 2017, 2018, 2019], \"y\": [171.0, 160.0, 139.0, 110.0, 104.0, 100.0, 79.0, 84.0, 92.0, 59.0, 82.0, 72.0, 54.0, 44.0, 40.0, 41.0, 51.0, 49.0, 44.0, 37.0, 43.0, 27.0, 21.0, 30.0, 37.0, 28.0, 41.0, 28.0, 36.0, 35.0, 37.0, 32.0, 31.0, 29.0, 29.0, 24.0, 23.0, 22.0, 25.0, 25.0]}, {\"marker\": {\"color\": \"rgba(255, 153, 51, 0.6)\", \"line\": {\"color\": \"rgba(255, 153, 51, 0.39999999999999974)\", \"width\": 1}}, \"name\": \"Sonst. ungenau bezeichnete u. unbek. Todesursachen\", \"orientation\": \"v\", \"text\": \"\", \"type\": \"bar\", \"x\": [1980, 1981, 1982, 1983, 1984, 1985, 1986, 1987, 1988, 1989, 1990, 1991, 1992, 1993, 1994, 1995, 1996, 1997, 1998, 1999, 2000, 2001, 2002, 2003, 2004, 2005, 2006, 2007, 2008, 2009, 2010, 2011, 2012, 2013, 2014, 2015, 2016, 2017, 2018, 2019], \"y\": [9616.0, 9604.0, 10267.0, 9561.0, 9276.0, 9261.0, 11650.0, 11252.0, 10398.0, 11622.0, 17943.0, 14444.0, 13381.0, 13708.0, 13571.0, 14121.0, 14425.0, 14107.0, 14312.0, 14145.0, 16420.0, 15882.0, 14430.0, 15155.0, 14316.0, 13860.0, 13981.0, 15195.0, 16528.0, 17101.0, 17716.0, 17663.0, 18640.0, 19561.0, 20820.0, 22285.0, 25228.0, 25168.0, 27988.0, 33068.0]}, {\"marker\": {\"color\": \"rgba(55, 128, 191, 0.6)\", \"line\": {\"color\": \"rgba(55, 128, 191, 0.39999999999999974)\", \"width\": 1}}, \"name\": \"Sonstige Formen der Herzkrankheit\", \"orientation\": \"v\", \"text\": \"\", \"type\": \"bar\", \"x\": [1980, 1981, 1982, 1983, 1984, 1985, 1986, 1987, 1988, 1989, 1990, 1991, 1992, 1993, 1994, 1995, 1996, 1997, 1998, 1999, 2000, 2001, 2002, 2003, 2004, 2005, 2006, 2007, 2008, 2009, 2010, 2011, 2012, 2013, 2014, 2015, 2016, 2017, 2018, 2019], \"y\": [98102.0, 100812.0, 98002.0, 96514.0, 92285.0, 93612.0, 92435.0, 86745.0, 88877.0, 90647.0, 94465.0, 88726.0, 83362.0, 84966.0, 82046.0, 82405.0, 82887.0, 81824.0, 80251.0, 81564.0, 82995.0, 82665.0, 84494.0, 87642.0, 76839.0, 78107.0, 77089.0, 81344.0, 81938.0, 81975.0, 81052.0, 78225.0, 81055.0, 81611.0, 79707.0, 86072.0, 77232.0, 78558.0, 78966.0, 73605.0]}, {\"marker\": {\"color\": \"rgba(50, 171, 96, 0.6)\", \"line\": {\"color\": \"rgba(50, 171, 96, 0.39999999999999974)\", \"width\": 1}}, \"name\": \"Sonstige Krankheiten des Endokards\", \"orientation\": \"v\", \"text\": \"\", \"type\": \"bar\", \"x\": [1980, 1981, 1982, 1983, 1984, 1985, 1986, 1987, 1988, 1989, 1990, 1991, 1992, 1993, 1994, 1995, 1996, 1997, 1998, 1999, 2000, 2001, 2002, 2003, 2004, 2005, 2006, 2007, 2008, 2009, 2010, 2011, 2012, 2013, 2014, 2015, 2016, 2017, 2018, 2019], \"y\": [3363.0, 3518.0, 3613.0, 3638.0, 3536.0, 3546.0, 3286.0, 3235.0, 3485.0, 3726.0, 3775.0, 4096.0, 4293.0, 4841.0, 5131.0, 5456.0, 5332.0, 5254.0, 5782.0, 5880.0, 5831.0, 6154.0, 6324.0, 6866.0, 7559.0, 8395.0, 8882.0, 9137.0, 9892.0, 10301.0, 10937.0, 11580.0, 12076.0, 13011.0, 12965.0, 13579.0, 13556.0, 13906.0, 14912.0, 15156.0]}, {\"marker\": {\"color\": \"rgba(128, 0, 128, 0.6)\", \"line\": {\"color\": \"rgba(128, 0, 128, 0.39999999999999974)\", \"width\": 1}}, \"name\": \"St\\u00fcrze\", \"orientation\": \"v\", \"text\": \"\", \"type\": \"bar\", \"x\": [1980, 1981, 1982, 1983, 1984, 1985, 1986, 1987, 1988, 1989, 1990, 1991, 1992, 1993, 1994, 1995, 1996, 1997, 1998, 1999, 2000, 2001, 2002, 2003, 2004, 2005, 2006, 2007, 2008, 2009, 2010, 2011, 2012, 2013, 2014, 2015, 2016, 2017, 2018, 2019], \"y\": [11455.0, 11621.0, 11546.0, 10946.0, 10759.0, 10779.0, 10772.0, 10713.0, 10671.0, 11333.0, 12225.0, 12682.0, 11978.0, 11565.0, 10512.0, 10052.0, 10237.0, 9384.0, 7229.0, 7302.0, 7404.0, 7099.0, 7160.0, 7877.0, 7913.0, 8548.0, 8381.0, 7728.0, 8333.0, 8503.0, 9479.0, 9722.0, 10240.0, 10842.0, 11582.0, 12867.0, 14435.0, 14678.0, 16201.0, 16657.0]}, {\"marker\": {\"color\": \"rgba(128, 0, 128, 0.6)\", \"line\": {\"color\": \"rgba(128, 0, 128, 0.2999999999999999)\", \"width\": 1}}, \"name\": \"Symptome und abnorme klinische und Laborbefunde\", \"orientation\": \"v\", \"text\": \"\", \"type\": \"bar\", \"x\": [1980, 1981, 1982, 1983, 1984, 1985, 1986, 1987, 1988, 1989, 1990, 1991, 1992, 1993, 1994, 1995, 1996, 1997, 1998, 1999, 2000, 2001, 2002, 2003, 2004, 2005, 2006, 2007, 2008, 2009, 2010, 2011, 2012, 2013, 2014, 2015, 2016, 2017, 2018, 2019], \"y\": [18655.0, 18599.0, 19052.0, 19410.0, 18528.0, 18538.0, 21393.0, 19959.0, 19282.0, 20719.0, 27596.0, 22839.0, 20820.0, 21069.0, 21899.0, 22756.0, 22854.0, 22315.0, 23590.0, 22579.0, 23789.0, 22332.0, 20560.0, 21739.0, 20682.0, 20193.0, 19978.0, 21691.0, 23916.0, 23704.0, 23616.0, 22550.0, 24019.0, 25189.0, 25799.0, 27437.0, 29894.0, 29429.0, 32593.0, 37412.0]}, {\"marker\": {\"color\": \"rgba(219, 64, 82, 0.6)\", \"line\": {\"color\": \"rgba(219, 64, 82, 0.2999999999999999)\", \"width\": 1}}, \"name\": \"Transportmittelunf\\u00e4lle\", \"orientation\": \"v\", \"text\": \"\", \"type\": \"bar\", \"x\": [1980, 1981, 1982, 1983, 1984, 1985, 1986, 1987, 1988, 1989, 1990, 1991, 1992, 1993, 1994, 1995, 1996, 1997, 1998, 1999, 2000, 2001, 2002, 2003, 2004, 2005, 2006, 2007, 2008, 2009, 2010, 2011, 2012, 2013, 2014, 2015, 2016, 2017, 2018, 2019], \"y\": [15719.0, 14525.0, 14083.0, 14204.0, 12750.0, 10778.0, 11365.0, 10172.0, 10771.0, 10497.0, 11526.0, 11726.0, 11062.0, 10298.0, 10072.0, 9574.0, 8944.0, 8739.0, 7965.0, 7986.0, 7747.0, 7181.0, 7089.0, 6842.0, 6087.0, 5635.0, 5359.0, 5170.0, 4774.0, 4471.0, 3942.0, 4336.0, 3979.0, 3771.0, 3723.0, 3688.0, 3547.0, 3407.0, 3622.0, 3373.0]}, {\"marker\": {\"color\": \"rgba(0, 128, 128, 0.6)\", \"line\": {\"color\": \"rgba(0, 128, 128, 0.2999999999999999)\", \"width\": 1}}, \"name\": \"Tuberkulose einschlie\\u00dflich ihrer Folgezust\\u00e4nde\", \"orientation\": \"v\", \"text\": \"\", \"type\": \"bar\", \"x\": [1980, 1981, 1982, 1983, 1984, 1985, 1986, 1987, 1988, 1989, 1990, 1991, 1992, 1993, 1994, 1995, 1996, 1997, 1998, 1999, 2000, 2001, 2002, 2003, 2004, 2005, 2006, 2007, 2008, 2009, 2010, 2011, 2012, 2013, 2014, 2015, 2016, 2017, 2018, 2019], \"y\": [2558.0, 2427.0, 2261.0, 2006.0, 1808.0, 1700.0, 1594.0, 1594.0, 1453.0, 1401.0, 1358.0, 1146.0, 1155.0, 1037.0, 1014.0, 935.0, 895.0, 805.0, 711.0, 630.0, 607.0, 536.0, 507.0, 512.0, 441.0, 450.0, 433.0, 446.0, 363.0, 345.0, 350.0, 342.0, 356.0, 366.0, 310.0, 311.0, 285.0, 288.0, 291.0, 286.0]}, {\"marker\": {\"color\": \"rgba(255, 255, 51, 0.6)\", \"line\": {\"color\": \"rgba(255, 255, 51, 0.2999999999999999)\", \"width\": 1}}, \"name\": \"T\\u00e4tlicher Angriff\", \"orientation\": \"v\", \"text\": \"\", \"type\": \"bar\", \"x\": [1980, 1981, 1982, 1983, 1984, 1985, 1986, 1987, 1988, 1989, 1990, 1991, 1992, 1993, 1994, 1995, 1996, 1997, 1998, 1999, 2000, 2001, 2002, 2003, 2004, 2005, 2006, 2007, 2008, 2009, 2010, 2011, 2012, 2013, 2014, 2015, 2016, 2017, 2018, 2019], \"y\": [839.0, 897.0, 874.0, 848.0, 904.0, 843.0, 850.0, 827.0, 785.0, 745.0, 800.0, 916.0, 949.0, 966.0, 954.0, 926.0, 885.0, 756.0, 708.0, 719.0, 602.0, 564.0, 604.0, 553.0, 526.0, 453.0, 484.0, 451.0, 443.0, 447.0, 478.0, 431.0, 403.0, 394.0, 368.0, 433.0, 372.0, 352.0, 335.0, 324.0]}, {\"marker\": {\"color\": \"rgba(128, 128, 0, 0.6)\", \"line\": {\"color\": \"rgba(128, 128, 0, 0.2999999999999999)\", \"width\": 1}}, \"name\": \"Ulcus ventriculi, duodeni, pepticum, pept. jejuni\", \"orientation\": \"v\", \"text\": \"\", \"type\": \"bar\", \"x\": [1980, 1981, 1982, 1983, 1984, 1985, 1986, 1987, 1988, 1989, 1990, 1991, 1992, 1993, 1994, 1995, 1996, 1997, 1998, 1999, 2000, 2001, 2002, 2003, 2004, 2005, 2006, 2007, 2008, 2009, 2010, 2011, 2012, 2013, 2014, 2015, 2016, 2017, 2018, 2019], \"y\": [5253.0, 5274.0, 5157.0, 4950.0, 4489.0, 4428.0, 4350.0, 4282.0, 4441.0, 4444.0, 4322.0, 4133.0, 3827.0, 3937.0, 3735.0, 3561.0, 3660.0, 3397.0, 3426.0, 3322.0, 3278.0, 3312.0, 3481.0, 3449.0, 3635.0, 3371.0, 3385.0, 3263.0, 3047.0, 2914.0, 2947.0, 2836.0, 2776.0, 2593.0, 2253.0, 2436.0, 2411.0, 2328.0, 2426.0, 2437.0]}, {\"marker\": {\"color\": \"rgba(251, 128, 114, 0.6)\", \"line\": {\"color\": \"rgba(251, 128, 114, 0.2999999999999999)\", \"width\": 1}}, \"name\": \"Unf\\u00e4lle einschlie\\u00dflich Sp\\u00e4tfolgen\", \"orientation\": \"v\", \"text\": \"\", \"type\": \"bar\", \"x\": [1980, 1981, 1982, 1983, 1984, 1985, 1986, 1987, 1988, 1989, 1990, 1991, 1992, 1993, 1994, 1995, 1996, 1997, 1998, 1999, 2000, 2001, 2002, 2003, 2004, 2005, 2006, 2007, 2008, 2009, 2010, 2011, 2012, 2013, 2014, 2015, 2016, 2017, 2018, 2019], \"y\": [34406.0, 33247.0, 33291.0, 32839.0, 30512.0, 28214.0, 28209.0, 26640.0, 26880.0, 27356.0, 29283.0, 29582.0, 28173.0, 26785.0, 25122.0, 23818.0, 23549.0, 22482.0, 19673.0, 19715.0, 20328.0, 20014.0, 19829.0, 20421.0, 19458.0, 19993.0, 19464.0, 18508.0, 19130.0, 19252.0, 20290.0, 20455.0, 20869.0, 22016.0, 22776.0, 24646.0, 26718.0, 28424.0, 29874.0, 30065.0]}, {\"marker\": {\"color\": \"rgba(128, 177, 211, 0.6)\", \"line\": {\"color\": \"rgba(128, 177, 211, 0.2999999999999999)\", \"width\": 1}}, \"name\": \"Virushepatitis\", \"orientation\": \"v\", \"text\": \"\", \"type\": \"bar\", \"x\": [1980, 1981, 1982, 1983, 1984, 1985, 1986, 1987, 1988, 1989, 1990, 1991, 1992, 1993, 1994, 1995, 1996, 1997, 1998, 1999, 2000, 2001, 2002, 2003, 2004, 2005, 2006, 2007, 2008, 2009, 2010, 2011, 2012, 2013, 2014, 2015, 2016, 2017, 2018, 2019], \"y\": [188.0, 162.0, 204.0, 217.0, 234.0, 232.0, 195.0, 220.0, 245.0, 236.0, 200.0, 241.0, 248.0, 247.0, 278.0, 283.0, 383.0, 357.0, 911.0, 1121.0, 1152.0, 1170.0, 1227.0, 1243.0, 1156.0, 1064.0, 1058.0, 950.0, 952.0, 963.0, 980.0, 968.0, 976.0, 991.0, 854.0, 939.0, 789.0, 738.0, 674.0, 584.0]}, {\"marker\": {\"color\": \"rgba(255, 153, 51, 0.6)\", \"line\": {\"color\": \"rgba(255, 153, 51, 0.2999999999999999)\", \"width\": 1}}, \"name\": \"Vors\\u00e4tzliche Selbstbesch\\u00e4digung\", \"orientation\": \"v\", \"text\": \"\", \"type\": \"bar\", \"x\": [1980, 1981, 1982, 1983, 1984, 1985, 1986, 1987, 1988, 1989, 1990, 1991, 1992, 1993, 1994, 1995, 1996, 1997, 1998, 1999, 2000, 2001, 2002, 2003, 2004, 2005, 2006, 2007, 2008, 2009, 2010, 2011, 2012, 2013, 2014, 2015, 2016, 2017, 2018, 2019], \"y\": [18451.0, 18825.0, 18711.0, 18417.0, 17677.0, 17571.0, 16269.0, 16625.0, 15590.0, 14567.0, 13924.0, 14011.0, 13458.0, 12690.0, 12718.0, 12888.0, 12225.0, 12265.0, 11644.0, 11157.0, 11065.0, 11156.0, 11163.0, 11150.0, 10733.0, 10260.0, 9765.0, 9402.0, 9451.0, 9616.0, 10021.0, 10144.0, 9890.0, 10076.0, 10209.0, 10078.0, 9838.0, 9235.0, 9396.0, 9041.0]}, {\"marker\": {\"color\": \"rgba(55, 128, 191, 0.6)\", \"line\": {\"color\": \"rgba(55, 128, 191, 0.2999999999999999)\", \"width\": 1}}, \"name\": \"Zerebrovaskul\\u00e4re Krankheiten\", \"orientation\": \"v\", \"text\": \"\", \"type\": \"bar\", \"x\": [1980, 1981, 1982, 1983, 1984, 1985, 1986, 1987, 1988, 1989, 1990, 1991, 1992, 1993, 1994, 1995, 1996, 1997, 1998, 1999, 2000, 2001, 2002, 2003, 2004, 2005, 2006, 2007, 2008, 2009, 2010, 2011, 2012, 2013, 2014, 2015, 2016, 2017, 2018, 2019], \"y\": [123556.0, 125124.0, 119764.0, 118548.0, 113412.0, 114156.0, 111037.0, 106844.0, 105925.0, 104677.0, 105669.0, 111160.0, 106631.0, 105767.0, 104079.0, 101034.0, 99266.0, 93647.0, 90194.0, 85755.0, 80786.0, 78691.0, 77519.0, 75114.0, 68498.0, 67117.0, 65133.0, 62085.0, 63127.0, 62727.0, 61550.0, 59066.0, 58925.0, 58556.0, 55232.0, 56982.0, 55956.0, 55404.0, 55287.0, 53119.0]}, {\"marker\": {\"color\": \"rgba(50, 171, 96, 0.6)\", \"line\": {\"color\": \"rgba(50, 171, 96, 0.2999999999999999)\", \"width\": 1}}, \"name\": \"\\u00c4u\\u00dfere Ursachen von Morbidit\\u00e4t und Mortalit\\u00e4t\", \"orientation\": \"v\", \"text\": \"\", \"type\": \"bar\", \"x\": [1980, 1981, 1982, 1983, 1984, 1985, 1986, 1987, 1988, 1989, 1990, 1991, 1992, 1993, 1994, 1995, 1996, 1997, 1998, 1999, 2000, 2001, 2002, 2003, 2004, 2005, 2006, 2007, 2008, 2009, 2010, 2011, 2012, 2013, 2014, 2015, 2016, 2017, 2018, 2019], \"y\": [55656.0, 54742.0, 54862.0, 54083.0, 50972.0, 48485.0, 47155.0, 46006.0, 45073.0, 44456.0, 45963.0, 46679.0, 44751.0, 42674.0, 40920.0, 39367.0, 38516.0, 37343.0, 34578.0, 34063.0, 34523.0, 34201.0, 34296.0, 34606.0, 33309.0, 33024.0, 32212.0, 30650.0, 31511.0, 31832.0, 33312.0, 32988.0, 32931.0, 34133.0, 34667.0, 36496.0, 38383.0, 39853.0, 41554.0, 41779.0]}],                        {\"barmode\": \"stack\", \"legend\": {\"bgcolor\": \"#F5F6F9\", \"font\": {\"color\": \"#4D5663\"}, \"traceorder\": \"normal\"}, \"paper_bgcolor\": \"#F5F6F9\", \"plot_bgcolor\": \"#F5F6F9\", \"template\": {\"data\": {\"bar\": [{\"error_x\": {\"color\": \"#2a3f5f\"}, \"error_y\": {\"color\": \"#2a3f5f\"}, \"marker\": {\"line\": {\"color\": \"#E5ECF6\", \"width\": 0.5}}, \"type\": \"bar\"}], \"barpolar\": [{\"marker\": {\"line\": {\"color\": \"#E5ECF6\", \"width\": 0.5}}, \"type\": \"barpolar\"}], \"carpet\": [{\"aaxis\": {\"endlinecolor\": \"#2a3f5f\", \"gridcolor\": \"white\", \"linecolor\": \"white\", \"minorgridcolor\": \"white\", \"startlinecolor\": \"#2a3f5f\"}, \"baxis\": {\"endlinecolor\": \"#2a3f5f\", \"gridcolor\": \"white\", \"linecolor\": \"white\", \"minorgridcolor\": \"white\", \"startlinecolor\": \"#2a3f5f\"}, \"type\": \"carpet\"}], \"choropleth\": [{\"colorbar\": {\"outlinewidth\": 0, \"ticks\": \"\"}, \"type\": \"choropleth\"}], \"contour\": [{\"colorbar\": {\"outlinewidth\": 0, \"ticks\": \"\"}, \"colorscale\": [[0.0, \"#0d0887\"], [0.1111111111111111, \"#46039f\"], [0.2222222222222222, \"#7201a8\"], [0.3333333333333333, \"#9c179e\"], [0.4444444444444444, \"#bd3786\"], [0.5555555555555556, \"#d8576b\"], [0.6666666666666666, \"#ed7953\"], [0.7777777777777778, \"#fb9f3a\"], [0.8888888888888888, \"#fdca26\"], [1.0, \"#f0f921\"]], \"type\": \"contour\"}], \"contourcarpet\": [{\"colorbar\": {\"outlinewidth\": 0, \"ticks\": \"\"}, \"type\": \"contourcarpet\"}], \"heatmap\": [{\"colorbar\": {\"outlinewidth\": 0, \"ticks\": \"\"}, \"colorscale\": [[0.0, \"#0d0887\"], [0.1111111111111111, \"#46039f\"], [0.2222222222222222, \"#7201a8\"], [0.3333333333333333, \"#9c179e\"], [0.4444444444444444, \"#bd3786\"], [0.5555555555555556, \"#d8576b\"], [0.6666666666666666, \"#ed7953\"], [0.7777777777777778, \"#fb9f3a\"], [0.8888888888888888, \"#fdca26\"], [1.0, \"#f0f921\"]], \"type\": \"heatmap\"}], \"heatmapgl\": [{\"colorbar\": {\"outlinewidth\": 0, \"ticks\": \"\"}, \"colorscale\": [[0.0, \"#0d0887\"], [0.1111111111111111, \"#46039f\"], [0.2222222222222222, \"#7201a8\"], [0.3333333333333333, \"#9c179e\"], [0.4444444444444444, \"#bd3786\"], [0.5555555555555556, \"#d8576b\"], [0.6666666666666666, \"#ed7953\"], [0.7777777777777778, \"#fb9f3a\"], [0.8888888888888888, \"#fdca26\"], [1.0, \"#f0f921\"]], \"type\": \"heatmapgl\"}], \"histogram\": [{\"marker\": {\"colorbar\": {\"outlinewidth\": 0, \"ticks\": \"\"}}, \"type\": \"histogram\"}], \"histogram2d\": [{\"colorbar\": {\"outlinewidth\": 0, \"ticks\": \"\"}, \"colorscale\": [[0.0, \"#0d0887\"], [0.1111111111111111, \"#46039f\"], [0.2222222222222222, \"#7201a8\"], [0.3333333333333333, \"#9c179e\"], [0.4444444444444444, \"#bd3786\"], [0.5555555555555556, \"#d8576b\"], [0.6666666666666666, \"#ed7953\"], [0.7777777777777778, \"#fb9f3a\"], [0.8888888888888888, \"#fdca26\"], [1.0, \"#f0f921\"]], \"type\": \"histogram2d\"}], \"histogram2dcontour\": [{\"colorbar\": {\"outlinewidth\": 0, \"ticks\": \"\"}, \"colorscale\": [[0.0, \"#0d0887\"], [0.1111111111111111, \"#46039f\"], [0.2222222222222222, \"#7201a8\"], [0.3333333333333333, \"#9c179e\"], [0.4444444444444444, \"#bd3786\"], [0.5555555555555556, \"#d8576b\"], [0.6666666666666666, \"#ed7953\"], [0.7777777777777778, \"#fb9f3a\"], [0.8888888888888888, \"#fdca26\"], [1.0, \"#f0f921\"]], \"type\": \"histogram2dcontour\"}], \"mesh3d\": [{\"colorbar\": {\"outlinewidth\": 0, \"ticks\": \"\"}, \"type\": \"mesh3d\"}], \"parcoords\": [{\"line\": {\"colorbar\": {\"outlinewidth\": 0, \"ticks\": \"\"}}, \"type\": \"parcoords\"}], \"pie\": [{\"automargin\": true, \"type\": \"pie\"}], \"scatter\": [{\"marker\": {\"colorbar\": {\"outlinewidth\": 0, \"ticks\": \"\"}}, \"type\": \"scatter\"}], \"scatter3d\": [{\"line\": {\"colorbar\": {\"outlinewidth\": 0, \"ticks\": \"\"}}, \"marker\": {\"colorbar\": {\"outlinewidth\": 0, \"ticks\": \"\"}}, \"type\": \"scatter3d\"}], \"scattercarpet\": [{\"marker\": {\"colorbar\": {\"outlinewidth\": 0, \"ticks\": \"\"}}, \"type\": \"scattercarpet\"}], \"scattergeo\": [{\"marker\": {\"colorbar\": {\"outlinewidth\": 0, \"ticks\": \"\"}}, \"type\": \"scattergeo\"}], \"scattergl\": [{\"marker\": {\"colorbar\": {\"outlinewidth\": 0, \"ticks\": \"\"}}, \"type\": \"scattergl\"}], \"scattermapbox\": [{\"marker\": {\"colorbar\": {\"outlinewidth\": 0, \"ticks\": \"\"}}, \"type\": \"scattermapbox\"}], \"scatterpolar\": [{\"marker\": {\"colorbar\": {\"outlinewidth\": 0, \"ticks\": \"\"}}, \"type\": \"scatterpolar\"}], \"scatterpolargl\": [{\"marker\": {\"colorbar\": {\"outlinewidth\": 0, \"ticks\": \"\"}}, \"type\": \"scatterpolargl\"}], \"scatterternary\": [{\"marker\": {\"colorbar\": {\"outlinewidth\": 0, \"ticks\": \"\"}}, \"type\": \"scatterternary\"}], \"surface\": [{\"colorbar\": {\"outlinewidth\": 0, \"ticks\": \"\"}, \"colorscale\": [[0.0, \"#0d0887\"], [0.1111111111111111, \"#46039f\"], [0.2222222222222222, \"#7201a8\"], [0.3333333333333333, \"#9c179e\"], [0.4444444444444444, \"#bd3786\"], [0.5555555555555556, \"#d8576b\"], [0.6666666666666666, \"#ed7953\"], [0.7777777777777778, \"#fb9f3a\"], [0.8888888888888888, \"#fdca26\"], [1.0, \"#f0f921\"]], \"type\": \"surface\"}], \"table\": [{\"cells\": {\"fill\": {\"color\": \"#EBF0F8\"}, \"line\": {\"color\": \"white\"}}, \"header\": {\"fill\": {\"color\": \"#C8D4E3\"}, \"line\": {\"color\": \"white\"}}, \"type\": \"table\"}]}, \"layout\": {\"annotationdefaults\": {\"arrowcolor\": \"#2a3f5f\", \"arrowhead\": 0, \"arrowwidth\": 1}, \"autotypenumbers\": \"strict\", \"coloraxis\": {\"colorbar\": {\"outlinewidth\": 0, \"ticks\": \"\"}}, \"colorscale\": {\"diverging\": [[0, \"#8e0152\"], [0.1, \"#c51b7d\"], [0.2, \"#de77ae\"], [0.3, \"#f1b6da\"], [0.4, \"#fde0ef\"], [0.5, \"#f7f7f7\"], [0.6, \"#e6f5d0\"], [0.7, \"#b8e186\"], [0.8, \"#7fbc41\"], [0.9, \"#4d9221\"], [1, \"#276419\"]], \"sequential\": [[0.0, \"#0d0887\"], [0.1111111111111111, \"#46039f\"], [0.2222222222222222, \"#7201a8\"], [0.3333333333333333, \"#9c179e\"], [0.4444444444444444, \"#bd3786\"], [0.5555555555555556, \"#d8576b\"], [0.6666666666666666, \"#ed7953\"], [0.7777777777777778, \"#fb9f3a\"], [0.8888888888888888, \"#fdca26\"], [1.0, \"#f0f921\"]], \"sequentialminus\": [[0.0, \"#0d0887\"], [0.1111111111111111, \"#46039f\"], [0.2222222222222222, \"#7201a8\"], [0.3333333333333333, \"#9c179e\"], [0.4444444444444444, \"#bd3786\"], [0.5555555555555556, \"#d8576b\"], [0.6666666666666666, \"#ed7953\"], [0.7777777777777778, \"#fb9f3a\"], [0.8888888888888888, \"#fdca26\"], [1.0, \"#f0f921\"]]}, \"colorway\": [\"#636efa\", \"#EF553B\", \"#00cc96\", \"#ab63fa\", \"#FFA15A\", \"#19d3f3\", \"#FF6692\", \"#B6E880\", \"#FF97FF\", \"#FECB52\"], \"font\": {\"color\": \"#2a3f5f\"}, \"geo\": {\"bgcolor\": \"white\", \"lakecolor\": \"white\", \"landcolor\": \"#E5ECF6\", \"showlakes\": true, \"showland\": true, \"subunitcolor\": \"white\"}, \"hoverlabel\": {\"align\": \"left\"}, \"hovermode\": \"closest\", \"mapbox\": {\"style\": \"light\"}, \"paper_bgcolor\": \"white\", \"plot_bgcolor\": \"#E5ECF6\", \"polar\": {\"angularaxis\": {\"gridcolor\": \"white\", \"linecolor\": \"white\", \"ticks\": \"\"}, \"bgcolor\": \"#E5ECF6\", \"radialaxis\": {\"gridcolor\": \"white\", \"linecolor\": \"white\", \"ticks\": \"\"}}, \"scene\": {\"xaxis\": {\"backgroundcolor\": \"#E5ECF6\", \"gridcolor\": \"white\", \"gridwidth\": 2, \"linecolor\": \"white\", \"showbackground\": true, \"ticks\": \"\", \"zerolinecolor\": \"white\"}, \"yaxis\": {\"backgroundcolor\": \"#E5ECF6\", \"gridcolor\": \"white\", \"gridwidth\": 2, \"linecolor\": \"white\", \"showbackground\": true, \"ticks\": \"\", \"zerolinecolor\": \"white\"}, \"zaxis\": {\"backgroundcolor\": \"#E5ECF6\", \"gridcolor\": \"white\", \"gridwidth\": 2, \"linecolor\": \"white\", \"showbackground\": true, \"ticks\": \"\", \"zerolinecolor\": \"white\"}}, \"shapedefaults\": {\"line\": {\"color\": \"#2a3f5f\"}}, \"ternary\": {\"aaxis\": {\"gridcolor\": \"white\", \"linecolor\": \"white\", \"ticks\": \"\"}, \"baxis\": {\"gridcolor\": \"white\", \"linecolor\": \"white\", \"ticks\": \"\"}, \"bgcolor\": \"#E5ECF6\", \"caxis\": {\"gridcolor\": \"white\", \"linecolor\": \"white\", \"ticks\": \"\"}}, \"title\": {\"x\": 0.05}, \"xaxis\": {\"automargin\": true, \"gridcolor\": \"white\", \"linecolor\": \"white\", \"ticks\": \"\", \"title\": {\"standoff\": 15}, \"zerolinecolor\": \"white\", \"zerolinewidth\": 2}, \"yaxis\": {\"automargin\": true, \"gridcolor\": \"white\", \"linecolor\": \"white\", \"ticks\": \"\", \"title\": {\"standoff\": 15}, \"zerolinecolor\": \"white\", \"zerolinewidth\": 2}}}, \"title\": {\"font\": {\"color\": \"#4D5663\"}}, \"xaxis\": {\"gridcolor\": \"#E1E5ED\", \"showgrid\": true, \"tickfont\": {\"color\": \"#4D5663\"}, \"title\": {\"font\": {\"color\": \"#4D5663\"}, \"text\": \"\"}, \"zerolinecolor\": \"#E1E5ED\"}, \"yaxis\": {\"gridcolor\": \"#E1E5ED\", \"showgrid\": true, \"tickfont\": {\"color\": \"#4D5663\"}, \"title\": {\"font\": {\"color\": \"#4D5663\"}, \"text\": \"\"}, \"zerolinecolor\": \"#E1E5ED\"}},                        {\"showLink\": true, \"linkText\": \"Export to plot.ly\", \"plotlyServerURL\": \"https://plot.ly\", \"responsive\": true}                    ).then(function(){\n",
       "                            \n",
       "var gd = document.getElementById('6e27f832-7fb7-4cdf-901d-e5da4559c237');\n",
       "var x = new MutationObserver(function (mutations, observer) {{\n",
       "        var display = window.getComputedStyle(gd).display;\n",
       "        if (!display || display === 'none') {{\n",
       "            console.log([gd, 'removed!']);\n",
       "            Plotly.purge(gd);\n",
       "            observer.disconnect();\n",
       "        }}\n",
       "}});\n",
       "\n",
       "// Listen for the removal of the full notebook cells\n",
       "var notebookContainer = gd.closest('#notebook-container');\n",
       "if (notebookContainer) {{\n",
       "    x.observe(notebookContainer, {childList: true});\n",
       "}}\n",
       "\n",
       "// Listen for the clearing of the current output cell\n",
       "var outputEl = gd.closest('.output');\n",
       "if (outputEl) {{\n",
       "    x.observe(outputEl, {childList: true});\n",
       "}}\n",
       "\n",
       "                        })                };                });            </script>        </div>"
      ]
     },
     "metadata": {},
     "output_type": "display_data"
    }
   ],
   "source": [
    "df.T.sum().unstack().iplot(kind=\"bar\", barmode=\"stack\")"
   ]
  },
  {
   "cell_type": "code",
   "execution_count": 120,
   "metadata": {},
   "outputs": [
    {
     "data": {
      "text/html": [
       "<div>\n",
       "<style scoped>\n",
       "    .dataframe tbody tr th:only-of-type {\n",
       "        vertical-align: middle;\n",
       "    }\n",
       "\n",
       "    .dataframe tbody tr th {\n",
       "        vertical-align: top;\n",
       "    }\n",
       "\n",
       "    .dataframe thead tr th {\n",
       "        text-align: left;\n",
       "    }\n",
       "</style>\n",
       "<table border=\"1\" class=\"dataframe\">\n",
       "  <thead>\n",
       "    <tr>\n",
       "      <th></th>\n",
       "      <th></th>\n",
       "      <th colspan=\"10\" halign=\"left\">männlich</th>\n",
       "      <th>...</th>\n",
       "      <th colspan=\"10\" halign=\"left\">weiblich</th>\n",
       "    </tr>\n",
       "    <tr>\n",
       "      <th></th>\n",
       "      <th></th>\n",
       "      <th>unter 1 Jahr</th>\n",
       "      <th>1 bis unter 15 Jahre</th>\n",
       "      <th>15 bis unter 20 Jahre</th>\n",
       "      <th>20 bis unter 25 Jahre</th>\n",
       "      <th>25 bis unter 30 Jahre</th>\n",
       "      <th>30 bis unter 35 Jahre</th>\n",
       "      <th>35 bis unter 40 Jahre</th>\n",
       "      <th>40 bis unter 45 Jahre</th>\n",
       "      <th>45 bis unter 50 Jahre</th>\n",
       "      <th>50 bis unter 55 Jahre</th>\n",
       "      <th>...</th>\n",
       "      <th>45 bis unter 50 Jahre</th>\n",
       "      <th>50 bis unter 55 Jahre</th>\n",
       "      <th>55 bis unter 60 Jahre</th>\n",
       "      <th>60 bis unter 65 Jahre</th>\n",
       "      <th>65 bis unter 70 Jahre</th>\n",
       "      <th>70 bis unter 75 Jahre</th>\n",
       "      <th>75 bis unter 80 Jahre</th>\n",
       "      <th>80 bis unter 85 Jahre</th>\n",
       "      <th>85 Jahre und mehr</th>\n",
       "      <th>Alter unbekannt</th>\n",
       "    </tr>\n",
       "  </thead>\n",
       "  <tbody>\n",
       "    <tr>\n",
       "      <th rowspan=\"2\" valign=\"top\">1980</th>\n",
       "      <th>Grippe</th>\n",
       "      <td>10.0</td>\n",
       "      <td>6.0</td>\n",
       "      <td>4.0</td>\n",
       "      <td>3.0</td>\n",
       "      <td>3.0</td>\n",
       "      <td>NaN</td>\n",
       "      <td>7.0</td>\n",
       "      <td>10.0</td>\n",
       "      <td>10.0</td>\n",
       "      <td>11.0</td>\n",
       "      <td>...</td>\n",
       "      <td>2.0</td>\n",
       "      <td>7.0</td>\n",
       "      <td>13.0</td>\n",
       "      <td>11.0</td>\n",
       "      <td>19.0</td>\n",
       "      <td>37.0</td>\n",
       "      <td>84.0</td>\n",
       "      <td>109.0</td>\n",
       "      <td>138.0</td>\n",
       "      <td>NaN</td>\n",
       "    </tr>\n",
       "    <tr>\n",
       "      <th>Pneumonie</th>\n",
       "      <td>107.0</td>\n",
       "      <td>56.0</td>\n",
       "      <td>33.0</td>\n",
       "      <td>24.0</td>\n",
       "      <td>19.0</td>\n",
       "      <td>21.0</td>\n",
       "      <td>61.0</td>\n",
       "      <td>108.0</td>\n",
       "      <td>122.0</td>\n",
       "      <td>152.0</td>\n",
       "      <td>...</td>\n",
       "      <td>54.0</td>\n",
       "      <td>62.0</td>\n",
       "      <td>132.0</td>\n",
       "      <td>170.0</td>\n",
       "      <td>456.0</td>\n",
       "      <td>1005.0</td>\n",
       "      <td>1917.0</td>\n",
       "      <td>2411.0</td>\n",
       "      <td>2978.0</td>\n",
       "      <td>NaN</td>\n",
       "    </tr>\n",
       "    <tr>\n",
       "      <th rowspan=\"2\" valign=\"top\">1981</th>\n",
       "      <th>Grippe</th>\n",
       "      <td>7.0</td>\n",
       "      <td>11.0</td>\n",
       "      <td>1.0</td>\n",
       "      <td>5.0</td>\n",
       "      <td>5.0</td>\n",
       "      <td>1.0</td>\n",
       "      <td>3.0</td>\n",
       "      <td>5.0</td>\n",
       "      <td>10.0</td>\n",
       "      <td>15.0</td>\n",
       "      <td>...</td>\n",
       "      <td>4.0</td>\n",
       "      <td>3.0</td>\n",
       "      <td>11.0</td>\n",
       "      <td>9.0</td>\n",
       "      <td>27.0</td>\n",
       "      <td>57.0</td>\n",
       "      <td>92.0</td>\n",
       "      <td>129.0</td>\n",
       "      <td>188.0</td>\n",
       "      <td>NaN</td>\n",
       "    </tr>\n",
       "    <tr>\n",
       "      <th>Pneumonie</th>\n",
       "      <td>89.0</td>\n",
       "      <td>46.0</td>\n",
       "      <td>18.0</td>\n",
       "      <td>14.0</td>\n",
       "      <td>20.0</td>\n",
       "      <td>31.0</td>\n",
       "      <td>57.0</td>\n",
       "      <td>104.0</td>\n",
       "      <td>107.0</td>\n",
       "      <td>150.0</td>\n",
       "      <td>...</td>\n",
       "      <td>45.0</td>\n",
       "      <td>65.0</td>\n",
       "      <td>122.0</td>\n",
       "      <td>140.0</td>\n",
       "      <td>380.0</td>\n",
       "      <td>946.0</td>\n",
       "      <td>1811.0</td>\n",
       "      <td>2323.0</td>\n",
       "      <td>3129.0</td>\n",
       "      <td>NaN</td>\n",
       "    </tr>\n",
       "    <tr>\n",
       "      <th>1982</th>\n",
       "      <th>Grippe</th>\n",
       "      <td>2.0</td>\n",
       "      <td>5.0</td>\n",
       "      <td>4.0</td>\n",
       "      <td>1.0</td>\n",
       "      <td>3.0</td>\n",
       "      <td>1.0</td>\n",
       "      <td>NaN</td>\n",
       "      <td>7.0</td>\n",
       "      <td>3.0</td>\n",
       "      <td>11.0</td>\n",
       "      <td>...</td>\n",
       "      <td>1.0</td>\n",
       "      <td>4.0</td>\n",
       "      <td>5.0</td>\n",
       "      <td>13.0</td>\n",
       "      <td>12.0</td>\n",
       "      <td>36.0</td>\n",
       "      <td>61.0</td>\n",
       "      <td>68.0</td>\n",
       "      <td>107.0</td>\n",
       "      <td>NaN</td>\n",
       "    </tr>\n",
       "  </tbody>\n",
       "</table>\n",
       "<p>5 rows × 36 columns</p>\n",
       "</div>"
      ],
      "text/plain": [
       "                   männlich                                             \\\n",
       "               unter 1 Jahr 1 bis unter 15 Jahre 15 bis unter 20 Jahre   \n",
       "1980 Grippe            10.0                  6.0                   4.0   \n",
       "     Pneumonie        107.0                 56.0                  33.0   \n",
       "1981 Grippe             7.0                 11.0                   1.0   \n",
       "     Pneumonie         89.0                 46.0                  18.0   \n",
       "1982 Grippe             2.0                  5.0                   4.0   \n",
       "\n",
       "                                                            \\\n",
       "               20 bis unter 25 Jahre 25 bis unter 30 Jahre   \n",
       "1980 Grippe                      3.0                   3.0   \n",
       "     Pneumonie                  24.0                  19.0   \n",
       "1981 Grippe                      5.0                   5.0   \n",
       "     Pneumonie                  14.0                  20.0   \n",
       "1982 Grippe                      1.0                   3.0   \n",
       "\n",
       "                                                            \\\n",
       "               30 bis unter 35 Jahre 35 bis unter 40 Jahre   \n",
       "1980 Grippe                      NaN                   7.0   \n",
       "     Pneumonie                  21.0                  61.0   \n",
       "1981 Grippe                      1.0                   3.0   \n",
       "     Pneumonie                  31.0                  57.0   \n",
       "1982 Grippe                      1.0                   NaN   \n",
       "\n",
       "                                                            \\\n",
       "               40 bis unter 45 Jahre 45 bis unter 50 Jahre   \n",
       "1980 Grippe                     10.0                  10.0   \n",
       "     Pneumonie                 108.0                 122.0   \n",
       "1981 Grippe                      5.0                  10.0   \n",
       "     Pneumonie                 104.0                 107.0   \n",
       "1982 Grippe                      7.0                   3.0   \n",
       "\n",
       "                                           ...                    weiblich  \\\n",
       "               50 bis unter 55 Jahre       ...       45 bis unter 50 Jahre   \n",
       "1980 Grippe                     11.0       ...                         2.0   \n",
       "     Pneumonie                 152.0       ...                        54.0   \n",
       "1981 Grippe                     15.0       ...                         4.0   \n",
       "     Pneumonie                 150.0       ...                        45.0   \n",
       "1982 Grippe                     11.0       ...                         1.0   \n",
       "\n",
       "                                                            \\\n",
       "               50 bis unter 55 Jahre 55 bis unter 60 Jahre   \n",
       "1980 Grippe                      7.0                  13.0   \n",
       "     Pneumonie                  62.0                 132.0   \n",
       "1981 Grippe                      3.0                  11.0   \n",
       "     Pneumonie                  65.0                 122.0   \n",
       "1982 Grippe                      4.0                   5.0   \n",
       "\n",
       "                                                            \\\n",
       "               60 bis unter 65 Jahre 65 bis unter 70 Jahre   \n",
       "1980 Grippe                     11.0                  19.0   \n",
       "     Pneumonie                 170.0                 456.0   \n",
       "1981 Grippe                      9.0                  27.0   \n",
       "     Pneumonie                 140.0                 380.0   \n",
       "1982 Grippe                     13.0                  12.0   \n",
       "\n",
       "                                                            \\\n",
       "               70 bis unter 75 Jahre 75 bis unter 80 Jahre   \n",
       "1980 Grippe                     37.0                  84.0   \n",
       "     Pneumonie                1005.0                1917.0   \n",
       "1981 Grippe                     57.0                  92.0   \n",
       "     Pneumonie                 946.0                1811.0   \n",
       "1982 Grippe                     36.0                  61.0   \n",
       "\n",
       "                                                                        \n",
       "               80 bis unter 85 Jahre 85 Jahre und mehr Alter unbekannt  \n",
       "1980 Grippe                    109.0             138.0             NaN  \n",
       "     Pneumonie                2411.0            2978.0             NaN  \n",
       "1981 Grippe                    129.0             188.0             NaN  \n",
       "     Pneumonie                2323.0            3129.0             NaN  \n",
       "1982 Grippe                     68.0             107.0             NaN  \n",
       "\n",
       "[5 rows x 36 columns]"
      ]
     },
     "execution_count": 120,
     "metadata": {},
     "output_type": "execute_result"
    }
   ],
   "source": [
    "df.loc[(slice(None), [\"Grippe\", \"Pneumonie\"]), :].head()"
   ]
  },
  {
   "cell_type": "code",
   "execution_count": 125,
   "metadata": {},
   "outputs": [
    {
     "data": {
      "application/vnd.plotly.v1+json": {
       "config": {
        "linkText": "Export to plot.ly",
        "plotlyServerURL": "https://plot.ly",
        "showLink": true
       },
       "data": [
        {
         "line": {
          "color": "rgba(255, 153, 51, 1.0)",
          "dash": "solid",
          "shape": "linear",
          "width": 1.3
         },
         "mode": "lines",
         "name": "Insgesamt",
         "text": "",
         "type": "scatter",
         "x": [
          1980,
          1981,
          1982,
          1983,
          1984,
          1985,
          1986,
          1987,
          1988,
          1989,
          1990,
          1991,
          1992,
          1993,
          1994,
          1995,
          1996,
          1997,
          1998,
          1999,
          2000,
          2001,
          2002,
          2003,
          2004,
          2005,
          2006,
          2007,
          2008,
          2009,
          2010,
          2011,
          2012,
          2013,
          2014,
          2015,
          2016,
          2017,
          2018,
          2019
         ],
         "y": [
          952356,
          954373,
          943782,
          941028,
          917281,
          929639,
          925344,
          901267,
          900600,
          903412,
          921445,
          911245,
          885443,
          897270,
          884661,
          884588,
          882843,
          860389,
          852382,
          846330,
          838797,
          828541,
          841686,
          853946,
          818271,
          830227,
          821627,
          827155,
          844439,
          854544,
          858768,
          852328,
          869582,
          893825,
          868356,
          925200,
          910902,
          932263,
          954874,
          939520
         ]
        },
        {
         "line": {
          "color": "rgba(55, 128, 191, 1.0)",
          "dash": "solid",
          "shape": "linear",
          "width": 1.3
         },
         "mode": "lines",
         "name": "Grippe",
         "text": "",
         "type": "scatter",
         "x": [
          1980,
          1981,
          1982,
          1983,
          1984,
          1985,
          1986,
          1987,
          1988,
          1989,
          1990,
          1991,
          1992,
          1993,
          1994,
          1995,
          1996,
          1997,
          1998,
          1999,
          2000,
          2001,
          2002,
          2003,
          2004,
          2005,
          2006,
          2007,
          2008,
          2009,
          2010,
          2011,
          2012,
          2013,
          2014,
          2015,
          2016,
          2017,
          2018,
          2019
         ],
         "y": [
          767,
          866,
          551,
          1206,
          516,
          881,
          1249,
          358,
          365,
          500,
          738,
          310,
          250,
          434,
          270,
          425,
          422,
          184,
          239,
          364,
          267,
          72,
          102,
          300,
          125,
          301,
          66,
          99,
          91,
          277,
          115,
          225,
          72,
          447,
          79,
          700,
          410,
          1176,
          3029,
          1659
         ]
        },
        {
         "line": {
          "color": "rgba(50, 171, 96, 1.0)",
          "dash": "solid",
          "shape": "linear",
          "width": 1.3
         },
         "mode": "lines",
         "name": "Pneumonie",
         "text": "",
         "type": "scatter",
         "x": [
          1980,
          1981,
          1982,
          1983,
          1984,
          1985,
          1986,
          1987,
          1988,
          1989,
          1990,
          1991,
          1992,
          1993,
          1994,
          1995,
          1996,
          1997,
          1998,
          1999,
          2000,
          2001,
          2002,
          2003,
          2004,
          2005,
          2006,
          2007,
          2008,
          2009,
          2010,
          2011,
          2012,
          2013,
          2014,
          2015,
          2016,
          2017,
          2018,
          2019
         ],
         "y": [
          17313,
          16618,
          19840,
          21384,
          20341,
          20213,
          21793,
          16484,
          16344,
          17479,
          20274,
          17310,
          16352,
          16840,
          18277,
          17613,
          17381,
          17328,
          17262,
          18603,
          18490,
          17540,
          19203,
          21522,
          18969,
          21699,
          20368,
          21784,
          21839,
          22231,
          19727,
          19337,
          18817,
          19918,
          16711,
          20174,
          18705,
          19578,
          20227,
          18514
         ]
        }
       ],
       "layout": {
        "legend": {
         "bgcolor": "#F5F6F9",
         "font": {
          "color": "#4D5663"
         }
        },
        "paper_bgcolor": "#F5F6F9",
        "plot_bgcolor": "#F5F6F9",
        "template": {
         "data": {
          "bar": [
           {
            "error_x": {
             "color": "#2a3f5f"
            },
            "error_y": {
             "color": "#2a3f5f"
            },
            "marker": {
             "line": {
              "color": "#E5ECF6",
              "width": 0.5
             }
            },
            "type": "bar"
           }
          ],
          "barpolar": [
           {
            "marker": {
             "line": {
              "color": "#E5ECF6",
              "width": 0.5
             }
            },
            "type": "barpolar"
           }
          ],
          "carpet": [
           {
            "aaxis": {
             "endlinecolor": "#2a3f5f",
             "gridcolor": "white",
             "linecolor": "white",
             "minorgridcolor": "white",
             "startlinecolor": "#2a3f5f"
            },
            "baxis": {
             "endlinecolor": "#2a3f5f",
             "gridcolor": "white",
             "linecolor": "white",
             "minorgridcolor": "white",
             "startlinecolor": "#2a3f5f"
            },
            "type": "carpet"
           }
          ],
          "choropleth": [
           {
            "colorbar": {
             "outlinewidth": 0,
             "ticks": ""
            },
            "type": "choropleth"
           }
          ],
          "contour": [
           {
            "colorbar": {
             "outlinewidth": 0,
             "ticks": ""
            },
            "colorscale": [
             [
              0,
              "#0d0887"
             ],
             [
              0.1111111111111111,
              "#46039f"
             ],
             [
              0.2222222222222222,
              "#7201a8"
             ],
             [
              0.3333333333333333,
              "#9c179e"
             ],
             [
              0.4444444444444444,
              "#bd3786"
             ],
             [
              0.5555555555555556,
              "#d8576b"
             ],
             [
              0.6666666666666666,
              "#ed7953"
             ],
             [
              0.7777777777777778,
              "#fb9f3a"
             ],
             [
              0.8888888888888888,
              "#fdca26"
             ],
             [
              1,
              "#f0f921"
             ]
            ],
            "type": "contour"
           }
          ],
          "contourcarpet": [
           {
            "colorbar": {
             "outlinewidth": 0,
             "ticks": ""
            },
            "type": "contourcarpet"
           }
          ],
          "heatmap": [
           {
            "colorbar": {
             "outlinewidth": 0,
             "ticks": ""
            },
            "colorscale": [
             [
              0,
              "#0d0887"
             ],
             [
              0.1111111111111111,
              "#46039f"
             ],
             [
              0.2222222222222222,
              "#7201a8"
             ],
             [
              0.3333333333333333,
              "#9c179e"
             ],
             [
              0.4444444444444444,
              "#bd3786"
             ],
             [
              0.5555555555555556,
              "#d8576b"
             ],
             [
              0.6666666666666666,
              "#ed7953"
             ],
             [
              0.7777777777777778,
              "#fb9f3a"
             ],
             [
              0.8888888888888888,
              "#fdca26"
             ],
             [
              1,
              "#f0f921"
             ]
            ],
            "type": "heatmap"
           }
          ],
          "heatmapgl": [
           {
            "colorbar": {
             "outlinewidth": 0,
             "ticks": ""
            },
            "colorscale": [
             [
              0,
              "#0d0887"
             ],
             [
              0.1111111111111111,
              "#46039f"
             ],
             [
              0.2222222222222222,
              "#7201a8"
             ],
             [
              0.3333333333333333,
              "#9c179e"
             ],
             [
              0.4444444444444444,
              "#bd3786"
             ],
             [
              0.5555555555555556,
              "#d8576b"
             ],
             [
              0.6666666666666666,
              "#ed7953"
             ],
             [
              0.7777777777777778,
              "#fb9f3a"
             ],
             [
              0.8888888888888888,
              "#fdca26"
             ],
             [
              1,
              "#f0f921"
             ]
            ],
            "type": "heatmapgl"
           }
          ],
          "histogram": [
           {
            "marker": {
             "colorbar": {
              "outlinewidth": 0,
              "ticks": ""
             }
            },
            "type": "histogram"
           }
          ],
          "histogram2d": [
           {
            "colorbar": {
             "outlinewidth": 0,
             "ticks": ""
            },
            "colorscale": [
             [
              0,
              "#0d0887"
             ],
             [
              0.1111111111111111,
              "#46039f"
             ],
             [
              0.2222222222222222,
              "#7201a8"
             ],
             [
              0.3333333333333333,
              "#9c179e"
             ],
             [
              0.4444444444444444,
              "#bd3786"
             ],
             [
              0.5555555555555556,
              "#d8576b"
             ],
             [
              0.6666666666666666,
              "#ed7953"
             ],
             [
              0.7777777777777778,
              "#fb9f3a"
             ],
             [
              0.8888888888888888,
              "#fdca26"
             ],
             [
              1,
              "#f0f921"
             ]
            ],
            "type": "histogram2d"
           }
          ],
          "histogram2dcontour": [
           {
            "colorbar": {
             "outlinewidth": 0,
             "ticks": ""
            },
            "colorscale": [
             [
              0,
              "#0d0887"
             ],
             [
              0.1111111111111111,
              "#46039f"
             ],
             [
              0.2222222222222222,
              "#7201a8"
             ],
             [
              0.3333333333333333,
              "#9c179e"
             ],
             [
              0.4444444444444444,
              "#bd3786"
             ],
             [
              0.5555555555555556,
              "#d8576b"
             ],
             [
              0.6666666666666666,
              "#ed7953"
             ],
             [
              0.7777777777777778,
              "#fb9f3a"
             ],
             [
              0.8888888888888888,
              "#fdca26"
             ],
             [
              1,
              "#f0f921"
             ]
            ],
            "type": "histogram2dcontour"
           }
          ],
          "mesh3d": [
           {
            "colorbar": {
             "outlinewidth": 0,
             "ticks": ""
            },
            "type": "mesh3d"
           }
          ],
          "parcoords": [
           {
            "line": {
             "colorbar": {
              "outlinewidth": 0,
              "ticks": ""
             }
            },
            "type": "parcoords"
           }
          ],
          "pie": [
           {
            "automargin": true,
            "type": "pie"
           }
          ],
          "scatter": [
           {
            "marker": {
             "colorbar": {
              "outlinewidth": 0,
              "ticks": ""
             }
            },
            "type": "scatter"
           }
          ],
          "scatter3d": [
           {
            "line": {
             "colorbar": {
              "outlinewidth": 0,
              "ticks": ""
             }
            },
            "marker": {
             "colorbar": {
              "outlinewidth": 0,
              "ticks": ""
             }
            },
            "type": "scatter3d"
           }
          ],
          "scattercarpet": [
           {
            "marker": {
             "colorbar": {
              "outlinewidth": 0,
              "ticks": ""
             }
            },
            "type": "scattercarpet"
           }
          ],
          "scattergeo": [
           {
            "marker": {
             "colorbar": {
              "outlinewidth": 0,
              "ticks": ""
             }
            },
            "type": "scattergeo"
           }
          ],
          "scattergl": [
           {
            "marker": {
             "colorbar": {
              "outlinewidth": 0,
              "ticks": ""
             }
            },
            "type": "scattergl"
           }
          ],
          "scattermapbox": [
           {
            "marker": {
             "colorbar": {
              "outlinewidth": 0,
              "ticks": ""
             }
            },
            "type": "scattermapbox"
           }
          ],
          "scatterpolar": [
           {
            "marker": {
             "colorbar": {
              "outlinewidth": 0,
              "ticks": ""
             }
            },
            "type": "scatterpolar"
           }
          ],
          "scatterpolargl": [
           {
            "marker": {
             "colorbar": {
              "outlinewidth": 0,
              "ticks": ""
             }
            },
            "type": "scatterpolargl"
           }
          ],
          "scatterternary": [
           {
            "marker": {
             "colorbar": {
              "outlinewidth": 0,
              "ticks": ""
             }
            },
            "type": "scatterternary"
           }
          ],
          "surface": [
           {
            "colorbar": {
             "outlinewidth": 0,
             "ticks": ""
            },
            "colorscale": [
             [
              0,
              "#0d0887"
             ],
             [
              0.1111111111111111,
              "#46039f"
             ],
             [
              0.2222222222222222,
              "#7201a8"
             ],
             [
              0.3333333333333333,
              "#9c179e"
             ],
             [
              0.4444444444444444,
              "#bd3786"
             ],
             [
              0.5555555555555556,
              "#d8576b"
             ],
             [
              0.6666666666666666,
              "#ed7953"
             ],
             [
              0.7777777777777778,
              "#fb9f3a"
             ],
             [
              0.8888888888888888,
              "#fdca26"
             ],
             [
              1,
              "#f0f921"
             ]
            ],
            "type": "surface"
           }
          ],
          "table": [
           {
            "cells": {
             "fill": {
              "color": "#EBF0F8"
             },
             "line": {
              "color": "white"
             }
            },
            "header": {
             "fill": {
              "color": "#C8D4E3"
             },
             "line": {
              "color": "white"
             }
            },
            "type": "table"
           }
          ]
         },
         "layout": {
          "annotationdefaults": {
           "arrowcolor": "#2a3f5f",
           "arrowhead": 0,
           "arrowwidth": 1
          },
          "autotypenumbers": "strict",
          "coloraxis": {
           "colorbar": {
            "outlinewidth": 0,
            "ticks": ""
           }
          },
          "colorscale": {
           "diverging": [
            [
             0,
             "#8e0152"
            ],
            [
             0.1,
             "#c51b7d"
            ],
            [
             0.2,
             "#de77ae"
            ],
            [
             0.3,
             "#f1b6da"
            ],
            [
             0.4,
             "#fde0ef"
            ],
            [
             0.5,
             "#f7f7f7"
            ],
            [
             0.6,
             "#e6f5d0"
            ],
            [
             0.7,
             "#b8e186"
            ],
            [
             0.8,
             "#7fbc41"
            ],
            [
             0.9,
             "#4d9221"
            ],
            [
             1,
             "#276419"
            ]
           ],
           "sequential": [
            [
             0,
             "#0d0887"
            ],
            [
             0.1111111111111111,
             "#46039f"
            ],
            [
             0.2222222222222222,
             "#7201a8"
            ],
            [
             0.3333333333333333,
             "#9c179e"
            ],
            [
             0.4444444444444444,
             "#bd3786"
            ],
            [
             0.5555555555555556,
             "#d8576b"
            ],
            [
             0.6666666666666666,
             "#ed7953"
            ],
            [
             0.7777777777777778,
             "#fb9f3a"
            ],
            [
             0.8888888888888888,
             "#fdca26"
            ],
            [
             1,
             "#f0f921"
            ]
           ],
           "sequentialminus": [
            [
             0,
             "#0d0887"
            ],
            [
             0.1111111111111111,
             "#46039f"
            ],
            [
             0.2222222222222222,
             "#7201a8"
            ],
            [
             0.3333333333333333,
             "#9c179e"
            ],
            [
             0.4444444444444444,
             "#bd3786"
            ],
            [
             0.5555555555555556,
             "#d8576b"
            ],
            [
             0.6666666666666666,
             "#ed7953"
            ],
            [
             0.7777777777777778,
             "#fb9f3a"
            ],
            [
             0.8888888888888888,
             "#fdca26"
            ],
            [
             1,
             "#f0f921"
            ]
           ]
          },
          "colorway": [
           "#636efa",
           "#EF553B",
           "#00cc96",
           "#ab63fa",
           "#FFA15A",
           "#19d3f3",
           "#FF6692",
           "#B6E880",
           "#FF97FF",
           "#FECB52"
          ],
          "font": {
           "color": "#2a3f5f"
          },
          "geo": {
           "bgcolor": "white",
           "lakecolor": "white",
           "landcolor": "#E5ECF6",
           "showlakes": true,
           "showland": true,
           "subunitcolor": "white"
          },
          "hoverlabel": {
           "align": "left"
          },
          "hovermode": "closest",
          "mapbox": {
           "style": "light"
          },
          "paper_bgcolor": "white",
          "plot_bgcolor": "#E5ECF6",
          "polar": {
           "angularaxis": {
            "gridcolor": "white",
            "linecolor": "white",
            "ticks": ""
           },
           "bgcolor": "#E5ECF6",
           "radialaxis": {
            "gridcolor": "white",
            "linecolor": "white",
            "ticks": ""
           }
          },
          "scene": {
           "xaxis": {
            "backgroundcolor": "#E5ECF6",
            "gridcolor": "white",
            "gridwidth": 2,
            "linecolor": "white",
            "showbackground": true,
            "ticks": "",
            "zerolinecolor": "white"
           },
           "yaxis": {
            "backgroundcolor": "#E5ECF6",
            "gridcolor": "white",
            "gridwidth": 2,
            "linecolor": "white",
            "showbackground": true,
            "ticks": "",
            "zerolinecolor": "white"
           },
           "zaxis": {
            "backgroundcolor": "#E5ECF6",
            "gridcolor": "white",
            "gridwidth": 2,
            "linecolor": "white",
            "showbackground": true,
            "ticks": "",
            "zerolinecolor": "white"
           }
          },
          "shapedefaults": {
           "line": {
            "color": "#2a3f5f"
           }
          },
          "ternary": {
           "aaxis": {
            "gridcolor": "white",
            "linecolor": "white",
            "ticks": ""
           },
           "baxis": {
            "gridcolor": "white",
            "linecolor": "white",
            "ticks": ""
           },
           "bgcolor": "#E5ECF6",
           "caxis": {
            "gridcolor": "white",
            "linecolor": "white",
            "ticks": ""
           }
          },
          "title": {
           "x": 0.05
          },
          "xaxis": {
           "automargin": true,
           "gridcolor": "white",
           "linecolor": "white",
           "ticks": "",
           "title": {
            "standoff": 15
           },
           "zerolinecolor": "white",
           "zerolinewidth": 2
          },
          "yaxis": {
           "automargin": true,
           "gridcolor": "white",
           "linecolor": "white",
           "ticks": "",
           "title": {
            "standoff": 15
           },
           "zerolinecolor": "white",
           "zerolinewidth": 2
          }
         }
        },
        "title": {
         "font": {
          "color": "#4D5663"
         }
        },
        "xaxis": {
         "gridcolor": "#E1E5ED",
         "showgrid": true,
         "tickfont": {
          "color": "#4D5663"
         },
         "title": {
          "font": {
           "color": "#4D5663"
          },
          "text": ""
         },
         "zerolinecolor": "#E1E5ED"
        },
        "yaxis": {
         "gridcolor": "#E1E5ED",
         "showgrid": true,
         "tickfont": {
          "color": "#4D5663"
         },
         "title": {
          "font": {
           "color": "#4D5663"
          },
          "text": ""
         },
         "zerolinecolor": "#E1E5ED"
        }
       }
      },
      "text/html": [
       "<div>                            <div id=\"61fad1ef-a00a-44cd-aeff-b2430d68adcc\" class=\"plotly-graph-div\" style=\"height:525px; width:100%;\"></div>            <script type=\"text/javascript\">                require([\"plotly\"], function(Plotly) {                    window.PLOTLYENV=window.PLOTLYENV || {};\n",
       "                    window.PLOTLYENV.BASE_URL='https://plot.ly';                                    if (document.getElementById(\"61fad1ef-a00a-44cd-aeff-b2430d68adcc\")) {                    Plotly.newPlot(                        \"61fad1ef-a00a-44cd-aeff-b2430d68adcc\",                        [{\"line\": {\"color\": \"rgba(255, 153, 51, 1.0)\", \"dash\": \"solid\", \"shape\": \"linear\", \"width\": 1.3}, \"mode\": \"lines\", \"name\": \"Insgesamt\", \"text\": \"\", \"type\": \"scatter\", \"x\": [1980, 1981, 1982, 1983, 1984, 1985, 1986, 1987, 1988, 1989, 1990, 1991, 1992, 1993, 1994, 1995, 1996, 1997, 1998, 1999, 2000, 2001, 2002, 2003, 2004, 2005, 2006, 2007, 2008, 2009, 2010, 2011, 2012, 2013, 2014, 2015, 2016, 2017, 2018, 2019], \"y\": [952356.0, 954373.0, 943782.0, 941028.0, 917281.0, 929639.0, 925344.0, 901267.0, 900600.0, 903412.0, 921445.0, 911245.0, 885443.0, 897270.0, 884661.0, 884588.0, 882843.0, 860389.0, 852382.0, 846330.0, 838797.0, 828541.0, 841686.0, 853946.0, 818271.0, 830227.0, 821627.0, 827155.0, 844439.0, 854544.0, 858768.0, 852328.0, 869582.0, 893825.0, 868356.0, 925200.0, 910902.0, 932263.0, 954874.0, 939520.0]}, {\"line\": {\"color\": \"rgba(55, 128, 191, 1.0)\", \"dash\": \"solid\", \"shape\": \"linear\", \"width\": 1.3}, \"mode\": \"lines\", \"name\": \"Grippe\", \"text\": \"\", \"type\": \"scatter\", \"x\": [1980, 1981, 1982, 1983, 1984, 1985, 1986, 1987, 1988, 1989, 1990, 1991, 1992, 1993, 1994, 1995, 1996, 1997, 1998, 1999, 2000, 2001, 2002, 2003, 2004, 2005, 2006, 2007, 2008, 2009, 2010, 2011, 2012, 2013, 2014, 2015, 2016, 2017, 2018, 2019], \"y\": [767.0, 866.0, 551.0, 1206.0, 516.0, 881.0, 1249.0, 358.0, 365.0, 500.0, 738.0, 310.0, 250.0, 434.0, 270.0, 425.0, 422.0, 184.0, 239.0, 364.0, 267.0, 72.0, 102.0, 300.0, 125.0, 301.0, 66.0, 99.0, 91.0, 277.0, 115.0, 225.0, 72.0, 447.0, 79.0, 700.0, 410.0, 1176.0, 3029.0, 1659.0]}, {\"line\": {\"color\": \"rgba(50, 171, 96, 1.0)\", \"dash\": \"solid\", \"shape\": \"linear\", \"width\": 1.3}, \"mode\": \"lines\", \"name\": \"Pneumonie\", \"text\": \"\", \"type\": \"scatter\", \"x\": [1980, 1981, 1982, 1983, 1984, 1985, 1986, 1987, 1988, 1989, 1990, 1991, 1992, 1993, 1994, 1995, 1996, 1997, 1998, 1999, 2000, 2001, 2002, 2003, 2004, 2005, 2006, 2007, 2008, 2009, 2010, 2011, 2012, 2013, 2014, 2015, 2016, 2017, 2018, 2019], \"y\": [17313.0, 16618.0, 19840.0, 21384.0, 20341.0, 20213.0, 21793.0, 16484.0, 16344.0, 17479.0, 20274.0, 17310.0, 16352.0, 16840.0, 18277.0, 17613.0, 17381.0, 17328.0, 17262.0, 18603.0, 18490.0, 17540.0, 19203.0, 21522.0, 18969.0, 21699.0, 20368.0, 21784.0, 21839.0, 22231.0, 19727.0, 19337.0, 18817.0, 19918.0, 16711.0, 20174.0, 18705.0, 19578.0, 20227.0, 18514.0]}],                        {\"legend\": {\"bgcolor\": \"#F5F6F9\", \"font\": {\"color\": \"#4D5663\"}}, \"paper_bgcolor\": \"#F5F6F9\", \"plot_bgcolor\": \"#F5F6F9\", \"template\": {\"data\": {\"bar\": [{\"error_x\": {\"color\": \"#2a3f5f\"}, \"error_y\": {\"color\": \"#2a3f5f\"}, \"marker\": {\"line\": {\"color\": \"#E5ECF6\", \"width\": 0.5}}, \"type\": \"bar\"}], \"barpolar\": [{\"marker\": {\"line\": {\"color\": \"#E5ECF6\", \"width\": 0.5}}, \"type\": \"barpolar\"}], \"carpet\": [{\"aaxis\": {\"endlinecolor\": \"#2a3f5f\", \"gridcolor\": \"white\", \"linecolor\": \"white\", \"minorgridcolor\": \"white\", \"startlinecolor\": \"#2a3f5f\"}, \"baxis\": {\"endlinecolor\": \"#2a3f5f\", \"gridcolor\": \"white\", \"linecolor\": \"white\", \"minorgridcolor\": \"white\", \"startlinecolor\": \"#2a3f5f\"}, \"type\": \"carpet\"}], \"choropleth\": [{\"colorbar\": {\"outlinewidth\": 0, \"ticks\": \"\"}, \"type\": \"choropleth\"}], \"contour\": [{\"colorbar\": {\"outlinewidth\": 0, \"ticks\": \"\"}, \"colorscale\": [[0.0, \"#0d0887\"], [0.1111111111111111, \"#46039f\"], [0.2222222222222222, \"#7201a8\"], [0.3333333333333333, \"#9c179e\"], [0.4444444444444444, \"#bd3786\"], [0.5555555555555556, \"#d8576b\"], [0.6666666666666666, \"#ed7953\"], [0.7777777777777778, \"#fb9f3a\"], [0.8888888888888888, \"#fdca26\"], [1.0, \"#f0f921\"]], \"type\": \"contour\"}], \"contourcarpet\": [{\"colorbar\": {\"outlinewidth\": 0, \"ticks\": \"\"}, \"type\": \"contourcarpet\"}], \"heatmap\": [{\"colorbar\": {\"outlinewidth\": 0, \"ticks\": \"\"}, \"colorscale\": [[0.0, \"#0d0887\"], [0.1111111111111111, \"#46039f\"], [0.2222222222222222, \"#7201a8\"], [0.3333333333333333, \"#9c179e\"], [0.4444444444444444, \"#bd3786\"], [0.5555555555555556, \"#d8576b\"], [0.6666666666666666, \"#ed7953\"], [0.7777777777777778, \"#fb9f3a\"], [0.8888888888888888, \"#fdca26\"], [1.0, \"#f0f921\"]], \"type\": \"heatmap\"}], \"heatmapgl\": [{\"colorbar\": {\"outlinewidth\": 0, \"ticks\": \"\"}, \"colorscale\": [[0.0, \"#0d0887\"], [0.1111111111111111, \"#46039f\"], [0.2222222222222222, \"#7201a8\"], [0.3333333333333333, \"#9c179e\"], [0.4444444444444444, \"#bd3786\"], [0.5555555555555556, \"#d8576b\"], [0.6666666666666666, \"#ed7953\"], [0.7777777777777778, \"#fb9f3a\"], [0.8888888888888888, \"#fdca26\"], [1.0, \"#f0f921\"]], \"type\": \"heatmapgl\"}], \"histogram\": [{\"marker\": {\"colorbar\": {\"outlinewidth\": 0, \"ticks\": \"\"}}, \"type\": \"histogram\"}], \"histogram2d\": [{\"colorbar\": {\"outlinewidth\": 0, \"ticks\": \"\"}, \"colorscale\": [[0.0, \"#0d0887\"], [0.1111111111111111, \"#46039f\"], [0.2222222222222222, \"#7201a8\"], [0.3333333333333333, \"#9c179e\"], [0.4444444444444444, \"#bd3786\"], [0.5555555555555556, \"#d8576b\"], [0.6666666666666666, \"#ed7953\"], [0.7777777777777778, \"#fb9f3a\"], [0.8888888888888888, \"#fdca26\"], [1.0, \"#f0f921\"]], \"type\": \"histogram2d\"}], \"histogram2dcontour\": [{\"colorbar\": {\"outlinewidth\": 0, \"ticks\": \"\"}, \"colorscale\": [[0.0, \"#0d0887\"], [0.1111111111111111, \"#46039f\"], [0.2222222222222222, \"#7201a8\"], [0.3333333333333333, \"#9c179e\"], [0.4444444444444444, \"#bd3786\"], [0.5555555555555556, \"#d8576b\"], [0.6666666666666666, \"#ed7953\"], [0.7777777777777778, \"#fb9f3a\"], [0.8888888888888888, \"#fdca26\"], [1.0, \"#f0f921\"]], \"type\": \"histogram2dcontour\"}], \"mesh3d\": [{\"colorbar\": {\"outlinewidth\": 0, \"ticks\": \"\"}, \"type\": \"mesh3d\"}], \"parcoords\": [{\"line\": {\"colorbar\": {\"outlinewidth\": 0, \"ticks\": \"\"}}, \"type\": \"parcoords\"}], \"pie\": [{\"automargin\": true, \"type\": \"pie\"}], \"scatter\": [{\"marker\": {\"colorbar\": {\"outlinewidth\": 0, \"ticks\": \"\"}}, \"type\": \"scatter\"}], \"scatter3d\": [{\"line\": {\"colorbar\": {\"outlinewidth\": 0, \"ticks\": \"\"}}, \"marker\": {\"colorbar\": {\"outlinewidth\": 0, \"ticks\": \"\"}}, \"type\": \"scatter3d\"}], \"scattercarpet\": [{\"marker\": {\"colorbar\": {\"outlinewidth\": 0, \"ticks\": \"\"}}, \"type\": \"scattercarpet\"}], \"scattergeo\": [{\"marker\": {\"colorbar\": {\"outlinewidth\": 0, \"ticks\": \"\"}}, \"type\": \"scattergeo\"}], \"scattergl\": [{\"marker\": {\"colorbar\": {\"outlinewidth\": 0, \"ticks\": \"\"}}, \"type\": \"scattergl\"}], \"scattermapbox\": [{\"marker\": {\"colorbar\": {\"outlinewidth\": 0, \"ticks\": \"\"}}, \"type\": \"scattermapbox\"}], \"scatterpolar\": [{\"marker\": {\"colorbar\": {\"outlinewidth\": 0, \"ticks\": \"\"}}, \"type\": \"scatterpolar\"}], \"scatterpolargl\": [{\"marker\": {\"colorbar\": {\"outlinewidth\": 0, \"ticks\": \"\"}}, \"type\": \"scatterpolargl\"}], \"scatterternary\": [{\"marker\": {\"colorbar\": {\"outlinewidth\": 0, \"ticks\": \"\"}}, \"type\": \"scatterternary\"}], \"surface\": [{\"colorbar\": {\"outlinewidth\": 0, \"ticks\": \"\"}, \"colorscale\": [[0.0, \"#0d0887\"], [0.1111111111111111, \"#46039f\"], [0.2222222222222222, \"#7201a8\"], [0.3333333333333333, \"#9c179e\"], [0.4444444444444444, \"#bd3786\"], [0.5555555555555556, \"#d8576b\"], [0.6666666666666666, \"#ed7953\"], [0.7777777777777778, \"#fb9f3a\"], [0.8888888888888888, \"#fdca26\"], [1.0, \"#f0f921\"]], \"type\": \"surface\"}], \"table\": [{\"cells\": {\"fill\": {\"color\": \"#EBF0F8\"}, \"line\": {\"color\": \"white\"}}, \"header\": {\"fill\": {\"color\": \"#C8D4E3\"}, \"line\": {\"color\": \"white\"}}, \"type\": \"table\"}]}, \"layout\": {\"annotationdefaults\": {\"arrowcolor\": \"#2a3f5f\", \"arrowhead\": 0, \"arrowwidth\": 1}, \"autotypenumbers\": \"strict\", \"coloraxis\": {\"colorbar\": {\"outlinewidth\": 0, \"ticks\": \"\"}}, \"colorscale\": {\"diverging\": [[0, \"#8e0152\"], [0.1, \"#c51b7d\"], [0.2, \"#de77ae\"], [0.3, \"#f1b6da\"], [0.4, \"#fde0ef\"], [0.5, \"#f7f7f7\"], [0.6, \"#e6f5d0\"], [0.7, \"#b8e186\"], [0.8, \"#7fbc41\"], [0.9, \"#4d9221\"], [1, \"#276419\"]], \"sequential\": [[0.0, \"#0d0887\"], [0.1111111111111111, \"#46039f\"], [0.2222222222222222, \"#7201a8\"], [0.3333333333333333, \"#9c179e\"], [0.4444444444444444, \"#bd3786\"], [0.5555555555555556, \"#d8576b\"], [0.6666666666666666, \"#ed7953\"], [0.7777777777777778, \"#fb9f3a\"], [0.8888888888888888, \"#fdca26\"], [1.0, \"#f0f921\"]], \"sequentialminus\": [[0.0, \"#0d0887\"], [0.1111111111111111, \"#46039f\"], [0.2222222222222222, \"#7201a8\"], [0.3333333333333333, \"#9c179e\"], [0.4444444444444444, \"#bd3786\"], [0.5555555555555556, \"#d8576b\"], [0.6666666666666666, \"#ed7953\"], [0.7777777777777778, \"#fb9f3a\"], [0.8888888888888888, \"#fdca26\"], [1.0, \"#f0f921\"]]}, \"colorway\": [\"#636efa\", \"#EF553B\", \"#00cc96\", \"#ab63fa\", \"#FFA15A\", \"#19d3f3\", \"#FF6692\", \"#B6E880\", \"#FF97FF\", \"#FECB52\"], \"font\": {\"color\": \"#2a3f5f\"}, \"geo\": {\"bgcolor\": \"white\", \"lakecolor\": \"white\", \"landcolor\": \"#E5ECF6\", \"showlakes\": true, \"showland\": true, \"subunitcolor\": \"white\"}, \"hoverlabel\": {\"align\": \"left\"}, \"hovermode\": \"closest\", \"mapbox\": {\"style\": \"light\"}, \"paper_bgcolor\": \"white\", \"plot_bgcolor\": \"#E5ECF6\", \"polar\": {\"angularaxis\": {\"gridcolor\": \"white\", \"linecolor\": \"white\", \"ticks\": \"\"}, \"bgcolor\": \"#E5ECF6\", \"radialaxis\": {\"gridcolor\": \"white\", \"linecolor\": \"white\", \"ticks\": \"\"}}, \"scene\": {\"xaxis\": {\"backgroundcolor\": \"#E5ECF6\", \"gridcolor\": \"white\", \"gridwidth\": 2, \"linecolor\": \"white\", \"showbackground\": true, \"ticks\": \"\", \"zerolinecolor\": \"white\"}, \"yaxis\": {\"backgroundcolor\": \"#E5ECF6\", \"gridcolor\": \"white\", \"gridwidth\": 2, \"linecolor\": \"white\", \"showbackground\": true, \"ticks\": \"\", \"zerolinecolor\": \"white\"}, \"zaxis\": {\"backgroundcolor\": \"#E5ECF6\", \"gridcolor\": \"white\", \"gridwidth\": 2, \"linecolor\": \"white\", \"showbackground\": true, \"ticks\": \"\", \"zerolinecolor\": \"white\"}}, \"shapedefaults\": {\"line\": {\"color\": \"#2a3f5f\"}}, \"ternary\": {\"aaxis\": {\"gridcolor\": \"white\", \"linecolor\": \"white\", \"ticks\": \"\"}, \"baxis\": {\"gridcolor\": \"white\", \"linecolor\": \"white\", \"ticks\": \"\"}, \"bgcolor\": \"#E5ECF6\", \"caxis\": {\"gridcolor\": \"white\", \"linecolor\": \"white\", \"ticks\": \"\"}}, \"title\": {\"x\": 0.05}, \"xaxis\": {\"automargin\": true, \"gridcolor\": \"white\", \"linecolor\": \"white\", \"ticks\": \"\", \"title\": {\"standoff\": 15}, \"zerolinecolor\": \"white\", \"zerolinewidth\": 2}, \"yaxis\": {\"automargin\": true, \"gridcolor\": \"white\", \"linecolor\": \"white\", \"ticks\": \"\", \"title\": {\"standoff\": 15}, \"zerolinecolor\": \"white\", \"zerolinewidth\": 2}}}, \"title\": {\"font\": {\"color\": \"#4D5663\"}}, \"xaxis\": {\"gridcolor\": \"#E1E5ED\", \"showgrid\": true, \"tickfont\": {\"color\": \"#4D5663\"}, \"title\": {\"font\": {\"color\": \"#4D5663\"}, \"text\": \"\"}, \"zerolinecolor\": \"#E1E5ED\"}, \"yaxis\": {\"gridcolor\": \"#E1E5ED\", \"showgrid\": true, \"tickfont\": {\"color\": \"#4D5663\"}, \"title\": {\"font\": {\"color\": \"#4D5663\"}, \"text\": \"\"}, \"zerolinecolor\": \"#E1E5ED\"}},                        {\"showLink\": true, \"linkText\": \"Export to plot.ly\", \"plotlyServerURL\": \"https://plot.ly\", \"responsive\": true}                    ).then(function(){\n",
       "                            \n",
       "var gd = document.getElementById('61fad1ef-a00a-44cd-aeff-b2430d68adcc');\n",
       "var x = new MutationObserver(function (mutations, observer) {{\n",
       "        var display = window.getComputedStyle(gd).display;\n",
       "        if (!display || display === 'none') {{\n",
       "            console.log([gd, 'removed!']);\n",
       "            Plotly.purge(gd);\n",
       "            observer.disconnect();\n",
       "        }}\n",
       "}});\n",
       "\n",
       "// Listen for the removal of the full notebook cells\n",
       "var notebookContainer = gd.closest('#notebook-container');\n",
       "if (notebookContainer) {{\n",
       "    x.observe(notebookContainer, {childList: true});\n",
       "}}\n",
       "\n",
       "// Listen for the clearing of the current output cell\n",
       "var outputEl = gd.closest('.output');\n",
       "if (outputEl) {{\n",
       "    x.observe(outputEl, {childList: true});\n",
       "}}\n",
       "\n",
       "                        })                };                });            </script>        </div>"
      ]
     },
     "metadata": {},
     "output_type": "display_data"
    }
   ],
   "source": [
    "df.loc[(slice(None), [\"Grippe\", \"Pneumonie\", \"Insgesamt\"]), :].T.sum().unstack().iplot()"
   ]
  },
  {
   "cell_type": "code",
   "execution_count": null,
   "metadata": {},
   "outputs": [],
   "source": []
  }
 ],
 "metadata": {
  "kernelspec": {
   "display_name": "Python 3",
   "language": "python",
   "name": "python3"
  },
  "language_info": {
   "codemirror_mode": {
    "name": "ipython",
    "version": 3
   },
   "file_extension": ".py",
   "mimetype": "text/x-python",
   "name": "python",
   "nbconvert_exporter": "python",
   "pygments_lexer": "ipython3",
   "version": "3.7.3"
  }
 },
 "nbformat": 4,
 "nbformat_minor": 2
}
