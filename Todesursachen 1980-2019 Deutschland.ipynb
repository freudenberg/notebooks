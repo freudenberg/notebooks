{
 "cells": [
  {
   "cell_type": "code",
   "execution_count": 1,
   "metadata": {},
   "outputs": [],
   "source": [
    "import ipywidgets as widgets\n",
    "import pandas as pd\n",
    "import numpy as np\n",
    "import seaborn as sns\n",
    "import cufflinks as cf"
   ]
  },
  {
   "cell_type": "code",
   "execution_count": 2,
   "metadata": {},
   "outputs": [
    {
     "data": {
      "text/html": [
       "        <script type=\"text/javascript\">\n",
       "        window.PlotlyConfig = {MathJaxConfig: 'local'};\n",
       "        if (window.MathJax) {MathJax.Hub.Config({SVG: {font: \"STIX-Web\"}});}\n",
       "        if (typeof require !== 'undefined') {\n",
       "        require.undef(\"plotly\");\n",
       "        requirejs.config({\n",
       "            paths: {\n",
       "                'plotly': ['https://cdn.plot.ly/plotly-latest.min']\n",
       "            }\n",
       "        });\n",
       "        require(['plotly'], function(Plotly) {\n",
       "            window._Plotly = Plotly;\n",
       "        });\n",
       "        }\n",
       "        </script>\n",
       "        "
      ]
     },
     "metadata": {},
     "output_type": "display_data"
    }
   ],
   "source": [
    "cf.go_offline()"
   ]
  },
  {
   "cell_type": "code",
   "execution_count": 3,
   "metadata": {},
   "outputs": [],
   "source": [
    "icd=[\"Bestimmte infektiöse und parasitäre Krankheiten\", \"Neubildungen\", \"Krankheiten des Blutes u. der blutbildenden Organe\", \"Endokrine, Ernährungs- u. Stoffwechselkrankheiten\", \"Krankheiten des Kreislaufsystems\", \"Psychische und Verhaltensstörungen\", \"Krankheiten d. Nervensystems u. d. Sinnesorgane\", \"Krankheiten des Atmungssystems\", \"Krankheiten des Verdauungssystems\", \"Krankheiten der Haut und der Unterhaut\", \"Krankh. des Muskel-Skelett-Systems u. Bindegewebes\", \"Krankheiten des Urogenitalsystems\", \"Schwangerschaft, Geburt und Wochenbett\", \"Best.Zustände mit Ursprung in der Perinatalperiode\", \"Angeb. Fehlbildungen,Deformitäten,Chromosomenanom.\", \"Symptome und abnorme klinische und Laborbefunde\", \"Äußere Ursachen von Morbidität und Mortalität\"]"
   ]
  },
  {
   "cell_type": "code",
   "execution_count": 4,
   "metadata": {},
   "outputs": [],
   "source": [
    "with open('data/23211-0004.csv', 'rb') as f:\n",
    "    df = pd.read_csv(f, sep=';', skiprows=[0, 1, 2, 3, 4, 5, 6, 8], header=[0,1], index_col=[0,1], nrows=3200, na_values=['-'], encoding='latin_1')"
   ]
  },
  {
   "cell_type": "code",
   "execution_count": 5,
   "metadata": {},
   "outputs": [
    {
     "data": {
      "text/html": [
       "<div>\n",
       "<style scoped>\n",
       "    .dataframe tbody tr th:only-of-type {\n",
       "        vertical-align: middle;\n",
       "    }\n",
       "\n",
       "    .dataframe tbody tr th {\n",
       "        vertical-align: top;\n",
       "    }\n",
       "\n",
       "    .dataframe thead tr th {\n",
       "        text-align: left;\n",
       "    }\n",
       "</style>\n",
       "<table border=\"1\" class=\"dataframe\">\n",
       "  <thead>\n",
       "    <tr>\n",
       "      <th></th>\n",
       "      <th></th>\n",
       "      <th colspan=\"10\" halign=\"left\">männlich</th>\n",
       "      <th>...</th>\n",
       "      <th colspan=\"10\" halign=\"left\">weiblich</th>\n",
       "    </tr>\n",
       "    <tr>\n",
       "      <th></th>\n",
       "      <th></th>\n",
       "      <th>unter 1 Jahr</th>\n",
       "      <th>1 bis unter 15 Jahre</th>\n",
       "      <th>15 bis unter 20 Jahre</th>\n",
       "      <th>20 bis unter 25 Jahre</th>\n",
       "      <th>25 bis unter 30 Jahre</th>\n",
       "      <th>30 bis unter 35 Jahre</th>\n",
       "      <th>35 bis unter 40 Jahre</th>\n",
       "      <th>40 bis unter 45 Jahre</th>\n",
       "      <th>45 bis unter 50 Jahre</th>\n",
       "      <th>50 bis unter 55 Jahre</th>\n",
       "      <th>...</th>\n",
       "      <th>45 bis unter 50 Jahre</th>\n",
       "      <th>50 bis unter 55 Jahre</th>\n",
       "      <th>55 bis unter 60 Jahre</th>\n",
       "      <th>60 bis unter 65 Jahre</th>\n",
       "      <th>65 bis unter 70 Jahre</th>\n",
       "      <th>70 bis unter 75 Jahre</th>\n",
       "      <th>75 bis unter 80 Jahre</th>\n",
       "      <th>80 bis unter 85 Jahre</th>\n",
       "      <th>85 Jahre und mehr</th>\n",
       "      <th>Alter unbekannt</th>\n",
       "    </tr>\n",
       "  </thead>\n",
       "  <tbody>\n",
       "    <tr>\n",
       "      <th rowspan=\"5\" valign=\"top\">1980</th>\n",
       "      <th>Insgesamt</th>\n",
       "      <td>6205.0</td>\n",
       "      <td>3076.0</td>\n",
       "      <td>3965.0</td>\n",
       "      <td>4521.0</td>\n",
       "      <td>3762.0</td>\n",
       "      <td>3721.0</td>\n",
       "      <td>6039.0</td>\n",
       "      <td>10964.0</td>\n",
       "      <td>14050.0</td>\n",
       "      <td>20153.0</td>\n",
       "      <td>...</td>\n",
       "      <td>6827.0</td>\n",
       "      <td>10796.0</td>\n",
       "      <td>18003.0</td>\n",
       "      <td>18744.0</td>\n",
       "      <td>44609.0</td>\n",
       "      <td>74204.0</td>\n",
       "      <td>99357.0</td>\n",
       "      <td>101841.0</td>\n",
       "      <td>100802.0</td>\n",
       "      <td>5.0</td>\n",
       "    </tr>\n",
       "    <tr>\n",
       "      <th>Bestimmte infektiöse und parasitäre Krankheiten</th>\n",
       "      <td>185.0</td>\n",
       "      <td>115.0</td>\n",
       "      <td>24.0</td>\n",
       "      <td>18.0</td>\n",
       "      <td>28.0</td>\n",
       "      <td>25.0</td>\n",
       "      <td>66.0</td>\n",
       "      <td>121.0</td>\n",
       "      <td>133.0</td>\n",
       "      <td>195.0</td>\n",
       "      <td>...</td>\n",
       "      <td>69.0</td>\n",
       "      <td>74.0</td>\n",
       "      <td>141.0</td>\n",
       "      <td>117.0</td>\n",
       "      <td>232.0</td>\n",
       "      <td>345.0</td>\n",
       "      <td>411.0</td>\n",
       "      <td>380.0</td>\n",
       "      <td>345.0</td>\n",
       "      <td>NaN</td>\n",
       "    </tr>\n",
       "    <tr>\n",
       "      <th>Tuberkulose einschließlich ihrer Folgezustände</th>\n",
       "      <td>NaN</td>\n",
       "      <td>1.0</td>\n",
       "      <td>2.0</td>\n",
       "      <td>4.0</td>\n",
       "      <td>11.0</td>\n",
       "      <td>10.0</td>\n",
       "      <td>33.0</td>\n",
       "      <td>79.0</td>\n",
       "      <td>90.0</td>\n",
       "      <td>126.0</td>\n",
       "      <td>...</td>\n",
       "      <td>27.0</td>\n",
       "      <td>26.0</td>\n",
       "      <td>64.0</td>\n",
       "      <td>48.0</td>\n",
       "      <td>94.0</td>\n",
       "      <td>123.0</td>\n",
       "      <td>150.0</td>\n",
       "      <td>116.0</td>\n",
       "      <td>84.0</td>\n",
       "      <td>NaN</td>\n",
       "    </tr>\n",
       "    <tr>\n",
       "      <th>Meningokokkeninfektion</th>\n",
       "      <td>22.0</td>\n",
       "      <td>25.0</td>\n",
       "      <td>1.0</td>\n",
       "      <td>1.0</td>\n",
       "      <td>NaN</td>\n",
       "      <td>NaN</td>\n",
       "      <td>3.0</td>\n",
       "      <td>NaN</td>\n",
       "      <td>1.0</td>\n",
       "      <td>2.0</td>\n",
       "      <td>...</td>\n",
       "      <td>1.0</td>\n",
       "      <td>2.0</td>\n",
       "      <td>1.0</td>\n",
       "      <td>1.0</td>\n",
       "      <td>NaN</td>\n",
       "      <td>3.0</td>\n",
       "      <td>2.0</td>\n",
       "      <td>1.0</td>\n",
       "      <td>3.0</td>\n",
       "      <td>NaN</td>\n",
       "    </tr>\n",
       "    <tr>\n",
       "      <th>Virushepatitis</th>\n",
       "      <td>3.0</td>\n",
       "      <td>6.0</td>\n",
       "      <td>2.0</td>\n",
       "      <td>3.0</td>\n",
       "      <td>NaN</td>\n",
       "      <td>2.0</td>\n",
       "      <td>2.0</td>\n",
       "      <td>4.0</td>\n",
       "      <td>6.0</td>\n",
       "      <td>8.0</td>\n",
       "      <td>...</td>\n",
       "      <td>1.0</td>\n",
       "      <td>4.0</td>\n",
       "      <td>8.0</td>\n",
       "      <td>5.0</td>\n",
       "      <td>14.0</td>\n",
       "      <td>16.0</td>\n",
       "      <td>14.0</td>\n",
       "      <td>11.0</td>\n",
       "      <td>4.0</td>\n",
       "      <td>NaN</td>\n",
       "    </tr>\n",
       "  </tbody>\n",
       "</table>\n",
       "<p>5 rows × 36 columns</p>\n",
       "</div>"
      ],
      "text/plain": [
       "                                                         männlich  \\\n",
       "                                                     unter 1 Jahr   \n",
       "1980 Insgesamt                                             6205.0   \n",
       "     Bestimmte infektiöse und parasitäre Krankheiten        185.0   \n",
       "     Tuberkulose einschließlich ihrer Folgezustände           NaN   \n",
       "     Meningokokkeninfektion                                  22.0   \n",
       "     Virushepatitis                                           3.0   \n",
       "\n",
       "                                                                           \\\n",
       "                                                     1 bis unter 15 Jahre   \n",
       "1980 Insgesamt                                                     3076.0   \n",
       "     Bestimmte infektiöse und parasitäre Krankheiten                115.0   \n",
       "     Tuberkulose einschließlich ihrer Folgezustände                   1.0   \n",
       "     Meningokokkeninfektion                                          25.0   \n",
       "     Virushepatitis                                                   6.0   \n",
       "\n",
       "                                                                            \\\n",
       "                                                     15 bis unter 20 Jahre   \n",
       "1980 Insgesamt                                                      3965.0   \n",
       "     Bestimmte infektiöse und parasitäre Krankheiten                  24.0   \n",
       "     Tuberkulose einschließlich ihrer Folgezustände                    2.0   \n",
       "     Meningokokkeninfektion                                            1.0   \n",
       "     Virushepatitis                                                    2.0   \n",
       "\n",
       "                                                                            \\\n",
       "                                                     20 bis unter 25 Jahre   \n",
       "1980 Insgesamt                                                      4521.0   \n",
       "     Bestimmte infektiöse und parasitäre Krankheiten                  18.0   \n",
       "     Tuberkulose einschließlich ihrer Folgezustände                    4.0   \n",
       "     Meningokokkeninfektion                                            1.0   \n",
       "     Virushepatitis                                                    3.0   \n",
       "\n",
       "                                                                            \\\n",
       "                                                     25 bis unter 30 Jahre   \n",
       "1980 Insgesamt                                                      3762.0   \n",
       "     Bestimmte infektiöse und parasitäre Krankheiten                  28.0   \n",
       "     Tuberkulose einschließlich ihrer Folgezustände                   11.0   \n",
       "     Meningokokkeninfektion                                            NaN   \n",
       "     Virushepatitis                                                    NaN   \n",
       "\n",
       "                                                                            \\\n",
       "                                                     30 bis unter 35 Jahre   \n",
       "1980 Insgesamt                                                      3721.0   \n",
       "     Bestimmte infektiöse und parasitäre Krankheiten                  25.0   \n",
       "     Tuberkulose einschließlich ihrer Folgezustände                   10.0   \n",
       "     Meningokokkeninfektion                                            NaN   \n",
       "     Virushepatitis                                                    2.0   \n",
       "\n",
       "                                                                            \\\n",
       "                                                     35 bis unter 40 Jahre   \n",
       "1980 Insgesamt                                                      6039.0   \n",
       "     Bestimmte infektiöse und parasitäre Krankheiten                  66.0   \n",
       "     Tuberkulose einschließlich ihrer Folgezustände                   33.0   \n",
       "     Meningokokkeninfektion                                            3.0   \n",
       "     Virushepatitis                                                    2.0   \n",
       "\n",
       "                                                                            \\\n",
       "                                                     40 bis unter 45 Jahre   \n",
       "1980 Insgesamt                                                     10964.0   \n",
       "     Bestimmte infektiöse und parasitäre Krankheiten                 121.0   \n",
       "     Tuberkulose einschließlich ihrer Folgezustände                   79.0   \n",
       "     Meningokokkeninfektion                                            NaN   \n",
       "     Virushepatitis                                                    4.0   \n",
       "\n",
       "                                                                            \\\n",
       "                                                     45 bis unter 50 Jahre   \n",
       "1980 Insgesamt                                                     14050.0   \n",
       "     Bestimmte infektiöse und parasitäre Krankheiten                 133.0   \n",
       "     Tuberkulose einschließlich ihrer Folgezustände                   90.0   \n",
       "     Meningokokkeninfektion                                            1.0   \n",
       "     Virushepatitis                                                    6.0   \n",
       "\n",
       "                                                                            \\\n",
       "                                                     50 bis unter 55 Jahre   \n",
       "1980 Insgesamt                                                     20153.0   \n",
       "     Bestimmte infektiöse und parasitäre Krankheiten                 195.0   \n",
       "     Tuberkulose einschließlich ihrer Folgezustände                  126.0   \n",
       "     Meningokokkeninfektion                                            2.0   \n",
       "     Virushepatitis                                                    8.0   \n",
       "\n",
       "                                                           ...        \\\n",
       "                                                           ...         \n",
       "1980 Insgesamt                                             ...         \n",
       "     Bestimmte infektiöse und parasitäre Krankheiten       ...         \n",
       "     Tuberkulose einschließlich ihrer Folgezustände        ...         \n",
       "     Meningokokkeninfektion                                ...         \n",
       "     Virushepatitis                                        ...         \n",
       "\n",
       "                                                                  weiblich  \\\n",
       "                                                     45 bis unter 50 Jahre   \n",
       "1980 Insgesamt                                                      6827.0   \n",
       "     Bestimmte infektiöse und parasitäre Krankheiten                  69.0   \n",
       "     Tuberkulose einschließlich ihrer Folgezustände                   27.0   \n",
       "     Meningokokkeninfektion                                            1.0   \n",
       "     Virushepatitis                                                    1.0   \n",
       "\n",
       "                                                                            \\\n",
       "                                                     50 bis unter 55 Jahre   \n",
       "1980 Insgesamt                                                     10796.0   \n",
       "     Bestimmte infektiöse und parasitäre Krankheiten                  74.0   \n",
       "     Tuberkulose einschließlich ihrer Folgezustände                   26.0   \n",
       "     Meningokokkeninfektion                                            2.0   \n",
       "     Virushepatitis                                                    4.0   \n",
       "\n",
       "                                                                            \\\n",
       "                                                     55 bis unter 60 Jahre   \n",
       "1980 Insgesamt                                                     18003.0   \n",
       "     Bestimmte infektiöse und parasitäre Krankheiten                 141.0   \n",
       "     Tuberkulose einschließlich ihrer Folgezustände                   64.0   \n",
       "     Meningokokkeninfektion                                            1.0   \n",
       "     Virushepatitis                                                    8.0   \n",
       "\n",
       "                                                                            \\\n",
       "                                                     60 bis unter 65 Jahre   \n",
       "1980 Insgesamt                                                     18744.0   \n",
       "     Bestimmte infektiöse und parasitäre Krankheiten                 117.0   \n",
       "     Tuberkulose einschließlich ihrer Folgezustände                   48.0   \n",
       "     Meningokokkeninfektion                                            1.0   \n",
       "     Virushepatitis                                                    5.0   \n",
       "\n",
       "                                                                            \\\n",
       "                                                     65 bis unter 70 Jahre   \n",
       "1980 Insgesamt                                                     44609.0   \n",
       "     Bestimmte infektiöse und parasitäre Krankheiten                 232.0   \n",
       "     Tuberkulose einschließlich ihrer Folgezustände                   94.0   \n",
       "     Meningokokkeninfektion                                            NaN   \n",
       "     Virushepatitis                                                   14.0   \n",
       "\n",
       "                                                                            \\\n",
       "                                                     70 bis unter 75 Jahre   \n",
       "1980 Insgesamt                                                     74204.0   \n",
       "     Bestimmte infektiöse und parasitäre Krankheiten                 345.0   \n",
       "     Tuberkulose einschließlich ihrer Folgezustände                  123.0   \n",
       "     Meningokokkeninfektion                                            3.0   \n",
       "     Virushepatitis                                                   16.0   \n",
       "\n",
       "                                                                            \\\n",
       "                                                     75 bis unter 80 Jahre   \n",
       "1980 Insgesamt                                                     99357.0   \n",
       "     Bestimmte infektiöse und parasitäre Krankheiten                 411.0   \n",
       "     Tuberkulose einschließlich ihrer Folgezustände                  150.0   \n",
       "     Meningokokkeninfektion                                            2.0   \n",
       "     Virushepatitis                                                   14.0   \n",
       "\n",
       "                                                                            \\\n",
       "                                                     80 bis unter 85 Jahre   \n",
       "1980 Insgesamt                                                    101841.0   \n",
       "     Bestimmte infektiöse und parasitäre Krankheiten                 380.0   \n",
       "     Tuberkulose einschließlich ihrer Folgezustände                  116.0   \n",
       "     Meningokokkeninfektion                                            1.0   \n",
       "     Virushepatitis                                                   11.0   \n",
       "\n",
       "                                                                        \\\n",
       "                                                     85 Jahre und mehr   \n",
       "1980 Insgesamt                                                100802.0   \n",
       "     Bestimmte infektiöse und parasitäre Krankheiten             345.0   \n",
       "     Tuberkulose einschließlich ihrer Folgezustände               84.0   \n",
       "     Meningokokkeninfektion                                        3.0   \n",
       "     Virushepatitis                                                4.0   \n",
       "\n",
       "                                                                      \n",
       "                                                     Alter unbekannt  \n",
       "1980 Insgesamt                                                   5.0  \n",
       "     Bestimmte infektiöse und parasitäre Krankheiten             NaN  \n",
       "     Tuberkulose einschließlich ihrer Folgezustände              NaN  \n",
       "     Meningokokkeninfektion                                      NaN  \n",
       "     Virushepatitis                                              NaN  \n",
       "\n",
       "[5 rows x 36 columns]"
      ]
     },
     "execution_count": 5,
     "metadata": {},
     "output_type": "execute_result"
    }
   ],
   "source": [
    "df.head()"
   ]
  },
  {
   "cell_type": "code",
   "execution_count": 6,
   "metadata": {},
   "outputs": [
    {
     "data": {
      "application/vnd.jupyter.widget-view+json": {
       "model_id": "077fa852242447bb8a07d7fbe856b8b0",
       "version_major": 2,
       "version_minor": 0
      },
      "text/plain": [
       "interactive(children=(IntSlider(value=1999, description='year', max=2019, min=1980), Dropdown(description='cau…"
      ]
     },
     "metadata": {},
     "output_type": "display_data"
    }
   ],
   "source": [
    "@widgets.interact\n",
    "def show_total_by_year_and_cause(year=(1980, 2019, 1), cause=df.index.get_level_values(1).drop_duplicates()):\n",
    "    return df.loc[year, cause].unstack().T"
   ]
  },
  {
   "cell_type": "code",
   "execution_count": 7,
   "metadata": {},
   "outputs": [
    {
     "data": {
      "application/vnd.jupyter.widget-view+json": {
       "model_id": "1c6a502847b043c3976c936a1cce8cf9",
       "version_major": 2,
       "version_minor": 0
      },
      "text/plain": [
       "interactive(children=(IntSlider(value=1999, description='year', max=2019, min=1980), Dropdown(description='cau…"
      ]
     },
     "metadata": {},
     "output_type": "display_data"
    }
   ],
   "source": [
    "@widgets.interact\n",
    "def plot_by_year_and_cause(year=(1980, 2019, 1), cause=df.index.get_level_values(1).drop_duplicates()):\n",
    "    return df.loc[year, cause].unstack().T.iplot(kind=\"bar\", subplots=False)"
   ]
  },
  {
   "cell_type": "code",
   "execution_count": 8,
   "metadata": {},
   "outputs": [
    {
     "data": {
      "application/vnd.jupyter.widget-view+json": {
       "model_id": "db09a06429a249328d1e322b0abb6f6a",
       "version_major": 2,
       "version_minor": 0
      },
      "text/plain": [
       "interactive(children=(Dropdown(description='cause', options=('Insgesamt', 'Bestimmte infektiöse und parasitäre…"
      ]
     },
     "metadata": {},
     "output_type": "display_data"
    }
   ],
   "source": [
    "@widgets.interact\n",
    "def sum_by_sex(cause=df.index.get_level_values(1).drop_duplicates()):\n",
    "    return df.xs(cause, level=1).T.groupby(level=0).sum().T.head()"
   ]
  },
  {
   "cell_type": "code",
   "execution_count": 9,
   "metadata": {},
   "outputs": [
    {
     "data": {
      "application/vnd.jupyter.widget-view+json": {
       "model_id": "c3dda7ab58394139bc11c24bd9dea4bb",
       "version_major": 2,
       "version_minor": 0
      },
      "text/plain": [
       "interactive(children=(Dropdown(description='cause', options=('Insgesamt', 'Bestimmte infektiöse und parasitäre…"
      ]
     },
     "metadata": {},
     "output_type": "display_data"
    }
   ],
   "source": [
    "@widgets.interact\n",
    "def plot_by_sex(cause=df.index.get_level_values(1).drop_duplicates()):\n",
    "    return df.xs(cause, level=1).T.groupby(level=0).sum().T.iplot(kind=\"bar\")"
   ]
  },
  {
   "cell_type": "code",
   "execution_count": 10,
   "metadata": {},
   "outputs": [
    {
     "data": {
      "application/vnd.plotly.v1+json": {
       "config": {
        "linkText": "Export to plot.ly",
        "plotlyServerURL": "https://plot.ly",
        "showLink": true
       },
       "data": [
        {
         "marker": {
          "color": "rgba(255, 153, 51, 0.6)",
          "line": {
           "color": "rgba(255, 153, 51, 1.0)",
           "width": 1
          }
         },
         "name": "Insgesamt",
         "orientation": "v",
         "text": "",
         "type": "bar",
         "x": [
          1980,
          1981,
          1982,
          1983,
          1984,
          1985,
          1986,
          1987,
          1988,
          1989,
          1990,
          1991,
          1992,
          1993,
          1994,
          1995,
          1996,
          1997,
          1998,
          1999,
          2000,
          2001,
          2002,
          2003,
          2004,
          2005,
          2006,
          2007,
          2008,
          2009,
          2010,
          2011,
          2012,
          2013,
          2014,
          2015,
          2016,
          2017,
          2018,
          2019
         ],
         "y": [
          952356,
          954373,
          943782,
          941028,
          917281,
          929639,
          925344,
          901267,
          900600,
          903412,
          921445,
          911245,
          885443,
          897270,
          884661,
          884588,
          882843,
          860389,
          852382,
          846330,
          838797,
          828541,
          841686,
          853946,
          818271,
          830227,
          821627,
          827155,
          844439,
          854544,
          858768,
          852328,
          869582,
          893825,
          868356,
          925200,
          910902,
          932263,
          954874,
          939520
         ]
        },
        {
         "marker": {
          "color": "rgba(55, 128, 191, 0.6)",
          "line": {
           "color": "rgba(55, 128, 191, 1.0)",
           "width": 1
          }
         },
         "name": "Bestimmte infektiöse und parasitäre Krankheiten",
         "orientation": "v",
         "text": "",
         "type": "bar",
         "x": [
          1980,
          1981,
          1982,
          1983,
          1984,
          1985,
          1986,
          1987,
          1988,
          1989,
          1990,
          1991,
          1992,
          1993,
          1994,
          1995,
          1996,
          1997,
          1998,
          1999,
          2000,
          2001,
          2002,
          2003,
          2004,
          2005,
          2006,
          2007,
          2008,
          2009,
          2010,
          2011,
          2012,
          2013,
          2014,
          2015,
          2016,
          2017,
          2018,
          2019
         ],
         "y": [
          5763,
          5725,
          5734,
          5430,
          5266,
          5666,
          5841,
          5860,
          6055,
          6653,
          7314,
          7142,
          7254,
          7686,
          8122,
          8129,
          8218,
          7701,
          7801,
          9122,
          10129,
          10375,
          10466,
          10891,
          11062,
          12061,
          12354,
          13890,
          14637,
          15496,
          15396,
          16683,
          18353,
          18480,
          17987,
          19943,
          16999,
          17285,
          17797,
          16194
         ]
        },
        {
         "marker": {
          "color": "rgba(50, 171, 96, 0.6)",
          "line": {
           "color": "rgba(50, 171, 96, 1.0)",
           "width": 1
          }
         },
         "name": "Neubildungen",
         "orientation": "v",
         "text": "",
         "type": "bar",
         "x": [
          1980,
          1981,
          1982,
          1983,
          1984,
          1985,
          1986,
          1987,
          1988,
          1989,
          1990,
          1991,
          1992,
          1993,
          1994,
          1995,
          1996,
          1997,
          1998,
          1999,
          2000,
          2001,
          2002,
          2003,
          2004,
          2005,
          2006,
          2007,
          2008,
          2009,
          2010,
          2011,
          2012,
          2013,
          2014,
          2015,
          2016,
          2017,
          2018,
          2019
         ],
         "y": [
          201084,
          202255,
          203004,
          204732,
          202840,
          204764,
          204288,
          207093,
          209892,
          210809,
          210712,
          215978,
          217607,
          219764,
          218412,
          218597,
          219064,
          215765,
          218445,
          216264,
          216419,
          213058,
          215441,
          214788,
          214863,
          216928,
          217095,
          217289,
          221920,
          222153,
          225141,
          228220,
          228289,
          230840,
          230771,
          233752,
          238396,
          235686,
          238345,
          239591
         ]
        },
        {
         "marker": {
          "color": "rgba(128, 0, 128, 0.6)",
          "line": {
           "color": "rgba(128, 0, 128, 1.0)",
           "width": 1
          }
         },
         "name": "Krankheiten des Blutes u. der blutbildenden Organe",
         "orientation": "v",
         "text": "",
         "type": "bar",
         "x": [
          1980,
          1981,
          1982,
          1983,
          1984,
          1985,
          1986,
          1987,
          1988,
          1989,
          1990,
          1991,
          1992,
          1993,
          1994,
          1995,
          1996,
          1997,
          1998,
          1999,
          2000,
          2001,
          2002,
          2003,
          2004,
          2005,
          2006,
          2007,
          2008,
          2009,
          2010,
          2011,
          2012,
          2013,
          2014,
          2015,
          2016,
          2017,
          2018,
          2019
         ],
         "y": [
          2250,
          2267,
          2322,
          2270,
          2223,
          2226,
          2143,
          2170,
          2171,
          2344,
          2401,
          2060,
          2082,
          1895,
          1755,
          1684,
          1742,
          1792,
          1605,
          1658,
          1815,
          1901,
          1872,
          2029,
          2054,
          2123,
          2044,
          2136,
          2454,
          2442,
          2588,
          2683,
          2685,
          2916,
          2931,
          3335,
          3218,
          3684,
          3781,
          3794
         ]
        },
        {
         "marker": {
          "color": "rgba(219, 64, 82, 0.6)",
          "line": {
           "color": "rgba(219, 64, 82, 1.0)",
           "width": 1
          }
         },
         "name": "Endokrine, Ernährungs- u. Stoffwechselkrankheiten",
         "orientation": "v",
         "text": "",
         "type": "bar",
         "x": [
          1980,
          1981,
          1982,
          1983,
          1984,
          1985,
          1986,
          1987,
          1988,
          1989,
          1990,
          1991,
          1992,
          1993,
          1994,
          1995,
          1996,
          1997,
          1998,
          1999,
          2000,
          2001,
          2002,
          2003,
          2004,
          2005,
          2006,
          2007,
          2008,
          2009,
          2010,
          2011,
          2012,
          2013,
          2014,
          2015,
          2016,
          2017,
          2018,
          2019
         ],
         "y": [
          21876,
          20932,
          19155,
          19250,
          19099,
          19229,
          20836,
          20050,
          19832,
          20825,
          21986,
          21953,
          21721,
          26471,
          25370,
          26251,
          26974,
          25304,
          23194,
          23332,
          23671,
          24363,
          26355,
          27191,
          27041,
          28271,
          26624,
          26377,
          27331,
          28137,
          29233,
          29822,
          30605,
          31197,
          29270,
          32474,
          31249,
          33908,
          34640,
          33626
         ]
        },
        {
         "marker": {
          "color": "rgba(0, 128, 128, 0.6)",
          "line": {
           "color": "rgba(0, 128, 128, 1.0)",
           "width": 1
          }
         },
         "name": "Psychische und Verhaltensstörungen",
         "orientation": "v",
         "text": "",
         "type": "bar",
         "x": [
          1980,
          1981,
          1982,
          1983,
          1984,
          1985,
          1986,
          1987,
          1988,
          1989,
          1990,
          1991,
          1992,
          1993,
          1994,
          1995,
          1996,
          1997,
          1998,
          1999,
          2000,
          2001,
          2002,
          2003,
          2004,
          2005,
          2006,
          2007,
          2008,
          2009,
          2010,
          2011,
          2012,
          2013,
          2014,
          2015,
          2016,
          2017,
          2018,
          2019
         ],
         "y": [
          6484,
          5974,
          5929,
          6079,
          6102,
          6192,
          7201,
          7705,
          8618,
          9355,
          9941,
          10318,
          10839,
          10887,
          11381,
          11383,
          11765,
          11898,
          9720,
          9533,
          8636,
          7826,
          7922,
          8535,
          9516,
          11356,
          14145,
          15460,
          18850,
          22592,
          25079,
          27113,
          30890,
          36117,
          35935,
          44590,
          46258,
          52637,
          58053,
          57839
         ]
        },
        {
         "marker": {
          "color": "rgba(255, 255, 51, 0.6)",
          "line": {
           "color": "rgba(255, 255, 51, 1.0)",
           "width": 1
          }
         },
         "name": "Krankheiten d. Nervensystems u. d. Sinnesorgane",
         "orientation": "v",
         "text": "",
         "type": "bar",
         "x": [
          1980,
          1981,
          1982,
          1983,
          1984,
          1985,
          1986,
          1987,
          1988,
          1989,
          1990,
          1991,
          1992,
          1993,
          1994,
          1995,
          1996,
          1997,
          1998,
          1999,
          2000,
          2001,
          2002,
          2003,
          2004,
          2005,
          2006,
          2007,
          2008,
          2009,
          2010,
          2011,
          2012,
          2013,
          2014,
          2015,
          2016,
          2017,
          2018,
          2019
         ],
         "y": [
          9240,
          9699,
          9881,
          9679,
          9243,
          9736,
          9938,
          11221,
          11503,
          11856,
          12547,
          13084,
          13200,
          13618,
          13796,
          14675,
          15965,
          15691,
          15934,
          15736,
          16109,
          16647,
          17756,
          18470,
          17689,
          18565,
          19411,
          18283,
          19841,
          20835,
          21868,
          22731,
          24287,
          25792,
          25888,
          29141,
          29799,
          32393,
          34892,
          34225
         ]
        },
        {
         "marker": {
          "color": "rgba(128, 128, 0, 0.6)",
          "line": {
           "color": "rgba(128, 128, 0, 1.0)",
           "width": 1
          }
         },
         "name": "Krankheiten des Kreislaufsystems",
         "orientation": "v",
         "text": "",
         "type": "bar",
         "x": [
          1980,
          1981,
          1982,
          1983,
          1984,
          1985,
          1986,
          1987,
          1988,
          1989,
          1990,
          1991,
          1992,
          1993,
          1994,
          1995,
          1996,
          1997,
          1998,
          1999,
          2000,
          2001,
          2002,
          2003,
          2004,
          2005,
          2006,
          2007,
          2008,
          2009,
          2010,
          2011,
          2012,
          2013,
          2014,
          2015,
          2016,
          2017,
          2018,
          2019
         ],
         "y": [
          500481,
          505229,
          495328,
          492449,
          481761,
          491653,
          482853,
          467462,
          464492,
          460974,
          462992,
          455774,
          437240,
          440896,
          430542,
          429407,
          425884,
          415892,
          411404,
          406122,
          395043,
          391727,
          393778,
          396622,
          368472,
          367361,
          358953,
          358684,
          356729,
          356462,
          352689,
          342233,
          349217,
          354493,
          338056,
          356616,
          338687,
          344524,
          345274,
          331211
         ]
        },
        {
         "marker": {
          "color": "rgba(251, 128, 114, 0.6)",
          "line": {
           "color": "rgba(251, 128, 114, 1.0)",
           "width": 1
          }
         },
         "name": "Krankheiten des Atmungssystems",
         "orientation": "v",
         "text": "",
         "type": "bar",
         "x": [
          1980,
          1981,
          1982,
          1983,
          1984,
          1985,
          1986,
          1987,
          1988,
          1989,
          1990,
          1991,
          1992,
          1993,
          1994,
          1995,
          1996,
          1997,
          1998,
          1999,
          2000,
          2001,
          2002,
          2003,
          2004,
          2005,
          2006,
          2007,
          2008,
          2009,
          2010,
          2011,
          2012,
          2013,
          2014,
          2015,
          2016,
          2017,
          2018,
          2019
         ],
         "y": [
          55106,
          54554,
          56622,
          58630,
          56243,
          58520,
          60274,
          51394,
          50826,
          52564,
          57661,
          53792,
          50360,
          52934,
          52824,
          53898,
          53843,
          50434,
          49084,
          51505,
          51806,
          48535,
          53646,
          58014,
          52500,
          57742,
          54888,
          57956,
          59049,
          63304,
          60515,
          60019,
          60454,
          64918,
          58604,
          68300,
          64414,
          68408,
          71719,
          67021
         ]
        },
        {
         "marker": {
          "color": "rgba(128, 177, 211, 0.6)",
          "line": {
           "color": "rgba(128, 177, 211, 1.0)",
           "width": 1
          }
         },
         "name": "Krankheiten des Verdauungssystems",
         "orientation": "v",
         "text": "",
         "type": "bar",
         "x": [
          1980,
          1981,
          1982,
          1983,
          1984,
          1985,
          1986,
          1987,
          1988,
          1989,
          1990,
          1991,
          1992,
          1993,
          1994,
          1995,
          1996,
          1997,
          1998,
          1999,
          2000,
          2001,
          2002,
          2003,
          2004,
          2005,
          2006,
          2007,
          2008,
          2009,
          2010,
          2011,
          2012,
          2013,
          2014,
          2015,
          2016,
          2017,
          2018,
          2019
         ],
         "y": [
          47152,
          46962,
          45753,
          44639,
          42126,
          42066,
          41038,
          40417,
          41426,
          41447,
          41782,
          43044,
          41865,
          42280,
          42827,
          41821,
          41940,
          40814,
          40510,
          40154,
          40712,
          40918,
          41849,
          42263,
          42213,
          42787,
          42973,
          42163,
          43686,
          42288,
          42684,
          40507,
          40094,
          40112,
          38537,
          39844,
          40673,
          41038,
          41074,
          41421
         ]
        },
        {
         "marker": {
          "color": "rgba(128, 177, 211, 0.6)",
          "line": {
           "color": "rgba(128, 177, 211, 0.8999999999999999)",
           "width": 1
          }
         },
         "name": "Krankheiten der Haut und der Unterhaut",
         "orientation": "v",
         "text": "",
         "type": "bar",
         "x": [
          1980,
          1981,
          1982,
          1983,
          1984,
          1985,
          1986,
          1987,
          1988,
          1989,
          1990,
          1991,
          1992,
          1993,
          1994,
          1995,
          1996,
          1997,
          1998,
          1999,
          2000,
          2001,
          2002,
          2003,
          2004,
          2005,
          2006,
          2007,
          2008,
          2009,
          2010,
          2011,
          2012,
          2013,
          2014,
          2015,
          2016,
          2017,
          2018,
          2019
         ],
         "y": [
          789,
          813,
          862,
          866,
          952,
          943,
          992,
          931,
          1097,
          1002,
          1009,
          968,
          910,
          839,
          734,
          717,
          656,
          563,
          470,
          441,
          434,
          406,
          453,
          521,
          587,
          607,
          677,
          820,
          967,
          1030,
          1141,
          1161,
          1195,
          1374,
          1416,
          1442,
          1594,
          1565,
          1597,
          1719
         ]
        },
        {
         "marker": {
          "color": "rgba(255, 153, 51, 0.6)",
          "line": {
           "color": "rgba(255, 153, 51, 0.8999999999999999)",
           "width": 1
          }
         },
         "name": "Krankh. des Muskel-Skelett-Systems u. Bindegewebes",
         "orientation": "v",
         "text": "",
         "type": "bar",
         "x": [
          1980,
          1981,
          1982,
          1983,
          1984,
          1985,
          1986,
          1987,
          1988,
          1989,
          1990,
          1991,
          1992,
          1993,
          1994,
          1995,
          1996,
          1997,
          1998,
          1999,
          2000,
          2001,
          2002,
          2003,
          2004,
          2005,
          2006,
          2007,
          2008,
          2009,
          2010,
          2011,
          2012,
          2013,
          2014,
          2015,
          2016,
          2017,
          2018,
          2019
         ],
         "y": [
          3751,
          3563,
          3288,
          3332,
          2840,
          2811,
          2926,
          3353,
          3231,
          3358,
          3200,
          2921,
          2786,
          2637,
          2384,
          2260,
          2201,
          2073,
          1846,
          1800,
          1832,
          1908,
          1926,
          2021,
          1981,
          2024,
          2282,
          2189,
          2303,
          2662,
          2937,
          3056,
          3299,
          3524,
          3317,
          3771,
          4011,
          4812,
          5213,
          5367
         ]
        },
        {
         "marker": {
          "color": "rgba(55, 128, 191, 0.6)",
          "line": {
           "color": "rgba(55, 128, 191, 0.8999999999999999)",
           "width": 1
          }
         },
         "name": "Krankheiten des Urogenitalsystems",
         "orientation": "v",
         "text": "",
         "type": "bar",
         "x": [
          1980,
          1981,
          1982,
          1983,
          1984,
          1985,
          1986,
          1987,
          1988,
          1989,
          1990,
          1991,
          1992,
          1993,
          1994,
          1995,
          1996,
          1997,
          1998,
          1999,
          2000,
          2001,
          2002,
          2003,
          2004,
          2005,
          2006,
          2007,
          2008,
          2009,
          2010,
          2011,
          2012,
          2013,
          2014,
          2015,
          2016,
          2017,
          2018,
          2019
         ],
         "y": [
          14793,
          14369,
          13895,
          12712,
          12163,
          12387,
          12158,
          11373,
          11368,
          11465,
          11073,
          10006,
          9483,
          9389,
          9710,
          9876,
          9539,
          9070,
          10735,
          10749,
          10719,
          11221,
          12260,
          13181,
          13246,
          14288,
          15087,
          16624,
          18537,
          18834,
          19768,
          19667,
          20536,
          21888,
          22247,
          24899,
          23802,
          23471,
          24719,
          24740
         ]
        },
        {
         "marker": {
          "color": "rgba(50, 171, 96, 0.6)",
          "line": {
           "color": "rgba(50, 171, 96, 0.8999999999999999)",
           "width": 1
          }
         },
         "name": "Schwangerschaft, Geburt und Wochenbett",
         "orientation": "v",
         "text": "",
         "type": "bar",
         "x": [
          1980,
          1981,
          1982,
          1983,
          1984,
          1985,
          1986,
          1987,
          1988,
          1989,
          1990,
          1991,
          1992,
          1993,
          1994,
          1995,
          1996,
          1997,
          1998,
          1999,
          2000,
          2001,
          2002,
          2003,
          2004,
          2005,
          2006,
          2007,
          2008,
          2009,
          2010,
          2011,
          2012,
          2013,
          2014,
          2015,
          2016,
          2017,
          2018,
          2019
         ],
         "y": [
          171,
          160,
          139,
          110,
          104,
          100,
          79,
          84,
          92,
          59,
          82,
          72,
          54,
          44,
          40,
          41,
          51,
          49,
          44,
          37,
          43,
          27,
          21,
          30,
          37,
          28,
          41,
          28,
          36,
          35,
          37,
          32,
          31,
          29,
          29,
          24,
          23,
          22,
          25,
          25
         ]
        },
        {
         "marker": {
          "color": "rgba(128, 0, 128, 0.6)",
          "line": {
           "color": "rgba(128, 0, 128, 0.8999999999999999)",
           "width": 1
          }
         },
         "name": "Best.Zustände mit Ursprung in der Perinatalperiode",
         "orientation": "v",
         "text": "",
         "type": "bar",
         "x": [
          1980,
          1981,
          1982,
          1983,
          1984,
          1985,
          1986,
          1987,
          1988,
          1989,
          1990,
          1991,
          1992,
          1993,
          1994,
          1995,
          1996,
          1997,
          1998,
          1999,
          2000,
          2001,
          2002,
          2003,
          2004,
          2005,
          2006,
          2007,
          2008,
          2009,
          2010,
          2011,
          2012,
          2013,
          2014,
          2015,
          2016,
          2017,
          2018,
          2019
         ],
         "y": [
          5290,
          4832,
          4399,
          3970,
          3711,
          3338,
          3283,
          3273,
          2816,
          2797,
          2428,
          2064,
          1896,
          1712,
          1745,
          1736,
          1625,
          1625,
          1600,
          1625,
          1474,
          1484,
          1513,
          1424,
          1443,
          1341,
          1390,
          1464,
          1230,
          1175,
          1192,
          1244,
          1165,
          1117,
          1237,
          1320,
          1501,
          1483,
          1464,
          1472
         ]
        },
        {
         "marker": {
          "color": "rgba(219, 64, 82, 0.6)",
          "line": {
           "color": "rgba(219, 64, 82, 0.8999999999999999)",
           "width": 1
          }
         },
         "name": "Angeb. Fehlbildungen,Deformitäten,Chromosomenanom.",
         "orientation": "v",
         "text": "",
         "type": "bar",
         "x": [
          1980,
          1981,
          1982,
          1983,
          1984,
          1985,
          1986,
          1987,
          1988,
          1989,
          1990,
          1991,
          1992,
          1993,
          1994,
          1995,
          1996,
          1997,
          1998,
          1999,
          2000,
          2001,
          2002,
          2003,
          2004,
          2005,
          2006,
          2007,
          2008,
          2009,
          2010,
          2011,
          2012,
          2013,
          2014,
          2015,
          2016,
          2017,
          2018,
          2019
         ],
         "y": [
          3815,
          3698,
          3557,
          3387,
          3108,
          2985,
          2946,
          2916,
          2826,
          2729,
          2758,
          2551,
          2575,
          2475,
          2200,
          1990,
          2006,
          2060,
          1822,
          1610,
          1643,
          1612,
          1572,
          1621,
          1576,
          1528,
          1473,
          1451,
          1442,
          1563,
          1572,
          1619,
          1532,
          1706,
          1665,
          1816,
          2001,
          2070,
          2134,
          2084
         ]
        },
        {
         "marker": {
          "color": "rgba(0, 128, 128, 0.6)",
          "line": {
           "color": "rgba(0, 128, 128, 0.8999999999999999)",
           "width": 1
          }
         },
         "name": "Symptome und abnorme klinische und Laborbefunde",
         "orientation": "v",
         "text": "",
         "type": "bar",
         "x": [
          1980,
          1981,
          1982,
          1983,
          1984,
          1985,
          1986,
          1987,
          1988,
          1989,
          1990,
          1991,
          1992,
          1993,
          1994,
          1995,
          1996,
          1997,
          1998,
          1999,
          2000,
          2001,
          2002,
          2003,
          2004,
          2005,
          2006,
          2007,
          2008,
          2009,
          2010,
          2011,
          2012,
          2013,
          2014,
          2015,
          2016,
          2017,
          2018,
          2019
         ],
         "y": [
          18655,
          18599,
          19052,
          19410,
          18528,
          18538,
          21393,
          19959,
          19282,
          20719,
          27596,
          22839,
          20820,
          21069,
          21899,
          22756,
          22854,
          22315,
          23590,
          22579,
          23789,
          22332,
          20560,
          21739,
          20682,
          20193,
          19978,
          21691,
          23916,
          23704,
          23616,
          22550,
          24019,
          25189,
          25799,
          27437,
          29894,
          29429,
          32593,
          37412
         ]
        },
        {
         "marker": {
          "color": "rgba(255, 255, 51, 0.6)",
          "line": {
           "color": "rgba(255, 255, 51, 0.8999999999999999)",
           "width": 1
          }
         },
         "name": "Äußere Ursachen von Morbidität und Mortalität",
         "orientation": "v",
         "text": "",
         "type": "bar",
         "x": [
          1980,
          1981,
          1982,
          1983,
          1984,
          1985,
          1986,
          1987,
          1988,
          1989,
          1990,
          1991,
          1992,
          1993,
          1994,
          1995,
          1996,
          1997,
          1998,
          1999,
          2000,
          2001,
          2002,
          2003,
          2004,
          2005,
          2006,
          2007,
          2008,
          2009,
          2010,
          2011,
          2012,
          2013,
          2014,
          2015,
          2016,
          2017,
          2018,
          2019
         ],
         "y": [
          55656,
          54742,
          54862,
          54083,
          50972,
          48485,
          47155,
          46006,
          45073,
          44456,
          45963,
          46679,
          44751,
          42674,
          40920,
          39367,
          38516,
          37343,
          34578,
          34063,
          34523,
          34201,
          34296,
          34606,
          33309,
          33024,
          32212,
          30650,
          31511,
          31832,
          33312,
          32988,
          32931,
          34133,
          34667,
          36496,
          38383,
          39853,
          41554,
          41779
         ]
        }
       ],
       "layout": {
        "barmode": "overlay",
        "legend": {
         "bgcolor": "#F5F6F9",
         "font": {
          "color": "#4D5663"
         }
        },
        "paper_bgcolor": "#F5F6F9",
        "plot_bgcolor": "#F5F6F9",
        "template": {
         "data": {
          "bar": [
           {
            "error_x": {
             "color": "#2a3f5f"
            },
            "error_y": {
             "color": "#2a3f5f"
            },
            "marker": {
             "line": {
              "color": "#E5ECF6",
              "width": 0.5
             }
            },
            "type": "bar"
           }
          ],
          "barpolar": [
           {
            "marker": {
             "line": {
              "color": "#E5ECF6",
              "width": 0.5
             }
            },
            "type": "barpolar"
           }
          ],
          "carpet": [
           {
            "aaxis": {
             "endlinecolor": "#2a3f5f",
             "gridcolor": "white",
             "linecolor": "white",
             "minorgridcolor": "white",
             "startlinecolor": "#2a3f5f"
            },
            "baxis": {
             "endlinecolor": "#2a3f5f",
             "gridcolor": "white",
             "linecolor": "white",
             "minorgridcolor": "white",
             "startlinecolor": "#2a3f5f"
            },
            "type": "carpet"
           }
          ],
          "choropleth": [
           {
            "colorbar": {
             "outlinewidth": 0,
             "ticks": ""
            },
            "type": "choropleth"
           }
          ],
          "contour": [
           {
            "colorbar": {
             "outlinewidth": 0,
             "ticks": ""
            },
            "colorscale": [
             [
              0,
              "#0d0887"
             ],
             [
              0.1111111111111111,
              "#46039f"
             ],
             [
              0.2222222222222222,
              "#7201a8"
             ],
             [
              0.3333333333333333,
              "#9c179e"
             ],
             [
              0.4444444444444444,
              "#bd3786"
             ],
             [
              0.5555555555555556,
              "#d8576b"
             ],
             [
              0.6666666666666666,
              "#ed7953"
             ],
             [
              0.7777777777777778,
              "#fb9f3a"
             ],
             [
              0.8888888888888888,
              "#fdca26"
             ],
             [
              1,
              "#f0f921"
             ]
            ],
            "type": "contour"
           }
          ],
          "contourcarpet": [
           {
            "colorbar": {
             "outlinewidth": 0,
             "ticks": ""
            },
            "type": "contourcarpet"
           }
          ],
          "heatmap": [
           {
            "colorbar": {
             "outlinewidth": 0,
             "ticks": ""
            },
            "colorscale": [
             [
              0,
              "#0d0887"
             ],
             [
              0.1111111111111111,
              "#46039f"
             ],
             [
              0.2222222222222222,
              "#7201a8"
             ],
             [
              0.3333333333333333,
              "#9c179e"
             ],
             [
              0.4444444444444444,
              "#bd3786"
             ],
             [
              0.5555555555555556,
              "#d8576b"
             ],
             [
              0.6666666666666666,
              "#ed7953"
             ],
             [
              0.7777777777777778,
              "#fb9f3a"
             ],
             [
              0.8888888888888888,
              "#fdca26"
             ],
             [
              1,
              "#f0f921"
             ]
            ],
            "type": "heatmap"
           }
          ],
          "heatmapgl": [
           {
            "colorbar": {
             "outlinewidth": 0,
             "ticks": ""
            },
            "colorscale": [
             [
              0,
              "#0d0887"
             ],
             [
              0.1111111111111111,
              "#46039f"
             ],
             [
              0.2222222222222222,
              "#7201a8"
             ],
             [
              0.3333333333333333,
              "#9c179e"
             ],
             [
              0.4444444444444444,
              "#bd3786"
             ],
             [
              0.5555555555555556,
              "#d8576b"
             ],
             [
              0.6666666666666666,
              "#ed7953"
             ],
             [
              0.7777777777777778,
              "#fb9f3a"
             ],
             [
              0.8888888888888888,
              "#fdca26"
             ],
             [
              1,
              "#f0f921"
             ]
            ],
            "type": "heatmapgl"
           }
          ],
          "histogram": [
           {
            "marker": {
             "colorbar": {
              "outlinewidth": 0,
              "ticks": ""
             }
            },
            "type": "histogram"
           }
          ],
          "histogram2d": [
           {
            "colorbar": {
             "outlinewidth": 0,
             "ticks": ""
            },
            "colorscale": [
             [
              0,
              "#0d0887"
             ],
             [
              0.1111111111111111,
              "#46039f"
             ],
             [
              0.2222222222222222,
              "#7201a8"
             ],
             [
              0.3333333333333333,
              "#9c179e"
             ],
             [
              0.4444444444444444,
              "#bd3786"
             ],
             [
              0.5555555555555556,
              "#d8576b"
             ],
             [
              0.6666666666666666,
              "#ed7953"
             ],
             [
              0.7777777777777778,
              "#fb9f3a"
             ],
             [
              0.8888888888888888,
              "#fdca26"
             ],
             [
              1,
              "#f0f921"
             ]
            ],
            "type": "histogram2d"
           }
          ],
          "histogram2dcontour": [
           {
            "colorbar": {
             "outlinewidth": 0,
             "ticks": ""
            },
            "colorscale": [
             [
              0,
              "#0d0887"
             ],
             [
              0.1111111111111111,
              "#46039f"
             ],
             [
              0.2222222222222222,
              "#7201a8"
             ],
             [
              0.3333333333333333,
              "#9c179e"
             ],
             [
              0.4444444444444444,
              "#bd3786"
             ],
             [
              0.5555555555555556,
              "#d8576b"
             ],
             [
              0.6666666666666666,
              "#ed7953"
             ],
             [
              0.7777777777777778,
              "#fb9f3a"
             ],
             [
              0.8888888888888888,
              "#fdca26"
             ],
             [
              1,
              "#f0f921"
             ]
            ],
            "type": "histogram2dcontour"
           }
          ],
          "mesh3d": [
           {
            "colorbar": {
             "outlinewidth": 0,
             "ticks": ""
            },
            "type": "mesh3d"
           }
          ],
          "parcoords": [
           {
            "line": {
             "colorbar": {
              "outlinewidth": 0,
              "ticks": ""
             }
            },
            "type": "parcoords"
           }
          ],
          "pie": [
           {
            "automargin": true,
            "type": "pie"
           }
          ],
          "scatter": [
           {
            "marker": {
             "colorbar": {
              "outlinewidth": 0,
              "ticks": ""
             }
            },
            "type": "scatter"
           }
          ],
          "scatter3d": [
           {
            "line": {
             "colorbar": {
              "outlinewidth": 0,
              "ticks": ""
             }
            },
            "marker": {
             "colorbar": {
              "outlinewidth": 0,
              "ticks": ""
             }
            },
            "type": "scatter3d"
           }
          ],
          "scattercarpet": [
           {
            "marker": {
             "colorbar": {
              "outlinewidth": 0,
              "ticks": ""
             }
            },
            "type": "scattercarpet"
           }
          ],
          "scattergeo": [
           {
            "marker": {
             "colorbar": {
              "outlinewidth": 0,
              "ticks": ""
             }
            },
            "type": "scattergeo"
           }
          ],
          "scattergl": [
           {
            "marker": {
             "colorbar": {
              "outlinewidth": 0,
              "ticks": ""
             }
            },
            "type": "scattergl"
           }
          ],
          "scattermapbox": [
           {
            "marker": {
             "colorbar": {
              "outlinewidth": 0,
              "ticks": ""
             }
            },
            "type": "scattermapbox"
           }
          ],
          "scatterpolar": [
           {
            "marker": {
             "colorbar": {
              "outlinewidth": 0,
              "ticks": ""
             }
            },
            "type": "scatterpolar"
           }
          ],
          "scatterpolargl": [
           {
            "marker": {
             "colorbar": {
              "outlinewidth": 0,
              "ticks": ""
             }
            },
            "type": "scatterpolargl"
           }
          ],
          "scatterternary": [
           {
            "marker": {
             "colorbar": {
              "outlinewidth": 0,
              "ticks": ""
             }
            },
            "type": "scatterternary"
           }
          ],
          "surface": [
           {
            "colorbar": {
             "outlinewidth": 0,
             "ticks": ""
            },
            "colorscale": [
             [
              0,
              "#0d0887"
             ],
             [
              0.1111111111111111,
              "#46039f"
             ],
             [
              0.2222222222222222,
              "#7201a8"
             ],
             [
              0.3333333333333333,
              "#9c179e"
             ],
             [
              0.4444444444444444,
              "#bd3786"
             ],
             [
              0.5555555555555556,
              "#d8576b"
             ],
             [
              0.6666666666666666,
              "#ed7953"
             ],
             [
              0.7777777777777778,
              "#fb9f3a"
             ],
             [
              0.8888888888888888,
              "#fdca26"
             ],
             [
              1,
              "#f0f921"
             ]
            ],
            "type": "surface"
           }
          ],
          "table": [
           {
            "cells": {
             "fill": {
              "color": "#EBF0F8"
             },
             "line": {
              "color": "white"
             }
            },
            "header": {
             "fill": {
              "color": "#C8D4E3"
             },
             "line": {
              "color": "white"
             }
            },
            "type": "table"
           }
          ]
         },
         "layout": {
          "annotationdefaults": {
           "arrowcolor": "#2a3f5f",
           "arrowhead": 0,
           "arrowwidth": 1
          },
          "autotypenumbers": "strict",
          "coloraxis": {
           "colorbar": {
            "outlinewidth": 0,
            "ticks": ""
           }
          },
          "colorscale": {
           "diverging": [
            [
             0,
             "#8e0152"
            ],
            [
             0.1,
             "#c51b7d"
            ],
            [
             0.2,
             "#de77ae"
            ],
            [
             0.3,
             "#f1b6da"
            ],
            [
             0.4,
             "#fde0ef"
            ],
            [
             0.5,
             "#f7f7f7"
            ],
            [
             0.6,
             "#e6f5d0"
            ],
            [
             0.7,
             "#b8e186"
            ],
            [
             0.8,
             "#7fbc41"
            ],
            [
             0.9,
             "#4d9221"
            ],
            [
             1,
             "#276419"
            ]
           ],
           "sequential": [
            [
             0,
             "#0d0887"
            ],
            [
             0.1111111111111111,
             "#46039f"
            ],
            [
             0.2222222222222222,
             "#7201a8"
            ],
            [
             0.3333333333333333,
             "#9c179e"
            ],
            [
             0.4444444444444444,
             "#bd3786"
            ],
            [
             0.5555555555555556,
             "#d8576b"
            ],
            [
             0.6666666666666666,
             "#ed7953"
            ],
            [
             0.7777777777777778,
             "#fb9f3a"
            ],
            [
             0.8888888888888888,
             "#fdca26"
            ],
            [
             1,
             "#f0f921"
            ]
           ],
           "sequentialminus": [
            [
             0,
             "#0d0887"
            ],
            [
             0.1111111111111111,
             "#46039f"
            ],
            [
             0.2222222222222222,
             "#7201a8"
            ],
            [
             0.3333333333333333,
             "#9c179e"
            ],
            [
             0.4444444444444444,
             "#bd3786"
            ],
            [
             0.5555555555555556,
             "#d8576b"
            ],
            [
             0.6666666666666666,
             "#ed7953"
            ],
            [
             0.7777777777777778,
             "#fb9f3a"
            ],
            [
             0.8888888888888888,
             "#fdca26"
            ],
            [
             1,
             "#f0f921"
            ]
           ]
          },
          "colorway": [
           "#636efa",
           "#EF553B",
           "#00cc96",
           "#ab63fa",
           "#FFA15A",
           "#19d3f3",
           "#FF6692",
           "#B6E880",
           "#FF97FF",
           "#FECB52"
          ],
          "font": {
           "color": "#2a3f5f"
          },
          "geo": {
           "bgcolor": "white",
           "lakecolor": "white",
           "landcolor": "#E5ECF6",
           "showlakes": true,
           "showland": true,
           "subunitcolor": "white"
          },
          "hoverlabel": {
           "align": "left"
          },
          "hovermode": "closest",
          "mapbox": {
           "style": "light"
          },
          "paper_bgcolor": "white",
          "plot_bgcolor": "#E5ECF6",
          "polar": {
           "angularaxis": {
            "gridcolor": "white",
            "linecolor": "white",
            "ticks": ""
           },
           "bgcolor": "#E5ECF6",
           "radialaxis": {
            "gridcolor": "white",
            "linecolor": "white",
            "ticks": ""
           }
          },
          "scene": {
           "xaxis": {
            "backgroundcolor": "#E5ECF6",
            "gridcolor": "white",
            "gridwidth": 2,
            "linecolor": "white",
            "showbackground": true,
            "ticks": "",
            "zerolinecolor": "white"
           },
           "yaxis": {
            "backgroundcolor": "#E5ECF6",
            "gridcolor": "white",
            "gridwidth": 2,
            "linecolor": "white",
            "showbackground": true,
            "ticks": "",
            "zerolinecolor": "white"
           },
           "zaxis": {
            "backgroundcolor": "#E5ECF6",
            "gridcolor": "white",
            "gridwidth": 2,
            "linecolor": "white",
            "showbackground": true,
            "ticks": "",
            "zerolinecolor": "white"
           }
          },
          "shapedefaults": {
           "line": {
            "color": "#2a3f5f"
           }
          },
          "ternary": {
           "aaxis": {
            "gridcolor": "white",
            "linecolor": "white",
            "ticks": ""
           },
           "baxis": {
            "gridcolor": "white",
            "linecolor": "white",
            "ticks": ""
           },
           "bgcolor": "#E5ECF6",
           "caxis": {
            "gridcolor": "white",
            "linecolor": "white",
            "ticks": ""
           }
          },
          "title": {
           "x": 0.05
          },
          "xaxis": {
           "automargin": true,
           "gridcolor": "white",
           "linecolor": "white",
           "ticks": "",
           "title": {
            "standoff": 15
           },
           "zerolinecolor": "white",
           "zerolinewidth": 2
          },
          "yaxis": {
           "automargin": true,
           "gridcolor": "white",
           "linecolor": "white",
           "ticks": "",
           "title": {
            "standoff": 15
           },
           "zerolinecolor": "white",
           "zerolinewidth": 2
          }
         }
        },
        "title": {
         "font": {
          "color": "#4D5663"
         }
        },
        "xaxis": {
         "gridcolor": "#E1E5ED",
         "showgrid": true,
         "tickfont": {
          "color": "#4D5663"
         },
         "title": {
          "font": {
           "color": "#4D5663"
          },
          "text": ""
         },
         "zerolinecolor": "#E1E5ED"
        },
        "yaxis": {
         "gridcolor": "#E1E5ED",
         "showgrid": true,
         "tickfont": {
          "color": "#4D5663"
         },
         "title": {
          "font": {
           "color": "#4D5663"
          },
          "text": ""
         },
         "zerolinecolor": "#E1E5ED"
        }
       }
      },
      "text/html": [
       "<div>                            <div id=\"ef8557ad-408d-42b2-963c-c737455552a4\" class=\"plotly-graph-div\" style=\"height:525px; width:100%;\"></div>            <script type=\"text/javascript\">                require([\"plotly\"], function(Plotly) {                    window.PLOTLYENV=window.PLOTLYENV || {};\n",
       "                    window.PLOTLYENV.BASE_URL='https://plot.ly';                                    if (document.getElementById(\"ef8557ad-408d-42b2-963c-c737455552a4\")) {                    Plotly.newPlot(                        \"ef8557ad-408d-42b2-963c-c737455552a4\",                        [{\"marker\": {\"color\": \"rgba(255, 153, 51, 0.6)\", \"line\": {\"color\": \"rgba(255, 153, 51, 1.0)\", \"width\": 1}}, \"name\": \"Insgesamt\", \"orientation\": \"v\", \"text\": \"\", \"type\": \"bar\", \"x\": [1980, 1981, 1982, 1983, 1984, 1985, 1986, 1987, 1988, 1989, 1990, 1991, 1992, 1993, 1994, 1995, 1996, 1997, 1998, 1999, 2000, 2001, 2002, 2003, 2004, 2005, 2006, 2007, 2008, 2009, 2010, 2011, 2012, 2013, 2014, 2015, 2016, 2017, 2018, 2019], \"y\": [952356.0, 954373.0, 943782.0, 941028.0, 917281.0, 929639.0, 925344.0, 901267.0, 900600.0, 903412.0, 921445.0, 911245.0, 885443.0, 897270.0, 884661.0, 884588.0, 882843.0, 860389.0, 852382.0, 846330.0, 838797.0, 828541.0, 841686.0, 853946.0, 818271.0, 830227.0, 821627.0, 827155.0, 844439.0, 854544.0, 858768.0, 852328.0, 869582.0, 893825.0, 868356.0, 925200.0, 910902.0, 932263.0, 954874.0, 939520.0]}, {\"marker\": {\"color\": \"rgba(55, 128, 191, 0.6)\", \"line\": {\"color\": \"rgba(55, 128, 191, 1.0)\", \"width\": 1}}, \"name\": \"Bestimmte infekti\\u00f6se und parasit\\u00e4re Krankheiten\", \"orientation\": \"v\", \"text\": \"\", \"type\": \"bar\", \"x\": [1980, 1981, 1982, 1983, 1984, 1985, 1986, 1987, 1988, 1989, 1990, 1991, 1992, 1993, 1994, 1995, 1996, 1997, 1998, 1999, 2000, 2001, 2002, 2003, 2004, 2005, 2006, 2007, 2008, 2009, 2010, 2011, 2012, 2013, 2014, 2015, 2016, 2017, 2018, 2019], \"y\": [5763.0, 5725.0, 5734.0, 5430.0, 5266.0, 5666.0, 5841.0, 5860.0, 6055.0, 6653.0, 7314.0, 7142.0, 7254.0, 7686.0, 8122.0, 8129.0, 8218.0, 7701.0, 7801.0, 9122.0, 10129.0, 10375.0, 10466.0, 10891.0, 11062.0, 12061.0, 12354.0, 13890.0, 14637.0, 15496.0, 15396.0, 16683.0, 18353.0, 18480.0, 17987.0, 19943.0, 16999.0, 17285.0, 17797.0, 16194.0]}, {\"marker\": {\"color\": \"rgba(50, 171, 96, 0.6)\", \"line\": {\"color\": \"rgba(50, 171, 96, 1.0)\", \"width\": 1}}, \"name\": \"Neubildungen\", \"orientation\": \"v\", \"text\": \"\", \"type\": \"bar\", \"x\": [1980, 1981, 1982, 1983, 1984, 1985, 1986, 1987, 1988, 1989, 1990, 1991, 1992, 1993, 1994, 1995, 1996, 1997, 1998, 1999, 2000, 2001, 2002, 2003, 2004, 2005, 2006, 2007, 2008, 2009, 2010, 2011, 2012, 2013, 2014, 2015, 2016, 2017, 2018, 2019], \"y\": [201084.0, 202255.0, 203004.0, 204732.0, 202840.0, 204764.0, 204288.0, 207093.0, 209892.0, 210809.0, 210712.0, 215978.0, 217607.0, 219764.0, 218412.0, 218597.0, 219064.0, 215765.0, 218445.0, 216264.0, 216419.0, 213058.0, 215441.0, 214788.0, 214863.0, 216928.0, 217095.0, 217289.0, 221920.0, 222153.0, 225141.0, 228220.0, 228289.0, 230840.0, 230771.0, 233752.0, 238396.0, 235686.0, 238345.0, 239591.0]}, {\"marker\": {\"color\": \"rgba(128, 0, 128, 0.6)\", \"line\": {\"color\": \"rgba(128, 0, 128, 1.0)\", \"width\": 1}}, \"name\": \"Krankheiten des Blutes u. der blutbildenden Organe\", \"orientation\": \"v\", \"text\": \"\", \"type\": \"bar\", \"x\": [1980, 1981, 1982, 1983, 1984, 1985, 1986, 1987, 1988, 1989, 1990, 1991, 1992, 1993, 1994, 1995, 1996, 1997, 1998, 1999, 2000, 2001, 2002, 2003, 2004, 2005, 2006, 2007, 2008, 2009, 2010, 2011, 2012, 2013, 2014, 2015, 2016, 2017, 2018, 2019], \"y\": [2250.0, 2267.0, 2322.0, 2270.0, 2223.0, 2226.0, 2143.0, 2170.0, 2171.0, 2344.0, 2401.0, 2060.0, 2082.0, 1895.0, 1755.0, 1684.0, 1742.0, 1792.0, 1605.0, 1658.0, 1815.0, 1901.0, 1872.0, 2029.0, 2054.0, 2123.0, 2044.0, 2136.0, 2454.0, 2442.0, 2588.0, 2683.0, 2685.0, 2916.0, 2931.0, 3335.0, 3218.0, 3684.0, 3781.0, 3794.0]}, {\"marker\": {\"color\": \"rgba(219, 64, 82, 0.6)\", \"line\": {\"color\": \"rgba(219, 64, 82, 1.0)\", \"width\": 1}}, \"name\": \"Endokrine, Ern\\u00e4hrungs- u. Stoffwechselkrankheiten\", \"orientation\": \"v\", \"text\": \"\", \"type\": \"bar\", \"x\": [1980, 1981, 1982, 1983, 1984, 1985, 1986, 1987, 1988, 1989, 1990, 1991, 1992, 1993, 1994, 1995, 1996, 1997, 1998, 1999, 2000, 2001, 2002, 2003, 2004, 2005, 2006, 2007, 2008, 2009, 2010, 2011, 2012, 2013, 2014, 2015, 2016, 2017, 2018, 2019], \"y\": [21876.0, 20932.0, 19155.0, 19250.0, 19099.0, 19229.0, 20836.0, 20050.0, 19832.0, 20825.0, 21986.0, 21953.0, 21721.0, 26471.0, 25370.0, 26251.0, 26974.0, 25304.0, 23194.0, 23332.0, 23671.0, 24363.0, 26355.0, 27191.0, 27041.0, 28271.0, 26624.0, 26377.0, 27331.0, 28137.0, 29233.0, 29822.0, 30605.0, 31197.0, 29270.0, 32474.0, 31249.0, 33908.0, 34640.0, 33626.0]}, {\"marker\": {\"color\": \"rgba(0, 128, 128, 0.6)\", \"line\": {\"color\": \"rgba(0, 128, 128, 1.0)\", \"width\": 1}}, \"name\": \"Psychische und Verhaltensst\\u00f6rungen\", \"orientation\": \"v\", \"text\": \"\", \"type\": \"bar\", \"x\": [1980, 1981, 1982, 1983, 1984, 1985, 1986, 1987, 1988, 1989, 1990, 1991, 1992, 1993, 1994, 1995, 1996, 1997, 1998, 1999, 2000, 2001, 2002, 2003, 2004, 2005, 2006, 2007, 2008, 2009, 2010, 2011, 2012, 2013, 2014, 2015, 2016, 2017, 2018, 2019], \"y\": [6484.0, 5974.0, 5929.0, 6079.0, 6102.0, 6192.0, 7201.0, 7705.0, 8618.0, 9355.0, 9941.0, 10318.0, 10839.0, 10887.0, 11381.0, 11383.0, 11765.0, 11898.0, 9720.0, 9533.0, 8636.0, 7826.0, 7922.0, 8535.0, 9516.0, 11356.0, 14145.0, 15460.0, 18850.0, 22592.0, 25079.0, 27113.0, 30890.0, 36117.0, 35935.0, 44590.0, 46258.0, 52637.0, 58053.0, 57839.0]}, {\"marker\": {\"color\": \"rgba(255, 255, 51, 0.6)\", \"line\": {\"color\": \"rgba(255, 255, 51, 1.0)\", \"width\": 1}}, \"name\": \"Krankheiten d. Nervensystems u. d. Sinnesorgane\", \"orientation\": \"v\", \"text\": \"\", \"type\": \"bar\", \"x\": [1980, 1981, 1982, 1983, 1984, 1985, 1986, 1987, 1988, 1989, 1990, 1991, 1992, 1993, 1994, 1995, 1996, 1997, 1998, 1999, 2000, 2001, 2002, 2003, 2004, 2005, 2006, 2007, 2008, 2009, 2010, 2011, 2012, 2013, 2014, 2015, 2016, 2017, 2018, 2019], \"y\": [9240.0, 9699.0, 9881.0, 9679.0, 9243.0, 9736.0, 9938.0, 11221.0, 11503.0, 11856.0, 12547.0, 13084.0, 13200.0, 13618.0, 13796.0, 14675.0, 15965.0, 15691.0, 15934.0, 15736.0, 16109.0, 16647.0, 17756.0, 18470.0, 17689.0, 18565.0, 19411.0, 18283.0, 19841.0, 20835.0, 21868.0, 22731.0, 24287.0, 25792.0, 25888.0, 29141.0, 29799.0, 32393.0, 34892.0, 34225.0]}, {\"marker\": {\"color\": \"rgba(128, 128, 0, 0.6)\", \"line\": {\"color\": \"rgba(128, 128, 0, 1.0)\", \"width\": 1}}, \"name\": \"Krankheiten des Kreislaufsystems\", \"orientation\": \"v\", \"text\": \"\", \"type\": \"bar\", \"x\": [1980, 1981, 1982, 1983, 1984, 1985, 1986, 1987, 1988, 1989, 1990, 1991, 1992, 1993, 1994, 1995, 1996, 1997, 1998, 1999, 2000, 2001, 2002, 2003, 2004, 2005, 2006, 2007, 2008, 2009, 2010, 2011, 2012, 2013, 2014, 2015, 2016, 2017, 2018, 2019], \"y\": [500481.0, 505229.0, 495328.0, 492449.0, 481761.0, 491653.0, 482853.0, 467462.0, 464492.0, 460974.0, 462992.0, 455774.0, 437240.0, 440896.0, 430542.0, 429407.0, 425884.0, 415892.0, 411404.0, 406122.0, 395043.0, 391727.0, 393778.0, 396622.0, 368472.0, 367361.0, 358953.0, 358684.0, 356729.0, 356462.0, 352689.0, 342233.0, 349217.0, 354493.0, 338056.0, 356616.0, 338687.0, 344524.0, 345274.0, 331211.0]}, {\"marker\": {\"color\": \"rgba(251, 128, 114, 0.6)\", \"line\": {\"color\": \"rgba(251, 128, 114, 1.0)\", \"width\": 1}}, \"name\": \"Krankheiten des Atmungssystems\", \"orientation\": \"v\", \"text\": \"\", \"type\": \"bar\", \"x\": [1980, 1981, 1982, 1983, 1984, 1985, 1986, 1987, 1988, 1989, 1990, 1991, 1992, 1993, 1994, 1995, 1996, 1997, 1998, 1999, 2000, 2001, 2002, 2003, 2004, 2005, 2006, 2007, 2008, 2009, 2010, 2011, 2012, 2013, 2014, 2015, 2016, 2017, 2018, 2019], \"y\": [55106.0, 54554.0, 56622.0, 58630.0, 56243.0, 58520.0, 60274.0, 51394.0, 50826.0, 52564.0, 57661.0, 53792.0, 50360.0, 52934.0, 52824.0, 53898.0, 53843.0, 50434.0, 49084.0, 51505.0, 51806.0, 48535.0, 53646.0, 58014.0, 52500.0, 57742.0, 54888.0, 57956.0, 59049.0, 63304.0, 60515.0, 60019.0, 60454.0, 64918.0, 58604.0, 68300.0, 64414.0, 68408.0, 71719.0, 67021.0]}, {\"marker\": {\"color\": \"rgba(128, 177, 211, 0.6)\", \"line\": {\"color\": \"rgba(128, 177, 211, 1.0)\", \"width\": 1}}, \"name\": \"Krankheiten des Verdauungssystems\", \"orientation\": \"v\", \"text\": \"\", \"type\": \"bar\", \"x\": [1980, 1981, 1982, 1983, 1984, 1985, 1986, 1987, 1988, 1989, 1990, 1991, 1992, 1993, 1994, 1995, 1996, 1997, 1998, 1999, 2000, 2001, 2002, 2003, 2004, 2005, 2006, 2007, 2008, 2009, 2010, 2011, 2012, 2013, 2014, 2015, 2016, 2017, 2018, 2019], \"y\": [47152.0, 46962.0, 45753.0, 44639.0, 42126.0, 42066.0, 41038.0, 40417.0, 41426.0, 41447.0, 41782.0, 43044.0, 41865.0, 42280.0, 42827.0, 41821.0, 41940.0, 40814.0, 40510.0, 40154.0, 40712.0, 40918.0, 41849.0, 42263.0, 42213.0, 42787.0, 42973.0, 42163.0, 43686.0, 42288.0, 42684.0, 40507.0, 40094.0, 40112.0, 38537.0, 39844.0, 40673.0, 41038.0, 41074.0, 41421.0]}, {\"marker\": {\"color\": \"rgba(128, 177, 211, 0.6)\", \"line\": {\"color\": \"rgba(128, 177, 211, 0.8999999999999999)\", \"width\": 1}}, \"name\": \"Krankheiten der Haut und der Unterhaut\", \"orientation\": \"v\", \"text\": \"\", \"type\": \"bar\", \"x\": [1980, 1981, 1982, 1983, 1984, 1985, 1986, 1987, 1988, 1989, 1990, 1991, 1992, 1993, 1994, 1995, 1996, 1997, 1998, 1999, 2000, 2001, 2002, 2003, 2004, 2005, 2006, 2007, 2008, 2009, 2010, 2011, 2012, 2013, 2014, 2015, 2016, 2017, 2018, 2019], \"y\": [789.0, 813.0, 862.0, 866.0, 952.0, 943.0, 992.0, 931.0, 1097.0, 1002.0, 1009.0, 968.0, 910.0, 839.0, 734.0, 717.0, 656.0, 563.0, 470.0, 441.0, 434.0, 406.0, 453.0, 521.0, 587.0, 607.0, 677.0, 820.0, 967.0, 1030.0, 1141.0, 1161.0, 1195.0, 1374.0, 1416.0, 1442.0, 1594.0, 1565.0, 1597.0, 1719.0]}, {\"marker\": {\"color\": \"rgba(255, 153, 51, 0.6)\", \"line\": {\"color\": \"rgba(255, 153, 51, 0.8999999999999999)\", \"width\": 1}}, \"name\": \"Krankh. des Muskel-Skelett-Systems u. Bindegewebes\", \"orientation\": \"v\", \"text\": \"\", \"type\": \"bar\", \"x\": [1980, 1981, 1982, 1983, 1984, 1985, 1986, 1987, 1988, 1989, 1990, 1991, 1992, 1993, 1994, 1995, 1996, 1997, 1998, 1999, 2000, 2001, 2002, 2003, 2004, 2005, 2006, 2007, 2008, 2009, 2010, 2011, 2012, 2013, 2014, 2015, 2016, 2017, 2018, 2019], \"y\": [3751.0, 3563.0, 3288.0, 3332.0, 2840.0, 2811.0, 2926.0, 3353.0, 3231.0, 3358.0, 3200.0, 2921.0, 2786.0, 2637.0, 2384.0, 2260.0, 2201.0, 2073.0, 1846.0, 1800.0, 1832.0, 1908.0, 1926.0, 2021.0, 1981.0, 2024.0, 2282.0, 2189.0, 2303.0, 2662.0, 2937.0, 3056.0, 3299.0, 3524.0, 3317.0, 3771.0, 4011.0, 4812.0, 5213.0, 5367.0]}, {\"marker\": {\"color\": \"rgba(55, 128, 191, 0.6)\", \"line\": {\"color\": \"rgba(55, 128, 191, 0.8999999999999999)\", \"width\": 1}}, \"name\": \"Krankheiten des Urogenitalsystems\", \"orientation\": \"v\", \"text\": \"\", \"type\": \"bar\", \"x\": [1980, 1981, 1982, 1983, 1984, 1985, 1986, 1987, 1988, 1989, 1990, 1991, 1992, 1993, 1994, 1995, 1996, 1997, 1998, 1999, 2000, 2001, 2002, 2003, 2004, 2005, 2006, 2007, 2008, 2009, 2010, 2011, 2012, 2013, 2014, 2015, 2016, 2017, 2018, 2019], \"y\": [14793.0, 14369.0, 13895.0, 12712.0, 12163.0, 12387.0, 12158.0, 11373.0, 11368.0, 11465.0, 11073.0, 10006.0, 9483.0, 9389.0, 9710.0, 9876.0, 9539.0, 9070.0, 10735.0, 10749.0, 10719.0, 11221.0, 12260.0, 13181.0, 13246.0, 14288.0, 15087.0, 16624.0, 18537.0, 18834.0, 19768.0, 19667.0, 20536.0, 21888.0, 22247.0, 24899.0, 23802.0, 23471.0, 24719.0, 24740.0]}, {\"marker\": {\"color\": \"rgba(50, 171, 96, 0.6)\", \"line\": {\"color\": \"rgba(50, 171, 96, 0.8999999999999999)\", \"width\": 1}}, \"name\": \"Schwangerschaft, Geburt und Wochenbett\", \"orientation\": \"v\", \"text\": \"\", \"type\": \"bar\", \"x\": [1980, 1981, 1982, 1983, 1984, 1985, 1986, 1987, 1988, 1989, 1990, 1991, 1992, 1993, 1994, 1995, 1996, 1997, 1998, 1999, 2000, 2001, 2002, 2003, 2004, 2005, 2006, 2007, 2008, 2009, 2010, 2011, 2012, 2013, 2014, 2015, 2016, 2017, 2018, 2019], \"y\": [171.0, 160.0, 139.0, 110.0, 104.0, 100.0, 79.0, 84.0, 92.0, 59.0, 82.0, 72.0, 54.0, 44.0, 40.0, 41.0, 51.0, 49.0, 44.0, 37.0, 43.0, 27.0, 21.0, 30.0, 37.0, 28.0, 41.0, 28.0, 36.0, 35.0, 37.0, 32.0, 31.0, 29.0, 29.0, 24.0, 23.0, 22.0, 25.0, 25.0]}, {\"marker\": {\"color\": \"rgba(128, 0, 128, 0.6)\", \"line\": {\"color\": \"rgba(128, 0, 128, 0.8999999999999999)\", \"width\": 1}}, \"name\": \"Best.Zust\\u00e4nde mit Ursprung in der Perinatalperiode\", \"orientation\": \"v\", \"text\": \"\", \"type\": \"bar\", \"x\": [1980, 1981, 1982, 1983, 1984, 1985, 1986, 1987, 1988, 1989, 1990, 1991, 1992, 1993, 1994, 1995, 1996, 1997, 1998, 1999, 2000, 2001, 2002, 2003, 2004, 2005, 2006, 2007, 2008, 2009, 2010, 2011, 2012, 2013, 2014, 2015, 2016, 2017, 2018, 2019], \"y\": [5290.0, 4832.0, 4399.0, 3970.0, 3711.0, 3338.0, 3283.0, 3273.0, 2816.0, 2797.0, 2428.0, 2064.0, 1896.0, 1712.0, 1745.0, 1736.0, 1625.0, 1625.0, 1600.0, 1625.0, 1474.0, 1484.0, 1513.0, 1424.0, 1443.0, 1341.0, 1390.0, 1464.0, 1230.0, 1175.0, 1192.0, 1244.0, 1165.0, 1117.0, 1237.0, 1320.0, 1501.0, 1483.0, 1464.0, 1472.0]}, {\"marker\": {\"color\": \"rgba(219, 64, 82, 0.6)\", \"line\": {\"color\": \"rgba(219, 64, 82, 0.8999999999999999)\", \"width\": 1}}, \"name\": \"Angeb. Fehlbildungen,Deformit\\u00e4ten,Chromosomenanom.\", \"orientation\": \"v\", \"text\": \"\", \"type\": \"bar\", \"x\": [1980, 1981, 1982, 1983, 1984, 1985, 1986, 1987, 1988, 1989, 1990, 1991, 1992, 1993, 1994, 1995, 1996, 1997, 1998, 1999, 2000, 2001, 2002, 2003, 2004, 2005, 2006, 2007, 2008, 2009, 2010, 2011, 2012, 2013, 2014, 2015, 2016, 2017, 2018, 2019], \"y\": [3815.0, 3698.0, 3557.0, 3387.0, 3108.0, 2985.0, 2946.0, 2916.0, 2826.0, 2729.0, 2758.0, 2551.0, 2575.0, 2475.0, 2200.0, 1990.0, 2006.0, 2060.0, 1822.0, 1610.0, 1643.0, 1612.0, 1572.0, 1621.0, 1576.0, 1528.0, 1473.0, 1451.0, 1442.0, 1563.0, 1572.0, 1619.0, 1532.0, 1706.0, 1665.0, 1816.0, 2001.0, 2070.0, 2134.0, 2084.0]}, {\"marker\": {\"color\": \"rgba(0, 128, 128, 0.6)\", \"line\": {\"color\": \"rgba(0, 128, 128, 0.8999999999999999)\", \"width\": 1}}, \"name\": \"Symptome und abnorme klinische und Laborbefunde\", \"orientation\": \"v\", \"text\": \"\", \"type\": \"bar\", \"x\": [1980, 1981, 1982, 1983, 1984, 1985, 1986, 1987, 1988, 1989, 1990, 1991, 1992, 1993, 1994, 1995, 1996, 1997, 1998, 1999, 2000, 2001, 2002, 2003, 2004, 2005, 2006, 2007, 2008, 2009, 2010, 2011, 2012, 2013, 2014, 2015, 2016, 2017, 2018, 2019], \"y\": [18655.0, 18599.0, 19052.0, 19410.0, 18528.0, 18538.0, 21393.0, 19959.0, 19282.0, 20719.0, 27596.0, 22839.0, 20820.0, 21069.0, 21899.0, 22756.0, 22854.0, 22315.0, 23590.0, 22579.0, 23789.0, 22332.0, 20560.0, 21739.0, 20682.0, 20193.0, 19978.0, 21691.0, 23916.0, 23704.0, 23616.0, 22550.0, 24019.0, 25189.0, 25799.0, 27437.0, 29894.0, 29429.0, 32593.0, 37412.0]}, {\"marker\": {\"color\": \"rgba(255, 255, 51, 0.6)\", \"line\": {\"color\": \"rgba(255, 255, 51, 0.8999999999999999)\", \"width\": 1}}, \"name\": \"\\u00c4u\\u00dfere Ursachen von Morbidit\\u00e4t und Mortalit\\u00e4t\", \"orientation\": \"v\", \"text\": \"\", \"type\": \"bar\", \"x\": [1980, 1981, 1982, 1983, 1984, 1985, 1986, 1987, 1988, 1989, 1990, 1991, 1992, 1993, 1994, 1995, 1996, 1997, 1998, 1999, 2000, 2001, 2002, 2003, 2004, 2005, 2006, 2007, 2008, 2009, 2010, 2011, 2012, 2013, 2014, 2015, 2016, 2017, 2018, 2019], \"y\": [55656.0, 54742.0, 54862.0, 54083.0, 50972.0, 48485.0, 47155.0, 46006.0, 45073.0, 44456.0, 45963.0, 46679.0, 44751.0, 42674.0, 40920.0, 39367.0, 38516.0, 37343.0, 34578.0, 34063.0, 34523.0, 34201.0, 34296.0, 34606.0, 33309.0, 33024.0, 32212.0, 30650.0, 31511.0, 31832.0, 33312.0, 32988.0, 32931.0, 34133.0, 34667.0, 36496.0, 38383.0, 39853.0, 41554.0, 41779.0]}],                        {\"barmode\": \"overlay\", \"legend\": {\"bgcolor\": \"#F5F6F9\", \"font\": {\"color\": \"#4D5663\"}}, \"paper_bgcolor\": \"#F5F6F9\", \"plot_bgcolor\": \"#F5F6F9\", \"template\": {\"data\": {\"bar\": [{\"error_x\": {\"color\": \"#2a3f5f\"}, \"error_y\": {\"color\": \"#2a3f5f\"}, \"marker\": {\"line\": {\"color\": \"#E5ECF6\", \"width\": 0.5}}, \"type\": \"bar\"}], \"barpolar\": [{\"marker\": {\"line\": {\"color\": \"#E5ECF6\", \"width\": 0.5}}, \"type\": \"barpolar\"}], \"carpet\": [{\"aaxis\": {\"endlinecolor\": \"#2a3f5f\", \"gridcolor\": \"white\", \"linecolor\": \"white\", \"minorgridcolor\": \"white\", \"startlinecolor\": \"#2a3f5f\"}, \"baxis\": {\"endlinecolor\": \"#2a3f5f\", \"gridcolor\": \"white\", \"linecolor\": \"white\", \"minorgridcolor\": \"white\", \"startlinecolor\": \"#2a3f5f\"}, \"type\": \"carpet\"}], \"choropleth\": [{\"colorbar\": {\"outlinewidth\": 0, \"ticks\": \"\"}, \"type\": \"choropleth\"}], \"contour\": [{\"colorbar\": {\"outlinewidth\": 0, \"ticks\": \"\"}, \"colorscale\": [[0.0, \"#0d0887\"], [0.1111111111111111, \"#46039f\"], [0.2222222222222222, \"#7201a8\"], [0.3333333333333333, \"#9c179e\"], [0.4444444444444444, \"#bd3786\"], [0.5555555555555556, \"#d8576b\"], [0.6666666666666666, \"#ed7953\"], [0.7777777777777778, \"#fb9f3a\"], [0.8888888888888888, \"#fdca26\"], [1.0, \"#f0f921\"]], \"type\": \"contour\"}], \"contourcarpet\": [{\"colorbar\": {\"outlinewidth\": 0, \"ticks\": \"\"}, \"type\": \"contourcarpet\"}], \"heatmap\": [{\"colorbar\": {\"outlinewidth\": 0, \"ticks\": \"\"}, \"colorscale\": [[0.0, \"#0d0887\"], [0.1111111111111111, \"#46039f\"], [0.2222222222222222, \"#7201a8\"], [0.3333333333333333, \"#9c179e\"], [0.4444444444444444, \"#bd3786\"], [0.5555555555555556, \"#d8576b\"], [0.6666666666666666, \"#ed7953\"], [0.7777777777777778, \"#fb9f3a\"], [0.8888888888888888, \"#fdca26\"], [1.0, \"#f0f921\"]], \"type\": \"heatmap\"}], \"heatmapgl\": [{\"colorbar\": {\"outlinewidth\": 0, \"ticks\": \"\"}, \"colorscale\": [[0.0, \"#0d0887\"], [0.1111111111111111, \"#46039f\"], [0.2222222222222222, \"#7201a8\"], [0.3333333333333333, \"#9c179e\"], [0.4444444444444444, \"#bd3786\"], [0.5555555555555556, \"#d8576b\"], [0.6666666666666666, \"#ed7953\"], [0.7777777777777778, \"#fb9f3a\"], [0.8888888888888888, \"#fdca26\"], [1.0, \"#f0f921\"]], \"type\": \"heatmapgl\"}], \"histogram\": [{\"marker\": {\"colorbar\": {\"outlinewidth\": 0, \"ticks\": \"\"}}, \"type\": \"histogram\"}], \"histogram2d\": [{\"colorbar\": {\"outlinewidth\": 0, \"ticks\": \"\"}, \"colorscale\": [[0.0, \"#0d0887\"], [0.1111111111111111, \"#46039f\"], [0.2222222222222222, \"#7201a8\"], [0.3333333333333333, \"#9c179e\"], [0.4444444444444444, \"#bd3786\"], [0.5555555555555556, \"#d8576b\"], [0.6666666666666666, \"#ed7953\"], [0.7777777777777778, \"#fb9f3a\"], [0.8888888888888888, \"#fdca26\"], [1.0, \"#f0f921\"]], \"type\": \"histogram2d\"}], \"histogram2dcontour\": [{\"colorbar\": {\"outlinewidth\": 0, \"ticks\": \"\"}, \"colorscale\": [[0.0, \"#0d0887\"], [0.1111111111111111, \"#46039f\"], [0.2222222222222222, \"#7201a8\"], [0.3333333333333333, \"#9c179e\"], [0.4444444444444444, \"#bd3786\"], [0.5555555555555556, \"#d8576b\"], [0.6666666666666666, \"#ed7953\"], [0.7777777777777778, \"#fb9f3a\"], [0.8888888888888888, \"#fdca26\"], [1.0, \"#f0f921\"]], \"type\": \"histogram2dcontour\"}], \"mesh3d\": [{\"colorbar\": {\"outlinewidth\": 0, \"ticks\": \"\"}, \"type\": \"mesh3d\"}], \"parcoords\": [{\"line\": {\"colorbar\": {\"outlinewidth\": 0, \"ticks\": \"\"}}, \"type\": \"parcoords\"}], \"pie\": [{\"automargin\": true, \"type\": \"pie\"}], \"scatter\": [{\"marker\": {\"colorbar\": {\"outlinewidth\": 0, \"ticks\": \"\"}}, \"type\": \"scatter\"}], \"scatter3d\": [{\"line\": {\"colorbar\": {\"outlinewidth\": 0, \"ticks\": \"\"}}, \"marker\": {\"colorbar\": {\"outlinewidth\": 0, \"ticks\": \"\"}}, \"type\": \"scatter3d\"}], \"scattercarpet\": [{\"marker\": {\"colorbar\": {\"outlinewidth\": 0, \"ticks\": \"\"}}, \"type\": \"scattercarpet\"}], \"scattergeo\": [{\"marker\": {\"colorbar\": {\"outlinewidth\": 0, \"ticks\": \"\"}}, \"type\": \"scattergeo\"}], \"scattergl\": [{\"marker\": {\"colorbar\": {\"outlinewidth\": 0, \"ticks\": \"\"}}, \"type\": \"scattergl\"}], \"scattermapbox\": [{\"marker\": {\"colorbar\": {\"outlinewidth\": 0, \"ticks\": \"\"}}, \"type\": \"scattermapbox\"}], \"scatterpolar\": [{\"marker\": {\"colorbar\": {\"outlinewidth\": 0, \"ticks\": \"\"}}, \"type\": \"scatterpolar\"}], \"scatterpolargl\": [{\"marker\": {\"colorbar\": {\"outlinewidth\": 0, \"ticks\": \"\"}}, \"type\": \"scatterpolargl\"}], \"scatterternary\": [{\"marker\": {\"colorbar\": {\"outlinewidth\": 0, \"ticks\": \"\"}}, \"type\": \"scatterternary\"}], \"surface\": [{\"colorbar\": {\"outlinewidth\": 0, \"ticks\": \"\"}, \"colorscale\": [[0.0, \"#0d0887\"], [0.1111111111111111, \"#46039f\"], [0.2222222222222222, \"#7201a8\"], [0.3333333333333333, \"#9c179e\"], [0.4444444444444444, \"#bd3786\"], [0.5555555555555556, \"#d8576b\"], [0.6666666666666666, \"#ed7953\"], [0.7777777777777778, \"#fb9f3a\"], [0.8888888888888888, \"#fdca26\"], [1.0, \"#f0f921\"]], \"type\": \"surface\"}], \"table\": [{\"cells\": {\"fill\": {\"color\": \"#EBF0F8\"}, \"line\": {\"color\": \"white\"}}, \"header\": {\"fill\": {\"color\": \"#C8D4E3\"}, \"line\": {\"color\": \"white\"}}, \"type\": \"table\"}]}, \"layout\": {\"annotationdefaults\": {\"arrowcolor\": \"#2a3f5f\", \"arrowhead\": 0, \"arrowwidth\": 1}, \"autotypenumbers\": \"strict\", \"coloraxis\": {\"colorbar\": {\"outlinewidth\": 0, \"ticks\": \"\"}}, \"colorscale\": {\"diverging\": [[0, \"#8e0152\"], [0.1, \"#c51b7d\"], [0.2, \"#de77ae\"], [0.3, \"#f1b6da\"], [0.4, \"#fde0ef\"], [0.5, \"#f7f7f7\"], [0.6, \"#e6f5d0\"], [0.7, \"#b8e186\"], [0.8, \"#7fbc41\"], [0.9, \"#4d9221\"], [1, \"#276419\"]], \"sequential\": [[0.0, \"#0d0887\"], [0.1111111111111111, \"#46039f\"], [0.2222222222222222, \"#7201a8\"], [0.3333333333333333, \"#9c179e\"], [0.4444444444444444, \"#bd3786\"], [0.5555555555555556, \"#d8576b\"], [0.6666666666666666, \"#ed7953\"], [0.7777777777777778, \"#fb9f3a\"], [0.8888888888888888, \"#fdca26\"], [1.0, \"#f0f921\"]], \"sequentialminus\": [[0.0, \"#0d0887\"], [0.1111111111111111, \"#46039f\"], [0.2222222222222222, \"#7201a8\"], [0.3333333333333333, \"#9c179e\"], [0.4444444444444444, \"#bd3786\"], [0.5555555555555556, \"#d8576b\"], [0.6666666666666666, \"#ed7953\"], [0.7777777777777778, \"#fb9f3a\"], [0.8888888888888888, \"#fdca26\"], [1.0, \"#f0f921\"]]}, \"colorway\": [\"#636efa\", \"#EF553B\", \"#00cc96\", \"#ab63fa\", \"#FFA15A\", \"#19d3f3\", \"#FF6692\", \"#B6E880\", \"#FF97FF\", \"#FECB52\"], \"font\": {\"color\": \"#2a3f5f\"}, \"geo\": {\"bgcolor\": \"white\", \"lakecolor\": \"white\", \"landcolor\": \"#E5ECF6\", \"showlakes\": true, \"showland\": true, \"subunitcolor\": \"white\"}, \"hoverlabel\": {\"align\": \"left\"}, \"hovermode\": \"closest\", \"mapbox\": {\"style\": \"light\"}, \"paper_bgcolor\": \"white\", \"plot_bgcolor\": \"#E5ECF6\", \"polar\": {\"angularaxis\": {\"gridcolor\": \"white\", \"linecolor\": \"white\", \"ticks\": \"\"}, \"bgcolor\": \"#E5ECF6\", \"radialaxis\": {\"gridcolor\": \"white\", \"linecolor\": \"white\", \"ticks\": \"\"}}, \"scene\": {\"xaxis\": {\"backgroundcolor\": \"#E5ECF6\", \"gridcolor\": \"white\", \"gridwidth\": 2, \"linecolor\": \"white\", \"showbackground\": true, \"ticks\": \"\", \"zerolinecolor\": \"white\"}, \"yaxis\": {\"backgroundcolor\": \"#E5ECF6\", \"gridcolor\": \"white\", \"gridwidth\": 2, \"linecolor\": \"white\", \"showbackground\": true, \"ticks\": \"\", \"zerolinecolor\": \"white\"}, \"zaxis\": {\"backgroundcolor\": \"#E5ECF6\", \"gridcolor\": \"white\", \"gridwidth\": 2, \"linecolor\": \"white\", \"showbackground\": true, \"ticks\": \"\", \"zerolinecolor\": \"white\"}}, \"shapedefaults\": {\"line\": {\"color\": \"#2a3f5f\"}}, \"ternary\": {\"aaxis\": {\"gridcolor\": \"white\", \"linecolor\": \"white\", \"ticks\": \"\"}, \"baxis\": {\"gridcolor\": \"white\", \"linecolor\": \"white\", \"ticks\": \"\"}, \"bgcolor\": \"#E5ECF6\", \"caxis\": {\"gridcolor\": \"white\", \"linecolor\": \"white\", \"ticks\": \"\"}}, \"title\": {\"x\": 0.05}, \"xaxis\": {\"automargin\": true, \"gridcolor\": \"white\", \"linecolor\": \"white\", \"ticks\": \"\", \"title\": {\"standoff\": 15}, \"zerolinecolor\": \"white\", \"zerolinewidth\": 2}, \"yaxis\": {\"automargin\": true, \"gridcolor\": \"white\", \"linecolor\": \"white\", \"ticks\": \"\", \"title\": {\"standoff\": 15}, \"zerolinecolor\": \"white\", \"zerolinewidth\": 2}}}, \"title\": {\"font\": {\"color\": \"#4D5663\"}}, \"xaxis\": {\"gridcolor\": \"#E1E5ED\", \"showgrid\": true, \"tickfont\": {\"color\": \"#4D5663\"}, \"title\": {\"font\": {\"color\": \"#4D5663\"}, \"text\": \"\"}, \"zerolinecolor\": \"#E1E5ED\"}, \"yaxis\": {\"gridcolor\": \"#E1E5ED\", \"showgrid\": true, \"tickfont\": {\"color\": \"#4D5663\"}, \"title\": {\"font\": {\"color\": \"#4D5663\"}, \"text\": \"\"}, \"zerolinecolor\": \"#E1E5ED\"}},                        {\"showLink\": true, \"linkText\": \"Export to plot.ly\", \"plotlyServerURL\": \"https://plot.ly\", \"responsive\": true}                    ).then(function(){\n",
       "                            \n",
       "var gd = document.getElementById('ef8557ad-408d-42b2-963c-c737455552a4');\n",
       "var x = new MutationObserver(function (mutations, observer) {{\n",
       "        var display = window.getComputedStyle(gd).display;\n",
       "        if (!display || display === 'none') {{\n",
       "            console.log([gd, 'removed!']);\n",
       "            Plotly.purge(gd);\n",
       "            observer.disconnect();\n",
       "        }}\n",
       "}});\n",
       "\n",
       "// Listen for the removal of the full notebook cells\n",
       "var notebookContainer = gd.closest('#notebook-container');\n",
       "if (notebookContainer) {{\n",
       "    x.observe(notebookContainer, {childList: true});\n",
       "}}\n",
       "\n",
       "// Listen for the clearing of the current output cell\n",
       "var outputEl = gd.closest('.output');\n",
       "if (outputEl) {{\n",
       "    x.observe(outputEl, {childList: true});\n",
       "}}\n",
       "\n",
       "                        })                };                });            </script>        </div>"
      ]
     },
     "metadata": {},
     "output_type": "display_data"
    }
   ],
   "source": [
    "df.loc[(slice(None), icd + [\"Insgesamt\"]), :].T.sum().unstack().iplot(kind=\"bar\", barmode=\"overlay\")"
   ]
  },
  {
   "cell_type": "code",
   "execution_count": 11,
   "metadata": {},
   "outputs": [
    {
     "data": {
      "application/vnd.jupyter.widget-view+json": {
       "model_id": "d1d2a31458b04b57a4e535354d5ca9da",
       "version_major": 2,
       "version_minor": 0
      },
      "text/plain": [
       "interactive(children=(SelectMultiple(description='Ursachen', index=(1, 6, 31, 32, 39, 34, 37, 48, 53, 57, 58, …"
      ]
     },
     "metadata": {},
     "output_type": "display_data"
    }
   ],
   "source": [
    "@widgets.interact(variables=widgets.SelectMultiple(description=\"Ursachen\", options=df.index.get_level_values(1).drop_duplicates(), value=icd, disabled=False))\n",
    "def series(variables):\n",
    "    return df.loc[(slice(None), variables), :].T.sum().unstack().iplot()"
   ]
  },
  {
   "cell_type": "code",
   "execution_count": null,
   "metadata": {},
   "outputs": [],
   "source": []
  }
 ],
 "metadata": {
  "kernelspec": {
   "display_name": "Python 3",
   "language": "python",
   "name": "python3"
  },
  "language_info": {
   "codemirror_mode": {
    "name": "ipython",
    "version": 3
   },
   "file_extension": ".py",
   "mimetype": "text/x-python",
   "name": "python",
   "nbconvert_exporter": "python",
   "pygments_lexer": "ipython3",
   "version": "3.7.3"
  }
 },
 "nbformat": 4,
 "nbformat_minor": 2
}
